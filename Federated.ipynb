{
  "cells": [
    {
      "cell_type": "markdown",
      "metadata": {
        "id": "view-in-github",
        "colab_type": "text"
      },
      "source": [
        "<a href=\"https://colab.research.google.com/github/marioschuele/masterarbeit/blob/main/Federated.ipynb\" target=\"_parent\"><img src=\"https://colab.research.google.com/assets/colab-badge.svg\" alt=\"Open In Colab\"/></a>"
      ]
    },
    {
      "cell_type": "code",
      "execution_count": null,
      "id": "1d38634e-efb9-4600-9613-596f9b325afc",
      "metadata": {
        "execution": {
          "iopub.execute_input": "2023-03-16T08:37:38.313181Z",
          "iopub.status.busy": "2023-03-16T08:37:38.312538Z",
          "iopub.status.idle": "2023-03-16T08:38:51.790977Z",
          "shell.execute_reply": "2023-03-16T08:38:51.790244Z",
          "shell.execute_reply.started": "2023-03-16T08:37:38.313149Z"
        },
        "id": "1d38634e-efb9-4600-9613-596f9b325afc"
      },
      "outputs": [],
      "source": [
        "!pip install tensorflow\n",
        "!pip install tensorflow-federated==0.39"
      ]
    },
    {
      "cell_type": "code",
      "execution_count": null,
      "id": "5c32bda9-994b-4a5b-8a66-6b57e16f280d",
      "metadata": {
        "execution": {
          "iopub.execute_input": "2023-03-16T08:38:51.792675Z",
          "iopub.status.busy": "2023-03-16T08:38:51.792429Z",
          "iopub.status.idle": "2023-03-16T08:38:56.460498Z",
          "shell.execute_reply": "2023-03-16T08:38:56.459460Z",
          "shell.execute_reply.started": "2023-03-16T08:38:51.792650Z"
        },
        "id": "5c32bda9-994b-4a5b-8a66-6b57e16f280d"
      },
      "outputs": [],
      "source": [
        "import collections\n",
        "import numpy as np\n",
        "import tensorflow as tf\n",
        "import tensorflow_federated as tff\n",
        "import keras\n",
        "import pandas as pd\n",
        "import matplotlib.pyplot as plt\n",
        "import os\n",
        "from tensorflow.keras.callbacks import TensorBoard\n",
        "\n",
        "%load_ext tensorboard\n",
        "\n",
        "np.random.seed(0)"
      ]
    },
    {
      "cell_type": "code",
      "execution_count": null,
      "id": "a1782ca4-399e-4883-beba-510541b68521",
      "metadata": {
        "execution": {
          "iopub.execute_input": "2023-02-10T09:30:03.787231Z",
          "iopub.status.busy": "2023-02-10T09:30:03.786639Z",
          "iopub.status.idle": "2023-02-10T09:30:34.371194Z",
          "shell.execute_reply": "2023-02-10T09:30:34.370137Z",
          "shell.execute_reply.started": "2023-02-10T09:30:03.787201Z"
        },
        "jupyter": {
          "outputs_hidden": true
        },
        "id": "a1782ca4-399e-4883-beba-510541b68521"
      },
      "outputs": [],
      "source": [
        "! pip install kaggle -q\n",
        "\n",
        "#Download and unzip Kaggle dataset\n",
        "\n",
        "! mkdir ~/.kaggle\n",
        "! cp kaggle.json ~/.kaggle/\n",
        "! chmod 600 ~/.kaggle/kaggle.json\n",
        "\n",
        "!kaggle datasets download yuweisunut/sidd-segmented-intrusion-detection-dataset\n",
        "!unzip -q sidd-segmented-intrusion-detection-dataset"
      ]
    },
    {
      "cell_type": "code",
      "execution_count": null,
      "id": "806a0f65-d655-4176-a5a4-2bdbcea47b2e",
      "metadata": {
        "execution": {
          "iopub.execute_input": "2023-03-16T08:38:56.462614Z",
          "iopub.status.busy": "2023-03-16T08:38:56.461843Z",
          "iopub.status.idle": "2023-03-16T08:38:56.466522Z",
          "shell.execute_reply": "2023-03-16T08:38:56.465825Z",
          "shell.execute_reply.started": "2023-03-16T08:38:56.462588Z"
        },
        "id": "806a0f65-d655-4176-a5a4-2bdbcea47b2e"
      },
      "outputs": [],
      "source": [
        "NUM_CLIENTS = 15\n",
        "NUM_EPOCHS = 1\n",
        "BATCH_SIZE = 32\n",
        "SHUFFLE_BUFFER = 100\n",
        "PREFETCH_BUFFER = tf.data.AUTOTUNE"
      ]
    },
    {
      "cell_type": "code",
      "execution_count": null,
      "id": "a349716a-5d1c-4455-ab7b-b827c437239c",
      "metadata": {
        "execution": {
          "iopub.execute_input": "2023-03-16T08:38:56.468363Z",
          "iopub.status.busy": "2023-03-16T08:38:56.468170Z",
          "iopub.status.idle": "2023-03-16T08:39:06.078377Z",
          "shell.execute_reply": "2023-03-16T08:39:06.077394Z",
          "shell.execute_reply.started": "2023-03-16T08:38:56.468343Z"
        },
        "id": "a349716a-5d1c-4455-ab7b-b827c437239c"
      },
      "outputs": [],
      "source": [
        "directory = 'SIDD'\n",
        "client_id = 0\n",
        "uid = 0\n",
        "imgs = {}\n",
        "\n",
        "for client in os.listdir(directory):\n",
        "  curr_path = f'{directory}/{client}/pcap'\n",
        "\n",
        "  for subdir in os.listdir(curr_path):\n",
        "    curr_path = f'{directory}/{client}/pcap/{subdir}/dataset'\n",
        "    curr_type = subdir[-1:]\n",
        "    if curr_type == str(1):\n",
        "   \n",
        "        for dayscen in os.listdir(curr_path):\n",
        "          curr_path = f'{directory}/{client}/pcap/{subdir}/dataset/{dayscen}'\n",
        "\n",
        "          for img in os.listdir(curr_path):\n",
        "            if dayscen == 'benign':\n",
        "                imgs[uid] = {'id': uid, 'client_id': client_id, 'label': str(0), 'fn': img, 'path': curr_path + '/' + img}\n",
        "            elif dayscen == 'malicious':\n",
        "                imgs[uid] = {'id': uid, 'client_id': client_id, 'label': str(curr_type), 'fn': img, 'path': curr_path + '/' + img}\n",
        "            uid +=1\n",
        "  client_id += 1"
      ]
    },
    {
      "cell_type": "code",
      "execution_count": null,
      "id": "664b8cbd-42f2-46d8-b1d0-658392cb05fd",
      "metadata": {
        "execution": {
          "iopub.execute_input": "2023-03-16T08:39:06.079596Z",
          "iopub.status.busy": "2023-03-16T08:39:06.079311Z",
          "iopub.status.idle": "2023-03-16T08:39:07.287287Z",
          "shell.execute_reply": "2023-03-16T08:39:07.285066Z",
          "shell.execute_reply.started": "2023-03-16T08:39:06.079568Z"
        },
        "id": "664b8cbd-42f2-46d8-b1d0-658392cb05fd"
      },
      "outputs": [],
      "source": [
        "img_df = pd.DataFrame.from_dict(imgs,orient='index')\n",
        "img_df['label'] = img_df['label'].astype(int)\n",
        "#img_df.loc[img_df.index[(img_df['label']==3)],'label'] = 2"
      ]
    },
    {
      "cell_type": "code",
      "execution_count": null,
      "id": "84e714da-e5e7-4877-a685-fc7efd3ecf6b",
      "metadata": {
        "execution": {
          "iopub.execute_input": "2023-03-16T08:39:07.291499Z",
          "iopub.status.busy": "2023-03-16T08:39:07.290887Z",
          "iopub.status.idle": "2023-03-16T08:39:07.300771Z",
          "shell.execute_reply": "2023-03-16T08:39:07.299912Z",
          "shell.execute_reply.started": "2023-03-16T08:39:07.291474Z"
        },
        "id": "84e714da-e5e7-4877-a685-fc7efd3ecf6b"
      },
      "outputs": [],
      "source": [
        "def _parse_function(filename, y):\n",
        "    image_string = tf.io.read_file(filename)\n",
        "    image_decoded = tf.image.decode_jpeg(image_string, channels=3)\n",
        "    X = tf.cast(image_decoded, tf.float32)\n",
        "    return X, y"
      ]
    },
    {
      "cell_type": "code",
      "execution_count": null,
      "id": "9ec4ac06-6063-4ee1-85e1-05b925c388d9",
      "metadata": {
        "execution": {
          "iopub.execute_input": "2023-03-16T08:39:07.302453Z",
          "iopub.status.busy": "2023-03-16T08:39:07.302088Z",
          "iopub.status.idle": "2023-03-16T08:39:08.354187Z",
          "shell.execute_reply": "2023-03-16T08:39:08.351925Z",
          "shell.execute_reply.started": "2023-03-16T08:39:07.302434Z"
        },
        "id": "9ec4ac06-6063-4ee1-85e1-05b925c388d9"
      },
      "outputs": [],
      "source": [
        "file_paths = img_df.path\n",
        "file_labels = img_df[\"label\"]\n",
        "client_ids = img_df[\"client_id\"]  \n",
        "    \n",
        "X = file_paths\n",
        "y = file_labels\n",
        "client_ds = tf.data.Dataset.from_tensor_slices((X, y, client_ids))\n",
        "test_size = 0.2\n",
        "train_size = 1 - test_size\n",
        "ds_length = tf.data.experimental.cardinality(client_ds).numpy()\n",
        "num_test_samples = int(test_size * ds_length)\n",
        "\n",
        "train_ds = client_ds.take(train_size * ds_length)\n",
        "test_ds = client_ds.skip(train_size * ds_length)"
      ]
    },
    {
      "cell_type": "code",
      "execution_count": null,
      "id": "622e34ea-a75c-4c1d-99cb-ee5d71458902",
      "metadata": {
        "execution": {
          "iopub.execute_input": "2023-03-16T08:39:08.355491Z",
          "iopub.status.busy": "2023-03-16T08:39:08.355269Z",
          "iopub.status.idle": "2023-03-16T08:39:08.359991Z",
          "shell.execute_reply": "2023-03-16T08:39:08.359070Z",
          "shell.execute_reply.started": "2023-03-16T08:39:08.355470Z"
        },
        "id": "622e34ea-a75c-4c1d-99cb-ee5d71458902"
      },
      "outputs": [],
      "source": [
        "def preprocess(dataset):\n",
        "\n",
        "  return dataset.repeat(NUM_EPOCHS).shuffle(SHUFFLE_BUFFER, seed=1).batch(\n",
        "      BATCH_SIZE).prefetch(PREFETCH_BUFFER)\n",
        "\n",
        "def make_federated_data(client_data, client_ids):\n",
        "    return [\n",
        "      preprocess(create_tf_dataset_for_client(client_data, x))\n",
        "      for x in client_ids\n",
        "    ]"
      ]
    },
    {
      "cell_type": "code",
      "execution_count": null,
      "id": "b0445bed-1b51-40cd-aed6-f3030151869a",
      "metadata": {
        "execution": {
          "iopub.execute_input": "2023-03-16T08:39:08.361882Z",
          "iopub.status.busy": "2023-03-16T08:39:08.361555Z",
          "iopub.status.idle": "2023-03-16T08:39:08.368567Z",
          "shell.execute_reply": "2023-03-16T08:39:08.367199Z",
          "shell.execute_reply.started": "2023-03-16T08:39:08.361848Z"
        },
        "id": "b0445bed-1b51-40cd-aed6-f3030151869a"
      },
      "outputs": [],
      "source": [
        "def create_tf_dataset_for_client(dataset, id_value):\n",
        "    # Filter elements with the specified id_value\n",
        "    \n",
        "    filtered_dataset = dataset.filter(lambda x, y, client_id: tf.equal(client_id, id_value))\n",
        "\n",
        "    # Remove the id from the filtered dataset\n",
        "    filtered_dataset = filtered_dataset.map(lambda x, y, client_id: (x, y))\n",
        "    \n",
        "    #Load image from path and convert to float32\n",
        "    def load_image(filename, y):\n",
        "        image_string = tf.io.read_file(filename)\n",
        "        image_decoded = tf.image.decode_jpeg(image_string, channels=3)\n",
        "        X = tf.cast(image_decoded, tf.float32)\n",
        "        return X, y\n",
        "\n",
        "    filtered_dataset = filtered_dataset.map(load_image)\n",
        "    \n",
        "    print(type(filtered_dataset))\n",
        "\n",
        "\n",
        "    return filtered_dataset\n"
      ]
    },
    {
      "cell_type": "code",
      "execution_count": null,
      "id": "0b9c1fda-bb63-432f-b085-4a76dc317cf8",
      "metadata": {
        "execution": {
          "iopub.execute_input": "2023-03-16T08:39:08.371634Z",
          "iopub.status.busy": "2023-03-16T08:39:08.371356Z",
          "iopub.status.idle": "2023-03-16T08:39:09.104010Z",
          "shell.execute_reply": "2023-03-16T08:39:09.103361Z",
          "shell.execute_reply.started": "2023-03-16T08:39:08.371611Z"
        },
        "id": "0b9c1fda-bb63-432f-b085-4a76dc317cf8"
      },
      "outputs": [],
      "source": [
        "clients = img_df[\"client_id\"].unique()\n",
        "#print(type(client_ds))\n",
        "federated_train_data = make_federated_data(train_ds, clients)\n",
        "federated_test_data = make_federated_data(test_ds, clients)\n",
        "\n",
        "print(f'Number of client datasets: {len(federated_train_data)}')\n",
        "print(f'First dataset: {federated_train_data[0]}')"
      ]
    },
    {
      "cell_type": "code",
      "execution_count": null,
      "id": "bb8dbe5c-6b57-42b2-add1-b826b24e3177",
      "metadata": {
        "execution": {
          "iopub.execute_input": "2023-03-16T08:39:09.105229Z",
          "iopub.status.busy": "2023-03-16T08:39:09.105030Z",
          "iopub.status.idle": "2023-03-16T08:39:09.109402Z",
          "shell.execute_reply": "2023-03-16T08:39:09.108820Z",
          "shell.execute_reply.started": "2023-03-16T08:39:09.105209Z"
        },
        "id": "bb8dbe5c-6b57-42b2-add1-b826b24e3177"
      },
      "outputs": [],
      "source": [
        "def model_fn():\n",
        "  # We _must_ create a new model here, and _not_ capture it from an external\n",
        "  # scope. TFF will call this within different graph contexts.\n",
        "  keras_model = tf.keras.applications.EfficientNetB3(\n",
        "    include_top=True,\n",
        "    weights=None,\n",
        "    input_tensor=None,\n",
        "    input_shape=None,\n",
        "    pooling=None,\n",
        "    classes=2,\n",
        "    classifier_activation=\"sigmoid\"\n",
        "    )\n",
        "\n",
        "  return tff.learning.from_keras_model(\n",
        "      keras_model,\n",
        "      input_spec=federated_train_data[0].element_spec,\n",
        "      loss=tf.keras.losses.SparseCategoricalCrossentropy(),\n",
        "      metrics=[tf.keras.metrics.SparseCategoricalAccuracy()])"
      ]
    },
    {
      "cell_type": "code",
      "execution_count": null,
      "id": "f0e2fee6-b120-4b75-aa0f-5fb8e454ddd3",
      "metadata": {
        "execution": {
          "iopub.execute_input": "2023-03-16T08:39:09.111447Z",
          "iopub.status.busy": "2023-03-16T08:39:09.111000Z",
          "iopub.status.idle": "2023-03-16T08:40:01.594824Z",
          "shell.execute_reply": "2023-03-16T08:40:01.594070Z",
          "shell.execute_reply.started": "2023-03-16T08:39:09.111421Z"
        },
        "id": "f0e2fee6-b120-4b75-aa0f-5fb8e454ddd3"
      },
      "outputs": [],
      "source": [
        "training_process = tff.learning.algorithms.build_unweighted_fed_avg(\n",
        "    model_fn,\n",
        "    client_optimizer_fn=lambda: tf.keras.optimizers.SGD(learning_rate=0.02),\n",
        "    server_optimizer_fn=lambda: tf.keras.optimizers.SGD(learning_rate=1.0))\n",
        "\n",
        "eval_process = tff.learning.build_federated_evaluation(model_fn)"
      ]
    },
    {
      "cell_type": "code",
      "execution_count": null,
      "id": "deb6d9f1-da66-4bee-bcf1-538ff7d1e4d1",
      "metadata": {
        "execution": {
          "iopub.execute_input": "2023-03-16T08:40:01.596062Z",
          "iopub.status.busy": "2023-03-16T08:40:01.595790Z",
          "iopub.status.idle": "2023-03-16T08:40:07.957348Z",
          "shell.execute_reply": "2023-03-16T08:40:07.956773Z",
          "shell.execute_reply.started": "2023-03-16T08:40:01.596034Z"
        },
        "id": "deb6d9f1-da66-4bee-bcf1-538ff7d1e4d1"
      },
      "outputs": [],
      "source": [
        "train_state = training_process.initialize()\n",
        "eval_results_df = pd.DataFrame()\n",
        "train_results_df = pd.DataFrame()"
      ]
    },
    {
      "cell_type": "code",
      "execution_count": null,
      "id": "d4e2e01d-b174-4f92-a2ae-3322e2b69e33",
      "metadata": {
        "execution": {
          "iopub.execute_input": "2023-03-16T08:40:07.958807Z",
          "iopub.status.busy": "2023-03-16T08:40:07.958116Z",
          "iopub.status.idle": "2023-03-16T09:34:23.591709Z",
          "shell.execute_reply": "2023-03-16T09:34:23.589108Z",
          "shell.execute_reply.started": "2023-03-16T08:40:07.958772Z"
        },
        "id": "d4e2e01d-b174-4f92-a2ae-3322e2b69e33"
      },
      "outputs": [],
      "source": [
        "log_dir = 'logs/fit_federated/'\n",
        "summary_writer = tf.summary.create_file_writer(log_dir)\n",
        "tensorboard_callback = tf.keras.callbacks.TensorBoard(log_dir=log_dir, histogram_freq=1)\n",
        "\n",
        "NUM_ROUNDS = 30\n",
        "with summary_writer.as_default():\n",
        "\n",
        "    for round_num in range(NUM_ROUNDS):\n",
        "        \n",
        "      #Training of actual model  \n",
        "      result = training_process.next(train_state, federated_train_data)\n",
        "      train_state = result.state\n",
        "      train_metrics = result.metrics\n",
        "        \n",
        "      accuracy = result.metrics['client_work']['train']['sparse_categorical_accuracy']\n",
        "      loss = result.metrics['client_work']['train']['loss']  \n",
        "        \n",
        "      train_results_df = train_results_df.append({'Round': round_num+1, 'Accuracy': accuracy, 'Loss': loss}, ignore_index=True)  \n",
        "      print('round {:2d}, metrics={}'.format(round_num, train_metrics))\n",
        "      \n",
        "      #Evaluate model\n",
        "      model_weights = training_process.get_model_weights(train_state)\n",
        "      test_metrics = eval_process(model_weights, federated_test_data)['eval']\n",
        "      print(test_metrics)  \n",
        "      eval_results_df = eval_results_df.append({'Round': round_num+1,\n",
        "                                      **test_metrics}, ignore_index=True)  \n",
        "\n",
        "\n",
        "callbacks = [TensorBoard(log_dir=log_dir)]"
      ]
    },
    {
      "cell_type": "code",
      "execution_count": null,
      "id": "657c352c-2ee9-4e87-9923-07c294bd04af",
      "metadata": {
        "execution": {
          "iopub.execute_input": "2023-03-04T11:21:28.996783Z",
          "iopub.status.busy": "2023-03-04T11:21:28.996515Z",
          "iopub.status.idle": "2023-03-04T11:21:33.168825Z",
          "shell.execute_reply": "2023-03-04T11:21:33.168115Z",
          "shell.execute_reply.started": "2023-03-04T11:21:28.996765Z"
        },
        "id": "657c352c-2ee9-4e87-9923-07c294bd04af"
      },
      "outputs": [],
      "source": [
        "%tensorboard --logdir logs/fit/"
      ]
    },
    {
      "cell_type": "code",
      "execution_count": null,
      "id": "e4192e0b-29fb-4ba0-a26e-6e224a1b9209",
      "metadata": {
        "execution": {
          "iopub.status.busy": "2023-03-10T16:05:32.475233Z",
          "iopub.status.idle": "2023-03-10T16:05:32.475630Z",
          "shell.execute_reply": "2023-03-10T16:05:32.475468Z",
          "shell.execute_reply.started": "2023-03-10T16:05:32.475446Z"
        },
        "id": "e4192e0b-29fb-4ba0-a26e-6e224a1b9209"
      },
      "outputs": [],
      "source": [
        "print(eval_results_df.head(5))\n",
        "print(train_results_df.head(5))"
      ]
    },
    {
      "cell_type": "code",
      "execution_count": null,
      "id": "bd04f63c-f2c2-45e7-8a0e-840077d123a0",
      "metadata": {
        "execution": {
          "iopub.execute_input": "2023-03-14T18:40:52.064660Z",
          "iopub.status.busy": "2023-03-14T18:40:52.064367Z",
          "iopub.status.idle": "2023-03-14T18:40:52.453966Z",
          "shell.execute_reply": "2023-03-14T18:40:52.453193Z",
          "shell.execute_reply.started": "2023-03-14T18:40:52.064629Z"
        },
        "id": "bd04f63c-f2c2-45e7-8a0e-840077d123a0"
      },
      "outputs": [],
      "source": [
        "eval_results_df = eval_results_df.rename(columns={'sparse_categorical_accuracy': 'Accuracy', 'loss': 'Loss'})\n",
        "\n",
        "#Plot accuracy of model\n",
        "plt.plot(train_results_df['Accuracy'])\n",
        "plt.plot(eval_results_df['Accuracy'])\n",
        "plt.title('Model Accuracy')\n",
        "plt.ylabel('Accuracy')\n",
        "plt.xlabel('Round')\n",
        "plt.legend(['train', 'test'], loc='upper left')\n",
        "plt.xticks(range(len(train_results_df['Accuracy'])))\n",
        "plt.show()\n",
        "\n",
        "#Plot loss of model\n",
        "plt.plot(train_results_df['Loss'])\n",
        "plt.plot(eval_results_df['Loss'])\n",
        "plt.title('Model Loss')\n",
        "plt.ylabel('Loss')\n",
        "plt.xlabel('Round')\n",
        "plt.legend(['train', 'test'], loc='upper left')\n",
        "plt.xticks(range(len(train_results_df['Loss'])))\n",
        "plt.show()"
      ]
    },
    {
      "cell_type": "code",
      "execution_count": null,
      "id": "8d932bff-4238-408a-a6dc-0a077ddd57ca",
      "metadata": {
        "execution": {
          "iopub.execute_input": "2023-02-14T15:17:26.248323Z",
          "iopub.status.busy": "2023-02-14T15:17:26.248017Z",
          "iopub.status.idle": "2023-02-14T15:17:26.983609Z",
          "shell.execute_reply": "2023-02-14T15:17:26.982599Z",
          "shell.execute_reply.started": "2023-02-14T15:17:26.248300Z"
        },
        "id": "8d932bff-4238-408a-a6dc-0a077ddd57ca"
      },
      "outputs": [],
      "source": [
        "%tensorboard --logdir {logdir}"
      ]
    }
  ],
  "metadata": {
    "kernelspec": {
      "display_name": "Python 3 (ipykernel)",
      "language": "python",
      "name": "python3"
    },
    "language_info": {
      "codemirror_mode": {
        "name": "ipython",
        "version": 3
      },
      "file_extension": ".py",
      "mimetype": "text/x-python",
      "name": "python",
      "nbconvert_exporter": "python",
      "pygments_lexer": "ipython3",
      "version": "3.9.16"
    },
    "colab": {
      "provenance": [],
      "include_colab_link": true
    },
    "gpuClass": "standard"
  },
  "nbformat": 4,
  "nbformat_minor": 5
}