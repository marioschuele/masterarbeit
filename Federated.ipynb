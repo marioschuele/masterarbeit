{
 "cells": [
  {
   "cell_type": "code",
   "execution_count": 1,
   "id": "1d38634e-efb9-4600-9613-596f9b325afc",
   "metadata": {
    "execution": {
     "iopub.execute_input": "2023-03-16T08:37:38.313181Z",
     "iopub.status.busy": "2023-03-16T08:37:38.312538Z",
     "iopub.status.idle": "2023-03-16T08:38:51.790977Z",
     "shell.execute_reply": "2023-03-16T08:38:51.790244Z",
     "shell.execute_reply.started": "2023-03-16T08:37:38.313149Z"
    }
   },
   "outputs": [
    {
     "name": "stdout",
     "output_type": "stream",
     "text": [
      "Requirement already satisfied: tensorflow in /usr/local/lib/python3.9/dist-packages (2.9.2)\n",
      "Requirement already satisfied: libclang>=13.0.0 in /usr/local/lib/python3.9/dist-packages (from tensorflow) (15.0.6.1)\n",
      "Requirement already satisfied: tensorflow-estimator<2.10.0,>=2.9.0rc0 in /usr/local/lib/python3.9/dist-packages (from tensorflow) (2.9.0)\n",
      "Requirement already satisfied: numpy>=1.20 in /usr/local/lib/python3.9/dist-packages (from tensorflow) (1.23.4)\n",
      "Requirement already satisfied: six>=1.12.0 in /usr/lib/python3/dist-packages (from tensorflow) (1.14.0)\n",
      "Requirement already satisfied: tensorboard<2.10,>=2.9 in /usr/local/lib/python3.9/dist-packages (from tensorflow) (2.9.1)\n",
      "Requirement already satisfied: flatbuffers<2,>=1.12 in /usr/local/lib/python3.9/dist-packages (from tensorflow) (1.12)\n",
      "Requirement already satisfied: grpcio<2.0,>=1.24.3 in /usr/local/lib/python3.9/dist-packages (from tensorflow) (1.51.1)\n",
      "Requirement already satisfied: opt-einsum>=2.3.2 in /usr/local/lib/python3.9/dist-packages (from tensorflow) (3.3.0)\n",
      "Requirement already satisfied: h5py>=2.9.0 in /usr/local/lib/python3.9/dist-packages (from tensorflow) (3.8.0)\n",
      "Requirement already satisfied: termcolor>=1.1.0 in /usr/local/lib/python3.9/dist-packages (from tensorflow) (2.2.0)\n",
      "Requirement already satisfied: typing-extensions>=3.6.6 in /usr/local/lib/python3.9/dist-packages (from tensorflow) (4.4.0)\n",
      "Requirement already satisfied: astunparse>=1.6.0 in /usr/local/lib/python3.9/dist-packages (from tensorflow) (1.6.3)\n",
      "Requirement already satisfied: keras-preprocessing>=1.1.1 in /usr/local/lib/python3.9/dist-packages (from tensorflow) (1.1.2)\n",
      "Requirement already satisfied: setuptools in /usr/local/lib/python3.9/dist-packages (from tensorflow) (66.1.1)\n",
      "Requirement already satisfied: protobuf<3.20,>=3.9.2 in /usr/local/lib/python3.9/dist-packages (from tensorflow) (3.19.6)\n",
      "Requirement already satisfied: google-pasta>=0.1.1 in /usr/local/lib/python3.9/dist-packages (from tensorflow) (0.2.0)\n",
      "Requirement already satisfied: keras<2.10.0,>=2.9.0rc0 in /usr/local/lib/python3.9/dist-packages (from tensorflow) (2.9.0)\n",
      "Requirement already satisfied: wrapt>=1.11.0 in /usr/local/lib/python3.9/dist-packages (from tensorflow) (1.14.1)\n",
      "Requirement already satisfied: tensorflow-io-gcs-filesystem>=0.23.1 in /usr/local/lib/python3.9/dist-packages (from tensorflow) (0.30.0)\n",
      "Requirement already satisfied: absl-py>=1.0.0 in /usr/local/lib/python3.9/dist-packages (from tensorflow) (1.4.0)\n",
      "Requirement already satisfied: packaging in /usr/local/lib/python3.9/dist-packages (from tensorflow) (23.0)\n",
      "Requirement already satisfied: gast<=0.4.0,>=0.2.1 in /usr/local/lib/python3.9/dist-packages (from tensorflow) (0.4.0)\n",
      "Requirement already satisfied: wheel<1.0,>=0.23.0 in /usr/local/lib/python3.9/dist-packages (from astunparse>=1.6.0->tensorflow) (0.35.1)\n",
      "Requirement already satisfied: google-auth-oauthlib<0.5,>=0.4.1 in /usr/local/lib/python3.9/dist-packages (from tensorboard<2.10,>=2.9->tensorflow) (0.4.6)\n",
      "Requirement already satisfied: requests<3,>=2.21.0 in /usr/local/lib/python3.9/dist-packages (from tensorboard<2.10,>=2.9->tensorflow) (2.28.2)\n",
      "Requirement already satisfied: werkzeug>=1.0.1 in /usr/local/lib/python3.9/dist-packages (from tensorboard<2.10,>=2.9->tensorflow) (2.2.2)\n",
      "Requirement already satisfied: tensorboard-data-server<0.7.0,>=0.6.0 in /usr/local/lib/python3.9/dist-packages (from tensorboard<2.10,>=2.9->tensorflow) (0.6.1)\n",
      "Requirement already satisfied: markdown>=2.6.8 in /usr/local/lib/python3.9/dist-packages (from tensorboard<2.10,>=2.9->tensorflow) (3.4.1)\n",
      "Requirement already satisfied: google-auth<3,>=1.6.3 in /usr/local/lib/python3.9/dist-packages (from tensorboard<2.10,>=2.9->tensorflow) (2.16.0)\n",
      "Requirement already satisfied: tensorboard-plugin-wit>=1.6.0 in /usr/local/lib/python3.9/dist-packages (from tensorboard<2.10,>=2.9->tensorflow) (1.8.1)\n",
      "Requirement already satisfied: rsa<5,>=3.1.4 in /usr/local/lib/python3.9/dist-packages (from google-auth<3,>=1.6.3->tensorboard<2.10,>=2.9->tensorflow) (4.7.2)\n",
      "Requirement already satisfied: cachetools<6.0,>=2.0.0 in /usr/local/lib/python3.9/dist-packages (from google-auth<3,>=1.6.3->tensorboard<2.10,>=2.9->tensorflow) (5.3.0)\n",
      "Requirement already satisfied: pyasn1-modules>=0.2.1 in /usr/local/lib/python3.9/dist-packages (from google-auth<3,>=1.6.3->tensorboard<2.10,>=2.9->tensorflow) (0.2.8)\n",
      "Requirement already satisfied: requests-oauthlib>=0.7.0 in /usr/local/lib/python3.9/dist-packages (from google-auth-oauthlib<0.5,>=0.4.1->tensorboard<2.10,>=2.9->tensorflow) (1.3.1)\n",
      "Requirement already satisfied: importlib-metadata>=4.4 in /usr/local/lib/python3.9/dist-packages (from markdown>=2.6.8->tensorboard<2.10,>=2.9->tensorflow) (6.0.0)\n",
      "Requirement already satisfied: urllib3<1.27,>=1.21.1 in /usr/local/lib/python3.9/dist-packages (from requests<3,>=2.21.0->tensorboard<2.10,>=2.9->tensorflow) (1.26.14)\n",
      "Requirement already satisfied: certifi>=2017.4.17 in /usr/lib/python3/dist-packages (from requests<3,>=2.21.0->tensorboard<2.10,>=2.9->tensorflow) (2019.11.28)\n",
      "Requirement already satisfied: idna<4,>=2.5 in /usr/lib/python3/dist-packages (from requests<3,>=2.21.0->tensorboard<2.10,>=2.9->tensorflow) (2.8)\n",
      "Requirement already satisfied: charset-normalizer<4,>=2 in /usr/local/lib/python3.9/dist-packages (from requests<3,>=2.21.0->tensorboard<2.10,>=2.9->tensorflow) (2.1.1)\n",
      "Requirement already satisfied: MarkupSafe>=2.1.1 in /usr/local/lib/python3.9/dist-packages (from werkzeug>=1.0.1->tensorboard<2.10,>=2.9->tensorflow) (2.1.2)\n",
      "Requirement already satisfied: zipp>=0.5 in /usr/local/lib/python3.9/dist-packages (from importlib-metadata>=4.4->markdown>=2.6.8->tensorboard<2.10,>=2.9->tensorflow) (3.11.0)\n",
      "Requirement already satisfied: pyasn1<0.5.0,>=0.4.6 in /usr/local/lib/python3.9/dist-packages (from pyasn1-modules>=0.2.1->google-auth<3,>=1.6.3->tensorboard<2.10,>=2.9->tensorflow) (0.4.8)\n",
      "Requirement already satisfied: oauthlib>=3.0.0 in /usr/local/lib/python3.9/dist-packages (from requests-oauthlib>=0.7.0->google-auth-oauthlib<0.5,>=0.4.1->tensorboard<2.10,>=2.9->tensorflow) (3.2.2)\n",
      "\u001b[33mWARNING: Running pip as the 'root' user can result in broken permissions and conflicting behaviour with the system package manager. It is recommended to use a virtual environment instead: https://pip.pypa.io/warnings/venv\u001b[0m\u001b[33m\n",
      "\u001b[0mCollecting tensorflow-federated==0.39\n",
      "  Downloading tensorflow_federated-0.39.0-py2.py3-none-any.whl (912 kB)\n",
      "\u001b[2K     \u001b[90m━━━━━━━━━━━━━━━━━━━━━━━━━━━━━━━━━━━━━━\u001b[0m \u001b[32m912.9/912.9 kB\u001b[0m \u001b[31m59.0 MB/s\u001b[0m eta \u001b[36m0:00:00\u001b[0m\n",
      "\u001b[?25hCollecting attrs~=21.4\n",
      "  Downloading attrs-21.4.0-py2.py3-none-any.whl (60 kB)\n",
      "\u001b[2K     \u001b[90m━━━━━━━━━━━━━━━━━━━━━━━━━━━━━━━━━━━━━━━━\u001b[0m \u001b[32m60.6/60.6 kB\u001b[0m \u001b[31m16.7 MB/s\u001b[0m eta \u001b[36m0:00:00\u001b[0m\n",
      "\u001b[?25hCollecting dp-accounting==0.3.0\n",
      "  Downloading dp_accounting-0.3.0-py3-none-any.whl (89 kB)\n",
      "\u001b[2K     \u001b[90m━━━━━━━━━━━━━━━━━━━━━━━━━━━━━━━━━━━━━━━━\u001b[0m \u001b[32m89.9/89.9 kB\u001b[0m \u001b[31m27.3 MB/s\u001b[0m eta \u001b[36m0:00:00\u001b[0m\n",
      "\u001b[?25hRequirement already satisfied: grpcio~=1.46 in /usr/local/lib/python3.9/dist-packages (from tensorflow-federated==0.39) (1.51.1)\n",
      "Collecting farmhashpy==0.4.0\n",
      "  Downloading farmhashpy-0.4.0-cp39-cp39-manylinux2010_x86_64.whl (120 kB)\n",
      "\u001b[2K     \u001b[90m━━━━━━━━━━━━━━━━━━━━━━━━━━━━━━━━━━━━━━\u001b[0m \u001b[32m120.2/120.2 kB\u001b[0m \u001b[31m30.4 MB/s\u001b[0m eta \u001b[36m0:00:00\u001b[0m\n",
      "\u001b[?25hCollecting portpicker~=1.5\n",
      "  Downloading portpicker-1.5.2-py3-none-any.whl (14 kB)\n",
      "Collecting tensorflow~=2.10.0\n",
      "  Downloading tensorflow-2.10.1-cp39-cp39-manylinux_2_17_x86_64.manylinux2014_x86_64.whl (578.1 MB)\n",
      "\u001b[2K     \u001b[90m━━━━━━━━━━━━━━━━━━━━━━━━━━━━━━━━━━━━━━━\u001b[0m \u001b[32m578.1/578.1 MB\u001b[0m \u001b[31m3.5 MB/s\u001b[0m eta \u001b[36m0:00:00\u001b[0m00:01\u001b[0m00:01\u001b[0m\n",
      "\u001b[?25hCollecting semantic-version~=2.6\n",
      "  Downloading semantic_version-2.10.0-py2.py3-none-any.whl (15 kB)\n",
      "Collecting tensorflow-model-optimization==0.7.3\n",
      "  Downloading tensorflow_model_optimization-0.7.3-py2.py3-none-any.whl (238 kB)\n",
      "\u001b[2K     \u001b[90m━━━━━━━━━━━━━━━━━━━━━━━━━━━━━━━━━━━━━━\u001b[0m \u001b[32m238.9/238.9 kB\u001b[0m \u001b[31m44.0 MB/s\u001b[0m eta \u001b[36m0:00:00\u001b[0m\n",
      "\u001b[?25hRequirement already satisfied: absl-py==1.*,>=1.0 in /usr/local/lib/python3.9/dist-packages (from tensorflow-federated==0.39) (1.4.0)\n",
      "Collecting cachetools~=3.1\n",
      "  Downloading cachetools-3.1.1-py2.py3-none-any.whl (11 kB)\n",
      "Collecting jaxlib==0.3.14\n",
      "  Downloading jaxlib-0.3.14-cp39-none-manylinux2014_x86_64.whl (71.3 MB)\n",
      "\u001b[2K     \u001b[90m━━━━━━━━━━━━━━━━━━━━━━━━━━━━━━━━━━━━━━━━\u001b[0m \u001b[32m71.3/71.3 MB\u001b[0m \u001b[31m24.4 MB/s\u001b[0m eta \u001b[36m0:00:00\u001b[0m00:01\u001b[0m00:01\u001b[0m\n",
      "\u001b[?25hCollecting dm-tree==0.1.7\n",
      "  Downloading dm_tree-0.1.7-cp39-cp39-manylinux_2_12_x86_64.manylinux2010_x86_64.whl (142 kB)\n",
      "\u001b[2K     \u001b[90m━━━━━━━━━━━━━━━━━━━━━━━━━━━━━━━━━━━━━━\u001b[0m \u001b[32m142.7/142.7 kB\u001b[0m \u001b[31m40.1 MB/s\u001b[0m eta \u001b[36m0:00:00\u001b[0m\n",
      "\u001b[?25hCollecting jax==0.3.14\n",
      "  Downloading jax-0.3.14.tar.gz (990 kB)\n",
      "\u001b[2K     \u001b[90m━━━━━━━━━━━━━━━━━━━━━━━━━━━━━━━━━━━━━━\u001b[0m \u001b[32m990.1/990.1 kB\u001b[0m \u001b[31m90.1 MB/s\u001b[0m eta \u001b[36m0:00:00\u001b[0m\n",
      "\u001b[?25h  Preparing metadata (setup.py) ... \u001b[?25ldone\n",
      "\u001b[?25hCollecting tensorflow-compression~=2.10.0\n",
      "  Downloading tensorflow_compression-2.10.0-cp39-cp39-manylinux_2_17_x86_64.manylinux2014_x86_64.whl (255 kB)\n",
      "\u001b[2K     \u001b[90m━━━━━━━━━━━━━━━━━━━━━━━━━━━━━━━━━━━━━━\u001b[0m \u001b[32m255.4/255.4 kB\u001b[0m \u001b[31m43.0 MB/s\u001b[0m eta \u001b[36m0:00:00\u001b[0m\n",
      "\u001b[?25hCollecting tensorflow-privacy==0.8.6\n",
      "  Downloading tensorflow_privacy-0.8.6-py3-none-any.whl (301 kB)\n",
      "\u001b[2K     \u001b[90m━━━━━━━━━━━━━━━━━━━━━━━━━━━━━━━━━━━━━━\u001b[0m \u001b[32m301.7/301.7 kB\u001b[0m \u001b[31m55.7 MB/s\u001b[0m eta \u001b[36m0:00:00\u001b[0m\n",
      "\u001b[?25hRequirement already satisfied: tqdm~=4.64 in /usr/local/lib/python3.9/dist-packages (from tensorflow-federated==0.39) (4.64.1)\n",
      "Requirement already satisfied: numpy~=1.21 in /usr/local/lib/python3.9/dist-packages (from tensorflow-federated==0.39) (1.23.4)\n",
      "Collecting scipy~=1.7.1\n",
      "  Downloading scipy-1.7.3-cp39-cp39-manylinux_2_17_x86_64.manylinux2014_x86_64.whl (39.8 MB)\n",
      "\u001b[2K     \u001b[90m━━━━━━━━━━━━━━━━━━━━━━━━━━━━━━━━━━━━━━━━\u001b[0m \u001b[32m39.8/39.8 MB\u001b[0m \u001b[31m40.8 MB/s\u001b[0m eta \u001b[36m0:00:00\u001b[0m00:01\u001b[0m00:01\u001b[0m\n",
      "\u001b[?25hCollecting absl-py==1.*,>=1.0\n",
      "  Downloading absl_py-1.0.0-py3-none-any.whl (126 kB)\n",
      "\u001b[2K     \u001b[90m━━━━━━━━━━━━━━━━━━━━━━━━━━━━━━━━━━━━━━\u001b[0m \u001b[32m126.7/126.7 kB\u001b[0m \u001b[31m30.5 MB/s\u001b[0m eta \u001b[36m0:00:00\u001b[0m\n",
      "\u001b[?25hCollecting mpmath~=1.2.1\n",
      "  Downloading mpmath-1.2.1-py3-none-any.whl (532 kB)\n",
      "\u001b[2K     \u001b[90m━━━━━━━━━━━━━━━━━━━━━━━━━━━━━━━━━━━━━━\u001b[0m \u001b[32m532.6/532.6 kB\u001b[0m \u001b[31m63.0 MB/s\u001b[0m eta \u001b[36m0:00:00\u001b[0m\n",
      "\u001b[?25hRequirement already satisfied: six in /usr/lib/python3/dist-packages (from absl-py==1.*,>=1.0->tensorflow-federated==0.39) (1.14.0)\n",
      "Requirement already satisfied: opt_einsum in /usr/local/lib/python3.9/dist-packages (from jax==0.3.14->tensorflow-federated==0.39) (3.3.0)\n",
      "Requirement already satisfied: typing_extensions in /usr/local/lib/python3.9/dist-packages (from jax==0.3.14->tensorflow-federated==0.39) (4.4.0)\n",
      "Requirement already satisfied: etils[epath] in /usr/local/lib/python3.9/dist-packages (from jax==0.3.14->tensorflow-federated==0.39) (1.0.0)\n",
      "Requirement already satisfied: flatbuffers<3.0,>=1.12 in /usr/local/lib/python3.9/dist-packages (from jaxlib==0.3.14->tensorflow-federated==0.39) (1.12)\n",
      "Requirement already satisfied: tensorflow-estimator~=2.4 in /usr/local/lib/python3.9/dist-packages (from tensorflow-privacy==0.8.6->tensorflow-federated==0.39) (2.9.0)\n",
      "Collecting tensorflow-datasets~=4.5\n",
      "  Downloading tensorflow_datasets-4.8.3-py3-none-any.whl (5.4 MB)\n",
      "\u001b[2K     \u001b[90m━━━━━━━━━━━━━━━━━━━━━━━━━━━━━━━━━━━━━━━━\u001b[0m \u001b[32m5.4/5.4 MB\u001b[0m \u001b[31m98.7 MB/s\u001b[0m eta \u001b[36m0:00:00\u001b[0m:00:01\u001b[0m\n",
      "\u001b[?25hRequirement already satisfied: matplotlib~=3.3 in /usr/local/lib/python3.9/dist-packages (from tensorflow-privacy==0.8.6->tensorflow-federated==0.39) (3.6.1)\n",
      "Requirement already satisfied: pandas~=1.4 in /usr/local/lib/python3.9/dist-packages (from tensorflow-privacy==0.8.6->tensorflow-federated==0.39) (1.5.0)\n",
      "Collecting tensorflow-probability==0.15.0\n",
      "  Downloading tensorflow_probability-0.15.0-py2.py3-none-any.whl (5.7 MB)\n",
      "\u001b[2K     \u001b[90m━━━━━━━━━━━━━━━━━━━━━━━━━━━━━━━━━━━━━━━━\u001b[0m \u001b[32m5.7/5.7 MB\u001b[0m \u001b[31m97.9 MB/s\u001b[0m eta \u001b[36m0:00:00\u001b[0m:00:01\u001b[0m\n",
      "\u001b[?25hRequirement already satisfied: scikit-learn==1.*,>=1.0 in /usr/local/lib/python3.9/dist-packages (from tensorflow-privacy==0.8.6->tensorflow-federated==0.39) (1.1.2)\n",
      "Requirement already satisfied: joblib>=1.0.0 in /usr/local/lib/python3.9/dist-packages (from scikit-learn==1.*,>=1.0->tensorflow-privacy==0.8.6->tensorflow-federated==0.39) (1.2.0)\n",
      "Requirement already satisfied: threadpoolctl>=2.0.0 in /usr/local/lib/python3.9/dist-packages (from scikit-learn==1.*,>=1.0->tensorflow-privacy==0.8.6->tensorflow-federated==0.39) (3.1.0)\n",
      "Requirement already satisfied: decorator in /usr/local/lib/python3.9/dist-packages (from tensorflow-probability==0.15.0->tensorflow-privacy==0.8.6->tensorflow-federated==0.39) (5.1.1)\n",
      "Requirement already satisfied: gast>=0.3.2 in /usr/local/lib/python3.9/dist-packages (from tensorflow-probability==0.15.0->tensorflow-privacy==0.8.6->tensorflow-federated==0.39) (0.4.0)\n",
      "Requirement already satisfied: cloudpickle>=1.3 in /usr/local/lib/python3.9/dist-packages (from tensorflow-probability==0.15.0->tensorflow-privacy==0.8.6->tensorflow-federated==0.39) (2.2.0)\n",
      "Requirement already satisfied: psutil in /usr/local/lib/python3.9/dist-packages (from portpicker~=1.5->tensorflow-federated==0.39) (5.9.4)\n",
      "Requirement already satisfied: h5py>=2.9.0 in /usr/local/lib/python3.9/dist-packages (from tensorflow~=2.10.0->tensorflow-federated==0.39) (3.8.0)\n",
      "Requirement already satisfied: astunparse>=1.6.0 in /usr/local/lib/python3.9/dist-packages (from tensorflow~=2.10.0->tensorflow-federated==0.39) (1.6.3)\n",
      "Collecting tensorboard<2.11,>=2.10\n",
      "  Downloading tensorboard-2.10.1-py3-none-any.whl (5.9 MB)\n",
      "\u001b[2K     \u001b[90m━━━━━━━━━━━━━━━━━━━━━━━━━━━━━━━━━━━━━━━━\u001b[0m \u001b[32m5.9/5.9 MB\u001b[0m \u001b[31m99.9 MB/s\u001b[0m eta \u001b[36m0:00:00\u001b[0m:00:01\u001b[0m\n",
      "\u001b[?25hRequirement already satisfied: libclang>=13.0.0 in /usr/local/lib/python3.9/dist-packages (from tensorflow~=2.10.0->tensorflow-federated==0.39) (15.0.6.1)\n",
      "Requirement already satisfied: protobuf<3.20,>=3.9.2 in /usr/local/lib/python3.9/dist-packages (from tensorflow~=2.10.0->tensorflow-federated==0.39) (3.19.6)\n",
      "Requirement already satisfied: keras-preprocessing>=1.1.1 in /usr/local/lib/python3.9/dist-packages (from tensorflow~=2.10.0->tensorflow-federated==0.39) (1.1.2)\n",
      "Requirement already satisfied: wrapt>=1.11.0 in /usr/local/lib/python3.9/dist-packages (from tensorflow~=2.10.0->tensorflow-federated==0.39) (1.14.1)\n",
      "Requirement already satisfied: packaging in /usr/local/lib/python3.9/dist-packages (from tensorflow~=2.10.0->tensorflow-federated==0.39) (23.0)\n",
      "Requirement already satisfied: setuptools in /usr/local/lib/python3.9/dist-packages (from tensorflow~=2.10.0->tensorflow-federated==0.39) (66.1.1)\n",
      "Requirement already satisfied: tensorflow-io-gcs-filesystem>=0.23.1 in /usr/local/lib/python3.9/dist-packages (from tensorflow~=2.10.0->tensorflow-federated==0.39) (0.30.0)\n",
      "Requirement already satisfied: google-pasta>=0.1.1 in /usr/local/lib/python3.9/dist-packages (from tensorflow~=2.10.0->tensorflow-federated==0.39) (0.2.0)\n",
      "Collecting keras<2.11,>=2.10.0\n",
      "  Downloading keras-2.10.0-py2.py3-none-any.whl (1.7 MB)\n",
      "\u001b[2K     \u001b[90m━━━━━━━━━━━━━━━━━━━━━━━━━━━━━━━━━━━━━━━━\u001b[0m \u001b[32m1.7/1.7 MB\u001b[0m \u001b[31m26.4 MB/s\u001b[0m eta \u001b[36m0:00:00\u001b[0mta \u001b[36m0:00:01\u001b[0m\n",
      "\u001b[?25hCollecting flatbuffers<3.0,>=1.12\n",
      "  Downloading flatbuffers-2.0.7-py2.py3-none-any.whl (26 kB)\n",
      "Requirement already satisfied: termcolor>=1.1.0 in /usr/local/lib/python3.9/dist-packages (from tensorflow~=2.10.0->tensorflow-federated==0.39) (2.2.0)\n",
      "Collecting tensorflow-estimator~=2.4\n",
      "  Downloading tensorflow_estimator-2.10.0-py2.py3-none-any.whl (438 kB)\n",
      "\u001b[2K     \u001b[90m━━━━━━━━━━━━━━━━━━━━━━━━━━━━━━━━━━━━━━\u001b[0m \u001b[32m438.7/438.7 kB\u001b[0m \u001b[31m69.9 MB/s\u001b[0m eta \u001b[36m0:00:00\u001b[0m\n",
      "\u001b[?25hRequirement already satisfied: wheel<1.0,>=0.23.0 in /usr/local/lib/python3.9/dist-packages (from astunparse>=1.6.0->tensorflow~=2.10.0->tensorflow-federated==0.39) (0.35.1)\n",
      "Requirement already satisfied: contourpy>=1.0.1 in /usr/local/lib/python3.9/dist-packages (from matplotlib~=3.3->tensorflow-privacy==0.8.6->tensorflow-federated==0.39) (1.0.7)\n",
      "Requirement already satisfied: kiwisolver>=1.0.1 in /usr/local/lib/python3.9/dist-packages (from matplotlib~=3.3->tensorflow-privacy==0.8.6->tensorflow-federated==0.39) (1.4.4)\n",
      "Requirement already satisfied: pyparsing>=2.2.1 in /usr/local/lib/python3.9/dist-packages (from matplotlib~=3.3->tensorflow-privacy==0.8.6->tensorflow-federated==0.39) (3.0.9)\n",
      "Requirement already satisfied: fonttools>=4.22.0 in /usr/local/lib/python3.9/dist-packages (from matplotlib~=3.3->tensorflow-privacy==0.8.6->tensorflow-federated==0.39) (4.38.0)\n",
      "Requirement already satisfied: cycler>=0.10 in /usr/local/lib/python3.9/dist-packages (from matplotlib~=3.3->tensorflow-privacy==0.8.6->tensorflow-federated==0.39) (0.11.0)\n",
      "Requirement already satisfied: python-dateutil>=2.7 in /usr/local/lib/python3.9/dist-packages (from matplotlib~=3.3->tensorflow-privacy==0.8.6->tensorflow-federated==0.39) (2.8.2)\n",
      "Requirement already satisfied: pillow>=6.2.0 in /usr/local/lib/python3.9/dist-packages (from matplotlib~=3.3->tensorflow-privacy==0.8.6->tensorflow-federated==0.39) (9.2.0)\n",
      "Requirement already satisfied: pytz>=2020.1 in /usr/local/lib/python3.9/dist-packages (from pandas~=1.4->tensorflow-privacy==0.8.6->tensorflow-federated==0.39) (2022.7.1)\n",
      "Collecting numpy~=1.21\n",
      "  Downloading numpy-1.22.4-cp39-cp39-manylinux_2_17_x86_64.manylinux2014_x86_64.whl (16.8 MB)\n",
      "\u001b[2K     \u001b[90m━━━━━━━━━━━━━━━━━━━━━━━━━━━━━━━━━━━━━━━━\u001b[0m \u001b[32m16.8/16.8 MB\u001b[0m \u001b[31m64.0 MB/s\u001b[0m eta \u001b[36m0:00:00\u001b[0m00:01\u001b[0m00:01\u001b[0m\n",
      "\u001b[?25hRequirement already satisfied: requests<3,>=2.21.0 in /usr/local/lib/python3.9/dist-packages (from tensorboard<2.11,>=2.10->tensorflow~=2.10.0->tensorflow-federated==0.39) (2.28.2)\n",
      "Requirement already satisfied: google-auth-oauthlib<0.5,>=0.4.1 in /usr/local/lib/python3.9/dist-packages (from tensorboard<2.11,>=2.10->tensorflow~=2.10.0->tensorflow-federated==0.39) (0.4.6)\n",
      "Requirement already satisfied: google-auth<3,>=1.6.3 in /usr/local/lib/python3.9/dist-packages (from tensorboard<2.11,>=2.10->tensorflow~=2.10.0->tensorflow-federated==0.39) (2.16.0)\n",
      "Requirement already satisfied: tensorboard-plugin-wit>=1.6.0 in /usr/local/lib/python3.9/dist-packages (from tensorboard<2.11,>=2.10->tensorflow~=2.10.0->tensorflow-federated==0.39) (1.8.1)\n",
      "Requirement already satisfied: tensorboard-data-server<0.7.0,>=0.6.0 in /usr/local/lib/python3.9/dist-packages (from tensorboard<2.11,>=2.10->tensorflow~=2.10.0->tensorflow-federated==0.39) (0.6.1)\n",
      "Requirement already satisfied: werkzeug>=1.0.1 in /usr/local/lib/python3.9/dist-packages (from tensorboard<2.11,>=2.10->tensorflow~=2.10.0->tensorflow-federated==0.39) (2.2.2)\n",
      "Requirement already satisfied: markdown>=2.6.8 in /usr/local/lib/python3.9/dist-packages (from tensorboard<2.11,>=2.10->tensorflow~=2.10.0->tensorflow-federated==0.39) (3.4.1)\n",
      "Requirement already satisfied: click in /usr/local/lib/python3.9/dist-packages (from tensorflow-datasets~=4.5->tensorflow-privacy==0.8.6->tensorflow-federated==0.39) (8.1.3)\n",
      "Collecting tensorflow-metadata\n",
      "  Downloading tensorflow_metadata-1.12.0-py3-none-any.whl (52 kB)\n",
      "\u001b[2K     \u001b[90m━━━━━━━━━━━━━━━━━━━━━━━━━━━━━━━━━━━━━━━━\u001b[0m \u001b[32m52.3/52.3 kB\u001b[0m \u001b[31m13.2 MB/s\u001b[0m eta \u001b[36m0:00:00\u001b[0m\n",
      "\u001b[?25hCollecting toml\n",
      "  Downloading toml-0.10.2-py2.py3-none-any.whl (16 kB)\n",
      "Requirement already satisfied: promise in /usr/local/lib/python3.9/dist-packages (from tensorflow-datasets~=4.5->tensorflow-privacy==0.8.6->tensorflow-federated==0.39) (2.3)\n",
      "Requirement already satisfied: importlib_resources in /usr/local/lib/python3.9/dist-packages (from etils[epath]->jax==0.3.14->tensorflow-federated==0.39) (5.10.2)\n",
      "Requirement already satisfied: zipp in /usr/local/lib/python3.9/dist-packages (from etils[epath]->jax==0.3.14->tensorflow-federated==0.39) (3.11.0)\n",
      "Requirement already satisfied: rsa<5,>=3.1.4 in /usr/local/lib/python3.9/dist-packages (from google-auth<3,>=1.6.3->tensorboard<2.11,>=2.10->tensorflow~=2.10.0->tensorflow-federated==0.39) (4.7.2)\n",
      "Requirement already satisfied: pyasn1-modules>=0.2.1 in /usr/local/lib/python3.9/dist-packages (from google-auth<3,>=1.6.3->tensorboard<2.11,>=2.10->tensorflow~=2.10.0->tensorflow-federated==0.39) (0.2.8)\n",
      "Requirement already satisfied: requests-oauthlib>=0.7.0 in /usr/local/lib/python3.9/dist-packages (from google-auth-oauthlib<0.5,>=0.4.1->tensorboard<2.11,>=2.10->tensorflow~=2.10.0->tensorflow-federated==0.39) (1.3.1)\n",
      "Requirement already satisfied: importlib-metadata>=4.4 in /usr/local/lib/python3.9/dist-packages (from markdown>=2.6.8->tensorboard<2.11,>=2.10->tensorflow~=2.10.0->tensorflow-federated==0.39) (6.0.0)\n",
      "Requirement already satisfied: idna<4,>=2.5 in /usr/lib/python3/dist-packages (from requests<3,>=2.21.0->tensorboard<2.11,>=2.10->tensorflow~=2.10.0->tensorflow-federated==0.39) (2.8)\n",
      "Requirement already satisfied: charset-normalizer<4,>=2 in /usr/local/lib/python3.9/dist-packages (from requests<3,>=2.21.0->tensorboard<2.11,>=2.10->tensorflow~=2.10.0->tensorflow-federated==0.39) (2.1.1)\n",
      "Requirement already satisfied: urllib3<1.27,>=1.21.1 in /usr/local/lib/python3.9/dist-packages (from requests<3,>=2.21.0->tensorboard<2.11,>=2.10->tensorflow~=2.10.0->tensorflow-federated==0.39) (1.26.14)\n",
      "Requirement already satisfied: certifi>=2017.4.17 in /usr/lib/python3/dist-packages (from requests<3,>=2.21.0->tensorboard<2.11,>=2.10->tensorflow~=2.10.0->tensorflow-federated==0.39) (2019.11.28)\n",
      "Requirement already satisfied: MarkupSafe>=2.1.1 in /usr/local/lib/python3.9/dist-packages (from werkzeug>=1.0.1->tensorboard<2.11,>=2.10->tensorflow~=2.10.0->tensorflow-federated==0.39) (2.1.2)\n",
      "Collecting googleapis-common-protos<2,>=1.52.0\n",
      "  Downloading googleapis_common_protos-1.58.0-py2.py3-none-any.whl (223 kB)\n",
      "\u001b[2K     \u001b[90m━━━━━━━━━━━━━━━━━━━━━━━━━━━━━━━━━━━━━━\u001b[0m \u001b[32m223.0/223.0 kB\u001b[0m \u001b[31m47.8 MB/s\u001b[0m eta \u001b[36m0:00:00\u001b[0m\n",
      "\u001b[?25hRequirement already satisfied: pyasn1<0.5.0,>=0.4.6 in /usr/local/lib/python3.9/dist-packages (from pyasn1-modules>=0.2.1->google-auth<3,>=1.6.3->tensorboard<2.11,>=2.10->tensorflow~=2.10.0->tensorflow-federated==0.39) (0.4.8)\n",
      "Requirement already satisfied: oauthlib>=3.0.0 in /usr/local/lib/python3.9/dist-packages (from requests-oauthlib>=0.7.0->google-auth-oauthlib<0.5,>=0.4.1->tensorboard<2.11,>=2.10->tensorflow~=2.10.0->tensorflow-federated==0.39) (3.2.2)\n",
      "Building wheels for collected packages: jax\n",
      "  Building wheel for jax (setup.py) ... \u001b[?25ldone\n",
      "\u001b[?25h  Created wheel for jax: filename=jax-0.3.14-py3-none-any.whl size=1147569 sha256=d4bd3ed0b5be08c3bb5b659c2fe20765b0cfe2cbccc104e0aa8649851a33533f\n",
      "  Stored in directory: /root/.cache/pip/wheels/3d/22/cf/75c40ec058e8d0f9b8427cd35366e1fd618475451fc8fc6fd7\n",
      "Successfully built jax\n",
      "Installing collected packages: mpmath, keras, flatbuffers, dm-tree, cachetools, toml, tensorflow-estimator, semantic-version, portpicker, numpy, googleapis-common-protos, farmhashpy, attrs, absl-py, tensorflow-probability, tensorflow-model-optimization, tensorflow-metadata, scipy, tensorflow-datasets, jaxlib, jax, dp-accounting, tensorboard, tensorflow, tensorflow-privacy, tensorflow-compression, tensorflow-federated\n",
      "  Attempting uninstall: keras\n",
      "    Found existing installation: keras 2.9.0\n",
      "    Uninstalling keras-2.9.0:\n",
      "      Successfully uninstalled keras-2.9.0\n",
      "  Attempting uninstall: flatbuffers\n",
      "    Found existing installation: flatbuffers 1.12\n",
      "    Uninstalling flatbuffers-1.12:\n",
      "      Successfully uninstalled flatbuffers-1.12\n",
      "  Attempting uninstall: dm-tree\n",
      "    Found existing installation: dm-tree 0.1.8\n",
      "    Uninstalling dm-tree-0.1.8:\n",
      "      Successfully uninstalled dm-tree-0.1.8\n",
      "  Attempting uninstall: cachetools\n",
      "    Found existing installation: cachetools 5.3.0\n",
      "    Uninstalling cachetools-5.3.0:\n",
      "      Successfully uninstalled cachetools-5.3.0\n",
      "  Attempting uninstall: tensorflow-estimator\n",
      "    Found existing installation: tensorflow-estimator 2.9.0\n",
      "    Uninstalling tensorflow-estimator-2.9.0:\n",
      "      Successfully uninstalled tensorflow-estimator-2.9.0\n",
      "  Attempting uninstall: numpy\n",
      "    Found existing installation: numpy 1.23.4\n",
      "    Uninstalling numpy-1.23.4:\n",
      "      Successfully uninstalled numpy-1.23.4\n",
      "  Attempting uninstall: attrs\n",
      "    Found existing installation: attrs 18.2.0\n",
      "    Uninstalling attrs-18.2.0:\n",
      "      Successfully uninstalled attrs-18.2.0\n",
      "  Attempting uninstall: absl-py\n",
      "    Found existing installation: absl-py 1.4.0\n",
      "    Uninstalling absl-py-1.4.0:\n",
      "      Successfully uninstalled absl-py-1.4.0\n",
      "  Attempting uninstall: scipy\n",
      "    Found existing installation: scipy 1.9.2\n",
      "    Uninstalling scipy-1.9.2:\n",
      "      Successfully uninstalled scipy-1.9.2\n",
      "  Attempting uninstall: jaxlib\n",
      "    Found existing installation: jaxlib 0.4.1+cuda11.cudnn82\n",
      "    Uninstalling jaxlib-0.4.1+cuda11.cudnn82:\n",
      "      Successfully uninstalled jaxlib-0.4.1+cuda11.cudnn82\n",
      "  Attempting uninstall: jax\n",
      "    Found existing installation: jax 0.4.1\n",
      "    Uninstalling jax-0.4.1:\n",
      "      Successfully uninstalled jax-0.4.1\n",
      "  Attempting uninstall: tensorboard\n",
      "    Found existing installation: tensorboard 2.9.1\n",
      "    Uninstalling tensorboard-2.9.1:\n",
      "      Successfully uninstalled tensorboard-2.9.1\n",
      "  Attempting uninstall: tensorflow\n",
      "    Found existing installation: tensorflow 2.9.2\n",
      "    Uninstalling tensorflow-2.9.2:\n",
      "      Successfully uninstalled tensorflow-2.9.2\n",
      "\u001b[31mERROR: pip's dependency resolver does not currently take into account all the packages that are installed. This behaviour is the source of the following dependency conflicts.\n",
      "gradient 2.0.6 requires attrs<=19, but you have attrs 21.4.0 which is incompatible.\n",
      "flax 0.6.3 requires jax>=0.3.16, but you have jax 0.3.14 which is incompatible.\u001b[0m\u001b[31m\n",
      "\u001b[0mSuccessfully installed absl-py-1.0.0 attrs-21.4.0 cachetools-3.1.1 dm-tree-0.1.7 dp-accounting-0.3.0 farmhashpy-0.4.0 flatbuffers-2.0.7 googleapis-common-protos-1.58.0 jax-0.3.14 jaxlib-0.3.14 keras-2.10.0 mpmath-1.2.1 numpy-1.22.4 portpicker-1.5.2 scipy-1.7.3 semantic-version-2.10.0 tensorboard-2.10.1 tensorflow-2.10.1 tensorflow-compression-2.10.0 tensorflow-datasets-4.8.3 tensorflow-estimator-2.10.0 tensorflow-federated-0.39.0 tensorflow-metadata-1.12.0 tensorflow-model-optimization-0.7.3 tensorflow-privacy-0.8.6 tensorflow-probability-0.15.0 toml-0.10.2\n",
      "\u001b[33mWARNING: Running pip as the 'root' user can result in broken permissions and conflicting behaviour with the system package manager. It is recommended to use a virtual environment instead: https://pip.pypa.io/warnings/venv\u001b[0m\u001b[33m\n",
      "\u001b[0m"
     ]
    }
   ],
   "source": [
    "!pip install tensorflow\n",
    "!pip install tensorflow-federated==0.39"
   ]
  },
  {
   "cell_type": "code",
   "execution_count": 2,
   "id": "5c32bda9-994b-4a5b-8a66-6b57e16f280d",
   "metadata": {
    "execution": {
     "iopub.execute_input": "2023-03-16T08:38:51.792675Z",
     "iopub.status.busy": "2023-03-16T08:38:51.792429Z",
     "iopub.status.idle": "2023-03-16T08:38:56.460498Z",
     "shell.execute_reply": "2023-03-16T08:38:56.459460Z",
     "shell.execute_reply.started": "2023-03-16T08:38:51.792650Z"
    }
   },
   "outputs": [
    {
     "name": "stderr",
     "output_type": "stream",
     "text": [
      "2023-03-16 08:38:51.928085: I tensorflow/core/platform/cpu_feature_guard.cc:193] This TensorFlow binary is optimized with oneAPI Deep Neural Network Library (oneDNN) to use the following CPU instructions in performance-critical operations:  AVX2 FMA\n",
      "To enable them in other operations, rebuild TensorFlow with the appropriate compiler flags.\n",
      "2023-03-16 08:38:52.110332: E tensorflow/stream_executor/cuda/cuda_blas.cc:2981] Unable to register cuBLAS factory: Attempting to register factory for plugin cuBLAS when one has already been registered\n",
      "2023-03-16 08:38:52.730712: W tensorflow/stream_executor/platform/default/dso_loader.cc:64] Could not load dynamic library 'libnvinfer.so.7'; dlerror: libnvinfer.so.7: cannot open shared object file: No such file or directory; LD_LIBRARY_PATH: /usr/local/cuda-11.6/lib64\n",
      "2023-03-16 08:38:52.730838: W tensorflow/stream_executor/platform/default/dso_loader.cc:64] Could not load dynamic library 'libnvinfer_plugin.so.7'; dlerror: libnvinfer_plugin.so.7: cannot open shared object file: No such file or directory; LD_LIBRARY_PATH: /usr/local/cuda-11.6/lib64\n",
      "2023-03-16 08:38:52.730849: W tensorflow/compiler/tf2tensorrt/utils/py_utils.cc:38] TF-TRT Warning: Cannot dlopen some TensorRT libraries. If you would like to use Nvidia GPU with TensorRT, please make sure the missing libraries mentioned above are installed properly.\n"
     ]
    }
   ],
   "source": [
    "import collections\n",
    "import numpy as np\n",
    "import tensorflow as tf\n",
    "import tensorflow_federated as tff\n",
    "import keras\n",
    "import pandas as pd\n",
    "import matplotlib.pyplot as plt\n",
    "import os\n",
    "from tensorflow.keras.callbacks import TensorBoard\n",
    "\n",
    "%load_ext tensorboard\n",
    "\n",
    "np.random.seed(0)"
   ]
  },
  {
   "cell_type": "code",
   "execution_count": 18,
   "id": "32217643-0bbe-4bba-a613-f22984cc2c37",
   "metadata": {
    "collapsed": true,
    "execution": {
     "iopub.execute_input": "2023-02-10T09:29:59.633481Z",
     "iopub.status.busy": "2023-02-10T09:29:59.632428Z",
     "iopub.status.idle": "2023-02-10T09:30:03.784699Z",
     "shell.execute_reply": "2023-02-10T09:30:03.783685Z",
     "shell.execute_reply.started": "2023-02-10T09:29:59.633452Z"
    },
    "jupyter": {
     "outputs_hidden": true
    }
   },
   "outputs": [
    {
     "name": "stdout",
     "output_type": "stream",
     "text": [
      "\u001b[33mWARNING: Running pip as the 'root' user can result in broken permissions and conflicting behaviour with the system package manager. It is recommended to use a virtual environment instead: https://pip.pypa.io/warnings/venv\u001b[0m\u001b[33m\n",
      "\u001b[0m"
     ]
    }
   ],
   "source": [
    "! pip install kaggle -q"
   ]
  },
  {
   "cell_type": "code",
   "execution_count": 19,
   "id": "a1782ca4-399e-4883-beba-510541b68521",
   "metadata": {
    "collapsed": true,
    "execution": {
     "iopub.execute_input": "2023-02-10T09:30:03.787231Z",
     "iopub.status.busy": "2023-02-10T09:30:03.786639Z",
     "iopub.status.idle": "2023-02-10T09:30:34.371194Z",
     "shell.execute_reply": "2023-02-10T09:30:34.370137Z",
     "shell.execute_reply.started": "2023-02-10T09:30:03.787201Z"
    },
    "jupyter": {
     "outputs_hidden": true
    }
   },
   "outputs": [
    {
     "name": "stdout",
     "output_type": "stream",
     "text": [
      "sidd-segmented-intrusion-detection-dataset.zip: Skipping, found more recently modified local copy (use --force to force download)\n",
      "replace SIDD/n005/local.npy? [y]es, [n]o, [A]ll, [N]one, [r]ename: ^C\n"
     ]
    }
   ],
   "source": [
    "#Download and unzip Kaggle dataset\n",
    "\n",
    "! mkdir ~/.kaggle\n",
    "! cp kaggle.json ~/.kaggle/\n",
    "! chmod 600 ~/.kaggle/kaggle.json\n",
    "\n",
    "!kaggle datasets download yuweisunut/sidd-segmented-intrusion-detection-dataset\n",
    "!unzip -q sidd-segmented-intrusion-detection-dataset"
   ]
  },
  {
   "cell_type": "code",
   "execution_count": 3,
   "id": "806a0f65-d655-4176-a5a4-2bdbcea47b2e",
   "metadata": {
    "execution": {
     "iopub.execute_input": "2023-03-16T08:38:56.462614Z",
     "iopub.status.busy": "2023-03-16T08:38:56.461843Z",
     "iopub.status.idle": "2023-03-16T08:38:56.466522Z",
     "shell.execute_reply": "2023-03-16T08:38:56.465825Z",
     "shell.execute_reply.started": "2023-03-16T08:38:56.462588Z"
    }
   },
   "outputs": [],
   "source": [
    "NUM_CLIENTS = 15\n",
    "NUM_EPOCHS = 1\n",
    "BATCH_SIZE = 32\n",
    "SHUFFLE_BUFFER = 100\n",
    "PREFETCH_BUFFER = tf.data.AUTOTUNE"
   ]
  },
  {
   "cell_type": "code",
   "execution_count": 4,
   "id": "a349716a-5d1c-4455-ab7b-b827c437239c",
   "metadata": {
    "execution": {
     "iopub.execute_input": "2023-03-16T08:38:56.468363Z",
     "iopub.status.busy": "2023-03-16T08:38:56.468170Z",
     "iopub.status.idle": "2023-03-16T08:39:06.078377Z",
     "shell.execute_reply": "2023-03-16T08:39:06.077394Z",
     "shell.execute_reply.started": "2023-03-16T08:38:56.468343Z"
    }
   },
   "outputs": [],
   "source": [
    "directory = 'SIDD'\n",
    "client_id = 0\n",
    "uid = 0\n",
    "imgs = {}\n",
    "\n",
    "for client in os.listdir(directory):\n",
    "  curr_path = f'{directory}/{client}/pcap'\n",
    "\n",
    "  for subdir in os.listdir(curr_path):\n",
    "    curr_path = f'{directory}/{client}/pcap/{subdir}/dataset'\n",
    "    curr_type = subdir[-1:]\n",
    "    if curr_type == str(1):\n",
    "   \n",
    "        for dayscen in os.listdir(curr_path):\n",
    "          curr_path = f'{directory}/{client}/pcap/{subdir}/dataset/{dayscen}'\n",
    "\n",
    "          for img in os.listdir(curr_path):\n",
    "            if dayscen == 'benign':\n",
    "                imgs[uid] = {'id': uid, 'client_id': client_id, 'label': str(0), 'fn': img, 'path': curr_path + '/' + img}\n",
    "            elif dayscen == 'malicious':\n",
    "                imgs[uid] = {'id': uid, 'client_id': client_id, 'label': str(curr_type), 'fn': img, 'path': curr_path + '/' + img}\n",
    "            uid +=1\n",
    "  client_id += 1"
   ]
  },
  {
   "cell_type": "code",
   "execution_count": 5,
   "id": "664b8cbd-42f2-46d8-b1d0-658392cb05fd",
   "metadata": {
    "execution": {
     "iopub.execute_input": "2023-03-16T08:39:06.079596Z",
     "iopub.status.busy": "2023-03-16T08:39:06.079311Z",
     "iopub.status.idle": "2023-03-16T08:39:07.287287Z",
     "shell.execute_reply": "2023-03-16T08:39:07.285066Z",
     "shell.execute_reply.started": "2023-03-16T08:39:06.079568Z"
    }
   },
   "outputs": [],
   "source": [
    "img_df = pd.DataFrame.from_dict(imgs,orient='index')\n",
    "img_df['label'] = img_df['label'].astype(int)\n",
    "#img_df.loc[img_df.index[(img_df['label']==3)],'label'] = 2"
   ]
  },
  {
   "cell_type": "code",
   "execution_count": 6,
   "id": "84e714da-e5e7-4877-a685-fc7efd3ecf6b",
   "metadata": {
    "execution": {
     "iopub.execute_input": "2023-03-16T08:39:07.291499Z",
     "iopub.status.busy": "2023-03-16T08:39:07.290887Z",
     "iopub.status.idle": "2023-03-16T08:39:07.300771Z",
     "shell.execute_reply": "2023-03-16T08:39:07.299912Z",
     "shell.execute_reply.started": "2023-03-16T08:39:07.291474Z"
    }
   },
   "outputs": [],
   "source": [
    "def _parse_function(filename, y):\n",
    "    image_string = tf.io.read_file(filename)\n",
    "    image_decoded = tf.image.decode_jpeg(image_string, channels=3)\n",
    "    X = tf.cast(image_decoded, tf.float32)\n",
    "    return X, y"
   ]
  },
  {
   "cell_type": "code",
   "execution_count": 7,
   "id": "9ec4ac06-6063-4ee1-85e1-05b925c388d9",
   "metadata": {
    "execution": {
     "iopub.execute_input": "2023-03-16T08:39:07.302453Z",
     "iopub.status.busy": "2023-03-16T08:39:07.302088Z",
     "iopub.status.idle": "2023-03-16T08:39:08.354187Z",
     "shell.execute_reply": "2023-03-16T08:39:08.351925Z",
     "shell.execute_reply.started": "2023-03-16T08:39:07.302434Z"
    }
   },
   "outputs": [
    {
     "name": "stderr",
     "output_type": "stream",
     "text": [
      "2023-03-16 08:39:07.340693: I tensorflow/stream_executor/cuda/cuda_gpu_executor.cc:980] successful NUMA node read from SysFS had negative value (-1), but there must be at least one NUMA node, so returning NUMA node zero\n",
      "2023-03-16 08:39:07.471563: I tensorflow/stream_executor/cuda/cuda_gpu_executor.cc:980] successful NUMA node read from SysFS had negative value (-1), but there must be at least one NUMA node, so returning NUMA node zero\n",
      "2023-03-16 08:39:07.471830: I tensorflow/stream_executor/cuda/cuda_gpu_executor.cc:980] successful NUMA node read from SysFS had negative value (-1), but there must be at least one NUMA node, so returning NUMA node zero\n",
      "2023-03-16 08:39:07.473399: I tensorflow/core/platform/cpu_feature_guard.cc:193] This TensorFlow binary is optimized with oneAPI Deep Neural Network Library (oneDNN) to use the following CPU instructions in performance-critical operations:  AVX2 FMA\n",
      "To enable them in other operations, rebuild TensorFlow with the appropriate compiler flags.\n",
      "2023-03-16 08:39:07.473921: I tensorflow/stream_executor/cuda/cuda_gpu_executor.cc:980] successful NUMA node read from SysFS had negative value (-1), but there must be at least one NUMA node, so returning NUMA node zero\n",
      "2023-03-16 08:39:07.474121: I tensorflow/stream_executor/cuda/cuda_gpu_executor.cc:980] successful NUMA node read from SysFS had negative value (-1), but there must be at least one NUMA node, so returning NUMA node zero\n",
      "2023-03-16 08:39:07.474275: I tensorflow/stream_executor/cuda/cuda_gpu_executor.cc:980] successful NUMA node read from SysFS had negative value (-1), but there must be at least one NUMA node, so returning NUMA node zero\n",
      "2023-03-16 08:39:08.007903: I tensorflow/stream_executor/cuda/cuda_gpu_executor.cc:980] successful NUMA node read from SysFS had negative value (-1), but there must be at least one NUMA node, so returning NUMA node zero\n",
      "2023-03-16 08:39:08.008143: I tensorflow/stream_executor/cuda/cuda_gpu_executor.cc:980] successful NUMA node read from SysFS had negative value (-1), but there must be at least one NUMA node, so returning NUMA node zero\n",
      "2023-03-16 08:39:08.008321: I tensorflow/stream_executor/cuda/cuda_gpu_executor.cc:980] successful NUMA node read from SysFS had negative value (-1), but there must be at least one NUMA node, so returning NUMA node zero\n",
      "2023-03-16 08:39:08.008468: I tensorflow/core/common_runtime/gpu/gpu_device.cc:1616] Created device /job:localhost/replica:0/task:0/device:GPU:0 with 14243 MB memory:  -> device: 0, name: NVIDIA RTX A4000, pci bus id: 0000:00:05.0, compute capability: 8.6\n"
     ]
    }
   ],
   "source": [
    "file_paths = img_df.path\n",
    "file_labels = img_df[\"label\"]\n",
    "client_ids = img_df[\"client_id\"]  \n",
    "    \n",
    "X = file_paths\n",
    "y = file_labels\n",
    "client_ds = tf.data.Dataset.from_tensor_slices((X, y, client_ids))\n",
    "test_size = 0.2\n",
    "train_size = 1 - test_size\n",
    "ds_length = tf.data.experimental.cardinality(client_ds).numpy()\n",
    "num_test_samples = int(test_size * ds_length)\n",
    "\n",
    "train_ds = client_ds.take(train_size * ds_length)\n",
    "test_ds = client_ds.skip(train_size * ds_length)"
   ]
  },
  {
   "cell_type": "code",
   "execution_count": 8,
   "id": "622e34ea-a75c-4c1d-99cb-ee5d71458902",
   "metadata": {
    "execution": {
     "iopub.execute_input": "2023-03-16T08:39:08.355491Z",
     "iopub.status.busy": "2023-03-16T08:39:08.355269Z",
     "iopub.status.idle": "2023-03-16T08:39:08.359991Z",
     "shell.execute_reply": "2023-03-16T08:39:08.359070Z",
     "shell.execute_reply.started": "2023-03-16T08:39:08.355470Z"
    }
   },
   "outputs": [],
   "source": [
    "def preprocess(dataset):\n",
    "\n",
    "  return dataset.repeat(NUM_EPOCHS).shuffle(SHUFFLE_BUFFER, seed=1).batch(\n",
    "      BATCH_SIZE).prefetch(PREFETCH_BUFFER)\n",
    "\n",
    "def make_federated_data(client_data, client_ids):\n",
    "    return [\n",
    "      preprocess(create_tf_dataset_for_client(client_data, x))\n",
    "      for x in client_ids\n",
    "    ]"
   ]
  },
  {
   "cell_type": "code",
   "execution_count": 9,
   "id": "b0445bed-1b51-40cd-aed6-f3030151869a",
   "metadata": {
    "execution": {
     "iopub.execute_input": "2023-03-16T08:39:08.361882Z",
     "iopub.status.busy": "2023-03-16T08:39:08.361555Z",
     "iopub.status.idle": "2023-03-16T08:39:08.368567Z",
     "shell.execute_reply": "2023-03-16T08:39:08.367199Z",
     "shell.execute_reply.started": "2023-03-16T08:39:08.361848Z"
    }
   },
   "outputs": [],
   "source": [
    "def create_tf_dataset_for_client(dataset, id_value):\n",
    "    # Filter elements with the specified id_value\n",
    "    \n",
    "    filtered_dataset = dataset.filter(lambda x, y, client_id: tf.equal(client_id, id_value))\n",
    "\n",
    "    # Remove the id from the filtered dataset\n",
    "    filtered_dataset = filtered_dataset.map(lambda x, y, client_id: (x, y))\n",
    "    \n",
    "    #Load image from path and convert to float32\n",
    "    def load_image(filename, y):\n",
    "        image_string = tf.io.read_file(filename)\n",
    "        image_decoded = tf.image.decode_jpeg(image_string, channels=3)\n",
    "        X = tf.cast(image_decoded, tf.float32)\n",
    "        return X, y\n",
    "\n",
    "    filtered_dataset = filtered_dataset.map(load_image)\n",
    "    \n",
    "    print(type(filtered_dataset))\n",
    "\n",
    "\n",
    "    return filtered_dataset\n"
   ]
  },
  {
   "cell_type": "code",
   "execution_count": 10,
   "id": "0b9c1fda-bb63-432f-b085-4a76dc317cf8",
   "metadata": {
    "execution": {
     "iopub.execute_input": "2023-03-16T08:39:08.371634Z",
     "iopub.status.busy": "2023-03-16T08:39:08.371356Z",
     "iopub.status.idle": "2023-03-16T08:39:09.104010Z",
     "shell.execute_reply": "2023-03-16T08:39:09.103361Z",
     "shell.execute_reply.started": "2023-03-16T08:39:08.371611Z"
    }
   },
   "outputs": [
    {
     "name": "stdout",
     "output_type": "stream",
     "text": [
      "<class 'tensorflow.python.data.ops.dataset_ops.MapDataset'>\n",
      "<class 'tensorflow.python.data.ops.dataset_ops.MapDataset'>\n",
      "<class 'tensorflow.python.data.ops.dataset_ops.MapDataset'>\n",
      "<class 'tensorflow.python.data.ops.dataset_ops.MapDataset'>\n",
      "<class 'tensorflow.python.data.ops.dataset_ops.MapDataset'>\n",
      "<class 'tensorflow.python.data.ops.dataset_ops.MapDataset'>\n",
      "<class 'tensorflow.python.data.ops.dataset_ops.MapDataset'>\n",
      "<class 'tensorflow.python.data.ops.dataset_ops.MapDataset'>\n",
      "<class 'tensorflow.python.data.ops.dataset_ops.MapDataset'>\n",
      "<class 'tensorflow.python.data.ops.dataset_ops.MapDataset'>\n",
      "<class 'tensorflow.python.data.ops.dataset_ops.MapDataset'>\n",
      "<class 'tensorflow.python.data.ops.dataset_ops.MapDataset'>\n",
      "<class 'tensorflow.python.data.ops.dataset_ops.MapDataset'>\n",
      "<class 'tensorflow.python.data.ops.dataset_ops.MapDataset'>\n",
      "<class 'tensorflow.python.data.ops.dataset_ops.MapDataset'>\n",
      "<class 'tensorflow.python.data.ops.dataset_ops.MapDataset'>\n",
      "<class 'tensorflow.python.data.ops.dataset_ops.MapDataset'>\n",
      "<class 'tensorflow.python.data.ops.dataset_ops.MapDataset'>\n",
      "<class 'tensorflow.python.data.ops.dataset_ops.MapDataset'>\n",
      "<class 'tensorflow.python.data.ops.dataset_ops.MapDataset'>\n",
      "<class 'tensorflow.python.data.ops.dataset_ops.MapDataset'>\n",
      "<class 'tensorflow.python.data.ops.dataset_ops.MapDataset'>\n",
      "<class 'tensorflow.python.data.ops.dataset_ops.MapDataset'>\n",
      "<class 'tensorflow.python.data.ops.dataset_ops.MapDataset'>\n",
      "<class 'tensorflow.python.data.ops.dataset_ops.MapDataset'>\n",
      "<class 'tensorflow.python.data.ops.dataset_ops.MapDataset'>\n",
      "<class 'tensorflow.python.data.ops.dataset_ops.MapDataset'>\n",
      "<class 'tensorflow.python.data.ops.dataset_ops.MapDataset'>\n",
      "<class 'tensorflow.python.data.ops.dataset_ops.MapDataset'>\n",
      "<class 'tensorflow.python.data.ops.dataset_ops.MapDataset'>\n",
      "Number of client datasets: 15\n",
      "First dataset: <PrefetchDataset element_spec=(TensorSpec(shape=(None, None, None, 3), dtype=tf.float32, name=None), TensorSpec(shape=(None,), dtype=tf.int64, name=None))>\n"
     ]
    }
   ],
   "source": [
    "clients = img_df[\"client_id\"].unique()\n",
    "#print(type(client_ds))\n",
    "federated_train_data = make_federated_data(train_ds, clients)\n",
    "federated_test_data = make_federated_data(test_ds, clients)\n",
    "\n",
    "print(f'Number of client datasets: {len(federated_train_data)}')\n",
    "print(f'First dataset: {federated_train_data[0]}')"
   ]
  },
  {
   "cell_type": "code",
   "execution_count": 11,
   "id": "bb8dbe5c-6b57-42b2-add1-b826b24e3177",
   "metadata": {
    "execution": {
     "iopub.execute_input": "2023-03-16T08:39:09.105229Z",
     "iopub.status.busy": "2023-03-16T08:39:09.105030Z",
     "iopub.status.idle": "2023-03-16T08:39:09.109402Z",
     "shell.execute_reply": "2023-03-16T08:39:09.108820Z",
     "shell.execute_reply.started": "2023-03-16T08:39:09.105209Z"
    }
   },
   "outputs": [],
   "source": [
    "def model_fn():\n",
    "  # We _must_ create a new model here, and _not_ capture it from an external\n",
    "  # scope. TFF will call this within different graph contexts.\n",
    "  keras_model = tf.keras.applications.EfficientNetB3(\n",
    "    include_top=True,\n",
    "    weights=None,\n",
    "    input_tensor=None,\n",
    "    input_shape=None,\n",
    "    pooling=None,\n",
    "    classes=2,\n",
    "    classifier_activation=\"sigmoid\"\n",
    "    )\n",
    "\n",
    "  return tff.learning.from_keras_model(\n",
    "      keras_model,\n",
    "      input_spec=federated_train_data[0].element_spec,\n",
    "      loss=tf.keras.losses.SparseCategoricalCrossentropy(),\n",
    "      metrics=[tf.keras.metrics.SparseCategoricalAccuracy()])"
   ]
  },
  {
   "cell_type": "code",
   "execution_count": 12,
   "id": "f0e2fee6-b120-4b75-aa0f-5fb8e454ddd3",
   "metadata": {
    "execution": {
     "iopub.execute_input": "2023-03-16T08:39:09.111447Z",
     "iopub.status.busy": "2023-03-16T08:39:09.111000Z",
     "iopub.status.idle": "2023-03-16T08:40:01.594824Z",
     "shell.execute_reply": "2023-03-16T08:40:01.594070Z",
     "shell.execute_reply.started": "2023-03-16T08:39:09.111421Z"
    }
   },
   "outputs": [
    {
     "name": "stdout",
     "output_type": "stream",
     "text": [
      "WARNING:tensorflow:From /usr/local/lib/python3.9/dist-packages/keras/layers/normalization/batch_normalization.py:562: _colocate_with (from tensorflow.python.framework.ops) is deprecated and will be removed in a future version.\n",
      "Instructions for updating:\n",
      "Colocations handled automatically by placer.\n"
     ]
    },
    {
     "name": "stderr",
     "output_type": "stream",
     "text": [
      "/usr/local/lib/python3.9/dist-packages/tensorflow_federated/python/learning/keras_utils.py:193: UserWarning: Batch Normalization contains non-trainable variables that won't be updated during the training. Consider using Group Normalization instead.\n",
      "  warnings.warn(\n",
      "/usr/local/lib/python3.9/dist-packages/tensorflow/python/autograph/impl/api.py:371: UserWarning: Batch Normalization contains non-trainable variables that won't be updated during the training. Consider using Group Normalization instead.\n",
      "  return py_builtins.overload_of(f)(*args)\n"
     ]
    }
   ],
   "source": [
    "training_process = tff.learning.algorithms.build_unweighted_fed_avg(\n",
    "    model_fn,\n",
    "    client_optimizer_fn=lambda: tf.keras.optimizers.SGD(learning_rate=0.02),\n",
    "    server_optimizer_fn=lambda: tf.keras.optimizers.SGD(learning_rate=1.0))\n",
    "\n",
    "eval_process = tff.learning.build_federated_evaluation(model_fn)"
   ]
  },
  {
   "cell_type": "code",
   "execution_count": 13,
   "id": "deb6d9f1-da66-4bee-bcf1-538ff7d1e4d1",
   "metadata": {
    "execution": {
     "iopub.execute_input": "2023-03-16T08:40:01.596062Z",
     "iopub.status.busy": "2023-03-16T08:40:01.595790Z",
     "iopub.status.idle": "2023-03-16T08:40:07.957348Z",
     "shell.execute_reply": "2023-03-16T08:40:07.956773Z",
     "shell.execute_reply.started": "2023-03-16T08:40:01.596034Z"
    }
   },
   "outputs": [],
   "source": [
    "train_state = training_process.initialize()\n",
    "eval_results_df = pd.DataFrame()\n",
    "train_results_df = pd.DataFrame()"
   ]
  },
  {
   "cell_type": "code",
   "execution_count": 14,
   "id": "d4e2e01d-b174-4f92-a2ae-3322e2b69e33",
   "metadata": {
    "execution": {
     "iopub.execute_input": "2023-03-16T08:40:07.958807Z",
     "iopub.status.busy": "2023-03-16T08:40:07.958116Z",
     "iopub.status.idle": "2023-03-16T09:34:23.591709Z",
     "shell.execute_reply": "2023-03-16T09:34:23.589108Z",
     "shell.execute_reply.started": "2023-03-16T08:40:07.958772Z"
    }
   },
   "outputs": [
    {
     "name": "stderr",
     "output_type": "stream",
     "text": [
      "2023-03-16 08:42:51.287298: I tensorflow/core/kernels/data/shuffle_dataset_op.cc:390] Filling up shuffle buffer (this may take a while): 1 of 100\n",
      "2023-03-16 08:42:51.435622: I tensorflow/core/kernels/data/shuffle_dataset_op.cc:415] Shuffle buffer filled.\n",
      "2023-03-16 08:42:59.841268: I tensorflow/stream_executor/cuda/cuda_dnn.cc:384] Loaded cuDNN version 8401\n",
      "2023-03-16 08:43:11.343363: I tensorflow/stream_executor/cuda/cuda_blas.cc:1614] TensorFloat-32 will be used for the matrix multiplication. This will only be logged once.\n",
      "2023-03-16 08:43:17.496908: I tensorflow/core/kernels/data/shuffle_dataset_op.cc:390] Filling up shuffle buffer (this may take a while): 1 of 100\n",
      "2023-03-16 08:43:17.557900: I tensorflow/core/kernels/data/shuffle_dataset_op.cc:415] Shuffle buffer filled.\n",
      "2023-03-16 08:43:32.687688: I tensorflow/core/kernels/data/shuffle_dataset_op.cc:390] Filling up shuffle buffer (this may take a while): 1 of 100\n",
      "2023-03-16 08:43:32.695462: I tensorflow/core/kernels/data/shuffle_dataset_op.cc:390] Filling up shuffle buffer (this may take a while): 2 of 100\n",
      "2023-03-16 08:43:32.695559: I tensorflow/core/kernels/data/shuffle_dataset_op.cc:390] Filling up shuffle buffer (this may take a while): 3 of 100\n",
      "2023-03-16 08:43:32.995295: I tensorflow/core/kernels/data/shuffle_dataset_op.cc:415] Shuffle buffer filled.\n",
      "2023-03-16 08:43:35.756201: I tensorflow/core/kernels/data/shuffle_dataset_op.cc:390] Filling up shuffle buffer (this may take a while): 1 of 100\n",
      "2023-03-16 08:43:35.756290: I tensorflow/core/kernels/data/shuffle_dataset_op.cc:390] Filling up shuffle buffer (this may take a while): 2 of 100\n",
      "2023-03-16 08:43:35.768900: I tensorflow/core/kernels/data/shuffle_dataset_op.cc:390] Filling up shuffle buffer (this may take a while): 3 of 100\n",
      "2023-03-16 08:43:35.843492: I tensorflow/core/kernels/data/shuffle_dataset_op.cc:415] Shuffle buffer filled.\n",
      "2023-03-16 08:44:05.191971: I tensorflow/core/kernels/data/shuffle_dataset_op.cc:390] Filling up shuffle buffer (this may take a while): 1 of 100\n",
      "2023-03-16 08:44:05.192027: I tensorflow/core/kernels/data/shuffle_dataset_op.cc:390] Filling up shuffle buffer (this may take a while): 2 of 100\n",
      "2023-03-16 08:44:05.192045: I tensorflow/core/kernels/data/shuffle_dataset_op.cc:390] Filling up shuffle buffer (this may take a while): 3 of 100\n",
      "2023-03-16 08:44:05.226395: I tensorflow/core/kernels/data/shuffle_dataset_op.cc:390] Filling up shuffle buffer (this may take a while): 4 of 100\n",
      "2023-03-16 08:44:05.266222: I tensorflow/core/kernels/data/shuffle_dataset_op.cc:415] Shuffle buffer filled.\n",
      "2023-03-16 08:44:11.378393: I tensorflow/core/kernels/data/shuffle_dataset_op.cc:390] Filling up shuffle buffer (this may take a while): 1 of 100\n",
      "2023-03-16 08:44:11.378453: I tensorflow/core/kernels/data/shuffle_dataset_op.cc:390] Filling up shuffle buffer (this may take a while): 2 of 100\n",
      "2023-03-16 08:44:11.378471: I tensorflow/core/kernels/data/shuffle_dataset_op.cc:390] Filling up shuffle buffer (this may take a while): 3 of 100\n",
      "2023-03-16 08:44:11.379570: I tensorflow/core/kernels/data/shuffle_dataset_op.cc:390] Filling up shuffle buffer (this may take a while): 4 of 100\n",
      "2023-03-16 08:44:11.379615: I tensorflow/core/kernels/data/shuffle_dataset_op.cc:390] Filling up shuffle buffer (this may take a while): 5 of 100\n",
      "2023-03-16 08:44:11.408378: I tensorflow/core/kernels/data/shuffle_dataset_op.cc:415] Shuffle buffer filled.\n",
      "2023-03-16 08:44:16.154121: I tensorflow/core/kernels/data/shuffle_dataset_op.cc:390] Filling up shuffle buffer (this may take a while): 1 of 100\n",
      "2023-03-16 08:44:16.154332: I tensorflow/core/kernels/data/shuffle_dataset_op.cc:390] Filling up shuffle buffer (this may take a while): 2 of 100\n",
      "2023-03-16 08:44:16.154359: I tensorflow/core/kernels/data/shuffle_dataset_op.cc:390] Filling up shuffle buffer (this may take a while): 3 of 100\n",
      "2023-03-16 08:44:16.154379: I tensorflow/core/kernels/data/shuffle_dataset_op.cc:390] Filling up shuffle buffer (this may take a while): 4 of 100\n",
      "2023-03-16 08:44:16.154395: I tensorflow/core/kernels/data/shuffle_dataset_op.cc:390] Filling up shuffle buffer (this may take a while): 5 of 100\n",
      "2023-03-16 08:44:16.180350: I tensorflow/core/kernels/data/shuffle_dataset_op.cc:390] Filling up shuffle buffer (this may take a while): 6 of 100\n",
      "2023-03-16 08:44:16.205348: I tensorflow/core/kernels/data/shuffle_dataset_op.cc:415] Shuffle buffer filled.\n",
      "2023-03-16 08:44:18.499650: I tensorflow/core/kernels/data/shuffle_dataset_op.cc:390] Filling up shuffle buffer (this may take a while): 1 of 100\n",
      "2023-03-16 08:44:18.500090: I tensorflow/core/kernels/data/shuffle_dataset_op.cc:390] Filling up shuffle buffer (this may take a while): 2 of 100\n",
      "2023-03-16 08:44:18.500436: I tensorflow/core/kernels/data/shuffle_dataset_op.cc:390] Filling up shuffle buffer (this may take a while): 3 of 100\n",
      "2023-03-16 08:44:18.500488: I tensorflow/core/kernels/data/shuffle_dataset_op.cc:390] Filling up shuffle buffer (this may take a while): 4 of 100\n",
      "2023-03-16 08:44:18.500513: I tensorflow/core/kernels/data/shuffle_dataset_op.cc:390] Filling up shuffle buffer (this may take a while): 5 of 100\n",
      "2023-03-16 08:44:18.500532: I tensorflow/core/kernels/data/shuffle_dataset_op.cc:390] Filling up shuffle buffer (this may take a while): 6 of 100\n",
      "2023-03-16 08:44:18.500556: I tensorflow/core/kernels/data/shuffle_dataset_op.cc:390] Filling up shuffle buffer (this may take a while): 7 of 100\n",
      "2023-03-16 08:44:18.500824: I tensorflow/core/kernels/data/shuffle_dataset_op.cc:390] Filling up shuffle buffer (this may take a while): 8 of 100\n",
      "2023-03-16 08:44:18.535173: I tensorflow/core/kernels/data/shuffle_dataset_op.cc:415] Shuffle buffer filled.\n",
      "2023-03-16 08:44:19.748935: I tensorflow/core/kernels/data/shuffle_dataset_op.cc:390] Filling up shuffle buffer (this may take a while): 1 of 100\n",
      "2023-03-16 08:44:19.753742: I tensorflow/core/kernels/data/shuffle_dataset_op.cc:390] Filling up shuffle buffer (this may take a while): 2 of 100\n",
      "2023-03-16 08:44:19.753802: I tensorflow/core/kernels/data/shuffle_dataset_op.cc:390] Filling up shuffle buffer (this may take a while): 3 of 100\n",
      "2023-03-16 08:44:19.758358: I tensorflow/core/kernels/data/shuffle_dataset_op.cc:390] Filling up shuffle buffer (this may take a while): 4 of 100\n",
      "2023-03-16 08:44:19.758426: I tensorflow/core/kernels/data/shuffle_dataset_op.cc:390] Filling up shuffle buffer (this may take a while): 5 of 100\n",
      "2023-03-16 08:44:19.758450: I tensorflow/core/kernels/data/shuffle_dataset_op.cc:390] Filling up shuffle buffer (this may take a while): 6 of 100\n",
      "2023-03-16 08:44:19.758467: I tensorflow/core/kernels/data/shuffle_dataset_op.cc:390] Filling up shuffle buffer (this may take a while): 7 of 100\n",
      "2023-03-16 08:44:19.764031: I tensorflow/core/kernels/data/shuffle_dataset_op.cc:390] Filling up shuffle buffer (this may take a while): 8 of 100\n",
      "2023-03-16 08:44:19.786077: I tensorflow/core/kernels/data/shuffle_dataset_op.cc:415] Shuffle buffer filled.\n",
      "2023-03-16 08:44:20.140142: I tensorflow/core/kernels/data/shuffle_dataset_op.cc:390] Filling up shuffle buffer (this may take a while): 1 of 100\n",
      "2023-03-16 08:44:20.140611: I tensorflow/core/kernels/data/shuffle_dataset_op.cc:390] Filling up shuffle buffer (this may take a while): 2 of 100\n",
      "2023-03-16 08:44:20.140636: I tensorflow/core/kernels/data/shuffle_dataset_op.cc:390] Filling up shuffle buffer (this may take a while): 3 of 100\n",
      "2023-03-16 08:44:20.140672: I tensorflow/core/kernels/data/shuffle_dataset_op.cc:390] Filling up shuffle buffer (this may take a while): 4 of 100\n",
      "2023-03-16 08:44:20.140754: I tensorflow/core/kernels/data/shuffle_dataset_op.cc:390] Filling up shuffle buffer (this may take a while): 5 of 100\n",
      "2023-03-16 08:44:20.140776: I tensorflow/core/kernels/data/shuffle_dataset_op.cc:390] Filling up shuffle buffer (this may take a while): 6 of 100\n",
      "2023-03-16 08:44:20.140791: I tensorflow/core/kernels/data/shuffle_dataset_op.cc:390] Filling up shuffle buffer (this may take a while): 7 of 100\n",
      "2023-03-16 08:44:20.160944: I tensorflow/core/kernels/data/shuffle_dataset_op.cc:415] Shuffle buffer filled.\n",
      "2023-03-16 08:44:41.019071: I tensorflow/core/kernels/data/shuffle_dataset_op.cc:390] Filling up shuffle buffer (this may take a while): 1 of 100\n",
      "2023-03-16 08:44:41.019139: I tensorflow/core/kernels/data/shuffle_dataset_op.cc:390] Filling up shuffle buffer (this may take a while): 2 of 100\n",
      "2023-03-16 08:44:41.019157: I tensorflow/core/kernels/data/shuffle_dataset_op.cc:390] Filling up shuffle buffer (this may take a while): 3 of 100\n",
      "2023-03-16 08:44:41.019171: I tensorflow/core/kernels/data/shuffle_dataset_op.cc:390] Filling up shuffle buffer (this may take a while): 4 of 100\n",
      "2023-03-16 08:44:41.019186: I tensorflow/core/kernels/data/shuffle_dataset_op.cc:390] Filling up shuffle buffer (this may take a while): 5 of 100\n",
      "2023-03-16 08:44:41.019203: I tensorflow/core/kernels/data/shuffle_dataset_op.cc:390] Filling up shuffle buffer (this may take a while): 6 of 100\n",
      "2023-03-16 08:44:41.019428: I tensorflow/core/kernels/data/shuffle_dataset_op.cc:390] Filling up shuffle buffer (this may take a while): 7 of 100\n",
      "2023-03-16 08:44:41.019550: I tensorflow/core/kernels/data/shuffle_dataset_op.cc:390] Filling up shuffle buffer (this may take a while): 8 of 100\n",
      "2023-03-16 08:44:41.049318: I tensorflow/core/kernels/data/shuffle_dataset_op.cc:415] Shuffle buffer filled.\n",
      "/tmp/ipykernel_32/1569588565.py:18: FutureWarning: The frame.append method is deprecated and will be removed from pandas in a future version. Use pandas.concat instead.\n",
      "  train_results_df = train_results_df.append({'Round': round_num+1, 'Accuracy': accuracy, 'Loss': loss}, ignore_index=True)\n"
     ]
    },
    {
     "name": "stdout",
     "output_type": "stream",
     "text": [
      "round  0, metrics=OrderedDict([('distributor', ()), ('client_work', OrderedDict([('train', OrderedDict([('sparse_categorical_accuracy', 0.94525677), ('loss', 0.11650992), ('num_examples', 1108466), ('num_batches', 34642)]))])), ('aggregator', OrderedDict([('mean_value', ()), ('mean_count', ())])), ('finalizer', ())])\n"
     ]
    },
    {
     "name": "stderr",
     "output_type": "stream",
     "text": [
      "2023-03-16 09:28:22.681243: I tensorflow/core/kernels/data/shuffle_dataset_op.cc:390] Filling up shuffle buffer (this may take a while): 1 of 100\n",
      "2023-03-16 09:28:22.681311: I tensorflow/core/kernels/data/shuffle_dataset_op.cc:390] Filling up shuffle buffer (this may take a while): 2 of 100\n",
      "2023-03-16 09:28:22.764904: I tensorflow/core/kernels/data/shuffle_dataset_op.cc:415] Shuffle buffer filled.\n"
     ]
    },
    {
     "name": "stdout",
     "output_type": "stream",
     "text": [
      "OrderedDict([('sparse_categorical_accuracy', 0.9752957), ('loss', 0.11681803), ('num_examples', 277118), ('num_batches', 8661)])\n"
     ]
    },
    {
     "name": "stderr",
     "output_type": "stream",
     "text": [
      "/tmp/ipykernel_32/1569588565.py:25: FutureWarning: The frame.append method is deprecated and will be removed from pandas in a future version. Use pandas.concat instead.\n",
      "  eval_results_df = eval_results_df.append({'Round': round_num+1,\n",
      "2023-03-16 09:31:11.477877: I tensorflow/core/kernels/data/shuffle_dataset_op.cc:390] Filling up shuffle buffer (this may take a while): 1 of 100\n",
      "2023-03-16 09:31:11.535371: I tensorflow/core/kernels/data/shuffle_dataset_op.cc:415] Shuffle buffer filled.\n",
      "2023-03-16 09:31:17.244312: I tensorflow/core/kernels/data/shuffle_dataset_op.cc:390] Filling up shuffle buffer (this may take a while): 1 of 100\n",
      "2023-03-16 09:31:17.268744: I tensorflow/core/kernels/data/shuffle_dataset_op.cc:390] Filling up shuffle buffer (this may take a while): 2 of 100\n",
      "2023-03-16 09:31:17.305165: I tensorflow/core/kernels/data/shuffle_dataset_op.cc:415] Shuffle buffer filled.\n",
      "2023-03-16 09:31:42.751894: I tensorflow/core/kernels/data/shuffle_dataset_op.cc:390] Filling up shuffle buffer (this may take a while): 1 of 100\n",
      "2023-03-16 09:31:42.751972: I tensorflow/core/kernels/data/shuffle_dataset_op.cc:390] Filling up shuffle buffer (this may take a while): 2 of 100\n",
      "2023-03-16 09:31:42.751991: I tensorflow/core/kernels/data/shuffle_dataset_op.cc:390] Filling up shuffle buffer (this may take a while): 3 of 100\n",
      "2023-03-16 09:31:42.753339: I tensorflow/core/kernels/data/shuffle_dataset_op.cc:390] Filling up shuffle buffer (this may take a while): 4 of 100\n",
      "2023-03-16 09:31:42.794055: I tensorflow/core/kernels/data/shuffle_dataset_op.cc:415] Shuffle buffer filled.\n",
      "2023-03-16 09:31:44.943307: I tensorflow/core/kernels/data/shuffle_dataset_op.cc:390] Filling up shuffle buffer (this may take a while): 1 of 100\n",
      "2023-03-16 09:31:44.943382: I tensorflow/core/kernels/data/shuffle_dataset_op.cc:390] Filling up shuffle buffer (this may take a while): 2 of 100\n",
      "2023-03-16 09:31:44.974570: I tensorflow/core/kernels/data/shuffle_dataset_op.cc:390] Filling up shuffle buffer (this may take a while): 3 of 100\n",
      "2023-03-16 09:31:44.974652: I tensorflow/core/kernels/data/shuffle_dataset_op.cc:390] Filling up shuffle buffer (this may take a while): 4 of 100\n",
      "2023-03-16 09:31:45.000317: I tensorflow/core/kernels/data/shuffle_dataset_op.cc:415] Shuffle buffer filled.\n",
      "2023-03-16 09:31:55.087693: I tensorflow/core/kernels/data/shuffle_dataset_op.cc:390] Filling up shuffle buffer (this may take a while): 1 of 100\n",
      "2023-03-16 09:31:55.088626: I tensorflow/core/kernels/data/shuffle_dataset_op.cc:390] Filling up shuffle buffer (this may take a while): 2 of 100\n",
      "2023-03-16 09:31:55.091040: I tensorflow/core/kernels/data/shuffle_dataset_op.cc:390] Filling up shuffle buffer (this may take a while): 3 of 100\n",
      "2023-03-16 09:31:55.091133: I tensorflow/core/kernels/data/shuffle_dataset_op.cc:390] Filling up shuffle buffer (this may take a while): 4 of 100\n",
      "2023-03-16 09:31:55.091149: I tensorflow/core/kernels/data/shuffle_dataset_op.cc:390] Filling up shuffle buffer (this may take a while): 5 of 100\n",
      "2023-03-16 09:31:55.127451: I tensorflow/core/kernels/data/shuffle_dataset_op.cc:415] Shuffle buffer filled.\n",
      "2023-03-16 09:32:02.063888: I tensorflow/core/kernels/data/shuffle_dataset_op.cc:390] Filling up shuffle buffer (this may take a while): 1 of 100\n",
      "2023-03-16 09:32:02.063954: I tensorflow/core/kernels/data/shuffle_dataset_op.cc:390] Filling up shuffle buffer (this may take a while): 2 of 100\n",
      "2023-03-16 09:32:02.064028: I tensorflow/core/kernels/data/shuffle_dataset_op.cc:390] Filling up shuffle buffer (this may take a while): 3 of 100\n",
      "2023-03-16 09:32:02.064070: I tensorflow/core/kernels/data/shuffle_dataset_op.cc:390] Filling up shuffle buffer (this may take a while): 4 of 100\n",
      "2023-03-16 09:32:02.064094: I tensorflow/core/kernels/data/shuffle_dataset_op.cc:390] Filling up shuffle buffer (this may take a while): 5 of 100\n",
      "2023-03-16 09:32:02.064111: I tensorflow/core/kernels/data/shuffle_dataset_op.cc:390] Filling up shuffle buffer (this may take a while): 6 of 100\n",
      "2023-03-16 09:32:02.088853: I tensorflow/core/kernels/data/shuffle_dataset_op.cc:415] Shuffle buffer filled.\n",
      "2023-03-16 09:32:08.116381: I tensorflow/core/kernels/data/shuffle_dataset_op.cc:390] Filling up shuffle buffer (this may take a while): 1 of 100\n",
      "2023-03-16 09:32:08.116735: I tensorflow/core/kernels/data/shuffle_dataset_op.cc:390] Filling up shuffle buffer (this may take a while): 2 of 100\n",
      "2023-03-16 09:32:08.117537: I tensorflow/core/kernels/data/shuffle_dataset_op.cc:390] Filling up shuffle buffer (this may take a while): 3 of 100\n",
      "2023-03-16 09:32:08.127746: I tensorflow/core/kernels/data/shuffle_dataset_op.cc:390] Filling up shuffle buffer (this may take a while): 4 of 100\n",
      "2023-03-16 09:32:08.127827: I tensorflow/core/kernels/data/shuffle_dataset_op.cc:390] Filling up shuffle buffer (this may take a while): 5 of 100\n",
      "2023-03-16 09:32:08.127844: I tensorflow/core/kernels/data/shuffle_dataset_op.cc:390] Filling up shuffle buffer (this may take a while): 6 of 100\n",
      "2023-03-16 09:32:08.698269: I tensorflow/core/kernels/data/shuffle_dataset_op.cc:415] Shuffle buffer filled.\n",
      "2023-03-16 09:32:08.743536: I tensorflow/core/kernels/data/shuffle_dataset_op.cc:390] Filling up shuffle buffer (this may take a while): 1 of 100\n",
      "2023-03-16 09:32:08.744050: I tensorflow/core/kernels/data/shuffle_dataset_op.cc:390] Filling up shuffle buffer (this may take a while): 2 of 100\n",
      "2023-03-16 09:32:08.744088: I tensorflow/core/kernels/data/shuffle_dataset_op.cc:390] Filling up shuffle buffer (this may take a while): 3 of 100\n",
      "2023-03-16 09:32:08.744110: I tensorflow/core/kernels/data/shuffle_dataset_op.cc:390] Filling up shuffle buffer (this may take a while): 4 of 100\n",
      "2023-03-16 09:32:08.758122: I tensorflow/core/kernels/data/shuffle_dataset_op.cc:390] Filling up shuffle buffer (this may take a while): 5 of 100\n",
      "2023-03-16 09:32:08.758189: I tensorflow/core/kernels/data/shuffle_dataset_op.cc:390] Filling up shuffle buffer (this may take a while): 6 of 100\n",
      "2023-03-16 09:32:08.758207: I tensorflow/core/kernels/data/shuffle_dataset_op.cc:390] Filling up shuffle buffer (this may take a while): 7 of 100\n",
      "2023-03-16 09:32:08.818564: I tensorflow/core/kernels/data/shuffle_dataset_op.cc:415] Shuffle buffer filled.\n",
      "2023-03-16 09:32:22.197332: I tensorflow/core/kernels/data/shuffle_dataset_op.cc:390] Filling up shuffle buffer (this may take a while): 1 of 100\n",
      "2023-03-16 09:32:22.197400: I tensorflow/core/kernels/data/shuffle_dataset_op.cc:390] Filling up shuffle buffer (this may take a while): 2 of 100\n",
      "2023-03-16 09:32:22.197421: I tensorflow/core/kernels/data/shuffle_dataset_op.cc:390] Filling up shuffle buffer (this may take a while): 3 of 100\n",
      "2023-03-16 09:32:22.197438: I tensorflow/core/kernels/data/shuffle_dataset_op.cc:390] Filling up shuffle buffer (this may take a while): 4 of 100\n",
      "2023-03-16 09:32:22.198983: I tensorflow/core/kernels/data/shuffle_dataset_op.cc:390] Filling up shuffle buffer (this may take a while): 5 of 100\n",
      "2023-03-16 09:32:22.199014: I tensorflow/core/kernels/data/shuffle_dataset_op.cc:390] Filling up shuffle buffer (this may take a while): 6 of 100\n",
      "2023-03-16 09:32:22.199800: I tensorflow/core/kernels/data/shuffle_dataset_op.cc:390] Filling up shuffle buffer (this may take a while): 7 of 100\n",
      "2023-03-16 09:32:22.199833: I tensorflow/core/kernels/data/shuffle_dataset_op.cc:390] Filling up shuffle buffer (this may take a while): 8 of 100\n",
      "2023-03-16 09:32:22.254740: I tensorflow/core/kernels/data/shuffle_dataset_op.cc:415] Shuffle buffer filled.\n",
      "2023-03-16 09:32:36.524844: I tensorflow/core/kernels/data/shuffle_dataset_op.cc:390] Filling up shuffle buffer (this may take a while): 1 of 100\n",
      "2023-03-16 09:32:36.524918: I tensorflow/core/kernels/data/shuffle_dataset_op.cc:390] Filling up shuffle buffer (this may take a while): 2 of 100\n",
      "2023-03-16 09:32:36.524980: I tensorflow/core/kernels/data/shuffle_dataset_op.cc:390] Filling up shuffle buffer (this may take a while): 3 of 100\n",
      "2023-03-16 09:32:36.525126: I tensorflow/core/kernels/data/shuffle_dataset_op.cc:390] Filling up shuffle buffer (this may take a while): 4 of 100\n",
      "2023-03-16 09:32:36.525147: I tensorflow/core/kernels/data/shuffle_dataset_op.cc:390] Filling up shuffle buffer (this may take a while): 5 of 100\n",
      "2023-03-16 09:32:36.525160: I tensorflow/core/kernels/data/shuffle_dataset_op.cc:390] Filling up shuffle buffer (this may take a while): 6 of 100\n",
      "2023-03-16 09:32:36.525175: I tensorflow/core/kernels/data/shuffle_dataset_op.cc:390] Filling up shuffle buffer (this may take a while): 7 of 100\n",
      "2023-03-16 09:32:36.551550: I tensorflow/core/kernels/data/shuffle_dataset_op.cc:415] Shuffle buffer filled.\n"
     ]
    },
    {
     "ename": "KeyboardInterrupt",
     "evalue": "",
     "output_type": "error",
     "traceback": [
      "\u001b[0;31m---------------------------------------------------------------------------\u001b[0m",
      "\u001b[0;31mKeyboardInterrupt\u001b[0m                         Traceback (most recent call last)",
      "Cell \u001b[0;32mIn [14], line 11\u001b[0m\n\u001b[1;32m      6\u001b[0m \u001b[38;5;28;01mwith\u001b[39;00m summary_writer\u001b[38;5;241m.\u001b[39mas_default():\n\u001b[1;32m      8\u001b[0m     \u001b[38;5;28;01mfor\u001b[39;00m round_num \u001b[38;5;129;01min\u001b[39;00m \u001b[38;5;28mrange\u001b[39m(NUM_ROUNDS):\n\u001b[1;32m      9\u001b[0m         \n\u001b[1;32m     10\u001b[0m       \u001b[38;5;66;03m#Training of actual model  \u001b[39;00m\n\u001b[0;32m---> 11\u001b[0m       result \u001b[38;5;241m=\u001b[39m \u001b[43mtraining_process\u001b[49m\u001b[38;5;241;43m.\u001b[39;49m\u001b[43mnext\u001b[49m\u001b[43m(\u001b[49m\u001b[43mtrain_state\u001b[49m\u001b[43m,\u001b[49m\u001b[43m \u001b[49m\u001b[43mfederated_train_data\u001b[49m\u001b[43m)\u001b[49m\n\u001b[1;32m     12\u001b[0m       train_state \u001b[38;5;241m=\u001b[39m result\u001b[38;5;241m.\u001b[39mstate\n\u001b[1;32m     13\u001b[0m       train_metrics \u001b[38;5;241m=\u001b[39m result\u001b[38;5;241m.\u001b[39mmetrics\n",
      "File \u001b[0;32m/usr/local/lib/python3.9/dist-packages/tensorflow_federated/python/core/impl/computation/computation_impl.py:135\u001b[0m, in \u001b[0;36mConcreteComputation.__call__\u001b[0;34m(self, *args, **kwargs)\u001b[0m\n\u001b[1;32m    133\u001b[0m \u001b[38;5;28;01mdef\u001b[39;00m \u001b[38;5;21m__call__\u001b[39m(\u001b[38;5;28mself\u001b[39m, \u001b[38;5;241m*\u001b[39margs, \u001b[38;5;241m*\u001b[39m\u001b[38;5;241m*\u001b[39mkwargs):\n\u001b[1;32m    134\u001b[0m   arg \u001b[38;5;241m=\u001b[39m function_utils\u001b[38;5;241m.\u001b[39mpack_args(\u001b[38;5;28mself\u001b[39m\u001b[38;5;241m.\u001b[39m_type_signature\u001b[38;5;241m.\u001b[39mparameter, args, kwargs)\n\u001b[0;32m--> 135\u001b[0m   \u001b[38;5;28;01mreturn\u001b[39;00m \u001b[38;5;28;43mself\u001b[39;49m\u001b[38;5;241;43m.\u001b[39;49m\u001b[43m_context_stack\u001b[49m\u001b[38;5;241;43m.\u001b[39;49m\u001b[43mcurrent\u001b[49m\u001b[38;5;241;43m.\u001b[39;49m\u001b[43minvoke\u001b[49m\u001b[43m(\u001b[49m\u001b[38;5;28;43mself\u001b[39;49m\u001b[43m,\u001b[49m\u001b[43m \u001b[49m\u001b[43marg\u001b[49m\u001b[43m)\u001b[49m\n",
      "File \u001b[0;32m/usr/local/lib/python3.9/dist-packages/tensorflow_federated/python/core/impl/execution_contexts/sync_execution_context.py:67\u001b[0m, in \u001b[0;36mExecutionContext.invoke\u001b[0;34m(self, comp, arg)\u001b[0m\n\u001b[1;32m     66\u001b[0m \u001b[38;5;28;01mdef\u001b[39;00m \u001b[38;5;21minvoke\u001b[39m(\u001b[38;5;28mself\u001b[39m, comp, arg):\n\u001b[0;32m---> 67\u001b[0m   \u001b[38;5;28;01mreturn\u001b[39;00m \u001b[38;5;28;43mself\u001b[39;49m\u001b[38;5;241;43m.\u001b[39;49m\u001b[43m_async_runner\u001b[49m\u001b[38;5;241;43m.\u001b[39;49m\u001b[43mrun_coro_and_return_result\u001b[49m\u001b[43m(\u001b[49m\n\u001b[1;32m     68\u001b[0m \u001b[43m      \u001b[49m\u001b[38;5;28;43mself\u001b[39;49m\u001b[38;5;241;43m.\u001b[39;49m\u001b[43m_async_context\u001b[49m\u001b[38;5;241;43m.\u001b[39;49m\u001b[43minvoke\u001b[49m\u001b[43m(\u001b[49m\u001b[43mcomp\u001b[49m\u001b[43m,\u001b[49m\u001b[43m \u001b[49m\u001b[43marg\u001b[49m\u001b[43m)\u001b[49m\u001b[43m)\u001b[49m\n",
      "File \u001b[0;32m/usr/local/lib/python3.9/dist-packages/tensorflow_federated/python/common_libs/async_utils.py:223\u001b[0m, in \u001b[0;36mAsyncThreadRunner.run_coro_and_return_result\u001b[0;34m(self, coro)\u001b[0m\n\u001b[1;32m    221\u001b[0m \u001b[38;5;250m\u001b[39m\u001b[38;5;124;03m\"\"\"Runs coroutine in the managed event loop, returning the result.\"\"\"\u001b[39;00m\n\u001b[1;32m    222\u001b[0m future \u001b[38;5;241m=\u001b[39m asyncio\u001b[38;5;241m.\u001b[39mrun_coroutine_threadsafe(coro, \u001b[38;5;28mself\u001b[39m\u001b[38;5;241m.\u001b[39m_event_loop)\n\u001b[0;32m--> 223\u001b[0m \u001b[38;5;28;01mreturn\u001b[39;00m \u001b[43mfuture\u001b[49m\u001b[38;5;241;43m.\u001b[39;49m\u001b[43mresult\u001b[49m\u001b[43m(\u001b[49m\u001b[43m)\u001b[49m\n",
      "File \u001b[0;32m/usr/lib/python3.9/concurrent/futures/_base.py:441\u001b[0m, in \u001b[0;36mFuture.result\u001b[0;34m(self, timeout)\u001b[0m\n\u001b[1;32m    438\u001b[0m \u001b[38;5;28;01melif\u001b[39;00m \u001b[38;5;28mself\u001b[39m\u001b[38;5;241m.\u001b[39m_state \u001b[38;5;241m==\u001b[39m FINISHED:\n\u001b[1;32m    439\u001b[0m     \u001b[38;5;28;01mreturn\u001b[39;00m \u001b[38;5;28mself\u001b[39m\u001b[38;5;241m.\u001b[39m__get_result()\n\u001b[0;32m--> 441\u001b[0m \u001b[38;5;28;43mself\u001b[39;49m\u001b[38;5;241;43m.\u001b[39;49m\u001b[43m_condition\u001b[49m\u001b[38;5;241;43m.\u001b[39;49m\u001b[43mwait\u001b[49m\u001b[43m(\u001b[49m\u001b[43mtimeout\u001b[49m\u001b[43m)\u001b[49m\n\u001b[1;32m    443\u001b[0m \u001b[38;5;28;01mif\u001b[39;00m \u001b[38;5;28mself\u001b[39m\u001b[38;5;241m.\u001b[39m_state \u001b[38;5;129;01min\u001b[39;00m [CANCELLED, CANCELLED_AND_NOTIFIED]:\n\u001b[1;32m    444\u001b[0m     \u001b[38;5;28;01mraise\u001b[39;00m CancelledError()\n",
      "File \u001b[0;32m/usr/lib/python3.9/threading.py:312\u001b[0m, in \u001b[0;36mCondition.wait\u001b[0;34m(self, timeout)\u001b[0m\n\u001b[1;32m    310\u001b[0m \u001b[38;5;28;01mtry\u001b[39;00m:    \u001b[38;5;66;03m# restore state no matter what (e.g., KeyboardInterrupt)\u001b[39;00m\n\u001b[1;32m    311\u001b[0m     \u001b[38;5;28;01mif\u001b[39;00m timeout \u001b[38;5;129;01mis\u001b[39;00m \u001b[38;5;28;01mNone\u001b[39;00m:\n\u001b[0;32m--> 312\u001b[0m         \u001b[43mwaiter\u001b[49m\u001b[38;5;241;43m.\u001b[39;49m\u001b[43macquire\u001b[49m\u001b[43m(\u001b[49m\u001b[43m)\u001b[49m\n\u001b[1;32m    313\u001b[0m         gotit \u001b[38;5;241m=\u001b[39m \u001b[38;5;28;01mTrue\u001b[39;00m\n\u001b[1;32m    314\u001b[0m     \u001b[38;5;28;01melse\u001b[39;00m:\n",
      "\u001b[0;31mKeyboardInterrupt\u001b[0m: "
     ]
    }
   ],
   "source": [
    "log_dir = 'logs/fit_federated/'\n",
    "summary_writer = tf.summary.create_file_writer(log_dir)\n",
    "tensorboard_callback = tf.keras.callbacks.TensorBoard(log_dir=log_dir, histogram_freq=1)\n",
    "\n",
    "NUM_ROUNDS = 30\n",
    "with summary_writer.as_default():\n",
    "\n",
    "    for round_num in range(NUM_ROUNDS):\n",
    "        \n",
    "      #Training of actual model  \n",
    "      result = training_process.next(train_state, federated_train_data)\n",
    "      train_state = result.state\n",
    "      train_metrics = result.metrics\n",
    "        \n",
    "      accuracy = result.metrics['client_work']['train']['sparse_categorical_accuracy']\n",
    "      loss = result.metrics['client_work']['train']['loss']  \n",
    "        \n",
    "      train_results_df = train_results_df.append({'Round': round_num+1, 'Accuracy': accuracy, 'Loss': loss}, ignore_index=True)  \n",
    "      print('round {:2d}, metrics={}'.format(round_num, train_metrics))\n",
    "      \n",
    "      #Evaluate model\n",
    "      model_weights = training_process.get_model_weights(train_state)\n",
    "      test_metrics = eval_process(model_weights, federated_test_data)['eval']\n",
    "      print(test_metrics)  \n",
    "      eval_results_df = eval_results_df.append({'Round': round_num+1,\n",
    "                                      **test_metrics}, ignore_index=True)  \n",
    "\n",
    "\n",
    "callbacks = [TensorBoard(log_dir=log_dir)]"
   ]
  },
  {
   "cell_type": "code",
   "execution_count": 16,
   "id": "657c352c-2ee9-4e87-9923-07c294bd04af",
   "metadata": {
    "execution": {
     "iopub.execute_input": "2023-03-04T11:21:28.996783Z",
     "iopub.status.busy": "2023-03-04T11:21:28.996515Z",
     "iopub.status.idle": "2023-03-04T11:21:33.168825Z",
     "shell.execute_reply": "2023-03-04T11:21:33.168115Z",
     "shell.execute_reply.started": "2023-03-04T11:21:28.996765Z"
    }
   },
   "outputs": [
    {
     "data": {
      "text/html": [
       "\n",
       "      <iframe id=\"tensorboard-frame-82ecc77918f4e278\" width=\"100%\" height=\"800\" frameborder=\"0\">\n",
       "      </iframe>\n",
       "      <script>\n",
       "        (function() {\n",
       "          const frame = document.getElementById(\"tensorboard-frame-82ecc77918f4e278\");\n",
       "          const url = new URL(\"/\", window.location);\n",
       "          const port = 6006;\n",
       "          if (port) {\n",
       "            url.port = port;\n",
       "          }\n",
       "          frame.src = url;\n",
       "        })();\n",
       "      </script>\n",
       "    "
      ],
      "text/plain": [
       "<IPython.core.display.HTML object>"
      ]
     },
     "metadata": {},
     "output_type": "display_data"
    }
   ],
   "source": [
    "%tensorboard --logdir logs/fit/"
   ]
  },
  {
   "cell_type": "code",
   "execution_count": null,
   "id": "e4192e0b-29fb-4ba0-a26e-6e224a1b9209",
   "metadata": {
    "execution": {
     "iopub.status.busy": "2023-03-10T16:05:32.475233Z",
     "iopub.status.idle": "2023-03-10T16:05:32.475630Z",
     "shell.execute_reply": "2023-03-10T16:05:32.475468Z",
     "shell.execute_reply.started": "2023-03-10T16:05:32.475446Z"
    }
   },
   "outputs": [],
   "source": [
    "print(eval_results_df.head(5))\n",
    "print(train_results_df.head(5))"
   ]
  },
  {
   "cell_type": "code",
   "execution_count": 17,
   "id": "bd04f63c-f2c2-45e7-8a0e-840077d123a0",
   "metadata": {
    "execution": {
     "iopub.execute_input": "2023-03-14T18:40:52.064660Z",
     "iopub.status.busy": "2023-03-14T18:40:52.064367Z",
     "iopub.status.idle": "2023-03-14T18:40:52.453966Z",
     "shell.execute_reply": "2023-03-14T18:40:52.453193Z",
     "shell.execute_reply.started": "2023-03-14T18:40:52.064629Z"
    }
   },
   "outputs": [
    {
     "data": {
      "image/png": "[encoded data removed]",
      "text/plain": [
       "<Figure size 640x480 with 1 Axes>"
      ]
     },
     "metadata": {},
     "output_type": "display_data"
    },
    {
     "data": {
      "image/png": "[encoded data removed]",
      "text/plain": [
       "<Figure size 640x480 with 1 Axes>"
      ]
     },
     "metadata": {},
     "output_type": "display_data"
    }
   ],
   "source": [
    "eval_results_df = eval_results_df.rename(columns={'sparse_categorical_accuracy': 'Accuracy', 'loss': 'Loss'})\n",
    "\n",
    "#Plot accuracy of model\n",
    "plt.plot(train_results_df['Accuracy'])\n",
    "plt.plot(eval_results_df['Accuracy'])\n",
    "plt.title('Model Accuracy')\n",
    "plt.ylabel('Accuracy')\n",
    "plt.xlabel('Round')\n",
    "plt.legend(['train', 'test'], loc='upper left')\n",
    "plt.xticks(range(len(train_results_df['Accuracy'])))\n",
    "plt.show()\n",
    "\n",
    "#Plot loss of model\n",
    "plt.plot(train_results_df['Loss'])\n",
    "plt.plot(eval_results_df['Loss'])\n",
    "plt.title('Model Loss')\n",
    "plt.ylabel('Loss')\n",
    "plt.xlabel('Round')\n",
    "plt.legend(['train', 'test'], loc='upper left')\n",
    "plt.xticks(range(len(train_results_df['Loss'])))\n",
    "plt.show()"
   ]
  },
  {
   "cell_type": "code",
   "execution_count": 19,
   "id": "8d932bff-4238-408a-a6dc-0a077ddd57ca",
   "metadata": {
    "execution": {
     "iopub.execute_input": "2023-02-14T15:17:26.248323Z",
     "iopub.status.busy": "2023-02-14T15:17:26.248017Z",
     "iopub.status.idle": "2023-02-14T15:17:26.983609Z",
     "shell.execute_reply": "2023-02-14T15:17:26.982599Z",
     "shell.execute_reply.started": "2023-02-14T15:17:26.248300Z"
    }
   },
   "outputs": [
    {
     "name": "stdout",
     "output_type": "stream",
     "text": [
      "events.out.tfevents.1676387843.nuzdv1oqq8.32.0.v2\n"
     ]
    },
    {
     "name": "stderr",
     "output_type": "stream",
     "text": [
      "UsageError: Line magic function `%tensorboard` not found.\n"
     ]
    }
   ],
   "source": [
    "!ls {logdir}\n",
    "%tensorboard --logdir {logdir}"
   ]
  }
 ],
 "metadata": {
  "kernelspec": {
   "display_name": "Python 3 (ipykernel)",
   "language": "python",
   "name": "python3"
  },
  "language_info": {
   "codemirror_mode": {
    "name": "ipython",
    "version": 3
   },
   "file_extension": ".py",
   "mimetype": "text/x-python",
   "name": "python",
   "nbconvert_exporter": "python",
   "pygments_lexer": "ipython3",
   "version": "3.9.16"
  }
 },
 "nbformat": 4,
 "nbformat_minor": 5
}
