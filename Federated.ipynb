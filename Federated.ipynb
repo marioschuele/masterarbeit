{
 "cells": [
  {
   "cell_type": "code",
   "execution_count": 2,
   "id": "1d38634e-efb9-4600-9613-596f9b325afc",
   "metadata": {
    "collapsed": true,
    "execution": {
     "iopub.execute_input": "2023-02-14T01:39:55.742663Z",
     "iopub.status.busy": "2023-02-14T01:39:55.742291Z",
     "iopub.status.idle": "2023-02-14T01:40:02.641197Z",
     "shell.execute_reply": "2023-02-14T01:40:02.639902Z",
     "shell.execute_reply.started": "2023-02-14T01:39:55.742629Z"
    },
    "jupyter": {
     "outputs_hidden": true
    }
   },
   "outputs": [
    {
     "name": "stdout",
     "output_type": "stream",
     "text": [
      "Requirement already satisfied: tensorflow in /usr/local/lib/python3.9/dist-packages (2.11.0)\n",
      "Requirement already satisfied: flatbuffers>=2.0 in /usr/local/lib/python3.9/dist-packages (from tensorflow) (2.0.7)\n",
      "Requirement already satisfied: packaging in /usr/local/lib/python3.9/dist-packages (from tensorflow) (21.3)\n",
      "Requirement already satisfied: keras<2.12,>=2.11.0 in /usr/local/lib/python3.9/dist-packages (from tensorflow) (2.11.0)\n",
      "Requirement already satisfied: google-pasta>=0.1.1 in /usr/local/lib/python3.9/dist-packages (from tensorflow) (0.2.0)\n",
      "Requirement already satisfied: tensorflow-io-gcs-filesystem>=0.23.1 in /usr/local/lib/python3.9/dist-packages (from tensorflow) (0.26.0)\n",
      "Requirement already satisfied: protobuf<3.20,>=3.9.2 in /usr/local/lib/python3.9/dist-packages (from tensorflow) (3.19.6)\n",
      "Requirement already satisfied: astunparse>=1.6.0 in /usr/local/lib/python3.9/dist-packages (from tensorflow) (1.6.3)\n",
      "Requirement already satisfied: tensorflow-estimator<2.12,>=2.11.0 in /usr/local/lib/python3.9/dist-packages (from tensorflow) (2.11.0)\n",
      "Requirement already satisfied: wrapt>=1.11.0 in /usr/local/lib/python3.9/dist-packages (from tensorflow) (1.14.1)\n",
      "Requirement already satisfied: h5py>=2.9.0 in /usr/local/lib/python3.9/dist-packages (from tensorflow) (3.7.0)\n",
      "Requirement already satisfied: libclang>=13.0.0 in /usr/local/lib/python3.9/dist-packages (from tensorflow) (14.0.1)\n",
      "Requirement already satisfied: six>=1.12.0 in /usr/lib/python3/dist-packages (from tensorflow) (1.14.0)\n",
      "Requirement already satisfied: setuptools in /usr/local/lib/python3.9/dist-packages (from tensorflow) (63.1.0)\n",
      "Requirement already satisfied: numpy>=1.20 in /usr/local/lib/python3.9/dist-packages (from tensorflow) (1.22.4)\n",
      "Requirement already satisfied: termcolor>=1.1.0 in /usr/local/lib/python3.9/dist-packages (from tensorflow) (1.1.0)\n",
      "Requirement already satisfied: gast<=0.4.0,>=0.2.1 in /usr/local/lib/python3.9/dist-packages (from tensorflow) (0.4.0)\n",
      "Requirement already satisfied: typing-extensions>=3.6.6 in /usr/local/lib/python3.9/dist-packages (from tensorflow) (4.4.0)\n",
      "Requirement already satisfied: absl-py>=1.0.0 in /usr/local/lib/python3.9/dist-packages (from tensorflow) (1.0.0)\n",
      "Requirement already satisfied: tensorboard<2.12,>=2.11 in /usr/local/lib/python3.9/dist-packages (from tensorflow) (2.11.2)\n",
      "Requirement already satisfied: grpcio<2.0,>=1.24.3 in /usr/local/lib/python3.9/dist-packages (from tensorflow) (1.47.0)\n",
      "Requirement already satisfied: opt-einsum>=2.3.2 in /usr/local/lib/python3.9/dist-packages (from tensorflow) (3.3.0)\n",
      "Requirement already satisfied: wheel<1.0,>=0.23.0 in /usr/local/lib/python3.9/dist-packages (from astunparse>=1.6.0->tensorflow) (0.35.1)\n",
      "Requirement already satisfied: google-auth<3,>=1.6.3 in /usr/local/lib/python3.9/dist-packages (from tensorboard<2.12,>=2.11->tensorflow) (2.9.0)\n",
      "Requirement already satisfied: tensorboard-plugin-wit>=1.6.0 in /usr/local/lib/python3.9/dist-packages (from tensorboard<2.12,>=2.11->tensorflow) (1.8.1)\n",
      "Requirement already satisfied: markdown>=2.6.8 in /usr/local/lib/python3.9/dist-packages (from tensorboard<2.12,>=2.11->tensorflow) (3.3.7)\n",
      "Requirement already satisfied: google-auth-oauthlib<0.5,>=0.4.1 in /usr/local/lib/python3.9/dist-packages (from tensorboard<2.12,>=2.11->tensorflow) (0.4.6)\n",
      "Requirement already satisfied: requests<3,>=2.21.0 in /usr/local/lib/python3.9/dist-packages (from tensorboard<2.12,>=2.11->tensorflow) (2.28.1)\n",
      "Requirement already satisfied: werkzeug>=1.0.1 in /usr/local/lib/python3.9/dist-packages (from tensorboard<2.12,>=2.11->tensorflow) (2.1.2)\n",
      "Requirement already satisfied: tensorboard-data-server<0.7.0,>=0.6.0 in /usr/local/lib/python3.9/dist-packages (from tensorboard<2.12,>=2.11->tensorflow) (0.6.1)\n",
      "Requirement already satisfied: pyparsing!=3.0.5,>=2.0.2 in /usr/local/lib/python3.9/dist-packages (from packaging->tensorflow) (3.0.9)\n",
      "Requirement already satisfied: pyasn1-modules>=0.2.1 in /usr/local/lib/python3.9/dist-packages (from google-auth<3,>=1.6.3->tensorboard<2.12,>=2.11->tensorflow) (0.2.8)\n",
      "Requirement already satisfied: rsa<5,>=3.1.4 in /usr/lib/python3/dist-packages (from google-auth<3,>=1.6.3->tensorboard<2.12,>=2.11->tensorflow) (4.0)\n",
      "Requirement already satisfied: cachetools<6.0,>=2.0.0 in /usr/local/lib/python3.9/dist-packages (from google-auth<3,>=1.6.3->tensorboard<2.12,>=2.11->tensorflow) (3.1.1)\n",
      "Requirement already satisfied: requests-oauthlib>=0.7.0 in /usr/local/lib/python3.9/dist-packages (from google-auth-oauthlib<0.5,>=0.4.1->tensorboard<2.12,>=2.11->tensorflow) (1.3.1)\n",
      "Requirement already satisfied: importlib-metadata>=4.4 in /usr/local/lib/python3.9/dist-packages (from markdown>=2.6.8->tensorboard<2.12,>=2.11->tensorflow) (4.12.0)\n",
      "Requirement already satisfied: urllib3<1.27,>=1.21.1 in /usr/local/lib/python3.9/dist-packages (from requests<3,>=2.21.0->tensorboard<2.12,>=2.11->tensorflow) (1.26.10)\n",
      "Requirement already satisfied: idna<4,>=2.5 in /usr/lib/python3/dist-packages (from requests<3,>=2.21.0->tensorboard<2.12,>=2.11->tensorflow) (2.8)\n",
      "Requirement already satisfied: charset-normalizer<3,>=2 in /usr/local/lib/python3.9/dist-packages (from requests<3,>=2.21.0->tensorboard<2.12,>=2.11->tensorflow) (2.1.0)\n",
      "Requirement already satisfied: certifi>=2017.4.17 in /usr/lib/python3/dist-packages (from requests<3,>=2.21.0->tensorboard<2.12,>=2.11->tensorflow) (2019.11.28)\n",
      "Requirement already satisfied: zipp>=0.5 in /usr/local/lib/python3.9/dist-packages (from importlib-metadata>=4.4->markdown>=2.6.8->tensorboard<2.12,>=2.11->tensorflow) (3.8.1)\n",
      "Requirement already satisfied: pyasn1<0.5.0,>=0.4.6 in /usr/local/lib/python3.9/dist-packages (from pyasn1-modules>=0.2.1->google-auth<3,>=1.6.3->tensorboard<2.12,>=2.11->tensorflow) (0.4.8)\n",
      "Requirement already satisfied: oauthlib>=3.0.0 in /usr/local/lib/python3.9/dist-packages (from requests-oauthlib>=0.7.0->google-auth-oauthlib<0.5,>=0.4.1->tensorboard<2.12,>=2.11->tensorflow) (3.2.0)\n",
      "\u001b[33mWARNING: Running pip as the 'root' user can result in broken permissions and conflicting behaviour with the system package manager. It is recommended to use a virtual environment instead: https://pip.pypa.io/warnings/venv\u001b[0m\u001b[33m\n",
      "\u001b[0mRequirement already satisfied: tensorflow_federated in /usr/local/lib/python3.9/dist-packages (0.48.0)\n",
      "Requirement already satisfied: typing-extensions~=4.4.0 in /usr/local/lib/python3.9/dist-packages (from tensorflow_federated) (4.4.0)\n",
      "Requirement already satisfied: pytype==2022.12.15 in /usr/local/lib/python3.9/dist-packages (from tensorflow_federated) (2022.12.15)\n",
      "Requirement already satisfied: attrs~=21.4 in /usr/local/lib/python3.9/dist-packages (from tensorflow_federated) (21.4.0)\n",
      "Requirement already satisfied: cachetools~=3.1 in /usr/local/lib/python3.9/dist-packages (from tensorflow_federated) (3.1.1)\n",
      "Requirement already satisfied: tqdm~=4.64 in /usr/local/lib/python3.9/dist-packages (from tensorflow_federated) (4.64.0)\n",
      "Requirement already satisfied: tensorflow-privacy==0.8.6 in /usr/local/lib/python3.9/dist-packages (from tensorflow_federated) (0.8.6)\n",
      "Requirement already satisfied: tensorflow-model-optimization==0.7.3 in /usr/local/lib/python3.9/dist-packages (from tensorflow_federated) (0.7.3)\n",
      "Requirement already satisfied: grpcio~=1.46 in /usr/local/lib/python3.9/dist-packages (from tensorflow_federated) (1.47.0)\n",
      "Requirement already satisfied: dp-accounting==0.3.0 in /usr/local/lib/python3.9/dist-packages (from tensorflow_federated) (0.3.0)\n",
      "Requirement already satisfied: semantic-version~=2.6 in /usr/local/lib/python3.9/dist-packages (from tensorflow_federated) (2.10.0)\n",
      "Requirement already satisfied: jaxlib==0.3.14 in /usr/local/lib/python3.9/dist-packages (from tensorflow_federated) (0.3.14)\n",
      "Requirement already satisfied: dm-tree==0.1.7 in /usr/local/lib/python3.9/dist-packages (from tensorflow_federated) (0.1.7)\n",
      "Requirement already satisfied: farmhashpy==0.4.0 in /usr/local/lib/python3.9/dist-packages (from tensorflow_federated) (0.4.0)\n",
      "Requirement already satisfied: tensorflow-compression~=2.11.0 in /usr/local/lib/python3.9/dist-packages (from tensorflow_federated) (2.11.0)\n",
      "Requirement already satisfied: portpicker~=1.5 in /usr/local/lib/python3.9/dist-packages (from tensorflow_federated) (1.5.2)\n",
      "Requirement already satisfied: absl-py==1.*,>=1.0 in /usr/local/lib/python3.9/dist-packages (from tensorflow_federated) (1.0.0)\n",
      "Requirement already satisfied: jax==0.3.14 in /usr/local/lib/python3.9/dist-packages (from tensorflow_federated) (0.3.14)\n",
      "Requirement already satisfied: tensorflow~=2.11.0 in /usr/local/lib/python3.9/dist-packages (from tensorflow_federated) (2.11.0)\n",
      "Requirement already satisfied: numpy~=1.21 in /usr/local/lib/python3.9/dist-packages (from tensorflow_federated) (1.22.4)\n",
      "Requirement already satisfied: six in /usr/lib/python3/dist-packages (from absl-py==1.*,>=1.0->tensorflow_federated) (1.14.0)\n",
      "Requirement already satisfied: scipy~=1.7.1 in /usr/local/lib/python3.9/dist-packages (from dp-accounting==0.3.0->tensorflow_federated) (1.7.3)\n",
      "Requirement already satisfied: mpmath~=1.2.1 in /usr/local/lib/python3.9/dist-packages (from dp-accounting==0.3.0->tensorflow_federated) (1.2.1)\n",
      "Requirement already satisfied: opt-einsum in /usr/local/lib/python3.9/dist-packages (from jax==0.3.14->tensorflow_federated) (3.3.0)\n",
      "Requirement already satisfied: etils[epath] in /usr/local/lib/python3.9/dist-packages (from jax==0.3.14->tensorflow_federated) (1.0.0)\n",
      "Requirement already satisfied: flatbuffers<3.0,>=1.12 in /usr/local/lib/python3.9/dist-packages (from jaxlib==0.3.14->tensorflow_federated) (2.0.7)\n",
      "Requirement already satisfied: toml>=0.10.2 in /usr/local/lib/python3.9/dist-packages (from pytype==2022.12.15->tensorflow_federated) (0.10.2)\n",
      "Requirement already satisfied: importlab>=0.8 in /usr/local/lib/python3.9/dist-packages (from pytype==2022.12.15->tensorflow_federated) (0.8)\n",
      "Requirement already satisfied: networkx<2.8.4 in /usr/local/lib/python3.9/dist-packages (from pytype==2022.12.15->tensorflow_federated) (2.8.3)\n",
      "Requirement already satisfied: ninja>=1.10.0.post2 in /usr/local/lib/python3.9/dist-packages (from pytype==2022.12.15->tensorflow_federated) (1.11.1)\n",
      "Requirement already satisfied: tabulate>=0.8.10 in /usr/local/lib/python3.9/dist-packages (from pytype==2022.12.15->tensorflow_federated) (0.9.0)\n",
      "Requirement already satisfied: pydot>=1.4.2 in /usr/local/lib/python3.9/dist-packages (from pytype==2022.12.15->tensorflow_federated) (1.4.2)\n",
      "Requirement already satisfied: jinja2>=3.1.2 in /usr/local/lib/python3.9/dist-packages (from pytype==2022.12.15->tensorflow_federated) (3.1.2)\n",
      "Requirement already satisfied: libcst>=0.4.5 in /usr/local/lib/python3.9/dist-packages (from pytype==2022.12.15->tensorflow_federated) (0.4.9)\n",
      "Requirement already satisfied: tensorflow-estimator~=2.4 in /usr/local/lib/python3.9/dist-packages (from tensorflow-privacy==0.8.6->tensorflow_federated) (2.11.0)\n",
      "Requirement already satisfied: matplotlib~=3.3 in /usr/local/lib/python3.9/dist-packages (from tensorflow-privacy==0.8.6->tensorflow_federated) (3.5.2)\n",
      "Requirement already satisfied: pandas~=1.4 in /usr/local/lib/python3.9/dist-packages (from tensorflow-privacy==0.8.6->tensorflow_federated) (1.4.3)\n",
      "Requirement already satisfied: tensorflow-datasets~=4.5 in /usr/local/lib/python3.9/dist-packages (from tensorflow-privacy==0.8.6->tensorflow_federated) (4.8.2)\n",
      "Requirement already satisfied: scikit-learn==1.*,>=1.0 in /usr/local/lib/python3.9/dist-packages (from tensorflow-privacy==0.8.6->tensorflow_federated) (1.1.1)\n",
      "Requirement already satisfied: tensorflow-probability==0.15.0 in /usr/local/lib/python3.9/dist-packages (from tensorflow-privacy==0.8.6->tensorflow_federated) (0.15.0)\n",
      "Requirement already satisfied: joblib>=1.0.0 in /usr/local/lib/python3.9/dist-packages (from scikit-learn==1.*,>=1.0->tensorflow-privacy==0.8.6->tensorflow_federated) (1.1.0)\n",
      "Requirement already satisfied: threadpoolctl>=2.0.0 in /usr/local/lib/python3.9/dist-packages (from scikit-learn==1.*,>=1.0->tensorflow-privacy==0.8.6->tensorflow_federated) (3.1.0)\n",
      "Requirement already satisfied: gast>=0.3.2 in /usr/local/lib/python3.9/dist-packages (from tensorflow-probability==0.15.0->tensorflow-privacy==0.8.6->tensorflow_federated) (0.4.0)\n",
      "Requirement already satisfied: cloudpickle>=1.3 in /usr/local/lib/python3.9/dist-packages (from tensorflow-probability==0.15.0->tensorflow-privacy==0.8.6->tensorflow_federated) (2.1.0)\n",
      "Requirement already satisfied: decorator in /usr/local/lib/python3.9/dist-packages (from tensorflow-probability==0.15.0->tensorflow-privacy==0.8.6->tensorflow_federated) (5.1.1)\n",
      "Requirement already satisfied: psutil in /usr/local/lib/python3.9/dist-packages (from portpicker~=1.5->tensorflow_federated) (5.9.1)\n",
      "Requirement already satisfied: astunparse>=1.6.0 in /usr/local/lib/python3.9/dist-packages (from tensorflow~=2.11.0->tensorflow_federated) (1.6.3)\n",
      "Requirement already satisfied: termcolor>=1.1.0 in /usr/local/lib/python3.9/dist-packages (from tensorflow~=2.11.0->tensorflow_federated) (1.1.0)\n",
      "Requirement already satisfied: protobuf<3.20,>=3.9.2 in /usr/local/lib/python3.9/dist-packages (from tensorflow~=2.11.0->tensorflow_federated) (3.19.6)\n",
      "Requirement already satisfied: google-pasta>=0.1.1 in /usr/local/lib/python3.9/dist-packages (from tensorflow~=2.11.0->tensorflow_federated) (0.2.0)\n",
      "Requirement already satisfied: keras<2.12,>=2.11.0 in /usr/local/lib/python3.9/dist-packages (from tensorflow~=2.11.0->tensorflow_federated) (2.11.0)\n",
      "Requirement already satisfied: tensorflow-io-gcs-filesystem>=0.23.1 in /usr/local/lib/python3.9/dist-packages (from tensorflow~=2.11.0->tensorflow_federated) (0.26.0)\n",
      "Requirement already satisfied: wrapt>=1.11.0 in /usr/local/lib/python3.9/dist-packages (from tensorflow~=2.11.0->tensorflow_federated) (1.14.1)\n",
      "Requirement already satisfied: h5py>=2.9.0 in /usr/local/lib/python3.9/dist-packages (from tensorflow~=2.11.0->tensorflow_federated) (3.7.0)\n",
      "Requirement already satisfied: setuptools in /usr/local/lib/python3.9/dist-packages (from tensorflow~=2.11.0->tensorflow_federated) (63.1.0)\n",
      "Requirement already satisfied: tensorboard<2.12,>=2.11 in /usr/local/lib/python3.9/dist-packages (from tensorflow~=2.11.0->tensorflow_federated) (2.11.2)\n",
      "Requirement already satisfied: libclang>=13.0.0 in /usr/local/lib/python3.9/dist-packages (from tensorflow~=2.11.0->tensorflow_federated) (14.0.1)\n",
      "Requirement already satisfied: packaging in /usr/local/lib/python3.9/dist-packages (from tensorflow~=2.11.0->tensorflow_federated) (21.3)\n",
      "Requirement already satisfied: wheel<1.0,>=0.23.0 in /usr/local/lib/python3.9/dist-packages (from astunparse>=1.6.0->tensorflow~=2.11.0->tensorflow_federated) (0.35.1)\n",
      "Requirement already satisfied: MarkupSafe>=2.0 in /usr/local/lib/python3.9/dist-packages (from jinja2>=3.1.2->pytype==2022.12.15->tensorflow_federated) (2.1.1)\n",
      "Requirement already satisfied: pyyaml>=5.2 in /usr/local/lib/python3.9/dist-packages (from libcst>=0.4.5->pytype==2022.12.15->tensorflow_federated) (5.4.1)\n",
      "Requirement already satisfied: typing-inspect>=0.4.0 in /usr/local/lib/python3.9/dist-packages (from libcst>=0.4.5->pytype==2022.12.15->tensorflow_federated) (0.8.0)\n",
      "Requirement already satisfied: cycler>=0.10 in /usr/local/lib/python3.9/dist-packages (from matplotlib~=3.3->tensorflow-privacy==0.8.6->tensorflow_federated) (0.11.0)\n",
      "Requirement already satisfied: fonttools>=4.22.0 in /usr/local/lib/python3.9/dist-packages (from matplotlib~=3.3->tensorflow-privacy==0.8.6->tensorflow_federated) (4.34.4)\n",
      "Requirement already satisfied: python-dateutil>=2.7 in /usr/local/lib/python3.9/dist-packages (from matplotlib~=3.3->tensorflow-privacy==0.8.6->tensorflow_federated) (2.8.2)\n",
      "Requirement already satisfied: pillow>=6.2.0 in /usr/local/lib/python3.9/dist-packages (from matplotlib~=3.3->tensorflow-privacy==0.8.6->tensorflow_federated) (9.2.0)\n",
      "Requirement already satisfied: pyparsing>=2.2.1 in /usr/local/lib/python3.9/dist-packages (from matplotlib~=3.3->tensorflow-privacy==0.8.6->tensorflow_federated) (3.0.9)\n",
      "Requirement already satisfied: kiwisolver>=1.0.1 in /usr/local/lib/python3.9/dist-packages (from matplotlib~=3.3->tensorflow-privacy==0.8.6->tensorflow_federated) (1.4.3)\n",
      "Requirement already satisfied: pytz>=2020.1 in /usr/local/lib/python3.9/dist-packages (from pandas~=1.4->tensorflow-privacy==0.8.6->tensorflow_federated) (2022.1)\n",
      "Requirement already satisfied: requests<3,>=2.21.0 in /usr/local/lib/python3.9/dist-packages (from tensorboard<2.12,>=2.11->tensorflow~=2.11.0->tensorflow_federated) (2.28.1)\n",
      "Requirement already satisfied: tensorboard-plugin-wit>=1.6.0 in /usr/local/lib/python3.9/dist-packages (from tensorboard<2.12,>=2.11->tensorflow~=2.11.0->tensorflow_federated) (1.8.1)\n",
      "Requirement already satisfied: werkzeug>=1.0.1 in /usr/local/lib/python3.9/dist-packages (from tensorboard<2.12,>=2.11->tensorflow~=2.11.0->tensorflow_federated) (2.1.2)\n",
      "Requirement already satisfied: google-auth-oauthlib<0.5,>=0.4.1 in /usr/local/lib/python3.9/dist-packages (from tensorboard<2.12,>=2.11->tensorflow~=2.11.0->tensorflow_federated) (0.4.6)\n",
      "Requirement already satisfied: tensorboard-data-server<0.7.0,>=0.6.0 in /usr/local/lib/python3.9/dist-packages (from tensorboard<2.12,>=2.11->tensorflow~=2.11.0->tensorflow_federated) (0.6.1)\n",
      "Requirement already satisfied: markdown>=2.6.8 in /usr/local/lib/python3.9/dist-packages (from tensorboard<2.12,>=2.11->tensorflow~=2.11.0->tensorflow_federated) (3.3.7)\n",
      "Requirement already satisfied: google-auth<3,>=1.6.3 in /usr/local/lib/python3.9/dist-packages (from tensorboard<2.12,>=2.11->tensorflow~=2.11.0->tensorflow_federated) (2.9.0)\n",
      "Requirement already satisfied: click in /usr/local/lib/python3.9/dist-packages (from tensorflow-datasets~=4.5->tensorflow-privacy==0.8.6->tensorflow_federated) (8.1.3)\n",
      "Requirement already satisfied: dill in /usr/local/lib/python3.9/dist-packages (from tensorflow-datasets~=4.5->tensorflow-privacy==0.8.6->tensorflow_federated) (0.3.5.1)\n",
      "Requirement already satisfied: promise in /usr/local/lib/python3.9/dist-packages (from tensorflow-datasets~=4.5->tensorflow-privacy==0.8.6->tensorflow_federated) (2.3)\n",
      "Requirement already satisfied: tensorflow-metadata in /usr/local/lib/python3.9/dist-packages (from tensorflow-datasets~=4.5->tensorflow-privacy==0.8.6->tensorflow_federated) (1.12.0)\n",
      "Requirement already satisfied: zipp in /usr/local/lib/python3.9/dist-packages (from etils[epath]->jax==0.3.14->tensorflow_federated) (3.8.1)\n",
      "Requirement already satisfied: importlib_resources in /usr/local/lib/python3.9/dist-packages (from etils[epath]->jax==0.3.14->tensorflow_federated) (5.8.0)\n",
      "Requirement already satisfied: rsa<5,>=3.1.4 in /usr/lib/python3/dist-packages (from google-auth<3,>=1.6.3->tensorboard<2.12,>=2.11->tensorflow~=2.11.0->tensorflow_federated) (4.0)\n",
      "Requirement already satisfied: pyasn1-modules>=0.2.1 in /usr/local/lib/python3.9/dist-packages (from google-auth<3,>=1.6.3->tensorboard<2.12,>=2.11->tensorflow~=2.11.0->tensorflow_federated) (0.2.8)\n",
      "Requirement already satisfied: requests-oauthlib>=0.7.0 in /usr/local/lib/python3.9/dist-packages (from google-auth-oauthlib<0.5,>=0.4.1->tensorboard<2.12,>=2.11->tensorflow~=2.11.0->tensorflow_federated) (1.3.1)\n",
      "Requirement already satisfied: importlib-metadata>=4.4 in /usr/local/lib/python3.9/dist-packages (from markdown>=2.6.8->tensorboard<2.12,>=2.11->tensorflow~=2.11.0->tensorflow_federated) (4.12.0)\n",
      "Requirement already satisfied: charset-normalizer<3,>=2 in /usr/local/lib/python3.9/dist-packages (from requests<3,>=2.21.0->tensorboard<2.12,>=2.11->tensorflow~=2.11.0->tensorflow_federated) (2.1.0)\n",
      "Requirement already satisfied: urllib3<1.27,>=1.21.1 in /usr/local/lib/python3.9/dist-packages (from requests<3,>=2.21.0->tensorboard<2.12,>=2.11->tensorflow~=2.11.0->tensorflow_federated) (1.26.10)\n",
      "Requirement already satisfied: idna<4,>=2.5 in /usr/lib/python3/dist-packages (from requests<3,>=2.21.0->tensorboard<2.12,>=2.11->tensorflow~=2.11.0->tensorflow_federated) (2.8)\n",
      "Requirement already satisfied: certifi>=2017.4.17 in /usr/lib/python3/dist-packages (from requests<3,>=2.21.0->tensorboard<2.12,>=2.11->tensorflow~=2.11.0->tensorflow_federated) (2019.11.28)\n",
      "Requirement already satisfied: mypy-extensions>=0.3.0 in /usr/local/lib/python3.9/dist-packages (from typing-inspect>=0.4.0->libcst>=0.4.5->pytype==2022.12.15->tensorflow_federated) (1.0.0)\n",
      "Requirement already satisfied: googleapis-common-protos<2,>=1.52.0 in /usr/local/lib/python3.9/dist-packages (from tensorflow-metadata->tensorflow-datasets~=4.5->tensorflow-privacy==0.8.6->tensorflow_federated) (1.58.0)\n",
      "Requirement already satisfied: pyasn1<0.5.0,>=0.4.6 in /usr/local/lib/python3.9/dist-packages (from pyasn1-modules>=0.2.1->google-auth<3,>=1.6.3->tensorboard<2.12,>=2.11->tensorflow~=2.11.0->tensorflow_federated) (0.4.8)\n",
      "Requirement already satisfied: oauthlib>=3.0.0 in /usr/local/lib/python3.9/dist-packages (from requests-oauthlib>=0.7.0->google-auth-oauthlib<0.5,>=0.4.1->tensorboard<2.12,>=2.11->tensorflow~=2.11.0->tensorflow_federated) (3.2.0)\n",
      "\u001b[33mWARNING: Running pip as the 'root' user can result in broken permissions and conflicting behaviour with the system package manager. It is recommended to use a virtual environment instead: https://pip.pypa.io/warnings/venv\u001b[0m\u001b[33m\n",
      "\u001b[0m"
     ]
    }
   ],
   "source": [
    "!pip install tensorflow\n",
    "!pip install tensorflow_federated"
   ]
  },
  {
   "cell_type": "code",
   "execution_count": 3,
   "id": "5c32bda9-994b-4a5b-8a66-6b57e16f280d",
   "metadata": {
    "collapsed": true,
    "execution": {
     "iopub.execute_input": "2023-02-14T01:40:02.643760Z",
     "iopub.status.busy": "2023-02-14T01:40:02.643408Z",
     "iopub.status.idle": "2023-02-14T01:40:06.823236Z",
     "shell.execute_reply": "2023-02-14T01:40:06.822558Z",
     "shell.execute_reply.started": "2023-02-14T01:40:02.643729Z"
    },
    "jupyter": {
     "outputs_hidden": true
    }
   },
   "outputs": [
    {
     "name": "stderr",
     "output_type": "stream",
     "text": [
      "2023-02-14 01:40:02.746473: I tensorflow/core/platform/cpu_feature_guard.cc:193] This TensorFlow binary is optimized with oneAPI Deep Neural Network Library (oneDNN) to use the following CPU instructions in performance-critical operations:  AVX2 FMA\n",
      "To enable them in other operations, rebuild TensorFlow with the appropriate compiler flags.\n",
      "2023-02-14 01:40:03.741319: W tensorflow/compiler/xla/stream_executor/platform/default/dso_loader.cc:64] Could not load dynamic library 'libnvinfer.so.7'; dlerror: libnvinfer.so.7: cannot open shared object file: No such file or directory; LD_LIBRARY_PATH: /usr/local/nvidia/lib:/usr/local/nvidia/lib64\n",
      "2023-02-14 01:40:03.741411: W tensorflow/compiler/xla/stream_executor/platform/default/dso_loader.cc:64] Could not load dynamic library 'libnvinfer_plugin.so.7'; dlerror: libnvinfer_plugin.so.7: cannot open shared object file: No such file or directory; LD_LIBRARY_PATH: /usr/local/nvidia/lib:/usr/local/nvidia/lib64\n",
      "2023-02-14 01:40:03.741421: W tensorflow/compiler/tf2tensorrt/utils/py_utils.cc:38] TF-TRT Warning: Cannot dlopen some TensorRT libraries. If you would like to use Nvidia GPU with TensorRT, please make sure the missing libraries mentioned above are installed properly.\n"
     ]
    }
   ],
   "source": [
    "import collections\n",
    "import numpy as np\n",
    "import tensorflow as tf\n",
    "import tensorflow_federated as tff\n",
    "import keras\n",
    "import pandas as pd\n",
    "import matplotlib.pyplot as plt\n",
    "import os\n",
    "from tensorflow_federated.python.simulation.datasets import download\n",
    "from tensorflow_federated.python.simulation.datasets import from_tensor_slices_client_data\n",
    "\n",
    "np.random.seed(0)"
   ]
  },
  {
   "cell_type": "code",
   "execution_count": 4,
   "id": "547d2c02-e584-4ff1-b3b3-0fdb1ddb5854",
   "metadata": {
    "collapsed": true,
    "execution": {
     "iopub.execute_input": "2023-02-14T00:38:35.492690Z",
     "iopub.status.busy": "2023-02-14T00:38:35.491365Z",
     "iopub.status.idle": "2023-02-14T00:38:35.497754Z",
     "shell.execute_reply": "2023-02-14T00:38:35.497202Z",
     "shell.execute_reply.started": "2023-02-14T00:38:35.492658Z"
    },
    "jupyter": {
     "outputs_hidden": true
    }
   },
   "outputs": [
    {
     "name": "stdout",
     "output_type": "stream",
     "text": [
      "WARNING:tensorflow:From /usr/local/lib/python3.9/dist-packages/tensorflow/python/compat/v2_compat.py:107: disable_resource_variables (from tensorflow.python.ops.variable_scope) is deprecated and will be removed in a future version.\n",
      "Instructions for updating:\n",
      "non-resource variables are not supported in the long term\n"
     ]
    },
    {
     "name": "stderr",
     "output_type": "stream",
     "text": [
      "WARNING:tensorflow:From /usr/local/lib/python3.9/dist-packages/tensorflow/python/compat/v2_compat.py:107: disable_resource_variables (from tensorflow.python.ops.variable_scope) is deprecated and will be removed in a future version.\n",
      "Instructions for updating:\n",
      "non-resource variables are not supported in the long term\n"
     ]
    }
   ],
   "source": [
    "\"\"\"\n",
    "Solves the error \"RuntimeError: input_dataset: Attempting to capture an EagerTensor without building a function.\"\n",
    "\n",
    "import tensorflow.compat.v1 as tf\n",
    "tf.disable_v2_behavior()\n",
    "\"\"\""
   ]
  },
  {
   "cell_type": "code",
   "execution_count": 18,
   "id": "32217643-0bbe-4bba-a613-f22984cc2c37",
   "metadata": {
    "collapsed": true,
    "execution": {
     "iopub.execute_input": "2023-02-10T09:29:59.633481Z",
     "iopub.status.busy": "2023-02-10T09:29:59.632428Z",
     "iopub.status.idle": "2023-02-10T09:30:03.784699Z",
     "shell.execute_reply": "2023-02-10T09:30:03.783685Z",
     "shell.execute_reply.started": "2023-02-10T09:29:59.633452Z"
    },
    "jupyter": {
     "outputs_hidden": true
    }
   },
   "outputs": [
    {
     "name": "stdout",
     "output_type": "stream",
     "text": [
      "\u001b[33mWARNING: Running pip as the 'root' user can result in broken permissions and conflicting behaviour with the system package manager. It is recommended to use a virtual environment instead: https://pip.pypa.io/warnings/venv\u001b[0m\u001b[33m\n",
      "\u001b[0m"
     ]
    }
   ],
   "source": [
    "! pip install kaggle -q"
   ]
  },
  {
   "cell_type": "code",
   "execution_count": 19,
   "id": "a1782ca4-399e-4883-beba-510541b68521",
   "metadata": {
    "collapsed": true,
    "execution": {
     "iopub.execute_input": "2023-02-10T09:30:03.787231Z",
     "iopub.status.busy": "2023-02-10T09:30:03.786639Z",
     "iopub.status.idle": "2023-02-10T09:30:34.371194Z",
     "shell.execute_reply": "2023-02-10T09:30:34.370137Z",
     "shell.execute_reply.started": "2023-02-10T09:30:03.787201Z"
    },
    "jupyter": {
     "outputs_hidden": true
    }
   },
   "outputs": [
    {
     "name": "stdout",
     "output_type": "stream",
     "text": [
      "sidd-segmented-intrusion-detection-dataset.zip: Skipping, found more recently modified local copy (use --force to force download)\n",
      "replace SIDD/n005/local.npy? [y]es, [n]o, [A]ll, [N]one, [r]ename: ^C\n"
     ]
    }
   ],
   "source": [
    "#Download and unzip Kaggle dataset\n",
    "\n",
    "! mkdir ~/.kaggle\n",
    "! cp kaggle.json ~/.kaggle/\n",
    "! chmod 600 ~/.kaggle/kaggle.json\n",
    "\n",
    "!kaggle datasets download yuweisunut/sidd-segmented-intrusion-detection-dataset\n",
    "!unzip -q sidd-segmented-intrusion-detection-dataset"
   ]
  },
  {
   "cell_type": "code",
   "execution_count": 4,
   "id": "806a0f65-d655-4176-a5a4-2bdbcea47b2e",
   "metadata": {
    "execution": {
     "iopub.execute_input": "2023-02-14T01:40:06.825354Z",
     "iopub.status.busy": "2023-02-14T01:40:06.824418Z",
     "iopub.status.idle": "2023-02-14T01:40:06.828433Z",
     "shell.execute_reply": "2023-02-14T01:40:06.827915Z",
     "shell.execute_reply.started": "2023-02-14T01:40:06.825328Z"
    }
   },
   "outputs": [],
   "source": [
    "NUM_CLIENTS = 15\n",
    "NUM_EPOCHS = 10\n",
    "BATCH_SIZE = 32\n",
    "SHUFFLE_BUFFER = 100\n",
    "PREFETCH_BUFFER = 10"
   ]
  },
  {
   "cell_type": "code",
   "execution_count": 5,
   "id": "a349716a-5d1c-4455-ab7b-b827c437239c",
   "metadata": {
    "execution": {
     "iopub.execute_input": "2023-02-14T01:40:06.829778Z",
     "iopub.status.busy": "2023-02-14T01:40:06.829161Z",
     "iopub.status.idle": "2023-02-14T01:40:36.653468Z",
     "shell.execute_reply": "2023-02-14T01:40:36.652564Z",
     "shell.execute_reply.started": "2023-02-14T01:40:06.829749Z"
    }
   },
   "outputs": [],
   "source": [
    "directory = 'SIDD'\n",
    "client_id = 0\n",
    "uid = 0\n",
    "imgs = {}\n",
    "\n",
    "for client in os.listdir(directory):\n",
    "  curr_path = f'{directory}/{client}/pcap'\n",
    "\n",
    "  for subdir in os.listdir(curr_path):\n",
    "    curr_path = f'{directory}/{client}/pcap/{subdir}/dataset'\n",
    "    curr_type = subdir[-1:]\n",
    "   \n",
    "    for dayscen in os.listdir(curr_path):\n",
    "      curr_path = f'{directory}/{client}/pcap/{subdir}/dataset/{dayscen}'\n",
    "      \n",
    "      for img in os.listdir(curr_path):\n",
    "        \n",
    "        if dayscen == 'benign':\n",
    "            imgs[uid] = {'id': uid, 'client_id': client_id, 'label': str(0), 'fn': img, 'path': curr_path + '/' + img}\n",
    "        elif dayscen == 'malicious':\n",
    "            imgs[uid] = {'id': uid, 'client_id': client_id, 'label': str(curr_type), 'fn': img, 'path': curr_path + '/' + img}\n",
    "        uid +=1\n",
    "  client_id += 1"
   ]
  },
  {
   "cell_type": "code",
   "execution_count": 6,
   "id": "664b8cbd-42f2-46d8-b1d0-658392cb05fd",
   "metadata": {
    "execution": {
     "iopub.execute_input": "2023-02-14T01:40:36.655885Z",
     "iopub.status.busy": "2023-02-14T01:40:36.655349Z",
     "iopub.status.idle": "2023-02-14T01:40:39.943895Z",
     "shell.execute_reply": "2023-02-14T01:40:39.943275Z",
     "shell.execute_reply.started": "2023-02-14T01:40:36.655857Z"
    }
   },
   "outputs": [],
   "source": [
    "img_df = pd.DataFrame.from_dict(imgs,orient='index')\n",
    "img_df['label'] = img_df['label'].astype(int)\n",
    "img_df.loc[img_df.index[(img_df['label']==3)],'label'] = 2"
   ]
  },
  {
   "cell_type": "code",
   "execution_count": 7,
   "id": "af0175f7-e4bc-4edf-8fae-ddbc457f1f8e",
   "metadata": {
    "collapsed": true,
    "execution": {
     "iopub.execute_input": "2023-02-13T15:40:16.346399Z",
     "iopub.status.busy": "2023-02-13T15:40:16.345450Z",
     "iopub.status.idle": "2023-02-13T15:40:16.353866Z",
     "shell.execute_reply": "2023-02-13T15:40:16.353236Z",
     "shell.execute_reply.started": "2023-02-13T15:40:16.346373Z"
    },
    "jupyter": {
     "outputs_hidden": true
    }
   },
   "outputs": [
    {
     "name": "stdout",
     "output_type": "stream",
     "text": [
      "   id  client_id  label       fn  \\\n",
      "0   0          0      0  617.jpg   \n",
      "1   1          0      0   83.jpg   \n",
      "2   2          0      0  307.jpg   \n",
      "3   3          0      0   94.jpg   \n",
      "4   4          0      0  650.jpg   \n",
      "\n",
      "                                                path  \n",
      "0  SIDD/n056/pcap/n056_20191015_000001_1/dataset/...  \n",
      "1  SIDD/n056/pcap/n056_20191015_000001_1/dataset/...  \n",
      "2  SIDD/n056/pcap/n056_20191015_000001_1/dataset/...  \n",
      "3  SIDD/n056/pcap/n056_20191015_000001_1/dataset/...  \n",
      "4  SIDD/n056/pcap/n056_20191015_000001_1/dataset/...  \n",
      "1385584\n"
     ]
    }
   ],
   "source": [
    "print(img_df.head())\n",
    "print(img_df.shape[0])"
   ]
  },
  {
   "cell_type": "code",
   "execution_count": 7,
   "id": "84e714da-e5e7-4877-a685-fc7efd3ecf6b",
   "metadata": {
    "execution": {
     "iopub.execute_input": "2023-02-14T01:40:39.945734Z",
     "iopub.status.busy": "2023-02-14T01:40:39.944800Z",
     "iopub.status.idle": "2023-02-14T01:40:39.949142Z",
     "shell.execute_reply": "2023-02-14T01:40:39.948654Z",
     "shell.execute_reply.started": "2023-02-14T01:40:39.945715Z"
    }
   },
   "outputs": [],
   "source": [
    "def _parse_function(filename, y):\n",
    "    image_string = tf.io.read_file(filename)\n",
    "    image_decoded = tf.image.decode_jpeg(image_string, channels=3)\n",
    "    X = tf.cast(image_decoded, tf.float32)\n",
    "    return X, y"
   ]
  },
  {
   "cell_type": "code",
   "execution_count": 8,
   "id": "9ec4ac06-6063-4ee1-85e1-05b925c388d9",
   "metadata": {
    "execution": {
     "iopub.execute_input": "2023-02-14T01:40:39.950606Z",
     "iopub.status.busy": "2023-02-14T01:40:39.949860Z",
     "iopub.status.idle": "2023-02-14T01:40:41.420680Z",
     "shell.execute_reply": "2023-02-14T01:40:41.420005Z",
     "shell.execute_reply.started": "2023-02-14T01:40:39.950578Z"
    }
   },
   "outputs": [],
   "source": [
    "file_paths = img_df.path\n",
    "file_labels = img_df[\"label\"]\n",
    "client_ids = img_df[\"client_id\"]  \n",
    "\n",
    "    \n",
    "X = file_paths\n",
    "y = file_labels\n",
    "client_ds = tf.data.Dataset.from_tensor_slices((X, y, client_ids))\n",
    "prepro_client_ds = tf.data.Dataset.from_tensor_slices((X, y))\n",
    "prepro_client_ds = prepro_client_ds.map(_parse_function)"
   ]
  },
  {
   "cell_type": "code",
   "execution_count": 9,
   "id": "0775f342-0825-4d4d-bb53-e2f2a812816c",
   "metadata": {
    "execution": {
     "iopub.execute_input": "2023-02-14T01:40:41.422059Z",
     "iopub.status.busy": "2023-02-14T01:40:41.421554Z",
     "iopub.status.idle": "2023-02-14T01:40:41.425402Z",
     "shell.execute_reply": "2023-02-14T01:40:41.424909Z",
     "shell.execute_reply.started": "2023-02-14T01:40:41.422035Z"
    }
   },
   "outputs": [],
   "source": [
    "def preprocess(dataset):\n",
    "\n",
    "  return dataset.repeat(NUM_EPOCHS).shuffle(SHUFFLE_BUFFER, seed=1).batch(\n",
    "      BATCH_SIZE).prefetch(PREFETCH_BUFFER)"
   ]
  },
  {
   "cell_type": "code",
   "execution_count": 10,
   "id": "622e34ea-a75c-4c1d-99cb-ee5d71458902",
   "metadata": {
    "execution": {
     "iopub.execute_input": "2023-02-14T01:40:41.426652Z",
     "iopub.status.busy": "2023-02-14T01:40:41.426079Z",
     "iopub.status.idle": "2023-02-14T01:40:41.429596Z",
     "shell.execute_reply": "2023-02-14T01:40:41.429126Z",
     "shell.execute_reply.started": "2023-02-14T01:40:41.426630Z"
    }
   },
   "outputs": [],
   "source": [
    "def make_federated_data(client_data, client_ids):\n",
    "    return [\n",
    "      preprocess(create_tf_dataset_for_client(client_data, x))\n",
    "      for x in client_ids\n",
    "    ]"
   ]
  },
  {
   "cell_type": "code",
   "execution_count": 88,
   "id": "4119856e-4b51-40a1-9c0e-905f80012d64",
   "metadata": {
    "execution": {
     "iopub.execute_input": "2023-02-10T10:04:49.620618Z",
     "iopub.status.busy": "2023-02-10T10:04:49.620251Z",
     "iopub.status.idle": "2023-02-10T10:04:49.627350Z",
     "shell.execute_reply": "2023-02-10T10:04:49.626505Z",
     "shell.execute_reply.started": "2023-02-10T10:04:49.620592Z"
    }
   },
   "outputs": [],
   "source": [
    "\"\"\"\n",
    "\n",
    "def create_tf_dataset_for_element(element_id, element_value):\n",
    "    return tf.data.Dataset.from_tensor_slices((element_id, element_value)).batch(BATCH_SIZE)\n",
    "\n",
    "def create_federated_dataset_for_client(dataset, id_value):\n",
    "    filtered_dataset = tff.federated_map(\n",
    "        lambda x, y, client_id: (x, y, client_id), dataset)\n",
    "    filtered_dataset = tff.federated_filter(\n",
    "        lambda x, y, client_id: tf.equal(client_id, id_value),\n",
    "        filtered_dataset)\n",
    "    filtered_dataset = tff.federated_map(\n",
    "        lambda x, y: (x, y), filtered_dataset)\n",
    "\n",
    "    def load_image(filename, y):\n",
    "        image_string = tf.io.read_file(filename)\n",
    "        image_decoded = tf.image.decode_jpeg(image_string, channels=3)\n",
    "        X = tf.cast(image_decoded, tf.float32)\n",
    "        return X, y\n",
    "\n",
    "    filtered_dataset = tff.federated_map(load_image, filtered_dataset)\n",
    "    filtered_dataset = tff.federated_map(create_tf_dataset_for_element, filtered_dataset)\n",
    "\n",
    "    return filtered_dataset\n",
    "\"\"\""
   ]
  },
  {
   "cell_type": "code",
   "execution_count": 11,
   "id": "b0445bed-1b51-40cd-aed6-f3030151869a",
   "metadata": {
    "execution": {
     "iopub.execute_input": "2023-02-14T01:40:41.430801Z",
     "iopub.status.busy": "2023-02-14T01:40:41.430398Z",
     "iopub.status.idle": "2023-02-14T01:40:41.435908Z",
     "shell.execute_reply": "2023-02-14T01:40:41.434926Z",
     "shell.execute_reply.started": "2023-02-14T01:40:41.430780Z"
    }
   },
   "outputs": [],
   "source": [
    "def create_tf_dataset_for_client(dataset, id_value):\n",
    "    # Filter elements with the specified id_value\n",
    "    \n",
    "    filtered_dataset = dataset.filter(lambda x, y, client_id: tf.equal(client_id, id_value))\n",
    "\n",
    "    # Remove the id from the filtered dataset\n",
    "    filtered_dataset = filtered_dataset.map(lambda x, y, client_id: (x, y))\n",
    "    \n",
    "    #Load image from path and convert to float32\n",
    "    def load_image(filename, y):\n",
    "        image_string = tf.io.read_file(filename)\n",
    "        image_decoded = tf.image.decode_jpeg(image_string, channels=3)\n",
    "        X = tf.cast(image_decoded, tf.float32)\n",
    "        return X, y\n",
    "\n",
    "    filtered_dataset = filtered_dataset.map(load_image)\n",
    "    \n",
    "    print(type(filtered_dataset))\n",
    "\n",
    "\n",
    "    return filtered_dataset\n"
   ]
  },
  {
   "cell_type": "code",
   "execution_count": 12,
   "id": "0b9c1fda-bb63-432f-b085-4a76dc317cf8",
   "metadata": {
    "collapsed": true,
    "execution": {
     "iopub.execute_input": "2023-02-14T01:40:41.437882Z",
     "iopub.status.busy": "2023-02-14T01:40:41.437452Z",
     "iopub.status.idle": "2023-02-14T01:40:41.832096Z",
     "shell.execute_reply": "2023-02-14T01:40:41.831199Z",
     "shell.execute_reply.started": "2023-02-14T01:40:41.437873Z"
    },
    "jupyter": {
     "outputs_hidden": true
    }
   },
   "outputs": [
    {
     "name": "stdout",
     "output_type": "stream",
     "text": [
      "WARNING:tensorflow:From /usr/local/lib/python3.9/dist-packages/tensorflow/python/autograph/pyct/static_analysis/liveness.py:83: Analyzer.lamba_check (from tensorflow.python.autograph.pyct.static_analysis.liveness) is deprecated and will be removed after 2023-09-23.\n",
      "Instructions for updating:\n",
      "Lambda fuctions will be no more assumed to be used in the statement where they are used, or at least in the same block. https://github.com/tensorflow/tensorflow/issues/56089\n"
     ]
    },
    {
     "name": "stderr",
     "output_type": "stream",
     "text": [
      "WARNING:tensorflow:From /usr/local/lib/python3.9/dist-packages/tensorflow/python/autograph/pyct/static_analysis/liveness.py:83: Analyzer.lamba_check (from tensorflow.python.autograph.pyct.static_analysis.liveness) is deprecated and will be removed after 2023-09-23.\n",
      "Instructions for updating:\n",
      "Lambda fuctions will be no more assumed to be used in the statement where they are used, or at least in the same block. https://github.com/tensorflow/tensorflow/issues/56089\n"
     ]
    },
    {
     "name": "stdout",
     "output_type": "stream",
     "text": [
      "<class 'tensorflow.python.data.ops.dataset_ops.MapDataset'>\n",
      "<class 'tensorflow.python.data.ops.dataset_ops.MapDataset'>\n",
      "<class 'tensorflow.python.data.ops.dataset_ops.MapDataset'>\n",
      "<class 'tensorflow.python.data.ops.dataset_ops.MapDataset'>\n",
      "<class 'tensorflow.python.data.ops.dataset_ops.MapDataset'>\n",
      "<class 'tensorflow.python.data.ops.dataset_ops.MapDataset'>\n",
      "<class 'tensorflow.python.data.ops.dataset_ops.MapDataset'>\n",
      "<class 'tensorflow.python.data.ops.dataset_ops.MapDataset'>\n",
      "<class 'tensorflow.python.data.ops.dataset_ops.MapDataset'>\n",
      "<class 'tensorflow.python.data.ops.dataset_ops.MapDataset'>\n",
      "<class 'tensorflow.python.data.ops.dataset_ops.MapDataset'>\n",
      "<class 'tensorflow.python.data.ops.dataset_ops.MapDataset'>\n",
      "<class 'tensorflow.python.data.ops.dataset_ops.MapDataset'>\n",
      "<class 'tensorflow.python.data.ops.dataset_ops.MapDataset'>\n",
      "<class 'tensorflow.python.data.ops.dataset_ops.MapDataset'>\n",
      "Number of client datasets: 15\n",
      "First dataset: <PrefetchDataset element_spec=(TensorSpec(shape=(None, None, None, 3), dtype=tf.float32, name=None), TensorSpec(shape=(None,), dtype=tf.int64, name=None))>\n"
     ]
    }
   ],
   "source": [
    "clients = img_df[\"client_id\"].unique()\n",
    "#print(type(client_ds))\n",
    "federated_train_data = make_federated_data(client_ds, clients)\n",
    "\n",
    "print(f'Number of client datasets: {len(federated_train_data)}')\n",
    "print(f'First dataset: {federated_train_data[0]}')"
   ]
  },
  {
   "cell_type": "code",
   "execution_count": 21,
   "id": "bb8dbe5c-6b57-42b2-add1-b826b24e3177",
   "metadata": {
    "execution": {
     "iopub.execute_input": "2023-02-14T01:50:40.052033Z",
     "iopub.status.busy": "2023-02-14T01:50:40.051229Z",
     "iopub.status.idle": "2023-02-14T01:50:40.056582Z",
     "shell.execute_reply": "2023-02-14T01:50:40.055895Z",
     "shell.execute_reply.started": "2023-02-14T01:50:40.052006Z"
    }
   },
   "outputs": [],
   "source": [
    "def model_fn():\n",
    "  # We _must_ create a new model here, and _not_ capture it from an external\n",
    "  # scope. TFF will call this within different graph contexts.\n",
    "  keras_model = tf.keras.applications.EfficientNetB0(\n",
    "    include_top=True,\n",
    "    weights=None,\n",
    "    input_tensor=None,\n",
    "    input_shape=None,\n",
    "    pooling=None,\n",
    "    classes=3,\n",
    "    classifier_activation=\"softmax\"\n",
    "    )\n",
    "\n",
    "  return tff.learning.from_keras_model(\n",
    "      keras_model,\n",
    "      input_spec=federated_train_data[0].element_spec,\n",
    "      loss=tf.keras.losses.SparseCategoricalCrossentropy(),\n",
    "      metrics=[tf.keras.metrics.SparseCategoricalAccuracy()])"
   ]
  },
  {
   "cell_type": "code",
   "execution_count": 22,
   "id": "f0e2fee6-b120-4b75-aa0f-5fb8e454ddd3",
   "metadata": {
    "execution": {
     "iopub.execute_input": "2023-02-14T01:50:44.011281Z",
     "iopub.status.busy": "2023-02-14T01:50:44.010288Z",
     "iopub.status.idle": "2023-02-14T01:51:34.633948Z",
     "shell.execute_reply": "2023-02-14T01:51:34.632846Z",
     "shell.execute_reply.started": "2023-02-14T01:50:44.011251Z"
    }
   },
   "outputs": [],
   "source": [
    "training_process = tff.learning.algorithms.build_unweighted_fed_avg(\n",
    "    model_fn,\n",
    "    client_optimizer_fn=lambda: tf.keras.optimizers.SGD(learning_rate=0.02),\n",
    "    server_optimizer_fn=lambda: tf.keras.optimizers.SGD(learning_rate=1.0))"
   ]
  },
  {
   "cell_type": "code",
   "execution_count": 23,
   "id": "deb6d9f1-da66-4bee-bcf1-538ff7d1e4d1",
   "metadata": {
    "collapsed": true,
    "execution": {
     "iopub.execute_input": "2023-02-14T01:51:58.901436Z",
     "iopub.status.busy": "2023-02-14T01:51:58.901056Z",
     "iopub.status.idle": "2023-02-14T01:54:34.914726Z",
     "shell.execute_reply": "2023-02-14T01:54:34.913479Z",
     "shell.execute_reply.started": "2023-02-14T01:51:58.901402Z"
    },
    "jupyter": {
     "outputs_hidden": true
    }
   },
   "outputs": [
    {
     "ename": "KeyboardInterrupt",
     "evalue": "",
     "output_type": "error",
     "traceback": [
      "\u001b[0;31m---------------------------------------------------------------------------\u001b[0m",
      "\u001b[0;31mKeyboardInterrupt\u001b[0m                         Traceback (most recent call last)",
      "Input \u001b[0;32mIn [23]\u001b[0m, in \u001b[0;36m<cell line: 1>\u001b[0;34m()\u001b[0m\n\u001b[0;32m----> 1\u001b[0m train_state \u001b[38;5;241m=\u001b[39m \u001b[43mtraining_process\u001b[49m\u001b[38;5;241;43m.\u001b[39;49m\u001b[43minitialize\u001b[49m\u001b[43m(\u001b[49m\u001b[43m)\u001b[49m\n",
      "File \u001b[0;32m/usr/local/lib/python3.9/dist-packages/tensorflow_federated/python/core/impl/computation/computation_impl.py:144\u001b[0m, in \u001b[0;36mConcreteComputation.__call__\u001b[0;34m(self, *args, **kwargs)\u001b[0m\n\u001b[1;32m    142\u001b[0m \u001b[38;5;28;01mdef\u001b[39;00m \u001b[38;5;21m__call__\u001b[39m(\u001b[38;5;28mself\u001b[39m, \u001b[38;5;241m*\u001b[39margs, \u001b[38;5;241m*\u001b[39m\u001b[38;5;241m*\u001b[39mkwargs):\n\u001b[1;32m    143\u001b[0m   arg \u001b[38;5;241m=\u001b[39m function_utils\u001b[38;5;241m.\u001b[39mpack_args(\u001b[38;5;28mself\u001b[39m\u001b[38;5;241m.\u001b[39m_type_signature\u001b[38;5;241m.\u001b[39mparameter, args, kwargs)\n\u001b[0;32m--> 144\u001b[0m   \u001b[38;5;28;01mreturn\u001b[39;00m \u001b[38;5;28;43mself\u001b[39;49m\u001b[38;5;241;43m.\u001b[39;49m\u001b[43m_context_stack\u001b[49m\u001b[38;5;241;43m.\u001b[39;49m\u001b[43mcurrent\u001b[49m\u001b[38;5;241;43m.\u001b[39;49m\u001b[43minvoke\u001b[49m\u001b[43m(\u001b[49m\u001b[38;5;28;43mself\u001b[39;49m\u001b[43m,\u001b[49m\u001b[43m \u001b[49m\u001b[43marg\u001b[49m\u001b[43m)\u001b[49m\n",
      "File \u001b[0;32m/usr/local/lib/python3.9/dist-packages/tensorflow_federated/python/core/impl/execution_contexts/sync_execution_context.py:64\u001b[0m, in \u001b[0;36mSyncExecutionContext.invoke\u001b[0;34m(self, comp, arg)\u001b[0m\n\u001b[1;32m     63\u001b[0m \u001b[38;5;28;01mdef\u001b[39;00m \u001b[38;5;21minvoke\u001b[39m(\u001b[38;5;28mself\u001b[39m, comp, arg):\n\u001b[0;32m---> 64\u001b[0m   \u001b[38;5;28;01mreturn\u001b[39;00m \u001b[38;5;28;43mself\u001b[39;49m\u001b[38;5;241;43m.\u001b[39;49m\u001b[43m_async_runner\u001b[49m\u001b[38;5;241;43m.\u001b[39;49m\u001b[43mrun_coro_and_return_result\u001b[49m\u001b[43m(\u001b[49m\n\u001b[1;32m     65\u001b[0m \u001b[43m      \u001b[49m\u001b[38;5;28;43mself\u001b[39;49m\u001b[38;5;241;43m.\u001b[39;49m\u001b[43m_async_context\u001b[49m\u001b[38;5;241;43m.\u001b[39;49m\u001b[43minvoke\u001b[49m\u001b[43m(\u001b[49m\u001b[43mcomp\u001b[49m\u001b[43m,\u001b[49m\u001b[43m \u001b[49m\u001b[43marg\u001b[49m\u001b[43m)\u001b[49m\n\u001b[1;32m     66\u001b[0m \u001b[43m  \u001b[49m\u001b[43m)\u001b[49m\n",
      "File \u001b[0;32m/usr/local/lib/python3.9/dist-packages/tensorflow_federated/python/common_libs/async_utils.py:224\u001b[0m, in \u001b[0;36mAsyncThreadRunner.run_coro_and_return_result\u001b[0;34m(self, coro)\u001b[0m\n\u001b[1;32m    222\u001b[0m \u001b[38;5;124;03m\"\"\"Runs coroutine in the managed event loop, returning the result.\"\"\"\u001b[39;00m\n\u001b[1;32m    223\u001b[0m future \u001b[38;5;241m=\u001b[39m asyncio\u001b[38;5;241m.\u001b[39mrun_coroutine_threadsafe(coro, \u001b[38;5;28mself\u001b[39m\u001b[38;5;241m.\u001b[39m_event_loop)\n\u001b[0;32m--> 224\u001b[0m \u001b[38;5;28;01mreturn\u001b[39;00m \u001b[43mfuture\u001b[49m\u001b[38;5;241;43m.\u001b[39;49m\u001b[43mresult\u001b[49m\u001b[43m(\u001b[49m\u001b[43m)\u001b[49m\n",
      "File \u001b[0;32m/usr/lib/python3.9/concurrent/futures/_base.py:441\u001b[0m, in \u001b[0;36mFuture.result\u001b[0;34m(self, timeout)\u001b[0m\n\u001b[1;32m    438\u001b[0m \u001b[38;5;28;01melif\u001b[39;00m \u001b[38;5;28mself\u001b[39m\u001b[38;5;241m.\u001b[39m_state \u001b[38;5;241m==\u001b[39m FINISHED:\n\u001b[1;32m    439\u001b[0m     \u001b[38;5;28;01mreturn\u001b[39;00m \u001b[38;5;28mself\u001b[39m\u001b[38;5;241m.\u001b[39m__get_result()\n\u001b[0;32m--> 441\u001b[0m \u001b[38;5;28;43mself\u001b[39;49m\u001b[38;5;241;43m.\u001b[39;49m\u001b[43m_condition\u001b[49m\u001b[38;5;241;43m.\u001b[39;49m\u001b[43mwait\u001b[49m\u001b[43m(\u001b[49m\u001b[43mtimeout\u001b[49m\u001b[43m)\u001b[49m\n\u001b[1;32m    443\u001b[0m \u001b[38;5;28;01mif\u001b[39;00m \u001b[38;5;28mself\u001b[39m\u001b[38;5;241m.\u001b[39m_state \u001b[38;5;129;01min\u001b[39;00m [CANCELLED, CANCELLED_AND_NOTIFIED]:\n\u001b[1;32m    444\u001b[0m     \u001b[38;5;28;01mraise\u001b[39;00m CancelledError()\n",
      "File \u001b[0;32m/usr/lib/python3.9/threading.py:312\u001b[0m, in \u001b[0;36mCondition.wait\u001b[0;34m(self, timeout)\u001b[0m\n\u001b[1;32m    310\u001b[0m \u001b[38;5;28;01mtry\u001b[39;00m:    \u001b[38;5;66;03m# restore state no matter what (e.g., KeyboardInterrupt)\u001b[39;00m\n\u001b[1;32m    311\u001b[0m     \u001b[38;5;28;01mif\u001b[39;00m timeout \u001b[38;5;129;01mis\u001b[39;00m \u001b[38;5;28;01mNone\u001b[39;00m:\n\u001b[0;32m--> 312\u001b[0m         \u001b[43mwaiter\u001b[49m\u001b[38;5;241;43m.\u001b[39;49m\u001b[43macquire\u001b[49m\u001b[43m(\u001b[49m\u001b[43m)\u001b[49m\n\u001b[1;32m    313\u001b[0m         gotit \u001b[38;5;241m=\u001b[39m \u001b[38;5;28;01mTrue\u001b[39;00m\n\u001b[1;32m    314\u001b[0m     \u001b[38;5;28;01melse\u001b[39;00m:\n",
      "\u001b[0;31mKeyboardInterrupt\u001b[0m: "
     ]
    }
   ],
   "source": [
    "train_state = training_process.initialize()"
   ]
  },
  {
   "cell_type": "code",
   "execution_count": null,
   "id": "f7b26337-11ee-4934-ab02-421688a13c05",
   "metadata": {
    "execution": {
     "iopub.status.busy": "2023-02-10T10:00:34.162707Z",
     "iopub.status.idle": "2023-02-10T10:00:34.162981Z",
     "shell.execute_reply": "2023-02-10T10:00:34.162864Z",
     "shell.execute_reply.started": "2023-02-10T10:00:34.162851Z"
    }
   },
   "outputs": [],
   "source": [
    "NUM_ROUNDS = 10\n",
    "for round_num in range(NUM_ROUNDS):\n",
    "  result = training_process.next(train_state, federated_train_data)\n",
    "  train_state = result.state\n",
    "  train_metrics = result.metrics\n",
    "  print('round {:2d}, metrics={}'.format(round_num, train_metrics))"
   ]
  },
  {
   "cell_type": "code",
   "execution_count": null,
   "id": "a9791586-31b6-48a6-848c-58b12d3d908c",
   "metadata": {
    "execution": {
     "iopub.status.busy": "2023-02-10T10:00:34.163851Z",
     "iopub.status.idle": "2023-02-10T10:00:34.164147Z",
     "shell.execute_reply": "2023-02-10T10:00:34.164004Z",
     "shell.execute_reply.started": "2023-02-10T10:00:34.163992Z"
    }
   },
   "outputs": [],
   "source": [
    "# Only for documenting training process\n",
    "logdir = \"/tmp/logs/scalars/training/\"\n",
    "try:\n",
    "  tf.io.gfile.rmtree(logdir)  # delete any previous results\n",
    "except tf.errors.NotFoundError as e:\n",
    "  pass # Ignore if the directory didn't previously exist.\n",
    "summary_writer = tf.summary.create_file_writer(logdir)\n",
    "train_state = training_process.initialize()"
   ]
  },
  {
   "cell_type": "code",
   "execution_count": null,
   "id": "5a8f7239-2e14-4b6e-9132-4a4f7257587c",
   "metadata": {
    "execution": {
     "iopub.status.busy": "2023-02-10T10:00:34.165242Z",
     "iopub.status.idle": "2023-02-10T10:00:34.165508Z",
     "shell.execute_reply": "2023-02-10T10:00:34.165394Z",
     "shell.execute_reply.started": "2023-02-10T10:00:34.165382Z"
    }
   },
   "outputs": [],
   "source": [
    "with summary_writer.as_default():\n",
    "  for round_num in range(1, NUM_ROUNDS):\n",
    "    result = training_process.next(train_state, federated_train_data)\n",
    "    train_state = result.state\n",
    "    train_metrics = result.metrics\n",
    "    for name, value in train_metrics['client_work']['train'].items():\n",
    "      tf.summary.scalar(name, value, step=round_num)"
   ]
  },
  {
   "cell_type": "code",
   "execution_count": null,
   "id": "b2f69ab1-5e3d-4a21-8500-54909331e823",
   "metadata": {
    "execution": {
     "iopub.status.busy": "2023-02-10T10:00:34.166673Z",
     "iopub.status.idle": "2023-02-10T10:00:34.166939Z",
     "shell.execute_reply": "2023-02-10T10:00:34.166824Z",
     "shell.execute_reply.started": "2023-02-10T10:00:34.166811Z"
    }
   },
   "outputs": [],
   "source": [
    "client_train_datasets = []\n",
    "client_val_datasets = []\n",
    "\n",
    "# Initialisieren eines leeren Datasets aus Numpy-Array\n",
    "test_ds = tf.data.Dataset.from_tensor_slices(np.empty((0, 3)))\n",
    "shuffle_size = 1000\n",
    "train_split = 0.8\n",
    "val_split = 0.1\n",
    "\n",
    "for client in range(NUM_CLIENTS):\n",
    "  client_df = pd.DataFrame()\n",
    "  client_df = img_df.loc[img_df['client_id'] == client]\n",
    "  #print(client_df.head())\n",
    "  file_paths = img_df.path\n",
    "  file_labels = img_df[\"label\"]\n",
    "  X = file_paths\n",
    "  y = file_labels  \n",
    "  client_ds = tf.data.Dataset.from_tensor_slices((X, y))\n",
    "  client_ds = client_ds.map(_parse_function) \n",
    "  client_ds = client_ds.shuffle(shuffle_size, seed=12)\n",
    "  client_ds = client_ds.batch(32)\n",
    "\n",
    "\n",
    "  ds_size = client_ds.cardinality().numpy()\n",
    "  train_size = int(train_split * ds_size)\n",
    "  val_size = int(val_split * ds_size)\n",
    "\n",
    "\n",
    "\n",
    "  train_ds = client_ds.take(train_size)\n",
    "  print(train_ds)\n",
    "  val_ds = client_ds.skip(train_size).take(val_size)\n",
    "  test_ds = client_ds.skip(train_size + val_size)\n",
    "  print(client_ds)\n",
    "    \n",
    "  client_train_datasets.append(train_ds)\n",
    "  client_val_datasets.append(train_ds)"
   ]
  },
  {
   "cell_type": "code",
   "execution_count": null,
   "id": "8d932bff-4238-408a-a6dc-0a077ddd57ca",
   "metadata": {
    "execution": {
     "iopub.status.busy": "2023-02-10T10:00:34.167746Z",
     "iopub.status.idle": "2023-02-10T10:00:34.168008Z",
     "shell.execute_reply": "2023-02-10T10:00:34.167894Z",
     "shell.execute_reply.started": "2023-02-10T10:00:34.167882Z"
    }
   },
   "outputs": [],
   "source": [
    "!ls {logdir}\n",
    "%tensorboard --logdir {logdir} --port=0"
   ]
  },
  {
   "cell_type": "code",
   "execution_count": 37,
   "id": "a978acb5-decb-4bac-8243-fcdf6b19c87d",
   "metadata": {
    "collapsed": true,
    "execution": {
     "iopub.execute_input": "2023-02-10T09:45:37.559845Z",
     "iopub.status.busy": "2023-02-10T09:45:37.558863Z",
     "iopub.status.idle": "2023-02-10T09:45:37.581999Z",
     "shell.execute_reply": "2023-02-10T09:45:37.580864Z",
     "shell.execute_reply.started": "2023-02-10T09:45:37.559814Z"
    },
    "jupyter": {
     "outputs_hidden": true
    }
   },
   "outputs": [
    {
     "ename": "AttributeError",
     "evalue": "module 'tensorflow_federated.python.simulation' has no attribute 'from_tensor_slices'",
     "output_type": "error",
     "traceback": [
      "\u001b[0;31m---------------------------------------------------------------------------\u001b[0m",
      "\u001b[0;31mAttributeError\u001b[0m                            Traceback (most recent call last)",
      "Input \u001b[0;32mIn [37]\u001b[0m, in \u001b[0;36m<cell line: 10>\u001b[0;34m()\u001b[0m\n\u001b[1;32m      8\u001b[0m X \u001b[38;5;241m=\u001b[39m file_paths\n\u001b[1;32m      9\u001b[0m y \u001b[38;5;241m=\u001b[39m file_labels\n\u001b[0;32m---> 10\u001b[0m client_ds \u001b[38;5;241m=\u001b[39m \u001b[43mtff\u001b[49m\u001b[38;5;241;43m.\u001b[39;49m\u001b[43msimulation\u001b[49m\u001b[38;5;241;43m.\u001b[39;49m\u001b[43mfrom_tensor_slices\u001b[49m((X, y, client_ids))\n\u001b[1;32m     11\u001b[0m \u001b[38;5;66;03m#client_ds = SIDDClientDataset(X, y, client_ids)\u001b[39;00m\n\u001b[1;32m     12\u001b[0m prepro_client_ds \u001b[38;5;241m=\u001b[39m tff\u001b[38;5;241m.\u001b[39msimulation\u001b[38;5;241m.\u001b[39mfrom_tensor_slices((X, y))\n",
      "\u001b[0;31mAttributeError\u001b[0m: module 'tensorflow_federated.python.simulation' has no attribute 'from_tensor_slices'"
     ]
    }
   ],
   "source": [
    "client_df = pd.DataFrame()\n",
    "client_df = img_df\n",
    "file_paths = img_df.path\n",
    "file_labels = img_df[\"label\"]\n",
    "client_ids = img_df[\"client_id\"]  \n",
    "\n",
    "    \n",
    "X = file_paths\n",
    "y = file_labels\n",
    "client_ds = tff.simulation.from_tensor_slices((X, y, client_ids))\n",
    "#client_ds = SIDDClientDataset(X, y, client_ids)\n",
    "prepro_client_ds = tff.simulation.from_tensor_slices((X, y))\n",
    "prepro_client_ds = prepro_client_ds.map(_parse_function)\n",
    "#print(client_ds.element_spec)\n",
    "    \n",
    "#client_ds = client_ds.map(_parse_function)\n",
    "#print(client_ds.element_spec)\n",
    "\n",
    "for i, (X_batch, y_batch, client_id_batch) in enumerate(client_ds.take(5)):\n",
    "    print(f\"Batch {i}: X_batch.shape={X_batch.shape}, y_batch.shape={y_batch.shape}, client_id_batch.shape={client_id_batch.shape}\")\n",
    "\n",
    "try:\n",
    "    client_ids = client_ds.client_ids\n",
    "    print(\"The client_ds object has the property 'client_ids'\")\n",
    "except AttributeError:\n",
    "    print(\"The client_ds object does not have the property 'client_ids'\")"
   ]
  }
 ],
 "metadata": {
  "kernelspec": {
   "display_name": "Python 3 (ipykernel)",
   "language": "python",
   "name": "python3"
  },
  "language_info": {
   "codemirror_mode": {
    "name": "ipython",
    "version": 3
   },
   "file_extension": ".py",
   "mimetype": "text/x-python",
   "name": "python",
   "nbconvert_exporter": "python",
   "pygments_lexer": "ipython3",
   "version": "3.9.13"
  }
 },
 "nbformat": 4,
 "nbformat_minor": 5
}
