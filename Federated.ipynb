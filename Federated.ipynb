{
 "cells": [
  {
   "cell_type": "code",
   "execution_count": 1,
   "id": "1d38634e-efb9-4600-9613-596f9b325afc",
   "metadata": {
    "execution": {
     "iopub.execute_input": "2023-05-11T19:27:15.026535Z",
     "iopub.status.busy": "2023-05-11T19:27:15.026232Z",
     "iopub.status.idle": "2023-05-11T19:29:12.104624Z",
     "shell.execute_reply": "2023-05-11T19:29:12.103218Z",
     "shell.execute_reply.started": "2023-05-11T19:27:15.026503Z"
    }
   },
   "outputs": [
    {
     "name": "stdout",
     "output_type": "stream",
     "text": [
      "Requirement already satisfied: tensorflow in /usr/local/lib/python3.9/dist-packages (2.9.2)\n",
      "Requirement already satisfied: astunparse>=1.6.0 in /usr/local/lib/python3.9/dist-packages (from tensorflow) (1.6.3)\n",
      "Requirement already satisfied: gast<=0.4.0,>=0.2.1 in /usr/local/lib/python3.9/dist-packages (from tensorflow) (0.4.0)\n",
      "Requirement already satisfied: google-pasta>=0.1.1 in /usr/local/lib/python3.9/dist-packages (from tensorflow) (0.2.0)\n",
      "Requirement already satisfied: protobuf<3.20,>=3.9.2 in /usr/local/lib/python3.9/dist-packages (from tensorflow) (3.19.6)\n",
      "Requirement already satisfied: tensorboard<2.10,>=2.9 in /usr/local/lib/python3.9/dist-packages (from tensorflow) (2.9.1)\n",
      "Requirement already satisfied: numpy>=1.20 in /usr/local/lib/python3.9/dist-packages (from tensorflow) (1.23.4)\n",
      "Requirement already satisfied: wrapt>=1.11.0 in /usr/local/lib/python3.9/dist-packages (from tensorflow) (1.14.1)\n",
      "Requirement already satisfied: termcolor>=1.1.0 in /usr/local/lib/python3.9/dist-packages (from tensorflow) (2.2.0)\n",
      "Requirement already satisfied: flatbuffers<2,>=1.12 in /usr/local/lib/python3.9/dist-packages (from tensorflow) (1.12)\n",
      "Requirement already satisfied: keras-preprocessing>=1.1.1 in /usr/local/lib/python3.9/dist-packages (from tensorflow) (1.1.2)\n",
      "Requirement already satisfied: absl-py>=1.0.0 in /usr/local/lib/python3.9/dist-packages (from tensorflow) (1.4.0)\n",
      "Requirement already satisfied: tensorflow-io-gcs-filesystem>=0.23.1 in /usr/local/lib/python3.9/dist-packages (from tensorflow) (0.30.0)\n",
      "Requirement already satisfied: h5py>=2.9.0 in /usr/local/lib/python3.9/dist-packages (from tensorflow) (3.8.0)\n",
      "Requirement already satisfied: grpcio<2.0,>=1.24.3 in /usr/local/lib/python3.9/dist-packages (from tensorflow) (1.51.1)\n",
      "Requirement already satisfied: typing-extensions>=3.6.6 in /usr/local/lib/python3.9/dist-packages (from tensorflow) (4.4.0)\n",
      "Requirement already satisfied: libclang>=13.0.0 in /usr/local/lib/python3.9/dist-packages (from tensorflow) (15.0.6.1)\n",
      "Requirement already satisfied: packaging in /usr/local/lib/python3.9/dist-packages (from tensorflow) (23.0)\n",
      "Requirement already satisfied: opt-einsum>=2.3.2 in /usr/local/lib/python3.9/dist-packages (from tensorflow) (3.3.0)\n",
      "Requirement already satisfied: setuptools in /usr/local/lib/python3.9/dist-packages (from tensorflow) (66.1.1)\n",
      "Requirement already satisfied: keras<2.10.0,>=2.9.0rc0 in /usr/local/lib/python3.9/dist-packages (from tensorflow) (2.9.0)\n",
      "Requirement already satisfied: tensorflow-estimator<2.10.0,>=2.9.0rc0 in /usr/local/lib/python3.9/dist-packages (from tensorflow) (2.9.0)\n",
      "Requirement already satisfied: six>=1.12.0 in /usr/lib/python3/dist-packages (from tensorflow) (1.14.0)\n",
      "Requirement already satisfied: wheel<1.0,>=0.23.0 in /usr/local/lib/python3.9/dist-packages (from astunparse>=1.6.0->tensorflow) (0.35.1)\n",
      "Requirement already satisfied: google-auth-oauthlib<0.5,>=0.4.1 in /usr/local/lib/python3.9/dist-packages (from tensorboard<2.10,>=2.9->tensorflow) (0.4.6)\n",
      "Requirement already satisfied: requests<3,>=2.21.0 in /usr/local/lib/python3.9/dist-packages (from tensorboard<2.10,>=2.9->tensorflow) (2.28.2)\n",
      "Requirement already satisfied: tensorboard-data-server<0.7.0,>=0.6.0 in /usr/local/lib/python3.9/dist-packages (from tensorboard<2.10,>=2.9->tensorflow) (0.6.1)\n",
      "Requirement already satisfied: google-auth<3,>=1.6.3 in /usr/local/lib/python3.9/dist-packages (from tensorboard<2.10,>=2.9->tensorflow) (2.16.0)\n",
      "Requirement already satisfied: tensorboard-plugin-wit>=1.6.0 in /usr/local/lib/python3.9/dist-packages (from tensorboard<2.10,>=2.9->tensorflow) (1.8.1)\n",
      "Requirement already satisfied: markdown>=2.6.8 in /usr/local/lib/python3.9/dist-packages (from tensorboard<2.10,>=2.9->tensorflow) (3.4.1)\n",
      "Requirement already satisfied: werkzeug>=1.0.1 in /usr/local/lib/python3.9/dist-packages (from tensorboard<2.10,>=2.9->tensorflow) (2.2.2)\n",
      "Requirement already satisfied: cachetools<6.0,>=2.0.0 in /usr/local/lib/python3.9/dist-packages (from google-auth<3,>=1.6.3->tensorboard<2.10,>=2.9->tensorflow) (5.3.0)\n",
      "Requirement already satisfied: rsa<5,>=3.1.4 in /usr/local/lib/python3.9/dist-packages (from google-auth<3,>=1.6.3->tensorboard<2.10,>=2.9->tensorflow) (4.7.2)\n",
      "Requirement already satisfied: pyasn1-modules>=0.2.1 in /usr/local/lib/python3.9/dist-packages (from google-auth<3,>=1.6.3->tensorboard<2.10,>=2.9->tensorflow) (0.2.8)\n",
      "Requirement already satisfied: requests-oauthlib>=0.7.0 in /usr/local/lib/python3.9/dist-packages (from google-auth-oauthlib<0.5,>=0.4.1->tensorboard<2.10,>=2.9->tensorflow) (1.3.1)\n",
      "Requirement already satisfied: importlib-metadata>=4.4 in /usr/local/lib/python3.9/dist-packages (from markdown>=2.6.8->tensorboard<2.10,>=2.9->tensorflow) (6.0.0)\n",
      "Requirement already satisfied: charset-normalizer<4,>=2 in /usr/local/lib/python3.9/dist-packages (from requests<3,>=2.21.0->tensorboard<2.10,>=2.9->tensorflow) (2.1.1)\n",
      "Requirement already satisfied: urllib3<1.27,>=1.21.1 in /usr/local/lib/python3.9/dist-packages (from requests<3,>=2.21.0->tensorboard<2.10,>=2.9->tensorflow) (1.26.14)\n",
      "Requirement already satisfied: idna<4,>=2.5 in /usr/lib/python3/dist-packages (from requests<3,>=2.21.0->tensorboard<2.10,>=2.9->tensorflow) (2.8)\n",
      "Requirement already satisfied: certifi>=2017.4.17 in /usr/lib/python3/dist-packages (from requests<3,>=2.21.0->tensorboard<2.10,>=2.9->tensorflow) (2019.11.28)\n",
      "Requirement already satisfied: MarkupSafe>=2.1.1 in /usr/local/lib/python3.9/dist-packages (from werkzeug>=1.0.1->tensorboard<2.10,>=2.9->tensorflow) (2.1.2)\n",
      "Requirement already satisfied: zipp>=0.5 in /usr/local/lib/python3.9/dist-packages (from importlib-metadata>=4.4->markdown>=2.6.8->tensorboard<2.10,>=2.9->tensorflow) (3.11.0)\n",
      "Requirement already satisfied: pyasn1<0.5.0,>=0.4.6 in /usr/local/lib/python3.9/dist-packages (from pyasn1-modules>=0.2.1->google-auth<3,>=1.6.3->tensorboard<2.10,>=2.9->tensorflow) (0.4.8)\n",
      "Requirement already satisfied: oauthlib>=3.0.0 in /usr/local/lib/python3.9/dist-packages (from requests-oauthlib>=0.7.0->google-auth-oauthlib<0.5,>=0.4.1->tensorboard<2.10,>=2.9->tensorflow) (3.2.2)\n",
      "\u001b[33mWARNING: Running pip as the 'root' user can result in broken permissions and conflicting behaviour with the system package manager. It is recommended to use a virtual environment instead: https://pip.pypa.io/warnings/venv\u001b[0m\u001b[33m\n",
      "\u001b[0mCollecting tensorflow-federated==0.39\n",
      "  Downloading tensorflow_federated-0.39.0-py2.py3-none-any.whl (912 kB)\n",
      "\u001b[2K     \u001b[90m━━━━━━━━━━━━━━━━━━━━━━━━━━━━━━━━━━━━━━\u001b[0m \u001b[32m912.9/912.9 kB\u001b[0m \u001b[31m32.1 MB/s\u001b[0m eta \u001b[36m0:00:00\u001b[0m\n",
      "\u001b[?25hCollecting portpicker~=1.5\n",
      "  Downloading portpicker-1.5.2-py3-none-any.whl (14 kB)\n",
      "Collecting tensorflow-privacy==0.8.6\n",
      "  Downloading tensorflow_privacy-0.8.6-py3-none-any.whl (301 kB)\n",
      "\u001b[2K     \u001b[90m━━━━━━━━━━━━━━━━━━━━━━━━━━━━━━━━━━━━━━\u001b[0m \u001b[32m301.7/301.7 kB\u001b[0m \u001b[31m34.3 MB/s\u001b[0m eta \u001b[36m0:00:00\u001b[0m\n",
      "\u001b[?25hCollecting jaxlib==0.3.14\n",
      "  Downloading jaxlib-0.3.14-cp39-none-manylinux2014_x86_64.whl (71.3 MB)\n",
      "\u001b[2K     \u001b[90m━━━━━━━━━━━━━━━━━━━━━━━━━━━━━━━━━━━━━━━━\u001b[0m \u001b[32m71.3/71.3 MB\u001b[0m \u001b[31m11.1 MB/s\u001b[0m eta \u001b[36m0:00:00\u001b[0m00:01\u001b[0m00:01\u001b[0m\n",
      "\u001b[?25hCollecting dp-accounting==0.3.0\n",
      "  Downloading dp_accounting-0.3.0-py3-none-any.whl (89 kB)\n",
      "\u001b[2K     \u001b[90m━━━━━━━━━━━━━━━━━━━━━━━━━━━━━━━━━━━━━━━━\u001b[0m \u001b[32m89.9/89.9 kB\u001b[0m \u001b[31m22.7 MB/s\u001b[0m eta \u001b[36m0:00:00\u001b[0m\n",
      "\u001b[?25hCollecting dm-tree==0.1.7\n",
      "  Downloading dm_tree-0.1.7-cp39-cp39-manylinux_2_12_x86_64.manylinux2010_x86_64.whl (142 kB)\n",
      "\u001b[2K     \u001b[90m━━━━━━━━━━━━━━━━━━━━━━━━━━━━━━━━━━━━━━\u001b[0m \u001b[32m142.7/142.7 kB\u001b[0m \u001b[31m25.0 MB/s\u001b[0m eta \u001b[36m0:00:00\u001b[0m\n",
      "\u001b[?25hRequirement already satisfied: absl-py==1.*,>=1.0 in /usr/local/lib/python3.9/dist-packages (from tensorflow-federated==0.39) (1.4.0)\n",
      "Collecting jax==0.3.14\n",
      "  Downloading jax-0.3.14.tar.gz (990 kB)\n",
      "\u001b[2K     \u001b[90m━━━━━━━━━━━━━━━━━━━━━━━━━━━━━━━━━━━━━━\u001b[0m \u001b[32m990.1/990.1 kB\u001b[0m \u001b[31m75.3 MB/s\u001b[0m eta \u001b[36m0:00:00\u001b[0m\n",
      "\u001b[?25h  Preparing metadata (setup.py) ... \u001b[?25ldone\n",
      "\u001b[?25hRequirement already satisfied: tqdm~=4.64 in /usr/local/lib/python3.9/dist-packages (from tensorflow-federated==0.39) (4.64.1)\n",
      "Collecting cachetools~=3.1\n",
      "  Downloading cachetools-3.1.1-py2.py3-none-any.whl (11 kB)\n",
      "Collecting attrs~=21.4\n",
      "  Downloading attrs-21.4.0-py2.py3-none-any.whl (60 kB)\n",
      "\u001b[2K     \u001b[90m━━━━━━━━━━━━━━━━━━━━━━━━━━━━━━━━━━━━━━━━\u001b[0m \u001b[32m60.6/60.6 kB\u001b[0m \u001b[31m7.5 MB/s\u001b[0m eta \u001b[36m0:00:00\u001b[0m\n",
      "\u001b[?25hCollecting farmhashpy==0.4.0\n",
      "  Downloading farmhashpy-0.4.0-cp39-cp39-manylinux2010_x86_64.whl (120 kB)\n",
      "\u001b[2K     \u001b[90m━━━━━━━━━━━━━━━━━━━━━━━━━━━━━━━━━━━━━━\u001b[0m \u001b[32m120.2/120.2 kB\u001b[0m \u001b[31m14.5 MB/s\u001b[0m eta \u001b[36m0:00:00\u001b[0m\n",
      "\u001b[?25hRequirement already satisfied: grpcio~=1.46 in /usr/local/lib/python3.9/dist-packages (from tensorflow-federated==0.39) (1.51.1)\n",
      "Collecting tensorflow-compression~=2.10.0\n",
      "  Downloading tensorflow_compression-2.10.0-cp39-cp39-manylinux_2_17_x86_64.manylinux2014_x86_64.whl (255 kB)\n",
      "\u001b[2K     \u001b[90m━━━━━━━━━━━━━━━━━━━━━━━━━━━━━━━━━━━━━━\u001b[0m \u001b[32m255.4/255.4 kB\u001b[0m \u001b[31m47.3 MB/s\u001b[0m eta \u001b[36m0:00:00\u001b[0m\n",
      "\u001b[?25hCollecting tensorflow-model-optimization==0.7.3\n",
      "  Downloading tensorflow_model_optimization-0.7.3-py2.py3-none-any.whl (238 kB)\n",
      "\u001b[2K     \u001b[90m━━━━━━━━━━━━━━━━━━━━━━━━━━━━━━━━━━━━━━\u001b[0m \u001b[32m238.9/238.9 kB\u001b[0m \u001b[31m32.3 MB/s\u001b[0m eta \u001b[36m0:00:00\u001b[0m\n",
      "\u001b[?25hCollecting tensorflow~=2.10.0\n",
      "  Downloading tensorflow-2.10.1-cp39-cp39-manylinux_2_17_x86_64.manylinux2014_x86_64.whl (578.1 MB)\n",
      "\u001b[2K     \u001b[90m━━━━━━━━━━━━━━━━━━━━━━━━━━━━━━━━━━━━━━━\u001b[0m \u001b[32m578.1/578.1 MB\u001b[0m \u001b[31m2.0 MB/s\u001b[0m eta \u001b[36m0:00:00\u001b[0m00:01\u001b[0m00:01\u001b[0m\n",
      "\u001b[?25hCollecting semantic-version~=2.6\n",
      "  Downloading semantic_version-2.10.0-py2.py3-none-any.whl (15 kB)\n",
      "Requirement already satisfied: numpy~=1.21 in /usr/local/lib/python3.9/dist-packages (from tensorflow-federated==0.39) (1.23.4)\n",
      "Collecting absl-py==1.*,>=1.0\n",
      "  Downloading absl_py-1.0.0-py3-none-any.whl (126 kB)\n",
      "\u001b[2K     \u001b[90m━━━━━━━━━━━━━━━━━━━━━━━━━━━━━━━━━━━━━━\u001b[0m \u001b[32m126.7/126.7 kB\u001b[0m \u001b[31m26.5 MB/s\u001b[0m eta \u001b[36m0:00:00\u001b[0m\n",
      "\u001b[?25hCollecting scipy~=1.7.1\n",
      "  Downloading scipy-1.7.3-cp39-cp39-manylinux_2_17_x86_64.manylinux2014_x86_64.whl (39.8 MB)\n",
      "\u001b[2K     \u001b[90m━━━━━━━━━━━━━━━━━━━━━━━━━━━━━━━━━━━━━━━━\u001b[0m \u001b[32m39.8/39.8 MB\u001b[0m \u001b[31m22.3 MB/s\u001b[0m eta \u001b[36m0:00:00\u001b[0m00:01\u001b[0m00:01\u001b[0m\n",
      "\u001b[?25hCollecting mpmath~=1.2.1\n",
      "  Downloading mpmath-1.2.1-py3-none-any.whl (532 kB)\n",
      "\u001b[2K     \u001b[90m━━━━━━━━━━━━━━━━━━━━━━━━━━━━━━━━━━━━━━\u001b[0m \u001b[32m532.6/532.6 kB\u001b[0m \u001b[31m14.1 MB/s\u001b[0m eta \u001b[36m0:00:00\u001b[0m00:01\u001b[0m\n",
      "\u001b[?25hRequirement already satisfied: six in /usr/lib/python3/dist-packages (from absl-py==1.*,>=1.0->tensorflow-federated==0.39) (1.14.0)\n",
      "Requirement already satisfied: opt_einsum in /usr/local/lib/python3.9/dist-packages (from jax==0.3.14->tensorflow-federated==0.39) (3.3.0)\n",
      "Requirement already satisfied: typing_extensions in /usr/local/lib/python3.9/dist-packages (from jax==0.3.14->tensorflow-federated==0.39) (4.4.0)\n",
      "Requirement already satisfied: etils[epath] in /usr/local/lib/python3.9/dist-packages (from jax==0.3.14->tensorflow-federated==0.39) (1.0.0)\n",
      "Requirement already satisfied: flatbuffers<3.0,>=1.12 in /usr/local/lib/python3.9/dist-packages (from jaxlib==0.3.14->tensorflow-federated==0.39) (1.12)\n",
      "Requirement already satisfied: tensorflow-estimator~=2.4 in /usr/local/lib/python3.9/dist-packages (from tensorflow-privacy==0.8.6->tensorflow-federated==0.39) (2.9.0)\n",
      "Collecting tensorflow-probability==0.15.0\n",
      "  Downloading tensorflow_probability-0.15.0-py2.py3-none-any.whl (5.7 MB)\n",
      "\u001b[2K     \u001b[90m━━━━━━━━━━━━━━━━━━━━━━━━━━━━━━━━━━━━━━━━\u001b[0m \u001b[32m5.7/5.7 MB\u001b[0m \u001b[31m59.1 MB/s\u001b[0m eta \u001b[36m0:00:00\u001b[0m00:01\u001b[0m:00:01\u001b[0m\n",
      "\u001b[?25hRequirement already satisfied: scikit-learn==1.*,>=1.0 in /usr/local/lib/python3.9/dist-packages (from tensorflow-privacy==0.8.6->tensorflow-federated==0.39) (1.1.2)\n",
      "Collecting tensorflow-datasets~=4.5\n",
      "  Downloading tensorflow_datasets-4.9.2-py3-none-any.whl (5.4 MB)\n",
      "\u001b[2K     \u001b[90m━━━━━━━━━━━━━━━━━━━━━━━━━━━━━━━━━━━━━━━━\u001b[0m \u001b[32m5.4/5.4 MB\u001b[0m \u001b[31m49.8 MB/s\u001b[0m eta \u001b[36m0:00:00\u001b[0m:00:01\u001b[0m\n",
      "\u001b[?25hRequirement already satisfied: matplotlib~=3.3 in /usr/local/lib/python3.9/dist-packages (from tensorflow-privacy==0.8.6->tensorflow-federated==0.39) (3.6.1)\n",
      "Requirement already satisfied: pandas~=1.4 in /usr/local/lib/python3.9/dist-packages (from tensorflow-privacy==0.8.6->tensorflow-federated==0.39) (1.5.0)\n",
      "Requirement already satisfied: joblib>=1.0.0 in /usr/local/lib/python3.9/dist-packages (from scikit-learn==1.*,>=1.0->tensorflow-privacy==0.8.6->tensorflow-federated==0.39) (1.2.0)\n",
      "Requirement already satisfied: threadpoolctl>=2.0.0 in /usr/local/lib/python3.9/dist-packages (from scikit-learn==1.*,>=1.0->tensorflow-privacy==0.8.6->tensorflow-federated==0.39) (3.1.0)\n",
      "Requirement already satisfied: decorator in /usr/local/lib/python3.9/dist-packages (from tensorflow-probability==0.15.0->tensorflow-privacy==0.8.6->tensorflow-federated==0.39) (5.1.1)\n",
      "Requirement already satisfied: gast>=0.3.2 in /usr/local/lib/python3.9/dist-packages (from tensorflow-probability==0.15.0->tensorflow-privacy==0.8.6->tensorflow-federated==0.39) (0.4.0)\n",
      "Requirement already satisfied: cloudpickle>=1.3 in /usr/local/lib/python3.9/dist-packages (from tensorflow-probability==0.15.0->tensorflow-privacy==0.8.6->tensorflow-federated==0.39) (2.2.0)\n",
      "Requirement already satisfied: psutil in /usr/local/lib/python3.9/dist-packages (from portpicker~=1.5->tensorflow-federated==0.39) (5.9.4)\n",
      "Requirement already satisfied: astunparse>=1.6.0 in /usr/local/lib/python3.9/dist-packages (from tensorflow~=2.10.0->tensorflow-federated==0.39) (1.6.3)\n",
      "Requirement already satisfied: google-pasta>=0.1.1 in /usr/local/lib/python3.9/dist-packages (from tensorflow~=2.10.0->tensorflow-federated==0.39) (0.2.0)\n",
      "Requirement already satisfied: setuptools in /usr/local/lib/python3.9/dist-packages (from tensorflow~=2.10.0->tensorflow-federated==0.39) (66.1.1)\n",
      "Collecting tensorboard<2.11,>=2.10\n",
      "  Downloading tensorboard-2.10.1-py3-none-any.whl (5.9 MB)\n",
      "\u001b[2K     \u001b[90m━━━━━━━━━━━━━━━━━━━━━━━━━━━━━━━━━━━━━━━━\u001b[0m \u001b[32m5.9/5.9 MB\u001b[0m \u001b[31m53.6 MB/s\u001b[0m eta \u001b[36m0:00:00\u001b[0mta \u001b[36m0:00:01\u001b[0m\n",
      "\u001b[?25hRequirement already satisfied: termcolor>=1.1.0 in /usr/local/lib/python3.9/dist-packages (from tensorflow~=2.10.0->tensorflow-federated==0.39) (2.2.0)\n",
      "Requirement already satisfied: packaging in /usr/local/lib/python3.9/dist-packages (from tensorflow~=2.10.0->tensorflow-federated==0.39) (23.0)\n",
      "Requirement already satisfied: tensorflow-io-gcs-filesystem>=0.23.1 in /usr/local/lib/python3.9/dist-packages (from tensorflow~=2.10.0->tensorflow-federated==0.39) (0.30.0)\n",
      "Collecting flatbuffers<3.0,>=1.12\n",
      "  Downloading flatbuffers-2.0.7-py2.py3-none-any.whl (26 kB)\n",
      "Requirement already satisfied: protobuf<3.20,>=3.9.2 in /usr/local/lib/python3.9/dist-packages (from tensorflow~=2.10.0->tensorflow-federated==0.39) (3.19.6)\n",
      "Requirement already satisfied: wrapt>=1.11.0 in /usr/local/lib/python3.9/dist-packages (from tensorflow~=2.10.0->tensorflow-federated==0.39) (1.14.1)\n",
      "Requirement already satisfied: libclang>=13.0.0 in /usr/local/lib/python3.9/dist-packages (from tensorflow~=2.10.0->tensorflow-federated==0.39) (15.0.6.1)\n",
      "Collecting keras<2.11,>=2.10.0\n",
      "  Downloading keras-2.10.0-py2.py3-none-any.whl (1.7 MB)\n",
      "\u001b[2K     \u001b[90m━━━━━━━━━━━━━━━━━━━━━━━━━━━━━━━━━━━━━━━━\u001b[0m \u001b[32m1.7/1.7 MB\u001b[0m \u001b[31m103.2 MB/s\u001b[0m eta \u001b[36m0:00:00\u001b[0m\n",
      "\u001b[?25hRequirement already satisfied: keras-preprocessing>=1.1.1 in /usr/local/lib/python3.9/dist-packages (from tensorflow~=2.10.0->tensorflow-federated==0.39) (1.1.2)\n",
      "Collecting tensorflow-estimator~=2.4\n",
      "  Downloading tensorflow_estimator-2.10.0-py2.py3-none-any.whl (438 kB)\n",
      "\u001b[2K     \u001b[90m━━━━━━━━━━━━━━━━━━━━━━━━━━━━━━━━━━━━━━\u001b[0m \u001b[32m438.7/438.7 kB\u001b[0m \u001b[31m67.2 MB/s\u001b[0m eta \u001b[36m0:00:00\u001b[0m\n",
      "\u001b[?25hRequirement already satisfied: h5py>=2.9.0 in /usr/local/lib/python3.9/dist-packages (from tensorflow~=2.10.0->tensorflow-federated==0.39) (3.8.0)\n",
      "Requirement already satisfied: wheel<1.0,>=0.23.0 in /usr/local/lib/python3.9/dist-packages (from astunparse>=1.6.0->tensorflow~=2.10.0->tensorflow-federated==0.39) (0.35.1)\n",
      "Requirement already satisfied: fonttools>=4.22.0 in /usr/local/lib/python3.9/dist-packages (from matplotlib~=3.3->tensorflow-privacy==0.8.6->tensorflow-federated==0.39) (4.38.0)\n",
      "Requirement already satisfied: kiwisolver>=1.0.1 in /usr/local/lib/python3.9/dist-packages (from matplotlib~=3.3->tensorflow-privacy==0.8.6->tensorflow-federated==0.39) (1.4.4)\n",
      "Requirement already satisfied: pyparsing>=2.2.1 in /usr/local/lib/python3.9/dist-packages (from matplotlib~=3.3->tensorflow-privacy==0.8.6->tensorflow-federated==0.39) (3.0.9)\n",
      "Requirement already satisfied: contourpy>=1.0.1 in /usr/local/lib/python3.9/dist-packages (from matplotlib~=3.3->tensorflow-privacy==0.8.6->tensorflow-federated==0.39) (1.0.7)\n",
      "Requirement already satisfied: cycler>=0.10 in /usr/local/lib/python3.9/dist-packages (from matplotlib~=3.3->tensorflow-privacy==0.8.6->tensorflow-federated==0.39) (0.11.0)\n",
      "Requirement already satisfied: python-dateutil>=2.7 in /usr/local/lib/python3.9/dist-packages (from matplotlib~=3.3->tensorflow-privacy==0.8.6->tensorflow-federated==0.39) (2.8.2)\n",
      "Requirement already satisfied: pillow>=6.2.0 in /usr/local/lib/python3.9/dist-packages (from matplotlib~=3.3->tensorflow-privacy==0.8.6->tensorflow-federated==0.39) (9.2.0)\n",
      "Requirement already satisfied: pytz>=2020.1 in /usr/local/lib/python3.9/dist-packages (from pandas~=1.4->tensorflow-privacy==0.8.6->tensorflow-federated==0.39) (2022.7.1)\n",
      "Collecting numpy~=1.21\n",
      "  Downloading numpy-1.22.4-cp39-cp39-manylinux_2_17_x86_64.manylinux2014_x86_64.whl (16.8 MB)\n",
      "\u001b[2K     \u001b[90m━━━━━━━━━━━━━━━━━━━━━━━━━━━━━━━━━━━━━━━━\u001b[0m \u001b[32m16.8/16.8 MB\u001b[0m \u001b[31m43.6 MB/s\u001b[0m eta \u001b[36m0:00:00\u001b[0m00:01\u001b[0m00:01\u001b[0m\n",
      "\u001b[?25hRequirement already satisfied: google-auth<3,>=1.6.3 in /usr/local/lib/python3.9/dist-packages (from tensorboard<2.11,>=2.10->tensorflow~=2.10.0->tensorflow-federated==0.39) (2.16.0)\n",
      "Requirement already satisfied: tensorboard-data-server<0.7.0,>=0.6.0 in /usr/local/lib/python3.9/dist-packages (from tensorboard<2.11,>=2.10->tensorflow~=2.10.0->tensorflow-federated==0.39) (0.6.1)\n",
      "Requirement already satisfied: tensorboard-plugin-wit>=1.6.0 in /usr/local/lib/python3.9/dist-packages (from tensorboard<2.11,>=2.10->tensorflow~=2.10.0->tensorflow-federated==0.39) (1.8.1)\n",
      "Requirement already satisfied: markdown>=2.6.8 in /usr/local/lib/python3.9/dist-packages (from tensorboard<2.11,>=2.10->tensorflow~=2.10.0->tensorflow-federated==0.39) (3.4.1)\n",
      "Requirement already satisfied: werkzeug>=1.0.1 in /usr/local/lib/python3.9/dist-packages (from tensorboard<2.11,>=2.10->tensorflow~=2.10.0->tensorflow-federated==0.39) (2.2.2)\n",
      "Requirement already satisfied: requests<3,>=2.21.0 in /usr/local/lib/python3.9/dist-packages (from tensorboard<2.11,>=2.10->tensorflow~=2.10.0->tensorflow-federated==0.39) (2.28.2)\n",
      "Requirement already satisfied: google-auth-oauthlib<0.5,>=0.4.1 in /usr/local/lib/python3.9/dist-packages (from tensorboard<2.11,>=2.10->tensorflow~=2.10.0->tensorflow-federated==0.39) (0.4.6)\n",
      "Collecting tensorflow-datasets~=4.5\n",
      "  Downloading tensorflow_datasets-4.9.1-py3-none-any.whl (5.4 MB)\n",
      "\u001b[2K     \u001b[90m━━━━━━━━━━━━━━━━━━━━━━━━━━━━━━━━━━━━━━━━\u001b[0m \u001b[32m5.4/5.4 MB\u001b[0m \u001b[31m42.9 MB/s\u001b[0m eta \u001b[36m0:00:00\u001b[0m00:01\u001b[0m:00:01\u001b[0m\n",
      "\u001b[?25h  Downloading tensorflow_datasets-4.9.0-py3-none-any.whl (5.4 MB)\n",
      "\u001b[2K     \u001b[90m━━━━━━━━━━━━━━━━━━━━━━━━━━━━━━━━━━━━━━━━\u001b[0m \u001b[32m5.4/5.4 MB\u001b[0m \u001b[31m46.5 MB/s\u001b[0m eta \u001b[36m0:00:00\u001b[0ma \u001b[36m0:00:01\u001b[0m\n",
      "\u001b[?25hCollecting tensorflow-metadata\n",
      "  Downloading tensorflow_metadata-1.13.1-py3-none-any.whl (28 kB)\n",
      "Collecting toml\n",
      "  Downloading toml-0.10.2-py2.py3-none-any.whl (16 kB)\n",
      "Collecting array-record\n",
      "  Downloading array_record-0.2.0-py39-none-any.whl (3.0 MB)\n",
      "\u001b[2K     \u001b[90m━━━━━━━━━━━━━━━━━━━━━━━━━━━━━━━━━━━━━━━━\u001b[0m \u001b[32m3.0/3.0 MB\u001b[0m \u001b[31m49.7 MB/s\u001b[0m eta \u001b[36m0:00:00\u001b[0m:00:01\u001b[0m\n",
      "\u001b[?25hRequirement already satisfied: promise in /usr/local/lib/python3.9/dist-packages (from tensorflow-datasets~=4.5->tensorflow-privacy==0.8.6->tensorflow-federated==0.39) (2.3)\n",
      "Requirement already satisfied: click in /usr/local/lib/python3.9/dist-packages (from tensorflow-datasets~=4.5->tensorflow-privacy==0.8.6->tensorflow-federated==0.39) (8.1.3)\n",
      "Requirement already satisfied: zipp in /usr/local/lib/python3.9/dist-packages (from etils[epath]->jax==0.3.14->tensorflow-federated==0.39) (3.11.0)\n",
      "Requirement already satisfied: importlib_resources in /usr/local/lib/python3.9/dist-packages (from etils[epath]->jax==0.3.14->tensorflow-federated==0.39) (5.10.2)\n",
      "Requirement already satisfied: pyasn1-modules>=0.2.1 in /usr/local/lib/python3.9/dist-packages (from google-auth<3,>=1.6.3->tensorboard<2.11,>=2.10->tensorflow~=2.10.0->tensorflow-federated==0.39) (0.2.8)\n",
      "Requirement already satisfied: rsa<5,>=3.1.4 in /usr/local/lib/python3.9/dist-packages (from google-auth<3,>=1.6.3->tensorboard<2.11,>=2.10->tensorflow~=2.10.0->tensorflow-federated==0.39) (4.7.2)\n",
      "Requirement already satisfied: requests-oauthlib>=0.7.0 in /usr/local/lib/python3.9/dist-packages (from google-auth-oauthlib<0.5,>=0.4.1->tensorboard<2.11,>=2.10->tensorflow~=2.10.0->tensorflow-federated==0.39) (1.3.1)\n",
      "Requirement already satisfied: importlib-metadata>=4.4 in /usr/local/lib/python3.9/dist-packages (from markdown>=2.6.8->tensorboard<2.11,>=2.10->tensorflow~=2.10.0->tensorflow-federated==0.39) (6.0.0)\n",
      "Requirement already satisfied: certifi>=2017.4.17 in /usr/lib/python3/dist-packages (from requests<3,>=2.21.0->tensorboard<2.11,>=2.10->tensorflow~=2.10.0->tensorflow-federated==0.39) (2019.11.28)\n",
      "Requirement already satisfied: charset-normalizer<4,>=2 in /usr/local/lib/python3.9/dist-packages (from requests<3,>=2.21.0->tensorboard<2.11,>=2.10->tensorflow~=2.10.0->tensorflow-federated==0.39) (2.1.1)\n",
      "Requirement already satisfied: idna<4,>=2.5 in /usr/lib/python3/dist-packages (from requests<3,>=2.21.0->tensorboard<2.11,>=2.10->tensorflow~=2.10.0->tensorflow-federated==0.39) (2.8)\n",
      "Requirement already satisfied: urllib3<1.27,>=1.21.1 in /usr/local/lib/python3.9/dist-packages (from requests<3,>=2.21.0->tensorboard<2.11,>=2.10->tensorflow~=2.10.0->tensorflow-federated==0.39) (1.26.14)\n",
      "Requirement already satisfied: MarkupSafe>=2.1.1 in /usr/local/lib/python3.9/dist-packages (from werkzeug>=1.0.1->tensorboard<2.11,>=2.10->tensorflow~=2.10.0->tensorflow-federated==0.39) (2.1.2)\n",
      "Collecting googleapis-common-protos<2,>=1.52.0\n",
      "  Downloading googleapis_common_protos-1.59.0-py2.py3-none-any.whl (223 kB)\n",
      "\u001b[2K     \u001b[90m━━━━━━━━━━━━━━━━━━━━━━━━━━━━━━━━━━━━━━\u001b[0m \u001b[32m223.6/223.6 kB\u001b[0m \u001b[31m40.9 MB/s\u001b[0m eta \u001b[36m0:00:00\u001b[0m\n",
      "\u001b[?25hCollecting tensorflow-metadata\n",
      "  Downloading tensorflow_metadata-1.13.0-py3-none-any.whl (53 kB)\n",
      "\u001b[2K     \u001b[90m━━━━━━━━━━━━━━━━━━━━━━━━━━━━━━━━━━━━━━━━\u001b[0m \u001b[32m53.3/53.3 kB\u001b[0m \u001b[31m11.3 MB/s\u001b[0m eta \u001b[36m0:00:00\u001b[0m\n",
      "\u001b[?25hRequirement already satisfied: pyasn1<0.5.0,>=0.4.6 in /usr/local/lib/python3.9/dist-packages (from pyasn1-modules>=0.2.1->google-auth<3,>=1.6.3->tensorboard<2.11,>=2.10->tensorflow~=2.10.0->tensorflow-federated==0.39) (0.4.8)\n",
      "Requirement already satisfied: oauthlib>=3.0.0 in /usr/local/lib/python3.9/dist-packages (from requests-oauthlib>=0.7.0->google-auth-oauthlib<0.5,>=0.4.1->tensorboard<2.11,>=2.10->tensorflow~=2.10.0->tensorflow-federated==0.39) (3.2.2)\n",
      "Building wheels for collected packages: jax\n",
      "  Building wheel for jax (setup.py) ... \u001b[?25ldone\n",
      "\u001b[?25h  Created wheel for jax: filename=jax-0.3.14-py3-none-any.whl size=1147569 sha256=8e6a919583cdddc5d3b28b27ae20d2bcb7ab8296c81d7c09fe2a6bf92ff09368\n",
      "  Stored in directory: /root/.cache/pip/wheels/3d/22/cf/75c40ec058e8d0f9b8427cd35366e1fd618475451fc8fc6fd7\n",
      "Successfully built jax\n",
      "Installing collected packages: mpmath, keras, flatbuffers, dm-tree, cachetools, toml, tensorflow-estimator, semantic-version, portpicker, numpy, googleapis-common-protos, farmhashpy, attrs, absl-py, tensorflow-probability, tensorflow-model-optimization, tensorflow-metadata, scipy, jaxlib, jax, dp-accounting, array-record, tensorflow-datasets, tensorboard, tensorflow, tensorflow-privacy, tensorflow-compression, tensorflow-federated\n",
      "  Attempting uninstall: keras\n",
      "    Found existing installation: keras 2.9.0\n",
      "    Uninstalling keras-2.9.0:\n",
      "      Successfully uninstalled keras-2.9.0\n",
      "  Attempting uninstall: flatbuffers\n",
      "    Found existing installation: flatbuffers 1.12\n",
      "    Uninstalling flatbuffers-1.12:\n",
      "      Successfully uninstalled flatbuffers-1.12\n",
      "  Attempting uninstall: dm-tree\n",
      "    Found existing installation: dm-tree 0.1.8\n",
      "    Uninstalling dm-tree-0.1.8:\n",
      "      Successfully uninstalled dm-tree-0.1.8\n",
      "  Attempting uninstall: cachetools\n",
      "    Found existing installation: cachetools 5.3.0\n",
      "    Uninstalling cachetools-5.3.0:\n",
      "      Successfully uninstalled cachetools-5.3.0\n",
      "  Attempting uninstall: tensorflow-estimator\n",
      "    Found existing installation: tensorflow-estimator 2.9.0\n",
      "    Uninstalling tensorflow-estimator-2.9.0:\n",
      "      Successfully uninstalled tensorflow-estimator-2.9.0\n",
      "  Attempting uninstall: numpy\n",
      "    Found existing installation: numpy 1.23.4\n",
      "    Uninstalling numpy-1.23.4:\n",
      "      Successfully uninstalled numpy-1.23.4\n",
      "  Attempting uninstall: attrs\n",
      "    Found existing installation: attrs 18.2.0\n",
      "    Uninstalling attrs-18.2.0:\n",
      "      Successfully uninstalled attrs-18.2.0\n",
      "  Attempting uninstall: absl-py\n",
      "    Found existing installation: absl-py 1.4.0\n",
      "    Uninstalling absl-py-1.4.0:\n",
      "      Successfully uninstalled absl-py-1.4.0\n",
      "  Attempting uninstall: scipy\n",
      "    Found existing installation: scipy 1.9.2\n",
      "    Uninstalling scipy-1.9.2:\n",
      "      Successfully uninstalled scipy-1.9.2\n",
      "  Attempting uninstall: jaxlib\n",
      "    Found existing installation: jaxlib 0.4.1+cuda11.cudnn82\n",
      "    Uninstalling jaxlib-0.4.1+cuda11.cudnn82:\n",
      "      Successfully uninstalled jaxlib-0.4.1+cuda11.cudnn82\n",
      "  Attempting uninstall: jax\n",
      "    Found existing installation: jax 0.4.1\n",
      "    Uninstalling jax-0.4.1:\n",
      "      Successfully uninstalled jax-0.4.1\n",
      "  Attempting uninstall: tensorboard\n",
      "    Found existing installation: tensorboard 2.9.1\n",
      "    Uninstalling tensorboard-2.9.1:\n",
      "      Successfully uninstalled tensorboard-2.9.1\n",
      "  Attempting uninstall: tensorflow\n",
      "    Found existing installation: tensorflow 2.9.2\n",
      "    Uninstalling tensorflow-2.9.2:\n",
      "      Successfully uninstalled tensorflow-2.9.2\n",
      "\u001b[31mERROR: pip's dependency resolver does not currently take into account all the packages that are installed. This behaviour is the source of the following dependency conflicts.\n",
      "gradient 2.0.6 requires attrs<=19, but you have attrs 21.4.0 which is incompatible.\n",
      "flax 0.6.3 requires jax>=0.3.16, but you have jax 0.3.14 which is incompatible.\u001b[0m\u001b[31m\n",
      "\u001b[0mSuccessfully installed absl-py-1.0.0 array-record-0.2.0 attrs-21.4.0 cachetools-3.1.1 dm-tree-0.1.7 dp-accounting-0.3.0 farmhashpy-0.4.0 flatbuffers-2.0.7 googleapis-common-protos-1.59.0 jax-0.3.14 jaxlib-0.3.14 keras-2.10.0 mpmath-1.2.1 numpy-1.22.4 portpicker-1.5.2 scipy-1.7.3 semantic-version-2.10.0 tensorboard-2.10.1 tensorflow-2.10.1 tensorflow-compression-2.10.0 tensorflow-datasets-4.9.0 tensorflow-estimator-2.10.0 tensorflow-federated-0.39.0 tensorflow-metadata-1.13.0 tensorflow-model-optimization-0.7.3 tensorflow-privacy-0.8.6 tensorflow-probability-0.15.0 toml-0.10.2\n",
      "\u001b[33mWARNING: Running pip as the 'root' user can result in broken permissions and conflicting behaviour with the system package manager. It is recommended to use a virtual environment instead: https://pip.pypa.io/warnings/venv\u001b[0m\u001b[33m\n",
      "\u001b[0m"
     ]
    }
   ],
   "source": [
    "!pip install tensorflow\n",
    "!pip install tensorflow-federated==0.39"
   ]
  },
  {
   "cell_type": "code",
   "execution_count": 2,
   "id": "5c32bda9-994b-4a5b-8a66-6b57e16f280d",
   "metadata": {
    "execution": {
     "iopub.execute_input": "2023-05-11T19:29:12.110144Z",
     "iopub.status.busy": "2023-05-11T19:29:12.109868Z",
     "iopub.status.idle": "2023-05-11T19:29:20.760083Z",
     "shell.execute_reply": "2023-05-11T19:29:20.759247Z",
     "shell.execute_reply.started": "2023-05-11T19:29:12.110120Z"
    }
   },
   "outputs": [
    {
     "name": "stderr",
     "output_type": "stream",
     "text": [
      "2023-05-11 19:29:12.551344: I tensorflow/core/platform/cpu_feature_guard.cc:193] This TensorFlow binary is optimized with oneAPI Deep Neural Network Library (oneDNN) to use the following CPU instructions in performance-critical operations:  AVX2 FMA\n",
      "To enable them in other operations, rebuild TensorFlow with the appropriate compiler flags.\n",
      "2023-05-11 19:29:13.111233: E tensorflow/stream_executor/cuda/cuda_blas.cc:2981] Unable to register cuBLAS factory: Attempting to register factory for plugin cuBLAS when one has already been registered\n",
      "2023-05-11 19:29:14.276675: W tensorflow/stream_executor/platform/default/dso_loader.cc:64] Could not load dynamic library 'libnvinfer.so.7'; dlerror: libnvinfer.so.7: cannot open shared object file: No such file or directory; LD_LIBRARY_PATH: /usr/local/cuda-11.6/lib64\n",
      "2023-05-11 19:29:14.276827: W tensorflow/stream_executor/platform/default/dso_loader.cc:64] Could not load dynamic library 'libnvinfer_plugin.so.7'; dlerror: libnvinfer_plugin.so.7: cannot open shared object file: No such file or directory; LD_LIBRARY_PATH: /usr/local/cuda-11.6/lib64\n",
      "2023-05-11 19:29:14.276838: W tensorflow/compiler/tf2tensorrt/utils/py_utils.cc:38] TF-TRT Warning: Cannot dlopen some TensorRT libraries. If you would like to use Nvidia GPU with TensorRT, please make sure the missing libraries mentioned above are installed properly.\n"
     ]
    }
   ],
   "source": [
    "import collections\n",
    "import numpy as np\n",
    "import tensorflow as tf\n",
    "import tensorflow_federated as tff\n",
    "import keras\n",
    "import pandas as pd\n",
    "import matplotlib.pyplot as plt\n",
    "import os\n",
    "from tensorflow.keras.callbacks import TensorBoard\n",
    "from keras.models import Sequential\n",
    "from keras.layers import Conv2D, MaxPooling2D, Flatten, Dense, Dropout\n",
    "\n",
    "%load_ext tensorboard"
   ]
  },
  {
   "cell_type": "code",
   "execution_count": 4,
   "id": "32217643-0bbe-4bba-a613-f22984cc2c37",
   "metadata": {
    "execution": {
     "iopub.execute_input": "2023-04-10T09:23:14.628561Z",
     "iopub.status.busy": "2023-04-10T09:23:14.628097Z",
     "iopub.status.idle": "2023-04-10T09:23:18.410780Z",
     "shell.execute_reply": "2023-04-10T09:23:18.409870Z",
     "shell.execute_reply.started": "2023-04-10T09:23:14.628532Z"
    }
   },
   "outputs": [
    {
     "name": "stdout",
     "output_type": "stream",
     "text": [
      "\u001b[33mWARNING: Running pip as the 'root' user can result in broken permissions and conflicting behaviour with the system package manager. It is recommended to use a virtual environment instead: https://pip.pypa.io/warnings/venv\u001b[0m\u001b[33m\n",
      "\u001b[0m"
     ]
    }
   ],
   "source": [
    "! pip install kaggle -q"
   ]
  },
  {
   "cell_type": "code",
   "execution_count": 8,
   "id": "a1782ca4-399e-4883-beba-510541b68521",
   "metadata": {
    "execution": {
     "iopub.execute_input": "2023-04-10T09:28:07.110831Z",
     "iopub.status.busy": "2023-04-10T09:28:07.109397Z",
     "iopub.status.idle": "2023-04-10T09:28:25.968454Z",
     "shell.execute_reply": "2023-04-10T09:28:25.967450Z",
     "shell.execute_reply.started": "2023-04-10T09:28:07.110798Z"
    }
   },
   "outputs": [
    {
     "name": "stdout",
     "output_type": "stream",
     "text": [
      "mkdir: cannot create directory ‘/root/.kaggle’: File exists\n",
      "Downloading brain-tumor.zip to /notebooks\n",
      "100%|███████████████████████████████████████▉| 699M/700M [00:08<00:00, 94.9MB/s]\n",
      "100%|████████████████████████████████████████| 700M/700M [00:08<00:00, 85.3MB/s]\n"
     ]
    }
   ],
   "source": [
    "#Download and unzip Kaggle dataset\n",
    "\n",
    "! mkdir ~/.kaggle\n",
    "! cp kaggle.json ~/.kaggle/\n",
    "! chmod 600 ~/.kaggle/kaggle.json\n",
    "\n",
    "\n",
    "!kaggle datasets download yuweisunut/sidd-segmented-intrusion-detection-dataset\n",
    "!unzip -q sidd-segmented-intrusion-detection-dataset"
   ]
  },
  {
   "cell_type": "code",
   "execution_count": 3,
   "id": "806a0f65-d655-4176-a5a4-2bdbcea47b2e",
   "metadata": {
    "execution": {
     "iopub.execute_input": "2023-05-11T19:29:20.766000Z",
     "iopub.status.busy": "2023-05-11T19:29:20.765145Z",
     "iopub.status.idle": "2023-05-11T19:29:20.770560Z",
     "shell.execute_reply": "2023-05-11T19:29:20.769739Z",
     "shell.execute_reply.started": "2023-05-11T19:29:20.765967Z"
    }
   },
   "outputs": [],
   "source": [
    "NUM_CLIENTS = 15\n",
    "NUM_EPOCHS = 7\n",
    "BATCH_SIZE = 32\n",
    "SHUFFLE_BUFFER = 400\n",
    "PREFETCH_BUFFER = tf.data.AUTOTUNE"
   ]
  },
  {
   "cell_type": "code",
   "execution_count": 5,
   "id": "a349716a-5d1c-4455-ab7b-b827c437239c",
   "metadata": {
    "execution": {
     "iopub.execute_input": "2023-05-11T19:40:58.842538Z",
     "iopub.status.busy": "2023-05-11T19:40:58.842191Z",
     "iopub.status.idle": "2023-05-11T19:41:09.893809Z",
     "shell.execute_reply": "2023-05-11T19:41:09.893110Z",
     "shell.execute_reply.started": "2023-05-11T19:40:58.842514Z"
    }
   },
   "outputs": [
    {
     "name": "stdout",
     "output_type": "stream",
     "text": [
      "Weight for class 0: 0.57\n",
      "Weight for class 1: 4.08\n",
      "42395\n"
     ]
    }
   ],
   "source": [
    "directory = 'SIDD'\n",
    "client_id = 0\n",
    "imgs = {}\n",
    "uid = 0\n",
    "label_counts = {0: 0, 1: 0}\n",
    "\n",
    "for client in os.listdir(directory):\n",
    "    curr_path = f'{directory}/{client}/pcap'\n",
    "\n",
    "    for subdir in os.listdir(curr_path):\n",
    "        curr_path = f'{directory}/{client}/pcap/{subdir}/dataset'\n",
    "        curr_type = subdir[-1:]\n",
    "        if curr_type == str(1):\n",
    "            for dayscen in os.listdir(curr_path):\n",
    "                curr_path = f'{directory}/{client}/pcap/{subdir}/dataset/{dayscen}'\n",
    "                for i, img in enumerate(os.listdir(curr_path)):\n",
    "                    if i == 45:\n",
    "                       break\n",
    "                    if dayscen == 'benign':\n",
    "                        label = 0\n",
    "                        imgs[uid] = {'id': uid, 'client_id': client_id, 'label': str(label), 'fn': img, 'path': curr_path + '/' + img}\n",
    "                        uid +=1\n",
    "                        label_counts[label] += 1\n",
    "                    elif dayscen == 'malicious':\n",
    "                        label = 1\n",
    "                        imgs[uid] = {'id': uid, 'client_id': client_id, 'label': str(label), 'fn': img, 'path': curr_path + '/' + img}\n",
    "                        uid += 1\n",
    "                        label_counts[label] += 1\n",
    "    client_id += 1\n",
    "\n",
    "total = label_counts[1] + label_counts[0]\n",
    "neg = label_counts[0]\n",
    "pos = label_counts[1]\n",
    "\n",
    "weight_for_0 = (1 / neg) * (total / 2.0)\n",
    "weight_for_1 = (1 / pos) * (total / 2.0)\n",
    "\n",
    "class_weight = {0: weight_for_0, 1: weight_for_1}\n",
    "\n",
    "print('Weight for class 0: {:.2f}'.format(weight_for_0))\n",
    "print('Weight for class 1: {:.2f}'.format(weight_for_1))\n",
    "\n",
    "img_df = pd.DataFrame.from_dict(imgs,orient='index')\n",
    "img_df['label'] = img_df['label'].astype(int)\n",
    "#img_df.loc[img_df.index[(img_df['label']==3)],'label'] = 2\n",
    "\n",
    "file_paths = img_df.path\n",
    "file_labels = img_df[\"label\"].values.reshape(-1, 1)\n",
    "client_ids = img_df[\"client_id\"]  \n",
    "    \n",
    "X = file_paths\n",
    "y = file_labels\n",
    "client_ds = tf.data.Dataset.from_tensor_slices((X, y, client_ids))\n",
    "test_size = 0.2\n",
    "train_size = 1 - test_size\n",
    "ds_length = tf.data.experimental.cardinality(client_ds).numpy()\n",
    "num_test_samples = int(test_size * ds_length)\n",
    "\n",
    "#train_ds = client_ds\n",
    "train_ds = client_ds.take(train_size * ds_length)\n",
    "test_ds = client_ds.skip(train_size * ds_length)\n",
    "\n",
    "\n",
    "print(train_ds.cardinality().numpy())"
   ]
  },
  {
   "cell_type": "code",
   "execution_count": 5,
   "id": "84e714da-e5e7-4877-a685-fc7efd3ecf6b",
   "metadata": {
    "execution": {
     "iopub.execute_input": "2023-04-10T10:16:01.541147Z",
     "iopub.status.busy": "2023-04-10T10:16:01.540946Z",
     "iopub.status.idle": "2023-04-10T10:16:01.545171Z",
     "shell.execute_reply": "2023-04-10T10:16:01.544523Z",
     "shell.execute_reply.started": "2023-04-10T10:16:01.541147Z"
    }
   },
   "outputs": [],
   "source": [
    "def _parse_function(filename, label):\n",
    "    image_string = tf.io.read_file(filename)\n",
    "    image_decoded = tf.image.decode_jpeg(image_string, channels=1)\n",
    "    image = tf.cast(image_decoded, tf.float32)\n",
    "    image /= 255.0\n",
    "    label = tf.reshape(label, [1])\n",
    "    return image, label"
   ]
  },
  {
   "cell_type": "code",
   "execution_count": 6,
   "id": "622e34ea-a75c-4c1d-99cb-ee5d71458902",
   "metadata": {
    "execution": {
     "iopub.execute_input": "2023-04-10T10:16:01.546256Z",
     "iopub.status.busy": "2023-04-10T10:16:01.546052Z",
     "iopub.status.idle": "2023-04-10T10:16:01.551344Z",
     "shell.execute_reply": "2023-04-10T10:16:01.550645Z",
     "shell.execute_reply.started": "2023-04-10T10:16:01.546213Z"
    }
   },
   "outputs": [],
   "source": [
    "def preprocess(dataset):\n",
    "\n",
    "  return dataset.map(load_image).repeat(NUM_EPOCHS).shuffle(SHUFFLE_BUFFER, seed=12).batch(\n",
    "      BATCH_SIZE).prefetch(PREFETCH_BUFFER)\n",
    "\n",
    "def make_federated_data(client_data, client_ids):\n",
    "    return [\n",
    "      preprocess(create_tf_dataset_for_client(client_data, x))\n",
    "      for x in client_ids\n",
    "    ]\n",
    "\n",
    "\n",
    "def preprocess_test(dataset):\n",
    "\n",
    "  return dataset.map(load_image).batch(BATCH_SIZE).prefetch(PREFETCH_BUFFER)\n",
    "\n",
    "def make_federated_testdata(client_data, client_ids):\n",
    "    return [\n",
    "      preprocess_test(create_tf_dataset_for_client(client_data, x))\n",
    "      for x in client_ids\n",
    "    ]"
   ]
  },
  {
   "cell_type": "code",
   "execution_count": 7,
   "id": "011f7d7c-831a-4805-a8ca-1b13faca5ea3",
   "metadata": {
    "execution": {
     "iopub.execute_input": "2023-04-10T10:16:01.552377Z",
     "iopub.status.busy": "2023-04-10T10:16:01.552190Z",
     "iopub.status.idle": "2023-04-10T10:16:01.556489Z",
     "shell.execute_reply": "2023-04-10T10:16:01.555839Z",
     "shell.execute_reply.started": "2023-04-10T10:16:01.552366Z"
    }
   },
   "outputs": [],
   "source": [
    "def load_image(filename, label):\n",
    "        image_string = tf.io.read_file(filename)\n",
    "        image_decoded = tf.image.decode_jpeg(image_string, channels=1)\n",
    "        image = tf.cast(image_decoded, tf.float32)\n",
    "        image /= 255.0\n",
    "        label = tf.reshape(label, [1])\n",
    "        return image, label"
   ]
  },
  {
   "cell_type": "code",
   "execution_count": 8,
   "id": "b0445bed-1b51-40cd-aed6-f3030151869a",
   "metadata": {
    "execution": {
     "iopub.execute_input": "2023-04-10T10:16:01.557155Z",
     "iopub.status.busy": "2023-04-10T10:16:01.557026Z",
     "iopub.status.idle": "2023-04-10T10:16:01.561514Z",
     "shell.execute_reply": "2023-04-10T10:16:01.560862Z",
     "shell.execute_reply.started": "2023-04-10T10:16:01.557152Z"
    }
   },
   "outputs": [],
   "source": [
    "def create_tf_dataset_for_client(dataset, id_value):\n",
    "    # Filter elements with the specified id_value\n",
    "    \n",
    "    filtered_dataset = dataset.filter(lambda x, y, client_id: tf.equal(client_id, id_value))\n",
    "\n",
    "    # Remove the id from the filtered dataset\n",
    "    filtered_dataset = filtered_dataset.map(lambda x, y, client_id: (x, y))\n",
    "        \n",
    "    #Load image from path and convert to float32\n",
    "    def load_image(filename, label):\n",
    "        image_string = tf.io.read_file(filename)\n",
    "        image_decoded = tf.image.decode_jpeg(image_string, channels=1)\n",
    "        image = tf.cast(image_decoded, tf.float32)\n",
    "        image /= 255.0\n",
    "        label = tf.reshape(label, [1])\n",
    "        return image, label\n",
    "\n",
    "    #filtered_dataset = filtered_dataset.map(load_image)\n",
    "    \n",
    "    #print(type(filtered_dataset))\n",
    "\n",
    "\n",
    "    return filtered_dataset\n"
   ]
  },
  {
   "cell_type": "code",
   "execution_count": 9,
   "id": "0b9c1fda-bb63-432f-b085-4a76dc317cf8",
   "metadata": {
    "execution": {
     "iopub.execute_input": "2023-04-10T10:16:01.562282Z",
     "iopub.status.busy": "2023-04-10T10:16:01.562159Z",
     "iopub.status.idle": "2023-04-10T10:16:02.253369Z",
     "shell.execute_reply": "2023-04-10T10:16:02.252814Z",
     "shell.execute_reply.started": "2023-04-10T10:16:01.562269Z"
    }
   },
   "outputs": [
    {
     "name": "stdout",
     "output_type": "stream",
     "text": [
      "Number of client datasets: 15\n",
      "First dataset: <PrefetchDataset element_spec=(TensorSpec(shape=(None, None, None, 1), dtype=tf.float32, name=None), TensorSpec(shape=(None, 1), dtype=tf.int64, name=None))>\n"
     ]
    }
   ],
   "source": [
    "clients = img_df[\"client_id\"].unique()\n",
    "#print(type(client_ds))\n",
    "federated_train_data = make_federated_data(train_ds, clients)\n",
    "federated_test_data = make_federated_testdata(test_ds, clients)\n",
    "\n",
    "print(f'Number of client datasets: {len(federated_train_data)}')\n",
    "print(f'First dataset: {federated_train_data[0]}')"
   ]
  },
  {
   "cell_type": "code",
   "execution_count": 10,
   "id": "bb8dbe5c-6b57-42b2-add1-b826b24e3177",
   "metadata": {
    "execution": {
     "iopub.execute_input": "2023-04-10T10:16:02.255102Z",
     "iopub.status.busy": "2023-04-10T10:16:02.254919Z",
     "iopub.status.idle": "2023-04-10T10:16:02.260703Z",
     "shell.execute_reply": "2023-04-10T10:16:02.260272Z",
     "shell.execute_reply.started": "2023-04-10T10:16:02.255086Z"
    }
   },
   "outputs": [],
   "source": [
    "def model_fn():\n",
    "  # We _must_ create a new model here, and _not_ capture it from an external\n",
    "  # scope. TFF will call this within different graph contexts.\n",
    "    \n",
    "    height = 48\n",
    "    width = 48\n",
    "    channels = 1\n",
    "\n",
    "    input_shape = (height, width, channels)\n",
    "\n",
    "    model = Sequential()\n",
    "\n",
    "    model.add(Conv2D(16, (3, 3), activation='relu', input_shape=input_shape))\n",
    "    model.add(MaxPooling2D(pool_size=(2, 2)))\n",
    "    model.add(Conv2D(32, (3, 3), activation='relu'))\n",
    "    model.add(MaxPooling2D(pool_size=(2, 2)))\n",
    "\n",
    "    model.add(Flatten())\n",
    "\n",
    "    model.add(Dense(50, activation='relu'))\n",
    "    model.add(Dense(20, activation='relu'))\n",
    "\n",
    "    model.add(Dense(1, activation='sigmoid'))\n",
    "\n",
    "    # Compile the model with binary crossentropy loss and Adam optimizer\n",
    "    #model.compile(loss='binary_crossentropy', optimizer='adam', metrics=['accuracy'])\n",
    "\n",
    "    return tff.learning.from_keras_model(\n",
    "          model,\n",
    "          input_spec=federated_train_data[0].element_spec,\n",
    "          loss=tf.keras.losses.BinaryCrossentropy(),\n",
    "          metrics=[tf.keras.metrics.Precision(), tf.keras.metrics.Recall(), tf.keras.metrics.BinaryAccuracy(),\n",
    "                       tf.keras.metrics.TruePositives(), tf.keras.metrics.TrueNegatives(), tf.keras.metrics.FalseNegatives(), tf.keras.metrics.FalsePositives()])"
   ]
  },
  {
   "cell_type": "code",
   "execution_count": 11,
   "id": "f0e2fee6-b120-4b75-aa0f-5fb8e454ddd3",
   "metadata": {
    "execution": {
     "iopub.execute_input": "2023-04-10T10:16:02.261723Z",
     "iopub.status.busy": "2023-04-10T10:16:02.261575Z",
     "iopub.status.idle": "2023-04-10T10:16:06.490707Z",
     "shell.execute_reply": "2023-04-10T10:16:06.490173Z",
     "shell.execute_reply.started": "2023-04-10T10:16:02.261710Z"
    }
   },
   "outputs": [],
   "source": [
    "training_process = tff.learning.algorithms.build_weighted_fed_avg(\n",
    "    model_fn,\n",
    "    client_optimizer_fn=lambda: tf.keras.optimizers.Adam(learning_rate=0.001),\n",
    "    server_optimizer_fn=lambda: tf.keras.optimizers.SGD(learning_rate=1.0))\n",
    "\n",
    "eval_process = tff.learning.build_federated_evaluation(model_fn)"
   ]
  },
  {
   "cell_type": "code",
   "execution_count": 12,
   "id": "deb6d9f1-da66-4bee-bcf1-538ff7d1e4d1",
   "metadata": {
    "execution": {
     "iopub.execute_input": "2023-04-10T10:16:06.491807Z",
     "iopub.status.busy": "2023-04-10T10:16:06.491626Z",
     "iopub.status.idle": "2023-04-10T10:16:06.741471Z",
     "shell.execute_reply": "2023-04-10T10:16:06.740808Z",
     "shell.execute_reply.started": "2023-04-10T10:16:06.491791Z"
    }
   },
   "outputs": [],
   "source": [
    "train_state = training_process.initialize()\n",
    "eval_results_df = pd.DataFrame()\n",
    "train_results_df = pd.DataFrame()"
   ]
  },
  {
   "cell_type": "code",
   "execution_count": 15,
   "id": "d4e2e01d-b174-4f92-a2ae-3322e2b69e33",
   "metadata": {
    "execution": {
     "iopub.execute_input": "2023-04-10T10:23:35.254501Z",
     "iopub.status.busy": "2023-04-10T10:23:35.254217Z",
     "iopub.status.idle": "2023-04-10T11:01:40.898351Z",
     "shell.execute_reply": "2023-04-10T11:01:40.894735Z",
     "shell.execute_reply.started": "2023-04-10T10:23:35.254479Z"
    }
   },
   "outputs": [
    {
     "name": "stdout",
     "output_type": "stream",
     "text": [
      "0.04072195132693828\n",
      "round  0, metrics=OrderedDict([('distributor', ()), ('client_work', OrderedDict([('train', OrderedDict([('precision', 0.630485), ('recall', 0.021040462), ('binary_accuracy', 0.8988717), ('true_positives', 273.0), ('true_negatives', 114050.0), ('false_negatives', 12702.0), ('false_positives', 160.0), ('loss', 0.28856045), ('num_examples', 127185), ('num_batches', 504)]))])), ('aggregator', OrderedDict([('mean_value', ()), ('mean_weight', ())])), ('finalizer', ())])\n"
     ]
    },
    {
     "name": "stderr",
     "output_type": "stream",
     "text": [
      "/tmp/ipykernel_32/32353642.py:22: FutureWarning: The frame.append method is deprecated and will be removed from pandas in a future version. Use pandas.concat instead.\n",
      "  train_results_df = train_results_df.append({'Round': round_num+1, 'BinaryAccuracy': accuracy, 'Loss': loss, 'Precision': precision, 'Recall': recall, 'F1 Score': f1_score}, ignore_index=True)\n"
     ]
    },
    {
     "name": "stdout",
     "output_type": "stream",
     "text": [
      "OrderedDict([('precision', 0.0), ('recall', 0.0), ('binary_accuracy', 0.79469764), ('true_positives', 0.0), ('true_negatives', 8423.0), ('false_negatives', 2176.0), ('false_positives', 0.0), ('loss', 1.1913476), ('num_examples', 10599), ('num_batches', 43)])\n"
     ]
    },
    {
     "name": "stderr",
     "output_type": "stream",
     "text": [
      "/tmp/ipykernel_32/32353642.py:34: FutureWarning: The frame.append method is deprecated and will be removed from pandas in a future version. Use pandas.concat instead.\n",
      "  eval_results_df = eval_results_df.append({'Round': round_num+1,\n"
     ]
    },
    {
     "name": "stdout",
     "output_type": "stream",
     "text": [
      "0.05114937817807028\n",
      "round  1, metrics=OrderedDict([('distributor', ()), ('client_work', OrderedDict([('train', OrderedDict([('precision', 0.62454873), ('recall', 0.026666667), ('binary_accuracy', 0.8990683), ('true_positives', 346.0), ('true_negatives', 114002.0), ('false_negatives', 12629.0), ('false_positives', 208.0), ('loss', 0.28943163), ('num_examples', 127185), ('num_batches', 504)]))])), ('aggregator', OrderedDict([('mean_value', ()), ('mean_weight', ())])), ('finalizer', ())])\n"
     ]
    },
    {
     "name": "stderr",
     "output_type": "stream",
     "text": [
      "/tmp/ipykernel_32/32353642.py:22: FutureWarning: The frame.append method is deprecated and will be removed from pandas in a future version. Use pandas.concat instead.\n",
      "  train_results_df = train_results_df.append({'Round': round_num+1, 'BinaryAccuracy': accuracy, 'Loss': loss, 'Precision': precision, 'Recall': recall, 'F1 Score': f1_score}, ignore_index=True)\n"
     ]
    },
    {
     "name": "stdout",
     "output_type": "stream",
     "text": [
      "OrderedDict([('precision', 0.0), ('recall', 0.0), ('binary_accuracy', 0.79469764), ('true_positives', 0.0), ('true_negatives', 8423.0), ('false_negatives', 2176.0), ('false_positives', 0.0), ('loss', 1.1956226), ('num_examples', 10599), ('num_batches', 43)])\n"
     ]
    },
    {
     "name": "stderr",
     "output_type": "stream",
     "text": [
      "/tmp/ipykernel_32/32353642.py:34: FutureWarning: The frame.append method is deprecated and will be removed from pandas in a future version. Use pandas.concat instead.\n",
      "  eval_results_df = eval_results_df.append({'Round': round_num+1,\n"
     ]
    },
    {
     "name": "stdout",
     "output_type": "stream",
     "text": [
      "0.05522826532331753\n",
      "round  2, metrics=OrderedDict([('distributor', ()), ('client_work', OrderedDict([('train', OrderedDict([('precision', 0.6198347), ('recall', 0.028901733), ('binary_accuracy', 0.8991233), ('true_positives', 375.0), ('true_negatives', 113980.0), ('false_negatives', 12600.0), ('false_positives', 230.0), ('loss', 0.2893509), ('num_examples', 127185), ('num_batches', 504)]))])), ('aggregator', OrderedDict([('mean_value', ()), ('mean_weight', ())])), ('finalizer', ())])\n"
     ]
    },
    {
     "name": "stderr",
     "output_type": "stream",
     "text": [
      "/tmp/ipykernel_32/32353642.py:22: FutureWarning: The frame.append method is deprecated and will be removed from pandas in a future version. Use pandas.concat instead.\n",
      "  train_results_df = train_results_df.append({'Round': round_num+1, 'BinaryAccuracy': accuracy, 'Loss': loss, 'Precision': precision, 'Recall': recall, 'F1 Score': f1_score}, ignore_index=True)\n"
     ]
    },
    {
     "name": "stdout",
     "output_type": "stream",
     "text": [
      "OrderedDict([('precision', 0.0), ('recall', 0.0), ('binary_accuracy', 0.79469764), ('true_positives', 0.0), ('true_negatives', 8423.0), ('false_negatives', 2176.0), ('false_positives', 0.0), ('loss', 1.20476), ('num_examples', 10599), ('num_batches', 43)])\n"
     ]
    },
    {
     "name": "stderr",
     "output_type": "stream",
     "text": [
      "/tmp/ipykernel_32/32353642.py:34: FutureWarning: The frame.append method is deprecated and will be removed from pandas in a future version. Use pandas.concat instead.\n",
      "  eval_results_df = eval_results_df.append({'Round': round_num+1,\n"
     ]
    },
    {
     "name": "stdout",
     "output_type": "stream",
     "text": [
      "0.07015758904239103\n",
      "round  3, metrics=OrderedDict([('distributor', ()), ('client_work', OrderedDict([('train', OrderedDict([('precision', 0.60831237), ('recall', 0.037225433), ('binary_accuracy', 0.8993356), ('true_positives', 483.0), ('true_negatives', 113899.0), ('false_negatives', 12492.0), ('false_positives', 311.0), ('loss', 0.28992283), ('num_examples', 127185), ('num_batches', 504)]))])), ('aggregator', OrderedDict([('mean_value', ()), ('mean_weight', ())])), ('finalizer', ())])\n"
     ]
    },
    {
     "name": "stderr",
     "output_type": "stream",
     "text": [
      "/tmp/ipykernel_32/32353642.py:22: FutureWarning: The frame.append method is deprecated and will be removed from pandas in a future version. Use pandas.concat instead.\n",
      "  train_results_df = train_results_df.append({'Round': round_num+1, 'BinaryAccuracy': accuracy, 'Loss': loss, 'Precision': precision, 'Recall': recall, 'F1 Score': f1_score}, ignore_index=True)\n"
     ]
    },
    {
     "name": "stdout",
     "output_type": "stream",
     "text": [
      "OrderedDict([('precision', 0.0), ('recall', 0.0), ('binary_accuracy', 0.79469764), ('true_positives', 0.0), ('true_negatives', 8423.0), ('false_negatives', 2176.0), ('false_positives', 0.0), ('loss', 1.2103574), ('num_examples', 10599), ('num_batches', 43)])\n"
     ]
    },
    {
     "name": "stderr",
     "output_type": "stream",
     "text": [
      "/tmp/ipykernel_32/32353642.py:34: FutureWarning: The frame.append method is deprecated and will be removed from pandas in a future version. Use pandas.concat instead.\n",
      "  eval_results_df = eval_results_df.append({'Round': round_num+1,\n"
     ]
    },
    {
     "name": "stdout",
     "output_type": "stream",
     "text": [
      "0.085051717810514\n",
      "round  4, metrics=OrderedDict([('distributor', ()), ('client_work', OrderedDict([('train', OrderedDict([('precision', 0.5730769), ('recall', 0.04593449), ('binary_accuracy', 0.8991784), ('true_positives', 596.0), ('true_negatives', 113766.0), ('false_negatives', 12379.0), ('false_positives', 444.0), ('loss', 0.28919983), ('num_examples', 127185), ('num_batches', 504)]))])), ('aggregator', OrderedDict([('mean_value', ()), ('mean_weight', ())])), ('finalizer', ())])\n"
     ]
    },
    {
     "name": "stderr",
     "output_type": "stream",
     "text": [
      "/tmp/ipykernel_32/32353642.py:22: FutureWarning: The frame.append method is deprecated and will be removed from pandas in a future version. Use pandas.concat instead.\n",
      "  train_results_df = train_results_df.append({'Round': round_num+1, 'BinaryAccuracy': accuracy, 'Loss': loss, 'Precision': precision, 'Recall': recall, 'F1 Score': f1_score}, ignore_index=True)\n"
     ]
    },
    {
     "name": "stdout",
     "output_type": "stream",
     "text": [
      "OrderedDict([('precision', 0.0), ('recall', 0.0), ('binary_accuracy', 0.79469764), ('true_positives', 0.0), ('true_negatives', 8423.0), ('false_negatives', 2176.0), ('false_positives', 0.0), ('loss', 1.2169727), ('num_examples', 10599), ('num_batches', 43)])\n"
     ]
    },
    {
     "name": "stderr",
     "output_type": "stream",
     "text": [
      "/tmp/ipykernel_32/32353642.py:34: FutureWarning: The frame.append method is deprecated and will be removed from pandas in a future version. Use pandas.concat instead.\n",
      "  eval_results_df = eval_results_df.append({'Round': round_num+1,\n"
     ]
    },
    {
     "name": "stdout",
     "output_type": "stream",
     "text": [
      "0.09259258069944798\n",
      "round  5, metrics=OrderedDict([('distributor', ()), ('client_work', OrderedDict([('train', OrderedDict([('precision', 0.5583973), ('recall', 0.050481696), ('binary_accuracy', 0.8990604), ('true_positives', 655.0), ('true_negatives', 113692.0), ('false_negatives', 12320.0), ('false_positives', 518.0), ('loss', 0.28992313), ('num_examples', 127185), ('num_batches', 504)]))])), ('aggregator', OrderedDict([('mean_value', ()), ('mean_weight', ())])), ('finalizer', ())])\n"
     ]
    },
    {
     "name": "stderr",
     "output_type": "stream",
     "text": [
      "/tmp/ipykernel_32/32353642.py:22: FutureWarning: The frame.append method is deprecated and will be removed from pandas in a future version. Use pandas.concat instead.\n",
      "  train_results_df = train_results_df.append({'Round': round_num+1, 'BinaryAccuracy': accuracy, 'Loss': loss, 'Precision': precision, 'Recall': recall, 'F1 Score': f1_score}, ignore_index=True)\n"
     ]
    },
    {
     "name": "stdout",
     "output_type": "stream",
     "text": [
      "OrderedDict([('precision', 0.0), ('recall', 0.0), ('binary_accuracy', 0.79469764), ('true_positives', 0.0), ('true_negatives', 8423.0), ('false_negatives', 2176.0), ('false_positives', 0.0), ('loss', 1.2243735), ('num_examples', 10599), ('num_batches', 43)])\n"
     ]
    },
    {
     "name": "stderr",
     "output_type": "stream",
     "text": [
      "/tmp/ipykernel_32/32353642.py:34: FutureWarning: The frame.append method is deprecated and will be removed from pandas in a future version. Use pandas.concat instead.\n",
      "  eval_results_df = eval_results_df.append({'Round': round_num+1,\n"
     ]
    },
    {
     "name": "stdout",
     "output_type": "stream",
     "text": [
      "0.09885930049552134\n",
      "round  6, metrics=OrderedDict([('distributor', ()), ('client_work', OrderedDict([('train', OrderedDict([('precision', 0.57212716), ('recall', 0.054104045), ('binary_accuracy', 0.8993749), ('true_positives', 702.0), ('true_negatives', 113685.0), ('false_negatives', 12273.0), ('false_positives', 525.0), ('loss', 0.29003564), ('num_examples', 127185), ('num_batches', 504)]))])), ('aggregator', OrderedDict([('mean_value', ()), ('mean_weight', ())])), ('finalizer', ())])\n"
     ]
    },
    {
     "name": "stderr",
     "output_type": "stream",
     "text": [
      "/tmp/ipykernel_32/32353642.py:22: FutureWarning: The frame.append method is deprecated and will be removed from pandas in a future version. Use pandas.concat instead.\n",
      "  train_results_df = train_results_df.append({'Round': round_num+1, 'BinaryAccuracy': accuracy, 'Loss': loss, 'Precision': precision, 'Recall': recall, 'F1 Score': f1_score}, ignore_index=True)\n"
     ]
    },
    {
     "name": "stdout",
     "output_type": "stream",
     "text": [
      "OrderedDict([('precision', 0.0), ('recall', 0.0), ('binary_accuracy', 0.79469764), ('true_positives', 0.0), ('true_negatives', 8423.0), ('false_negatives', 2176.0), ('false_positives', 0.0), ('loss', 1.2285), ('num_examples', 10599), ('num_batches', 43)])\n"
     ]
    },
    {
     "name": "stderr",
     "output_type": "stream",
     "text": [
      "/tmp/ipykernel_32/32353642.py:34: FutureWarning: The frame.append method is deprecated and will be removed from pandas in a future version. Use pandas.concat instead.\n",
      "  eval_results_df = eval_results_df.append({'Round': round_num+1,\n"
     ]
    },
    {
     "name": "stdout",
     "output_type": "stream",
     "text": [
      "0.10977723764769001\n",
      "round  7, metrics=OrderedDict([('distributor', ()), ('client_work', OrderedDict([('train', OrderedDict([('precision', 0.55083567), ('recall', 0.060963392), ('binary_accuracy', 0.8991312), ('true_positives', 791.0), ('true_negatives', 113565.0), ('false_negatives', 12184.0), ('false_positives', 645.0), ('loss', 0.28970444), ('num_examples', 127185), ('num_batches', 504)]))])), ('aggregator', OrderedDict([('mean_value', ()), ('mean_weight', ())])), ('finalizer', ())])\n"
     ]
    },
    {
     "name": "stderr",
     "output_type": "stream",
     "text": [
      "/tmp/ipykernel_32/32353642.py:22: FutureWarning: The frame.append method is deprecated and will be removed from pandas in a future version. Use pandas.concat instead.\n",
      "  train_results_df = train_results_df.append({'Round': round_num+1, 'BinaryAccuracy': accuracy, 'Loss': loss, 'Precision': precision, 'Recall': recall, 'F1 Score': f1_score}, ignore_index=True)\n"
     ]
    },
    {
     "name": "stdout",
     "output_type": "stream",
     "text": [
      "OrderedDict([('precision', 0.0), ('recall', 0.0), ('binary_accuracy', 0.79469764), ('true_positives', 0.0), ('true_negatives', 8423.0), ('false_negatives', 2176.0), ('false_positives', 0.0), ('loss', 1.2287434), ('num_examples', 10599), ('num_batches', 43)])\n"
     ]
    },
    {
     "name": "stderr",
     "output_type": "stream",
     "text": [
      "/tmp/ipykernel_32/32353642.py:34: FutureWarning: The frame.append method is deprecated and will be removed from pandas in a future version. Use pandas.concat instead.\n",
      "  eval_results_df = eval_results_df.append({'Round': round_num+1,\n"
     ]
    },
    {
     "name": "stdout",
     "output_type": "stream",
     "text": [
      "0.1241020565003931\n",
      "round  8, metrics=OrderedDict([('distributor', ()), ('client_work', OrderedDict([('train', OrderedDict([('precision', 0.55237514), ('recall', 0.069903664), ('binary_accuracy', 0.8993356), ('true_positives', 907.0), ('true_negatives', 113475.0), ('false_negatives', 12068.0), ('false_positives', 735.0), ('loss', 0.28993103), ('num_examples', 127185), ('num_batches', 504)]))])), ('aggregator', OrderedDict([('mean_value', ()), ('mean_weight', ())])), ('finalizer', ())])\n"
     ]
    },
    {
     "name": "stderr",
     "output_type": "stream",
     "text": [
      "/tmp/ipykernel_32/32353642.py:22: FutureWarning: The frame.append method is deprecated and will be removed from pandas in a future version. Use pandas.concat instead.\n",
      "  train_results_df = train_results_df.append({'Round': round_num+1, 'BinaryAccuracy': accuracy, 'Loss': loss, 'Precision': precision, 'Recall': recall, 'F1 Score': f1_score}, ignore_index=True)\n"
     ]
    },
    {
     "name": "stdout",
     "output_type": "stream",
     "text": [
      "OrderedDict([('precision', 0.0), ('recall', 0.0), ('binary_accuracy', 0.79469764), ('true_positives', 0.0), ('true_negatives', 8423.0), ('false_negatives', 2176.0), ('false_positives', 0.0), ('loss', 1.2289883), ('num_examples', 10599), ('num_batches', 43)])\n"
     ]
    },
    {
     "name": "stderr",
     "output_type": "stream",
     "text": [
      "/tmp/ipykernel_32/32353642.py:34: FutureWarning: The frame.append method is deprecated and will be removed from pandas in a future version. Use pandas.concat instead.\n",
      "  eval_results_df = eval_results_df.append({'Round': round_num+1,\n"
     ]
    },
    {
     "name": "stdout",
     "output_type": "stream",
     "text": [
      "0.12408507845251952\n",
      "round  9, metrics=OrderedDict([('distributor', ()), ('client_work', OrderedDict([('train', OrderedDict([('precision', 0.55170316), ('recall', 0.069903664), ('binary_accuracy', 0.8993199), ('true_positives', 907.0), ('true_negatives', 113473.0), ('false_negatives', 12068.0), ('false_positives', 737.0), ('loss', 0.28797254), ('num_examples', 127185), ('num_batches', 504)]))])), ('aggregator', OrderedDict([('mean_value', ()), ('mean_weight', ())])), ('finalizer', ())])\n"
     ]
    },
    {
     "name": "stderr",
     "output_type": "stream",
     "text": [
      "/tmp/ipykernel_32/32353642.py:22: FutureWarning: The frame.append method is deprecated and will be removed from pandas in a future version. Use pandas.concat instead.\n",
      "  train_results_df = train_results_df.append({'Round': round_num+1, 'BinaryAccuracy': accuracy, 'Loss': loss, 'Precision': precision, 'Recall': recall, 'F1 Score': f1_score}, ignore_index=True)\n"
     ]
    },
    {
     "name": "stdout",
     "output_type": "stream",
     "text": [
      "OrderedDict([('precision', 0.0), ('recall', 0.0), ('binary_accuracy', 0.79469764), ('true_positives', 0.0), ('true_negatives', 8423.0), ('false_negatives', 2176.0), ('false_positives', 0.0), ('loss', 1.2336777), ('num_examples', 10599), ('num_batches', 43)])\n"
     ]
    },
    {
     "name": "stderr",
     "output_type": "stream",
     "text": [
      "/tmp/ipykernel_32/32353642.py:34: FutureWarning: The frame.append method is deprecated and will be removed from pandas in a future version. Use pandas.concat instead.\n",
      "  eval_results_df = eval_results_df.append({'Round': round_num+1,\n"
     ]
    },
    {
     "name": "stdout",
     "output_type": "stream",
     "text": [
      "0.13197691977097498\n",
      "round 10, metrics=OrderedDict([('distributor', ()), ('client_work', OrderedDict([('train', OrderedDict([('precision', 0.5497175), ('recall', 0.07499037), ('binary_accuracy', 0.89936703), ('true_positives', 973.0), ('true_negatives', 113413.0), ('false_negatives', 12002.0), ('false_positives', 797.0), ('loss', 0.28807703), ('num_examples', 127185), ('num_batches', 504)]))])), ('aggregator', OrderedDict([('mean_value', ()), ('mean_weight', ())])), ('finalizer', ())])\n"
     ]
    },
    {
     "name": "stderr",
     "output_type": "stream",
     "text": [
      "/tmp/ipykernel_32/32353642.py:22: FutureWarning: The frame.append method is deprecated and will be removed from pandas in a future version. Use pandas.concat instead.\n",
      "  train_results_df = train_results_df.append({'Round': round_num+1, 'BinaryAccuracy': accuracy, 'Loss': loss, 'Precision': precision, 'Recall': recall, 'F1 Score': f1_score}, ignore_index=True)\n"
     ]
    },
    {
     "name": "stdout",
     "output_type": "stream",
     "text": [
      "OrderedDict([('precision', 0.0), ('recall', 0.0), ('binary_accuracy', 0.79469764), ('true_positives', 0.0), ('true_negatives', 8423.0), ('false_negatives', 2176.0), ('false_positives', 0.0), ('loss', 1.2411666), ('num_examples', 10599), ('num_batches', 43)])\n"
     ]
    },
    {
     "name": "stderr",
     "output_type": "stream",
     "text": [
      "/tmp/ipykernel_32/32353642.py:34: FutureWarning: The frame.append method is deprecated and will be removed from pandas in a future version. Use pandas.concat instead.\n",
      "  eval_results_df = eval_results_df.append({'Round': round_num+1,\n"
     ]
    },
    {
     "name": "stdout",
     "output_type": "stream",
     "text": [
      "0.13379187851109348\n",
      "round 11, metrics=OrderedDict([('distributor', ()), ('client_work', OrderedDict([('train', OrderedDict([('precision', 0.53505933), ('recall', 0.07645472), ('binary_accuracy', 0.8990054), ('true_positives', 992.0), ('true_negatives', 113348.0), ('false_negatives', 11983.0), ('false_positives', 862.0), ('loss', 0.2893078), ('num_examples', 127185), ('num_batches', 504)]))])), ('aggregator', OrderedDict([('mean_value', ()), ('mean_weight', ())])), ('finalizer', ())])\n"
     ]
    },
    {
     "name": "stderr",
     "output_type": "stream",
     "text": [
      "/tmp/ipykernel_32/32353642.py:22: FutureWarning: The frame.append method is deprecated and will be removed from pandas in a future version. Use pandas.concat instead.\n",
      "  train_results_df = train_results_df.append({'Round': round_num+1, 'BinaryAccuracy': accuracy, 'Loss': loss, 'Precision': precision, 'Recall': recall, 'F1 Score': f1_score}, ignore_index=True)\n"
     ]
    },
    {
     "name": "stdout",
     "output_type": "stream",
     "text": [
      "OrderedDict([('precision', 0.0), ('recall', 0.0), ('binary_accuracy', 0.79469764), ('true_positives', 0.0), ('true_negatives', 8423.0), ('false_negatives', 2176.0), ('false_positives', 0.0), ('loss', 1.2431631), ('num_examples', 10599), ('num_batches', 43)])\n"
     ]
    },
    {
     "name": "stderr",
     "output_type": "stream",
     "text": [
      "/tmp/ipykernel_32/32353642.py:34: FutureWarning: The frame.append method is deprecated and will be removed from pandas in a future version. Use pandas.concat instead.\n",
      "  eval_results_df = eval_results_df.append({'Round': round_num+1,\n"
     ]
    },
    {
     "name": "stdout",
     "output_type": "stream",
     "text": [
      "0.13463095140312417\n",
      "round 12, metrics=OrderedDict([('distributor', ()), ('client_work', OrderedDict([('train', OrderedDict([('precision', 0.54695225), ('recall', 0.076763004), ('binary_accuracy', 0.89932775), ('true_positives', 996.0), ('true_negatives', 113385.0), ('false_negatives', 11979.0), ('false_positives', 825.0), ('loss', 0.28879443), ('num_examples', 127185), ('num_batches', 504)]))])), ('aggregator', OrderedDict([('mean_value', ()), ('mean_weight', ())])), ('finalizer', ())])\n"
     ]
    },
    {
     "name": "stderr",
     "output_type": "stream",
     "text": [
      "/tmp/ipykernel_32/32353642.py:22: FutureWarning: The frame.append method is deprecated and will be removed from pandas in a future version. Use pandas.concat instead.\n",
      "  train_results_df = train_results_df.append({'Round': round_num+1, 'BinaryAccuracy': accuracy, 'Loss': loss, 'Precision': precision, 'Recall': recall, 'F1 Score': f1_score}, ignore_index=True)\n"
     ]
    },
    {
     "name": "stdout",
     "output_type": "stream",
     "text": [
      "OrderedDict([('precision', 0.0), ('recall', 0.0), ('binary_accuracy', 0.79469764), ('true_positives', 0.0), ('true_negatives', 8423.0), ('false_negatives', 2176.0), ('false_positives', 0.0), ('loss', 1.2415676), ('num_examples', 10599), ('num_batches', 43)])\n"
     ]
    },
    {
     "name": "stderr",
     "output_type": "stream",
     "text": [
      "/tmp/ipykernel_32/32353642.py:34: FutureWarning: The frame.append method is deprecated and will be removed from pandas in a future version. Use pandas.concat instead.\n",
      "  eval_results_df = eval_results_df.append({'Round': round_num+1,\n"
     ]
    },
    {
     "name": "stdout",
     "output_type": "stream",
     "text": [
      "0.14210207094933253\n",
      "round 13, metrics=OrderedDict([('distributor', ()), ('client_work', OrderedDict([('train', OrderedDict([('precision', 0.5385395), ('recall', 0.08184971), ('binary_accuracy', 0.8991784), ('true_positives', 1062.0), ('true_negatives', 113300.0), ('false_negatives', 11913.0), ('false_positives', 910.0), ('loss', 0.2876684), ('num_examples', 127185), ('num_batches', 504)]))])), ('aggregator', OrderedDict([('mean_value', ()), ('mean_weight', ())])), ('finalizer', ())])\n"
     ]
    },
    {
     "name": "stderr",
     "output_type": "stream",
     "text": [
      "/tmp/ipykernel_32/32353642.py:22: FutureWarning: The frame.append method is deprecated and will be removed from pandas in a future version. Use pandas.concat instead.\n",
      "  train_results_df = train_results_df.append({'Round': round_num+1, 'BinaryAccuracy': accuracy, 'Loss': loss, 'Precision': precision, 'Recall': recall, 'F1 Score': f1_score}, ignore_index=True)\n"
     ]
    },
    {
     "name": "stdout",
     "output_type": "stream",
     "text": [
      "OrderedDict([('precision', 0.0), ('recall', 0.0), ('binary_accuracy', 0.79469764), ('true_positives', 0.0), ('true_negatives', 8423.0), ('false_negatives', 2176.0), ('false_positives', 0.0), ('loss', 1.2501998), ('num_examples', 10599), ('num_batches', 43)])\n"
     ]
    },
    {
     "name": "stderr",
     "output_type": "stream",
     "text": [
      "/tmp/ipykernel_32/32353642.py:34: FutureWarning: The frame.append method is deprecated and will be removed from pandas in a future version. Use pandas.concat instead.\n",
      "  eval_results_df = eval_results_df.append({'Round': round_num+1,\n"
     ]
    },
    {
     "name": "stdout",
     "output_type": "stream",
     "text": [
      "0.14541339850110643\n",
      "round 14, metrics=OrderedDict([('distributor', ()), ('client_work', OrderedDict([('train', OrderedDict([('precision', 0.5310981), ('recall', 0.084238924), ('binary_accuracy', 0.8989897), ('true_positives', 1093.0), ('true_negatives', 113245.0), ('false_negatives', 11882.0), ('false_positives', 965.0), ('loss', 0.28840744), ('num_examples', 127185), ('num_batches', 504)]))])), ('aggregator', OrderedDict([('mean_value', ()), ('mean_weight', ())])), ('finalizer', ())])\n"
     ]
    },
    {
     "name": "stderr",
     "output_type": "stream",
     "text": [
      "/tmp/ipykernel_32/32353642.py:22: FutureWarning: The frame.append method is deprecated and will be removed from pandas in a future version. Use pandas.concat instead.\n",
      "  train_results_df = train_results_df.append({'Round': round_num+1, 'BinaryAccuracy': accuracy, 'Loss': loss, 'Precision': precision, 'Recall': recall, 'F1 Score': f1_score}, ignore_index=True)\n"
     ]
    },
    {
     "name": "stdout",
     "output_type": "stream",
     "text": [
      "OrderedDict([('precision', 0.0), ('recall', 0.0), ('binary_accuracy', 0.79469764), ('true_positives', 0.0), ('true_negatives', 8423.0), ('false_negatives', 2176.0), ('false_positives', 0.0), ('loss', 1.2497252), ('num_examples', 10599), ('num_batches', 43)])\n"
     ]
    },
    {
     "name": "stderr",
     "output_type": "stream",
     "text": [
      "/tmp/ipykernel_32/32353642.py:34: FutureWarning: The frame.append method is deprecated and will be removed from pandas in a future version. Use pandas.concat instead.\n",
      "  eval_results_df = eval_results_df.append({'Round': round_num+1,\n"
     ]
    },
    {
     "name": "stdout",
     "output_type": "stream",
     "text": [
      "0.14677801901290452\n",
      "round 15, metrics=OrderedDict([('distributor', ()), ('client_work', OrderedDict([('train', OrderedDict([('precision', 0.52489334), ('recall', 0.08531792), ('binary_accuracy', 0.89880884), ('true_positives', 1107.0), ('true_negatives', 113208.0), ('false_negatives', 11868.0), ('false_positives', 1002.0), ('loss', 0.28716886), ('num_examples', 127185), ('num_batches', 504)]))])), ('aggregator', OrderedDict([('mean_value', ()), ('mean_weight', ())])), ('finalizer', ())])\n"
     ]
    },
    {
     "name": "stderr",
     "output_type": "stream",
     "text": [
      "/tmp/ipykernel_32/32353642.py:22: FutureWarning: The frame.append method is deprecated and will be removed from pandas in a future version. Use pandas.concat instead.\n",
      "  train_results_df = train_results_df.append({'Round': round_num+1, 'BinaryAccuracy': accuracy, 'Loss': loss, 'Precision': precision, 'Recall': recall, 'F1 Score': f1_score}, ignore_index=True)\n"
     ]
    },
    {
     "name": "stdout",
     "output_type": "stream",
     "text": [
      "OrderedDict([('precision', 0.0), ('recall', 0.0), ('binary_accuracy', 0.79469764), ('true_positives', 0.0), ('true_negatives', 8423.0), ('false_negatives', 2176.0), ('false_positives', 0.0), ('loss', 1.2566494), ('num_examples', 10599), ('num_batches', 43)])\n"
     ]
    },
    {
     "name": "stderr",
     "output_type": "stream",
     "text": [
      "/tmp/ipykernel_32/32353642.py:34: FutureWarning: The frame.append method is deprecated and will be removed from pandas in a future version. Use pandas.concat instead.\n",
      "  eval_results_df = eval_results_df.append({'Round': round_num+1,\n"
     ]
    },
    {
     "name": "stdout",
     "output_type": "stream",
     "text": [
      "0.15155897832081217\n",
      "round 16, metrics=OrderedDict([('distributor', ()), ('client_work', OrderedDict([('train', OrderedDict([('precision', 0.51728785), ('recall', 0.088786125), ('binary_accuracy', 0.89858866), ('true_positives', 1152.0), ('true_negatives', 113135.0), ('false_negatives', 11823.0), ('false_positives', 1075.0), ('loss', 0.28875357), ('num_examples', 127185), ('num_batches', 504)]))])), ('aggregator', OrderedDict([('mean_value', ()), ('mean_weight', ())])), ('finalizer', ())])\n"
     ]
    },
    {
     "name": "stderr",
     "output_type": "stream",
     "text": [
      "/tmp/ipykernel_32/32353642.py:22: FutureWarning: The frame.append method is deprecated and will be removed from pandas in a future version. Use pandas.concat instead.\n",
      "  train_results_df = train_results_df.append({'Round': round_num+1, 'BinaryAccuracy': accuracy, 'Loss': loss, 'Precision': precision, 'Recall': recall, 'F1 Score': f1_score}, ignore_index=True)\n"
     ]
    },
    {
     "name": "stdout",
     "output_type": "stream",
     "text": [
      "OrderedDict([('precision', 0.0), ('recall', 0.0), ('binary_accuracy', 0.79469764), ('true_positives', 0.0), ('true_negatives', 8423.0), ('false_negatives', 2176.0), ('false_positives', 0.0), ('loss', 1.2499504), ('num_examples', 10599), ('num_batches', 43)])\n"
     ]
    },
    {
     "name": "stderr",
     "output_type": "stream",
     "text": [
      "/tmp/ipykernel_32/32353642.py:34: FutureWarning: The frame.append method is deprecated and will be removed from pandas in a future version. Use pandas.concat instead.\n",
      "  eval_results_df = eval_results_df.append({'Round': round_num+1,\n"
     ]
    },
    {
     "name": "stdout",
     "output_type": "stream",
     "text": [
      "0.1536241150811538\n",
      "round 17, metrics=OrderedDict([('distributor', ()), ('client_work', OrderedDict([('train', OrderedDict([('precision', 0.515859), ('recall', 0.090250485), ('binary_accuracy', 0.8985494), ('true_positives', 1171.0), ('true_negatives', 113111.0), ('false_negatives', 11804.0), ('false_positives', 1099.0), ('loss', 0.2858085), ('num_examples', 127185), ('num_batches', 504)]))])), ('aggregator', OrderedDict([('mean_value', ()), ('mean_weight', ())])), ('finalizer', ())])\n"
     ]
    },
    {
     "name": "stderr",
     "output_type": "stream",
     "text": [
      "/tmp/ipykernel_32/32353642.py:22: FutureWarning: The frame.append method is deprecated and will be removed from pandas in a future version. Use pandas.concat instead.\n",
      "  train_results_df = train_results_df.append({'Round': round_num+1, 'BinaryAccuracy': accuracy, 'Loss': loss, 'Precision': precision, 'Recall': recall, 'F1 Score': f1_score}, ignore_index=True)\n"
     ]
    },
    {
     "name": "stdout",
     "output_type": "stream",
     "text": [
      "OrderedDict([('precision', 0.0), ('recall', 0.0), ('binary_accuracy', 0.79469764), ('true_positives', 0.0), ('true_negatives', 8423.0), ('false_negatives', 2176.0), ('false_positives', 0.0), ('loss', 1.2562778), ('num_examples', 10599), ('num_batches', 43)])\n"
     ]
    },
    {
     "name": "stderr",
     "output_type": "stream",
     "text": [
      "/tmp/ipykernel_32/32353642.py:34: FutureWarning: The frame.append method is deprecated and will be removed from pandas in a future version. Use pandas.concat instead.\n",
      "  eval_results_df = eval_results_df.append({'Round': round_num+1,\n"
     ]
    },
    {
     "name": "stdout",
     "output_type": "stream",
     "text": [
      "0.15628062856451094\n",
      "round 18, metrics=OrderedDict([('distributor', ()), ('client_work', OrderedDict([('train', OrderedDict([('precision', 0.51553065), ('recall', 0.092100196), ('binary_accuracy', 0.8985494), ('true_positives', 1195.0), ('true_negatives', 113087.0), ('false_negatives', 11780.0), ('false_positives', 1123.0), ('loss', 0.28612998), ('num_examples', 127185), ('num_batches', 504)]))])), ('aggregator', OrderedDict([('mean_value', ()), ('mean_weight', ())])), ('finalizer', ())])\n"
     ]
    },
    {
     "name": "stderr",
     "output_type": "stream",
     "text": [
      "/tmp/ipykernel_32/32353642.py:22: FutureWarning: The frame.append method is deprecated and will be removed from pandas in a future version. Use pandas.concat instead.\n",
      "  train_results_df = train_results_df.append({'Round': round_num+1, 'BinaryAccuracy': accuracy, 'Loss': loss, 'Precision': precision, 'Recall': recall, 'F1 Score': f1_score}, ignore_index=True)\n"
     ]
    },
    {
     "name": "stdout",
     "output_type": "stream",
     "text": [
      "OrderedDict([('precision', 0.0), ('recall', 0.0), ('binary_accuracy', 0.79469764), ('true_positives', 0.0), ('true_negatives', 8423.0), ('false_negatives', 2176.0), ('false_positives', 0.0), ('loss', 1.2588342), ('num_examples', 10599), ('num_batches', 43)])\n"
     ]
    },
    {
     "name": "stderr",
     "output_type": "stream",
     "text": [
      "/tmp/ipykernel_32/32353642.py:34: FutureWarning: The frame.append method is deprecated and will be removed from pandas in a future version. Use pandas.concat instead.\n",
      "  eval_results_df = eval_results_df.append({'Round': round_num+1,\n"
     ]
    },
    {
     "name": "stdout",
     "output_type": "stream",
     "text": [
      "0.16077585647130788\n",
      "round 19, metrics=OrderedDict([('distributor', ()), ('client_work', OrderedDict([('train', OrderedDict([('precision', 0.5171692), ('recall', 0.095183045), ('binary_accuracy', 0.898628), ('true_positives', 1235.0), ('true_negatives', 113057.0), ('false_negatives', 11740.0), ('false_positives', 1153.0), ('loss', 0.28568146), ('num_examples', 127185), ('num_batches', 504)]))])), ('aggregator', OrderedDict([('mean_value', ()), ('mean_weight', ())])), ('finalizer', ())])\n"
     ]
    },
    {
     "name": "stderr",
     "output_type": "stream",
     "text": [
      "/tmp/ipykernel_32/32353642.py:22: FutureWarning: The frame.append method is deprecated and will be removed from pandas in a future version. Use pandas.concat instead.\n",
      "  train_results_df = train_results_df.append({'Round': round_num+1, 'BinaryAccuracy': accuracy, 'Loss': loss, 'Precision': precision, 'Recall': recall, 'F1 Score': f1_score}, ignore_index=True)\n"
     ]
    },
    {
     "name": "stdout",
     "output_type": "stream",
     "text": [
      "OrderedDict([('precision', 0.0), ('recall', 0.0), ('binary_accuracy', 0.79469764), ('true_positives', 0.0), ('true_negatives', 8423.0), ('false_negatives', 2176.0), ('false_positives', 0.0), ('loss', 1.2556566), ('num_examples', 10599), ('num_batches', 43)])\n"
     ]
    },
    {
     "name": "stderr",
     "output_type": "stream",
     "text": [
      "/tmp/ipykernel_32/32353642.py:34: FutureWarning: The frame.append method is deprecated and will be removed from pandas in a future version. Use pandas.concat instead.\n",
      "  eval_results_df = eval_results_df.append({'Round': round_num+1,\n"
     ]
    },
    {
     "name": "stdout",
     "output_type": "stream",
     "text": [
      "0.16282678632323916\n",
      "round 20, metrics=OrderedDict([('distributor', ()), ('client_work', OrderedDict([('train', OrderedDict([('precision', 0.5078724), ('recall', 0.09695569), ('binary_accuracy', 0.8982899), ('true_positives', 1258.0), ('true_negatives', 112991.0), ('false_negatives', 11717.0), ('false_positives', 1219.0), ('loss', 0.28493348), ('num_examples', 127185), ('num_batches', 504)]))])), ('aggregator', OrderedDict([('mean_value', ()), ('mean_weight', ())])), ('finalizer', ())])\n"
     ]
    },
    {
     "name": "stderr",
     "output_type": "stream",
     "text": [
      "/tmp/ipykernel_32/32353642.py:22: FutureWarning: The frame.append method is deprecated and will be removed from pandas in a future version. Use pandas.concat instead.\n",
      "  train_results_df = train_results_df.append({'Round': round_num+1, 'BinaryAccuracy': accuracy, 'Loss': loss, 'Precision': precision, 'Recall': recall, 'F1 Score': f1_score}, ignore_index=True)\n"
     ]
    },
    {
     "name": "stdout",
     "output_type": "stream",
     "text": [
      "OrderedDict([('precision', 0.0), ('recall', 0.0), ('binary_accuracy', 0.79469764), ('true_positives', 0.0), ('true_negatives', 8423.0), ('false_negatives', 2176.0), ('false_positives', 0.0), ('loss', 1.2596295), ('num_examples', 10599), ('num_batches', 43)])\n"
     ]
    },
    {
     "name": "stderr",
     "output_type": "stream",
     "text": [
      "/tmp/ipykernel_32/32353642.py:34: FutureWarning: The frame.append method is deprecated and will be removed from pandas in a future version. Use pandas.concat instead.\n",
      "  eval_results_df = eval_results_df.append({'Round': round_num+1,\n"
     ]
    },
    {
     "name": "stdout",
     "output_type": "stream",
     "text": [
      "0.16252264410921685\n",
      "round 21, metrics=OrderedDict([('distributor', ()), ('client_work', OrderedDict([('train', OrderedDict([('precision', 0.5083029), ('recall', 0.09672447), ('binary_accuracy', 0.8983056), ('true_positives', 1255.0), ('true_negatives', 112996.0), ('false_negatives', 11720.0), ('false_positives', 1214.0), ('loss', 0.28422853), ('num_examples', 127185), ('num_batches', 504)]))])), ('aggregator', OrderedDict([('mean_value', ()), ('mean_weight', ())])), ('finalizer', ())])\n"
     ]
    },
    {
     "name": "stderr",
     "output_type": "stream",
     "text": [
      "/tmp/ipykernel_32/32353642.py:22: FutureWarning: The frame.append method is deprecated and will be removed from pandas in a future version. Use pandas.concat instead.\n",
      "  train_results_df = train_results_df.append({'Round': round_num+1, 'BinaryAccuracy': accuracy, 'Loss': loss, 'Precision': precision, 'Recall': recall, 'F1 Score': f1_score}, ignore_index=True)\n"
     ]
    },
    {
     "name": "stdout",
     "output_type": "stream",
     "text": [
      "OrderedDict([('precision', 0.0), ('recall', 0.0), ('binary_accuracy', 0.79469764), ('true_positives', 0.0), ('true_negatives', 8423.0), ('false_negatives', 2176.0), ('false_positives', 0.0), ('loss', 1.258141), ('num_examples', 10599), ('num_batches', 43)])\n"
     ]
    },
    {
     "name": "stderr",
     "output_type": "stream",
     "text": [
      "/tmp/ipykernel_32/32353642.py:34: FutureWarning: The frame.append method is deprecated and will be removed from pandas in a future version. Use pandas.concat instead.\n",
      "  eval_results_df = eval_results_df.append({'Round': round_num+1,\n"
     ]
    },
    {
     "name": "stdout",
     "output_type": "stream",
     "text": [
      "0.16472565156528132\n",
      "round 22, metrics=OrderedDict([('distributor', ()), ('client_work', OrderedDict([('train', OrderedDict([('precision', 0.51309955), ('recall', 0.098111756), ('binary_accuracy', 0.8984943), ('true_positives', 1273.0), ('true_negatives', 113002.0), ('false_negatives', 11702.0), ('false_positives', 1208.0), ('loss', 0.28428966), ('num_examples', 127185), ('num_batches', 504)]))])), ('aggregator', OrderedDict([('mean_value', ()), ('mean_weight', ())])), ('finalizer', ())])\n"
     ]
    },
    {
     "name": "stderr",
     "output_type": "stream",
     "text": [
      "/tmp/ipykernel_32/32353642.py:22: FutureWarning: The frame.append method is deprecated and will be removed from pandas in a future version. Use pandas.concat instead.\n",
      "  train_results_df = train_results_df.append({'Round': round_num+1, 'BinaryAccuracy': accuracy, 'Loss': loss, 'Precision': precision, 'Recall': recall, 'F1 Score': f1_score}, ignore_index=True)\n"
     ]
    },
    {
     "name": "stdout",
     "output_type": "stream",
     "text": [
      "OrderedDict([('precision', 0.0), ('recall', 0.0), ('binary_accuracy', 0.79469764), ('true_positives', 0.0), ('true_negatives', 8423.0), ('false_negatives', 2176.0), ('false_positives', 0.0), ('loss', 1.2631873), ('num_examples', 10599), ('num_batches', 43)])\n"
     ]
    },
    {
     "name": "stderr",
     "output_type": "stream",
     "text": [
      "/tmp/ipykernel_32/32353642.py:34: FutureWarning: The frame.append method is deprecated and will be removed from pandas in a future version. Use pandas.concat instead.\n",
      "  eval_results_df = eval_results_df.append({'Round': round_num+1,\n"
     ]
    },
    {
     "name": "stdout",
     "output_type": "stream",
     "text": [
      "0.1685089602226822\n",
      "round 23, metrics=OrderedDict([('distributor', ()), ('client_work', OrderedDict([('train', OrderedDict([('precision', 0.50715667), ('recall', 0.10104046), ('binary_accuracy', 0.8982742), ('true_positives', 1311.0), ('true_negatives', 112936.0), ('false_negatives', 11664.0), ('false_positives', 1274.0), ('loss', 0.28300738), ('num_examples', 127185), ('num_batches', 504)]))])), ('aggregator', OrderedDict([('mean_value', ()), ('mean_weight', ())])), ('finalizer', ())])\n"
     ]
    },
    {
     "name": "stderr",
     "output_type": "stream",
     "text": [
      "/tmp/ipykernel_32/32353642.py:22: FutureWarning: The frame.append method is deprecated and will be removed from pandas in a future version. Use pandas.concat instead.\n",
      "  train_results_df = train_results_df.append({'Round': round_num+1, 'BinaryAccuracy': accuracy, 'Loss': loss, 'Precision': precision, 'Recall': recall, 'F1 Score': f1_score}, ignore_index=True)\n"
     ]
    },
    {
     "name": "stdout",
     "output_type": "stream",
     "text": [
      "OrderedDict([('precision', 0.0), ('recall', 0.0), ('binary_accuracy', 0.79469764), ('true_positives', 0.0), ('true_negatives', 8423.0), ('false_negatives', 2176.0), ('false_positives', 0.0), ('loss', 1.2644261), ('num_examples', 10599), ('num_batches', 43)])\n"
     ]
    },
    {
     "name": "stderr",
     "output_type": "stream",
     "text": [
      "/tmp/ipykernel_32/32353642.py:34: FutureWarning: The frame.append method is deprecated and will be removed from pandas in a future version. Use pandas.concat instead.\n",
      "  eval_results_df = eval_results_df.append({'Round': round_num+1,\n"
     ]
    },
    {
     "name": "stdout",
     "output_type": "stream",
     "text": [
      "0.17074263340968876\n",
      "round 24, metrics=OrderedDict([('distributor', ()), ('client_work', OrderedDict([('train', OrderedDict([('precision', 0.5107527), ('recall', 0.10250482), ('binary_accuracy', 0.89842355), ('true_positives', 1330.0), ('true_negatives', 112936.0), ('false_negatives', 11645.0), ('false_positives', 1274.0), ('loss', 0.28267068), ('num_examples', 127185), ('num_batches', 504)]))])), ('aggregator', OrderedDict([('mean_value', ()), ('mean_weight', ())])), ('finalizer', ())])\n"
     ]
    },
    {
     "name": "stderr",
     "output_type": "stream",
     "text": [
      "/tmp/ipykernel_32/32353642.py:22: FutureWarning: The frame.append method is deprecated and will be removed from pandas in a future version. Use pandas.concat instead.\n",
      "  train_results_df = train_results_df.append({'Round': round_num+1, 'BinaryAccuracy': accuracy, 'Loss': loss, 'Precision': precision, 'Recall': recall, 'F1 Score': f1_score}, ignore_index=True)\n"
     ]
    },
    {
     "name": "stdout",
     "output_type": "stream",
     "text": [
      "OrderedDict([('precision', 0.0), ('recall', 0.0), ('binary_accuracy', 0.79469764), ('true_positives', 0.0), ('true_negatives', 8423.0), ('false_negatives', 2176.0), ('false_positives', 0.0), ('loss', 1.267263), ('num_examples', 10599), ('num_batches', 43)])\n"
     ]
    },
    {
     "name": "stderr",
     "output_type": "stream",
     "text": [
      "/tmp/ipykernel_32/32353642.py:34: FutureWarning: The frame.append method is deprecated and will be removed from pandas in a future version. Use pandas.concat instead.\n",
      "  eval_results_df = eval_results_df.append({'Round': round_num+1,\n"
     ]
    },
    {
     "name": "stdout",
     "output_type": "stream",
     "text": [
      "0.17333074420359745\n",
      "round 25, metrics=OrderedDict([('distributor', ()), ('client_work', OrderedDict([('train', OrderedDict([('precision', 0.5022173), ('recall', 0.10473988), ('binary_accuracy', 0.8980776), ('true_positives', 1359.0), ('true_negatives', 112863.0), ('false_negatives', 11616.0), ('false_positives', 1347.0), ('loss', 0.28269002), ('num_examples', 127185), ('num_batches', 504)]))])), ('aggregator', OrderedDict([('mean_value', ()), ('mean_weight', ())])), ('finalizer', ())])\n"
     ]
    },
    {
     "name": "stderr",
     "output_type": "stream",
     "text": [
      "/tmp/ipykernel_32/32353642.py:22: FutureWarning: The frame.append method is deprecated and will be removed from pandas in a future version. Use pandas.concat instead.\n",
      "  train_results_df = train_results_df.append({'Round': round_num+1, 'BinaryAccuracy': accuracy, 'Loss': loss, 'Precision': precision, 'Recall': recall, 'F1 Score': f1_score}, ignore_index=True)\n"
     ]
    },
    {
     "name": "stdout",
     "output_type": "stream",
     "text": [
      "OrderedDict([('precision', 0.0), ('recall', 0.0), ('binary_accuracy', 0.79469764), ('true_positives', 0.0), ('true_negatives', 8423.0), ('false_negatives', 2176.0), ('false_positives', 0.0), ('loss', 1.2655351), ('num_examples', 10599), ('num_batches', 43)])\n"
     ]
    },
    {
     "name": "stderr",
     "output_type": "stream",
     "text": [
      "/tmp/ipykernel_32/32353642.py:34: FutureWarning: The frame.append method is deprecated and will be removed from pandas in a future version. Use pandas.concat instead.\n",
      "  eval_results_df = eval_results_df.append({'Round': round_num+1,\n"
     ]
    },
    {
     "name": "stdout",
     "output_type": "stream",
     "text": [
      "0.1727122074906167\n",
      "round 26, metrics=OrderedDict([('distributor', ()), ('client_work', OrderedDict([('train', OrderedDict([('precision', 0.49543628), ('recall', 0.104585744), ('binary_accuracy', 0.8977867), ('true_positives', 1357.0), ('true_negatives', 112828.0), ('false_negatives', 11618.0), ('false_positives', 1382.0), ('loss', 0.2821496), ('num_examples', 127185), ('num_batches', 504)]))])), ('aggregator', OrderedDict([('mean_value', ()), ('mean_weight', ())])), ('finalizer', ())])\n"
     ]
    },
    {
     "name": "stderr",
     "output_type": "stream",
     "text": [
      "/tmp/ipykernel_32/32353642.py:22: FutureWarning: The frame.append method is deprecated and will be removed from pandas in a future version. Use pandas.concat instead.\n",
      "  train_results_df = train_results_df.append({'Round': round_num+1, 'BinaryAccuracy': accuracy, 'Loss': loss, 'Precision': precision, 'Recall': recall, 'F1 Score': f1_score}, ignore_index=True)\n"
     ]
    },
    {
     "name": "stdout",
     "output_type": "stream",
     "text": [
      "OrderedDict([('precision', 0.0), ('recall', 0.0), ('binary_accuracy', 0.79469764), ('true_positives', 0.0), ('true_negatives', 8423.0), ('false_negatives', 2176.0), ('false_positives', 0.0), ('loss', 1.2692287), ('num_examples', 10599), ('num_batches', 43)])\n"
     ]
    },
    {
     "name": "stderr",
     "output_type": "stream",
     "text": [
      "/tmp/ipykernel_32/32353642.py:34: FutureWarning: The frame.append method is deprecated and will be removed from pandas in a future version. Use pandas.concat instead.\n",
      "  eval_results_df = eval_results_df.append({'Round': round_num+1,\n"
     ]
    },
    {
     "name": "stdout",
     "output_type": "stream",
     "text": [
      "0.17620133701284207\n",
      "round 27, metrics=OrderedDict([('distributor', ()), ('client_work', OrderedDict([('train', OrderedDict([('precision', 0.50272036), ('recall', 0.10682081), ('binary_accuracy', 0.8981012), ('true_positives', 1386.0), ('true_negatives', 112839.0), ('false_negatives', 11589.0), ('false_positives', 1371.0), ('loss', 0.28155738), ('num_examples', 127185), ('num_batches', 504)]))])), ('aggregator', OrderedDict([('mean_value', ()), ('mean_weight', ())])), ('finalizer', ())])\n"
     ]
    },
    {
     "name": "stderr",
     "output_type": "stream",
     "text": [
      "/tmp/ipykernel_32/32353642.py:22: FutureWarning: The frame.append method is deprecated and will be removed from pandas in a future version. Use pandas.concat instead.\n",
      "  train_results_df = train_results_df.append({'Round': round_num+1, 'BinaryAccuracy': accuracy, 'Loss': loss, 'Precision': precision, 'Recall': recall, 'F1 Score': f1_score}, ignore_index=True)\n"
     ]
    },
    {
     "name": "stdout",
     "output_type": "stream",
     "text": [
      "OrderedDict([('precision', 0.0), ('recall', 0.0), ('binary_accuracy', 0.79469764), ('true_positives', 0.0), ('true_negatives', 8423.0), ('false_negatives', 2176.0), ('false_positives', 0.0), ('loss', 1.2711864), ('num_examples', 10599), ('num_batches', 43)])\n"
     ]
    },
    {
     "name": "stderr",
     "output_type": "stream",
     "text": [
      "/tmp/ipykernel_32/32353642.py:34: FutureWarning: The frame.append method is deprecated and will be removed from pandas in a future version. Use pandas.concat instead.\n",
      "  eval_results_df = eval_results_df.append({'Round': round_num+1,\n"
     ]
    },
    {
     "name": "stdout",
     "output_type": "stream",
     "text": [
      "0.1784720178617154\n",
      "round 28, metrics=OrderedDict([('distributor', ()), ('client_work', OrderedDict([('train', OrderedDict([('precision', 0.49735636), ('recall', 0.108747594), ('binary_accuracy', 0.8978653), ('true_positives', 1411.0), ('true_negatives', 112784.0), ('false_negatives', 11564.0), ('false_positives', 1426.0), ('loss', 0.28117388), ('num_examples', 127185), ('num_batches', 504)]))])), ('aggregator', OrderedDict([('mean_value', ()), ('mean_weight', ())])), ('finalizer', ())])\n"
     ]
    },
    {
     "name": "stderr",
     "output_type": "stream",
     "text": [
      "/tmp/ipykernel_32/32353642.py:22: FutureWarning: The frame.append method is deprecated and will be removed from pandas in a future version. Use pandas.concat instead.\n",
      "  train_results_df = train_results_df.append({'Round': round_num+1, 'BinaryAccuracy': accuracy, 'Loss': loss, 'Precision': precision, 'Recall': recall, 'F1 Score': f1_score}, ignore_index=True)\n"
     ]
    },
    {
     "name": "stdout",
     "output_type": "stream",
     "text": [
      "OrderedDict([('precision', 0.0), ('recall', 0.0), ('binary_accuracy', 0.79469764), ('true_positives', 0.0), ('true_negatives', 8423.0), ('false_negatives', 2176.0), ('false_positives', 0.0), ('loss', 1.2681779), ('num_examples', 10599), ('num_batches', 43)])\n"
     ]
    },
    {
     "name": "stderr",
     "output_type": "stream",
     "text": [
      "/tmp/ipykernel_32/32353642.py:34: FutureWarning: The frame.append method is deprecated and will be removed from pandas in a future version. Use pandas.concat instead.\n",
      "  eval_results_df = eval_results_df.append({'Round': round_num+1,\n"
     ]
    },
    {
     "name": "stdout",
     "output_type": "stream",
     "text": [
      "0.18138240671536912\n",
      "round 29, metrics=OrderedDict([('distributor', ()), ('client_work', OrderedDict([('train', OrderedDict([('precision', 0.49913225), ('recall', 0.11082852), ('binary_accuracy', 0.8979439), ('true_positives', 1438.0), ('true_negatives', 112767.0), ('false_negatives', 11537.0), ('false_positives', 1443.0), ('loss', 0.28029314), ('num_examples', 127185), ('num_batches', 504)]))])), ('aggregator', OrderedDict([('mean_value', ()), ('mean_weight', ())])), ('finalizer', ())])\n"
     ]
    },
    {
     "name": "stderr",
     "output_type": "stream",
     "text": [
      "/tmp/ipykernel_32/32353642.py:22: FutureWarning: The frame.append method is deprecated and will be removed from pandas in a future version. Use pandas.concat instead.\n",
      "  train_results_df = train_results_df.append({'Round': round_num+1, 'BinaryAccuracy': accuracy, 'Loss': loss, 'Precision': precision, 'Recall': recall, 'F1 Score': f1_score}, ignore_index=True)\n"
     ]
    },
    {
     "name": "stdout",
     "output_type": "stream",
     "text": [
      "OrderedDict([('precision', 0.0), ('recall', 0.0), ('binary_accuracy', 0.79469764), ('true_positives', 0.0), ('true_negatives', 8423.0), ('false_negatives', 2176.0), ('false_positives', 0.0), ('loss', 1.2637118), ('num_examples', 10599), ('num_batches', 43)])\n"
     ]
    },
    {
     "name": "stderr",
     "output_type": "stream",
     "text": [
      "/tmp/ipykernel_32/32353642.py:34: FutureWarning: The frame.append method is deprecated and will be removed from pandas in a future version. Use pandas.concat instead.\n",
      "  eval_results_df = eval_results_df.append({'Round': round_num+1,\n"
     ]
    },
    {
     "name": "stdout",
     "output_type": "stream",
     "text": [
      "0.180434061703786\n",
      "round 30, metrics=OrderedDict([('distributor', ()), ('client_work', OrderedDict([('train', OrderedDict([('precision', 0.4910959), ('recall', 0.11052023), ('binary_accuracy', 0.8975744), ('true_positives', 1434.0), ('true_negatives', 112724.0), ('false_negatives', 11541.0), ('false_positives', 1486.0), ('loss', 0.27987504), ('num_examples', 127185), ('num_batches', 504)]))])), ('aggregator', OrderedDict([('mean_value', ()), ('mean_weight', ())])), ('finalizer', ())])\n"
     ]
    },
    {
     "name": "stderr",
     "output_type": "stream",
     "text": [
      "/tmp/ipykernel_32/32353642.py:22: FutureWarning: The frame.append method is deprecated and will be removed from pandas in a future version. Use pandas.concat instead.\n",
      "  train_results_df = train_results_df.append({'Round': round_num+1, 'BinaryAccuracy': accuracy, 'Loss': loss, 'Precision': precision, 'Recall': recall, 'F1 Score': f1_score}, ignore_index=True)\n"
     ]
    },
    {
     "name": "stdout",
     "output_type": "stream",
     "text": [
      "OrderedDict([('precision', 0.0), ('recall', 0.0), ('binary_accuracy', 0.79469764), ('true_positives', 0.0), ('true_negatives', 8423.0), ('false_negatives', 2176.0), ('false_positives', 0.0), ('loss', 1.2662735), ('num_examples', 10599), ('num_batches', 43)])\n"
     ]
    },
    {
     "name": "stderr",
     "output_type": "stream",
     "text": [
      "/tmp/ipykernel_32/32353642.py:34: FutureWarning: The frame.append method is deprecated and will be removed from pandas in a future version. Use pandas.concat instead.\n",
      "  eval_results_df = eval_results_df.append({'Round': round_num+1,\n"
     ]
    },
    {
     "name": "stdout",
     "output_type": "stream",
     "text": [
      "0.18147372742561904\n",
      "round 31, metrics=OrderedDict([('distributor', ()), ('client_work', OrderedDict([('train', OrderedDict([('precision', 0.5020964), ('recall', 0.11075144), ('binary_accuracy', 0.8980776), ('true_positives', 1437.0), ('true_negatives', 112785.0), ('false_negatives', 11538.0), ('false_positives', 1425.0), ('loss', 0.27995583), ('num_examples', 127185), ('num_batches', 504)]))])), ('aggregator', OrderedDict([('mean_value', ()), ('mean_weight', ())])), ('finalizer', ())])\n"
     ]
    },
    {
     "name": "stderr",
     "output_type": "stream",
     "text": [
      "/tmp/ipykernel_32/32353642.py:22: FutureWarning: The frame.append method is deprecated and will be removed from pandas in a future version. Use pandas.concat instead.\n",
      "  train_results_df = train_results_df.append({'Round': round_num+1, 'BinaryAccuracy': accuracy, 'Loss': loss, 'Precision': precision, 'Recall': recall, 'F1 Score': f1_score}, ignore_index=True)\n"
     ]
    },
    {
     "name": "stdout",
     "output_type": "stream",
     "text": [
      "OrderedDict([('precision', 0.0), ('recall', 0.0), ('binary_accuracy', 0.79469764), ('true_positives', 0.0), ('true_negatives', 8423.0), ('false_negatives', 2176.0), ('false_positives', 0.0), ('loss', 1.2684673), ('num_examples', 10599), ('num_batches', 43)])\n"
     ]
    },
    {
     "name": "stderr",
     "output_type": "stream",
     "text": [
      "/tmp/ipykernel_32/32353642.py:34: FutureWarning: The frame.append method is deprecated and will be removed from pandas in a future version. Use pandas.concat instead.\n",
      "  eval_results_df = eval_results_df.append({'Round': round_num+1,\n"
     ]
    },
    {
     "name": "stdout",
     "output_type": "stream",
     "text": [
      "0.18067357083602695\n",
      "round 32, metrics=OrderedDict([('distributor', ()), ('client_work', OrderedDict([('train', OrderedDict([('precision', 0.49312714), ('recall', 0.110597305), ('binary_accuracy', 0.8976688), ('true_positives', 1435.0), ('true_negatives', 112735.0), ('false_negatives', 11540.0), ('false_positives', 1475.0), ('loss', 0.28047135), ('num_examples', 127185), ('num_batches', 504)]))])), ('aggregator', OrderedDict([('mean_value', ()), ('mean_weight', ())])), ('finalizer', ())])\n"
     ]
    },
    {
     "name": "stderr",
     "output_type": "stream",
     "text": [
      "/tmp/ipykernel_32/32353642.py:22: FutureWarning: The frame.append method is deprecated and will be removed from pandas in a future version. Use pandas.concat instead.\n",
      "  train_results_df = train_results_df.append({'Round': round_num+1, 'BinaryAccuracy': accuracy, 'Loss': loss, 'Precision': precision, 'Recall': recall, 'F1 Score': f1_score}, ignore_index=True)\n"
     ]
    },
    {
     "name": "stdout",
     "output_type": "stream",
     "text": [
      "OrderedDict([('precision', 0.0), ('recall', 0.0), ('binary_accuracy', 0.79469764), ('true_positives', 0.0), ('true_negatives', 8423.0), ('false_negatives', 2176.0), ('false_positives', 0.0), ('loss', 1.2592096), ('num_examples', 10599), ('num_batches', 43)])\n"
     ]
    },
    {
     "name": "stderr",
     "output_type": "stream",
     "text": [
      "/tmp/ipykernel_32/32353642.py:34: FutureWarning: The frame.append method is deprecated and will be removed from pandas in a future version. Use pandas.concat instead.\n",
      "  eval_results_df = eval_results_df.append({'Round': round_num+1,\n"
     ]
    },
    {
     "name": "stdout",
     "output_type": "stream",
     "text": [
      "0.18380411029920923\n",
      "round 33, metrics=OrderedDict([('distributor', ()), ('client_work', OrderedDict([('train', OrderedDict([('precision', 0.49543148), ('recall', 0.11283237), ('binary_accuracy', 0.89777094), ('true_positives', 1464.0), ('true_negatives', 112719.0), ('false_negatives', 11511.0), ('false_positives', 1491.0), ('loss', 0.27787998), ('num_examples', 127185), ('num_batches', 504)]))])), ('aggregator', OrderedDict([('mean_value', ()), ('mean_weight', ())])), ('finalizer', ())])\n"
     ]
    },
    {
     "name": "stderr",
     "output_type": "stream",
     "text": [
      "/tmp/ipykernel_32/32353642.py:22: FutureWarning: The frame.append method is deprecated and will be removed from pandas in a future version. Use pandas.concat instead.\n",
      "  train_results_df = train_results_df.append({'Round': round_num+1, 'BinaryAccuracy': accuracy, 'Loss': loss, 'Precision': precision, 'Recall': recall, 'F1 Score': f1_score}, ignore_index=True)\n"
     ]
    },
    {
     "name": "stdout",
     "output_type": "stream",
     "text": [
      "OrderedDict([('precision', 0.0), ('recall', 0.0), ('binary_accuracy', 0.79469764), ('true_positives', 0.0), ('true_negatives', 8423.0), ('false_negatives', 2176.0), ('false_positives', 0.0), ('loss', 1.2601241), ('num_examples', 10599), ('num_batches', 43)])\n"
     ]
    },
    {
     "name": "stderr",
     "output_type": "stream",
     "text": [
      "/tmp/ipykernel_32/32353642.py:34: FutureWarning: The frame.append method is deprecated and will be removed from pandas in a future version. Use pandas.concat instead.\n",
      "  eval_results_df = eval_results_df.append({'Round': round_num+1,\n"
     ]
    },
    {
     "name": "stdout",
     "output_type": "stream",
     "text": [
      "0.1887356973467992\n",
      "round 34, metrics=OrderedDict([('distributor', ()), ('client_work', OrderedDict([('train', OrderedDict([('precision', 0.4947678), ('recall', 0.116608866), ('binary_accuracy', 0.89773166), ('true_positives', 1513.0), ('true_negatives', 112665.0), ('false_negatives', 11462.0), ('false_positives', 1545.0), ('loss', 0.2769471), ('num_examples', 127185), ('num_batches', 504)]))])), ('aggregator', OrderedDict([('mean_value', ()), ('mean_weight', ())])), ('finalizer', ())])\n"
     ]
    },
    {
     "name": "stderr",
     "output_type": "stream",
     "text": [
      "/tmp/ipykernel_32/32353642.py:22: FutureWarning: The frame.append method is deprecated and will be removed from pandas in a future version. Use pandas.concat instead.\n",
      "  train_results_df = train_results_df.append({'Round': round_num+1, 'BinaryAccuracy': accuracy, 'Loss': loss, 'Precision': precision, 'Recall': recall, 'F1 Score': f1_score}, ignore_index=True)\n"
     ]
    },
    {
     "name": "stdout",
     "output_type": "stream",
     "text": [
      "OrderedDict([('precision', 0.0), ('recall', 0.0), ('binary_accuracy', 0.79469764), ('true_positives', 0.0), ('true_negatives', 8423.0), ('false_negatives', 2176.0), ('false_positives', 0.0), ('loss', 1.2546678), ('num_examples', 10599), ('num_batches', 43)])\n"
     ]
    },
    {
     "name": "stderr",
     "output_type": "stream",
     "text": [
      "/tmp/ipykernel_32/32353642.py:34: FutureWarning: The frame.append method is deprecated and will be removed from pandas in a future version. Use pandas.concat instead.\n",
      "  eval_results_df = eval_results_df.append({'Round': round_num+1,\n"
     ]
    },
    {
     "name": "stdout",
     "output_type": "stream",
     "text": [
      "0.18237804885675385\n",
      "round 35, metrics=OrderedDict([('distributor', ()), ('client_work', OrderedDict([('train', OrderedDict([('precision', 0.49404153), ('recall', 0.11183044), ('binary_accuracy', 0.89770806), ('true_positives', 1451.0), ('true_negatives', 112724.0), ('false_negatives', 11524.0), ('false_positives', 1486.0), ('loss', 0.2765201), ('num_examples', 127185), ('num_batches', 504)]))])), ('aggregator', OrderedDict([('mean_value', ()), ('mean_weight', ())])), ('finalizer', ())])\n"
     ]
    },
    {
     "name": "stderr",
     "output_type": "stream",
     "text": [
      "/tmp/ipykernel_32/32353642.py:22: FutureWarning: The frame.append method is deprecated and will be removed from pandas in a future version. Use pandas.concat instead.\n",
      "  train_results_df = train_results_df.append({'Round': round_num+1, 'BinaryAccuracy': accuracy, 'Loss': loss, 'Precision': precision, 'Recall': recall, 'F1 Score': f1_score}, ignore_index=True)\n"
     ]
    },
    {
     "name": "stdout",
     "output_type": "stream",
     "text": [
      "OrderedDict([('precision', 0.0), ('recall', 0.0), ('binary_accuracy', 0.79469764), ('true_positives', 0.0), ('true_negatives', 8423.0), ('false_negatives', 2176.0), ('false_positives', 0.0), ('loss', 1.258088), ('num_examples', 10599), ('num_batches', 43)])\n"
     ]
    },
    {
     "name": "stderr",
     "output_type": "stream",
     "text": [
      "/tmp/ipykernel_32/32353642.py:34: FutureWarning: The frame.append method is deprecated and will be removed from pandas in a future version. Use pandas.concat instead.\n",
      "  eval_results_df = eval_results_df.append({'Round': round_num+1,\n"
     ]
    },
    {
     "name": "stdout",
     "output_type": "stream",
     "text": [
      "0.18173834114139248\n",
      "round 36, metrics=OrderedDict([('distributor', ()), ('client_work', OrderedDict([('train', OrderedDict([('precision', 0.4877146), ('recall', 0.1116763), ('binary_accuracy', 0.89740926), ('true_positives', 1449.0), ('true_negatives', 112688.0), ('false_negatives', 11526.0), ('false_positives', 1522.0), ('loss', 0.27644125), ('num_examples', 127185), ('num_batches', 504)]))])), ('aggregator', OrderedDict([('mean_value', ()), ('mean_weight', ())])), ('finalizer', ())])\n"
     ]
    },
    {
     "name": "stderr",
     "output_type": "stream",
     "text": [
      "/tmp/ipykernel_32/32353642.py:22: FutureWarning: The frame.append method is deprecated and will be removed from pandas in a future version. Use pandas.concat instead.\n",
      "  train_results_df = train_results_df.append({'Round': round_num+1, 'BinaryAccuracy': accuracy, 'Loss': loss, 'Precision': precision, 'Recall': recall, 'F1 Score': f1_score}, ignore_index=True)\n"
     ]
    },
    {
     "name": "stdout",
     "output_type": "stream",
     "text": [
      "OrderedDict([('precision', 0.0), ('recall', 0.0), ('binary_accuracy', 0.79469764), ('true_positives', 0.0), ('true_negatives', 8423.0), ('false_negatives', 2176.0), ('false_positives', 0.0), ('loss', 1.2593249), ('num_examples', 10599), ('num_batches', 43)])\n"
     ]
    },
    {
     "name": "stderr",
     "output_type": "stream",
     "text": [
      "/tmp/ipykernel_32/32353642.py:34: FutureWarning: The frame.append method is deprecated and will be removed from pandas in a future version. Use pandas.concat instead.\n",
      "  eval_results_df = eval_results_df.append({'Round': round_num+1,\n"
     ]
    },
    {
     "name": "stdout",
     "output_type": "stream",
     "text": [
      "0.18723879410379324\n",
      "round 37, metrics=OrderedDict([('distributor', ()), ('client_work', OrderedDict([('train', OrderedDict([('precision', 0.49084368), ('recall', 0.11568401), ('binary_accuracy', 0.89754295), ('true_positives', 1501.0), ('true_negatives', 112653.0), ('false_negatives', 11474.0), ('false_positives', 1557.0), ('loss', 0.2764847), ('num_examples', 127185), ('num_batches', 504)]))])), ('aggregator', OrderedDict([('mean_value', ()), ('mean_weight', ())])), ('finalizer', ())])\n"
     ]
    },
    {
     "name": "stderr",
     "output_type": "stream",
     "text": [
      "/tmp/ipykernel_32/32353642.py:22: FutureWarning: The frame.append method is deprecated and will be removed from pandas in a future version. Use pandas.concat instead.\n",
      "  train_results_df = train_results_df.append({'Round': round_num+1, 'BinaryAccuracy': accuracy, 'Loss': loss, 'Precision': precision, 'Recall': recall, 'F1 Score': f1_score}, ignore_index=True)\n"
     ]
    },
    {
     "name": "stdout",
     "output_type": "stream",
     "text": [
      "OrderedDict([('precision', 0.0), ('recall', 0.0), ('binary_accuracy', 0.79469764), ('true_positives', 0.0), ('true_negatives', 8423.0), ('false_negatives', 2176.0), ('false_positives', 0.0), ('loss', 1.26327), ('num_examples', 10599), ('num_batches', 43)])\n"
     ]
    },
    {
     "name": "stderr",
     "output_type": "stream",
     "text": [
      "/tmp/ipykernel_32/32353642.py:34: FutureWarning: The frame.append method is deprecated and will be removed from pandas in a future version. Use pandas.concat instead.\n",
      "  eval_results_df = eval_results_df.append({'Round': round_num+1,\n"
     ]
    },
    {
     "name": "stdout",
     "output_type": "stream",
     "text": [
      "0.18459991640459736\n",
      "round 38, metrics=OrderedDict([('distributor', ()), ('client_work', OrderedDict([('train', OrderedDict([('precision', 0.49512276), ('recall', 0.11344894), ('binary_accuracy', 0.89775527), ('true_positives', 1472.0), ('true_negatives', 112709.0), ('false_negatives', 11503.0), ('false_positives', 1501.0), ('loss', 0.27725643), ('num_examples', 127185), ('num_batches', 504)]))])), ('aggregator', OrderedDict([('mean_value', ()), ('mean_weight', ())])), ('finalizer', ())])\n"
     ]
    },
    {
     "name": "stderr",
     "output_type": "stream",
     "text": [
      "/tmp/ipykernel_32/32353642.py:22: FutureWarning: The frame.append method is deprecated and will be removed from pandas in a future version. Use pandas.concat instead.\n",
      "  train_results_df = train_results_df.append({'Round': round_num+1, 'BinaryAccuracy': accuracy, 'Loss': loss, 'Precision': precision, 'Recall': recall, 'F1 Score': f1_score}, ignore_index=True)\n"
     ]
    },
    {
     "name": "stdout",
     "output_type": "stream",
     "text": [
      "OrderedDict([('precision', 0.0), ('recall', 0.0), ('binary_accuracy', 0.79469764), ('true_positives', 0.0), ('true_negatives', 8423.0), ('false_negatives', 2176.0), ('false_positives', 0.0), ('loss', 1.2638906), ('num_examples', 10599), ('num_batches', 43)])\n"
     ]
    },
    {
     "name": "stderr",
     "output_type": "stream",
     "text": [
      "/tmp/ipykernel_32/32353642.py:34: FutureWarning: The frame.append method is deprecated and will be removed from pandas in a future version. Use pandas.concat instead.\n",
      "  eval_results_df = eval_results_df.append({'Round': round_num+1,\n"
     ]
    },
    {
     "name": "stdout",
     "output_type": "stream",
     "text": [
      "0.19249671156286272\n",
      "round 39, metrics=OrderedDict([('distributor', ()), ('client_work', OrderedDict([('train', OrderedDict([('precision', 0.49935442), ('recall', 0.11922929), ('binary_accuracy', 0.8979518), ('true_positives', 1547.0), ('true_negatives', 112659.0), ('false_negatives', 11428.0), ('false_positives', 1551.0), ('loss', 0.27666867), ('num_examples', 127185), ('num_batches', 504)]))])), ('aggregator', OrderedDict([('mean_value', ()), ('mean_weight', ())])), ('finalizer', ())])\n"
     ]
    },
    {
     "name": "stderr",
     "output_type": "stream",
     "text": [
      "/tmp/ipykernel_32/32353642.py:22: FutureWarning: The frame.append method is deprecated and will be removed from pandas in a future version. Use pandas.concat instead.\n",
      "  train_results_df = train_results_df.append({'Round': round_num+1, 'BinaryAccuracy': accuracy, 'Loss': loss, 'Precision': precision, 'Recall': recall, 'F1 Score': f1_score}, ignore_index=True)\n"
     ]
    },
    {
     "name": "stdout",
     "output_type": "stream",
     "text": [
      "OrderedDict([('precision', 0.0), ('recall', 0.0), ('binary_accuracy', 0.79469764), ('true_positives', 0.0), ('true_negatives', 8423.0), ('false_negatives', 2176.0), ('false_positives', 0.0), ('loss', 1.2556971), ('num_examples', 10599), ('num_batches', 43)])\n"
     ]
    },
    {
     "name": "stderr",
     "output_type": "stream",
     "text": [
      "/tmp/ipykernel_32/32353642.py:34: FutureWarning: The frame.append method is deprecated and will be removed from pandas in a future version. Use pandas.concat instead.\n",
      "  eval_results_df = eval_results_df.append({'Round': round_num+1,\n"
     ]
    },
    {
     "name": "stdout",
     "output_type": "stream",
     "text": [
      "0.19174678284188393\n",
      "round 40, metrics=OrderedDict([('distributor', ()), ('client_work', OrderedDict([('train', OrderedDict([('precision', 0.49203822), ('recall', 0.11907514), ('binary_accuracy', 0.8975901), ('true_positives', 1545.0), ('true_negatives', 112615.0), ('false_negatives', 11430.0), ('false_positives', 1595.0), ('loss', 0.27459145), ('num_examples', 127185), ('num_batches', 504)]))])), ('aggregator', OrderedDict([('mean_value', ()), ('mean_weight', ())])), ('finalizer', ())])\n"
     ]
    },
    {
     "name": "stderr",
     "output_type": "stream",
     "text": [
      "/tmp/ipykernel_32/32353642.py:22: FutureWarning: The frame.append method is deprecated and will be removed from pandas in a future version. Use pandas.concat instead.\n",
      "  train_results_df = train_results_df.append({'Round': round_num+1, 'BinaryAccuracy': accuracy, 'Loss': loss, 'Precision': precision, 'Recall': recall, 'F1 Score': f1_score}, ignore_index=True)\n"
     ]
    },
    {
     "name": "stdout",
     "output_type": "stream",
     "text": [
      "OrderedDict([('precision', 0.0), ('recall', 0.0), ('binary_accuracy', 0.79469764), ('true_positives', 0.0), ('true_negatives', 8423.0), ('false_negatives', 2176.0), ('false_positives', 0.0), ('loss', 1.2578394), ('num_examples', 10599), ('num_batches', 43)])\n"
     ]
    },
    {
     "name": "stderr",
     "output_type": "stream",
     "text": [
      "/tmp/ipykernel_32/32353642.py:34: FutureWarning: The frame.append method is deprecated and will be removed from pandas in a future version. Use pandas.concat instead.\n",
      "  eval_results_df = eval_results_df.append({'Round': round_num+1,\n"
     ]
    },
    {
     "name": "stdout",
     "output_type": "stream",
     "text": [
      "0.1948219321602973\n",
      "round 41, metrics=OrderedDict([('distributor', ()), ('client_work', OrderedDict([('train', OrderedDict([('precision', 0.48204505), ('recall', 0.12208092), ('binary_accuracy', 0.89705545), ('true_positives', 1584.0), ('true_negatives', 112508.0), ('false_negatives', 11391.0), ('false_positives', 1702.0), ('loss', 0.27552587), ('num_examples', 127185), ('num_batches', 504)]))])), ('aggregator', OrderedDict([('mean_value', ()), ('mean_weight', ())])), ('finalizer', ())])\n"
     ]
    },
    {
     "name": "stderr",
     "output_type": "stream",
     "text": [
      "/tmp/ipykernel_32/32353642.py:22: FutureWarning: The frame.append method is deprecated and will be removed from pandas in a future version. Use pandas.concat instead.\n",
      "  train_results_df = train_results_df.append({'Round': round_num+1, 'BinaryAccuracy': accuracy, 'Loss': loss, 'Precision': precision, 'Recall': recall, 'F1 Score': f1_score}, ignore_index=True)\n"
     ]
    },
    {
     "name": "stdout",
     "output_type": "stream",
     "text": [
      "OrderedDict([('precision', 0.0), ('recall', 0.0), ('binary_accuracy', 0.79469764), ('true_positives', 0.0), ('true_negatives', 8423.0), ('false_negatives', 2176.0), ('false_positives', 0.0), ('loss', 1.2514865), ('num_examples', 10599), ('num_batches', 43)])\n"
     ]
    },
    {
     "name": "stderr",
     "output_type": "stream",
     "text": [
      "/tmp/ipykernel_32/32353642.py:34: FutureWarning: The frame.append method is deprecated and will be removed from pandas in a future version. Use pandas.concat instead.\n",
      "  eval_results_df = eval_results_df.append({'Round': round_num+1,\n"
     ]
    },
    {
     "name": "stdout",
     "output_type": "stream",
     "text": [
      "0.19789546885157755\n",
      "round 42, metrics=OrderedDict([('distributor', ()), ('client_work', OrderedDict([('train', OrderedDict([('precision', 0.4908425), ('recall', 0.12393063), ('binary_accuracy', 0.8975115), ('true_positives', 1608.0), ('true_negatives', 112542.0), ('false_negatives', 11367.0), ('false_positives', 1668.0), ('loss', 0.2743821), ('num_examples', 127185), ('num_batches', 504)]))])), ('aggregator', OrderedDict([('mean_value', ()), ('mean_weight', ())])), ('finalizer', ())])\n"
     ]
    },
    {
     "name": "stderr",
     "output_type": "stream",
     "text": [
      "/tmp/ipykernel_32/32353642.py:22: FutureWarning: The frame.append method is deprecated and will be removed from pandas in a future version. Use pandas.concat instead.\n",
      "  train_results_df = train_results_df.append({'Round': round_num+1, 'BinaryAccuracy': accuracy, 'Loss': loss, 'Precision': precision, 'Recall': recall, 'F1 Score': f1_score}, ignore_index=True)\n"
     ]
    },
    {
     "name": "stdout",
     "output_type": "stream",
     "text": [
      "OrderedDict([('precision', 0.0), ('recall', 0.0), ('binary_accuracy', 0.79469764), ('true_positives', 0.0), ('true_negatives', 8423.0), ('false_negatives', 2176.0), ('false_positives', 0.0), ('loss', 1.2584555), ('num_examples', 10599), ('num_batches', 43)])\n"
     ]
    },
    {
     "name": "stderr",
     "output_type": "stream",
     "text": [
      "/tmp/ipykernel_32/32353642.py:34: FutureWarning: The frame.append method is deprecated and will be removed from pandas in a future version. Use pandas.concat instead.\n",
      "  eval_results_df = eval_results_df.append({'Round': round_num+1,\n"
     ]
    },
    {
     "name": "stdout",
     "output_type": "stream",
     "text": [
      "0.19695566004610637\n",
      "round 43, metrics=OrderedDict([('distributor', ()), ('client_work', OrderedDict([('train', OrderedDict([('precision', 0.4913899), ('recall', 0.12315992), ('binary_accuracy', 0.89754295), ('true_positives', 1598.0), ('true_negatives', 112556.0), ('false_negatives', 11377.0), ('false_positives', 1654.0), ('loss', 0.275627), ('num_examples', 127185), ('num_batches', 504)]))])), ('aggregator', OrderedDict([('mean_value', ()), ('mean_weight', ())])), ('finalizer', ())])\n"
     ]
    },
    {
     "name": "stderr",
     "output_type": "stream",
     "text": [
      "/tmp/ipykernel_32/32353642.py:22: FutureWarning: The frame.append method is deprecated and will be removed from pandas in a future version. Use pandas.concat instead.\n",
      "  train_results_df = train_results_df.append({'Round': round_num+1, 'BinaryAccuracy': accuracy, 'Loss': loss, 'Precision': precision, 'Recall': recall, 'F1 Score': f1_score}, ignore_index=True)\n"
     ]
    },
    {
     "name": "stdout",
     "output_type": "stream",
     "text": [
      "OrderedDict([('precision', 0.0), ('recall', 0.0), ('binary_accuracy', 0.79469764), ('true_positives', 0.0), ('true_negatives', 8423.0), ('false_negatives', 2176.0), ('false_positives', 0.0), ('loss', 1.2552744), ('num_examples', 10599), ('num_batches', 43)])\n"
     ]
    },
    {
     "name": "stderr",
     "output_type": "stream",
     "text": [
      "/tmp/ipykernel_32/32353642.py:34: FutureWarning: The frame.append method is deprecated and will be removed from pandas in a future version. Use pandas.concat instead.\n",
      "  eval_results_df = eval_results_df.append({'Round': round_num+1,\n"
     ]
    },
    {
     "name": "stdout",
     "output_type": "stream",
     "text": [
      "0.20124858748413557\n",
      "round 44, metrics=OrderedDict([('distributor', ()), ('client_work', OrderedDict([('train', OrderedDict([('precision', 0.48884925), ('recall', 0.1267052), ('binary_accuracy', 0.8973936), ('true_positives', 1644.0), ('true_negatives', 112491.0), ('false_negatives', 11331.0), ('false_positives', 1719.0), ('loss', 0.27440414), ('num_examples', 127185), ('num_batches', 504)]))])), ('aggregator', OrderedDict([('mean_value', ()), ('mean_weight', ())])), ('finalizer', ())])\n"
     ]
    },
    {
     "name": "stderr",
     "output_type": "stream",
     "text": [
      "/tmp/ipykernel_32/32353642.py:22: FutureWarning: The frame.append method is deprecated and will be removed from pandas in a future version. Use pandas.concat instead.\n",
      "  train_results_df = train_results_df.append({'Round': round_num+1, 'BinaryAccuracy': accuracy, 'Loss': loss, 'Precision': precision, 'Recall': recall, 'F1 Score': f1_score}, ignore_index=True)\n"
     ]
    },
    {
     "name": "stdout",
     "output_type": "stream",
     "text": [
      "OrderedDict([('precision', 0.0), ('recall', 0.0), ('binary_accuracy', 0.79469764), ('true_positives', 0.0), ('true_negatives', 8423.0), ('false_negatives', 2176.0), ('false_positives', 0.0), ('loss', 1.254602), ('num_examples', 10599), ('num_batches', 43)])\n"
     ]
    },
    {
     "name": "stderr",
     "output_type": "stream",
     "text": [
      "/tmp/ipykernel_32/32353642.py:34: FutureWarning: The frame.append method is deprecated and will be removed from pandas in a future version. Use pandas.concat instead.\n",
      "  eval_results_df = eval_results_df.append({'Round': round_num+1,\n"
     ]
    },
    {
     "name": "stdout",
     "output_type": "stream",
     "text": [
      "0.20583769705754498\n",
      "round 45, metrics=OrderedDict([('distributor', ()), ('client_work', OrderedDict([('train', OrderedDict([('precision', 0.48401827), ('recall', 0.13071291), ('binary_accuracy', 0.89710265), ('true_positives', 1696.0), ('true_negatives', 112402.0), ('false_negatives', 11279.0), ('false_positives', 1808.0), ('loss', 0.2742457), ('num_examples', 127185), ('num_batches', 504)]))])), ('aggregator', OrderedDict([('mean_value', ()), ('mean_weight', ())])), ('finalizer', ())])\n"
     ]
    },
    {
     "name": "stderr",
     "output_type": "stream",
     "text": [
      "/tmp/ipykernel_32/32353642.py:22: FutureWarning: The frame.append method is deprecated and will be removed from pandas in a future version. Use pandas.concat instead.\n",
      "  train_results_df = train_results_df.append({'Round': round_num+1, 'BinaryAccuracy': accuracy, 'Loss': loss, 'Precision': precision, 'Recall': recall, 'F1 Score': f1_score}, ignore_index=True)\n"
     ]
    },
    {
     "name": "stdout",
     "output_type": "stream",
     "text": [
      "OrderedDict([('precision', 0.0), ('recall', 0.0), ('binary_accuracy', 0.79469764), ('true_positives', 0.0), ('true_negatives', 8423.0), ('false_negatives', 2176.0), ('false_positives', 0.0), ('loss', 1.2580844), ('num_examples', 10599), ('num_batches', 43)])\n"
     ]
    },
    {
     "name": "stderr",
     "output_type": "stream",
     "text": [
      "/tmp/ipykernel_32/32353642.py:34: FutureWarning: The frame.append method is deprecated and will be removed from pandas in a future version. Use pandas.concat instead.\n",
      "  eval_results_df = eval_results_df.append({'Round': round_num+1,\n"
     ]
    },
    {
     "name": "stdout",
     "output_type": "stream",
     "text": [
      "0.21119435593291933\n",
      "round 46, metrics=OrderedDict([('distributor', ()), ('client_work', OrderedDict([('train', OrderedDict([('precision', 0.48949286), ('recall', 0.13464354), ('binary_accuracy', 0.8973936), ('true_positives', 1747.0), ('true_negatives', 112388.0), ('false_negatives', 11228.0), ('false_positives', 1822.0), ('loss', 0.2747154), ('num_examples', 127185), ('num_batches', 504)]))])), ('aggregator', OrderedDict([('mean_value', ()), ('mean_weight', ())])), ('finalizer', ())])\n"
     ]
    },
    {
     "name": "stderr",
     "output_type": "stream",
     "text": [
      "/tmp/ipykernel_32/32353642.py:22: FutureWarning: The frame.append method is deprecated and will be removed from pandas in a future version. Use pandas.concat instead.\n",
      "  train_results_df = train_results_df.append({'Round': round_num+1, 'BinaryAccuracy': accuracy, 'Loss': loss, 'Precision': precision, 'Recall': recall, 'F1 Score': f1_score}, ignore_index=True)\n"
     ]
    },
    {
     "name": "stdout",
     "output_type": "stream",
     "text": [
      "OrderedDict([('precision', 0.0), ('recall', 0.0), ('binary_accuracy', 0.79469764), ('true_positives', 0.0), ('true_negatives', 8423.0), ('false_negatives', 2176.0), ('false_positives', 0.0), ('loss', 1.2541275), ('num_examples', 10599), ('num_batches', 43)])\n"
     ]
    },
    {
     "name": "stderr",
     "output_type": "stream",
     "text": [
      "/tmp/ipykernel_32/32353642.py:34: FutureWarning: The frame.append method is deprecated and will be removed from pandas in a future version. Use pandas.concat instead.\n",
      "  eval_results_df = eval_results_df.append({'Round': round_num+1,\n"
     ]
    },
    {
     "name": "stdout",
     "output_type": "stream",
     "text": [
      "0.21634526466157797\n",
      "round 47, metrics=OrderedDict([('distributor', ()), ('client_work', OrderedDict([('train', OrderedDict([('precision', 0.47987288), ('recall', 0.13965318), ('binary_accuracy', 0.8967881), ('true_positives', 1812.0), ('true_negatives', 112246.0), ('false_negatives', 11163.0), ('false_positives', 1964.0), ('loss', 0.27328354), ('num_examples', 127185), ('num_batches', 504)]))])), ('aggregator', OrderedDict([('mean_value', ()), ('mean_weight', ())])), ('finalizer', ())])\n"
     ]
    },
    {
     "name": "stderr",
     "output_type": "stream",
     "text": [
      "/tmp/ipykernel_32/32353642.py:22: FutureWarning: The frame.append method is deprecated and will be removed from pandas in a future version. Use pandas.concat instead.\n",
      "  train_results_df = train_results_df.append({'Round': round_num+1, 'BinaryAccuracy': accuracy, 'Loss': loss, 'Precision': precision, 'Recall': recall, 'F1 Score': f1_score}, ignore_index=True)\n"
     ]
    },
    {
     "name": "stdout",
     "output_type": "stream",
     "text": [
      "OrderedDict([('precision', 0.0), ('recall', 0.0), ('binary_accuracy', 0.79469764), ('true_positives', 0.0), ('true_negatives', 8423.0), ('false_negatives', 2176.0), ('false_positives', 0.0), ('loss', 1.2528732), ('num_examples', 10599), ('num_batches', 43)])\n"
     ]
    },
    {
     "name": "stderr",
     "output_type": "stream",
     "text": [
      "/tmp/ipykernel_32/32353642.py:34: FutureWarning: The frame.append method is deprecated and will be removed from pandas in a future version. Use pandas.concat instead.\n",
      "  eval_results_df = eval_results_df.append({'Round': round_num+1,\n"
     ]
    },
    {
     "name": "stdout",
     "output_type": "stream",
     "text": [
      "0.20097702118004127\n",
      "round 48, metrics=OrderedDict([('distributor', ()), ('client_work', OrderedDict([('train', OrderedDict([('precision', 0.50844806), ('recall', 0.12524085), ('binary_accuracy', 0.8984078), ('true_positives', 1625.0), ('true_negatives', 112639.0), ('false_negatives', 11350.0), ('false_positives', 1571.0), ('loss', 0.27325428), ('num_examples', 127185), ('num_batches', 504)]))])), ('aggregator', OrderedDict([('mean_value', ()), ('mean_weight', ())])), ('finalizer', ())])\n"
     ]
    },
    {
     "name": "stderr",
     "output_type": "stream",
     "text": [
      "/tmp/ipykernel_32/32353642.py:22: FutureWarning: The frame.append method is deprecated and will be removed from pandas in a future version. Use pandas.concat instead.\n",
      "  train_results_df = train_results_df.append({'Round': round_num+1, 'BinaryAccuracy': accuracy, 'Loss': loss, 'Precision': precision, 'Recall': recall, 'F1 Score': f1_score}, ignore_index=True)\n"
     ]
    },
    {
     "name": "stdout",
     "output_type": "stream",
     "text": [
      "OrderedDict([('precision', 0.0), ('recall', 0.0), ('binary_accuracy', 0.79469764), ('true_positives', 0.0), ('true_negatives', 8423.0), ('false_negatives', 2176.0), ('false_positives', 0.0), ('loss', 1.252601), ('num_examples', 10599), ('num_batches', 43)])\n"
     ]
    },
    {
     "name": "stderr",
     "output_type": "stream",
     "text": [
      "/tmp/ipykernel_32/32353642.py:34: FutureWarning: The frame.append method is deprecated and will be removed from pandas in a future version. Use pandas.concat instead.\n",
      "  eval_results_df = eval_results_df.append({'Round': round_num+1,\n"
     ]
    },
    {
     "name": "stdout",
     "output_type": "stream",
     "text": [
      "0.19246911004022826\n",
      "round 49, metrics=OrderedDict([('distributor', ()), ('client_work', OrderedDict([('train', OrderedDict([('precision', 0.51440054), ('recall', 0.1183815), ('binary_accuracy', 0.8986594), ('true_positives', 1536.0), ('true_negatives', 112760.0), ('false_negatives', 11439.0), ('false_positives', 1450.0), ('loss', 0.27260274), ('num_examples', 127185), ('num_batches', 504)]))])), ('aggregator', OrderedDict([('mean_value', ()), ('mean_weight', ())])), ('finalizer', ())])\n"
     ]
    },
    {
     "name": "stderr",
     "output_type": "stream",
     "text": [
      "/tmp/ipykernel_32/32353642.py:22: FutureWarning: The frame.append method is deprecated and will be removed from pandas in a future version. Use pandas.concat instead.\n",
      "  train_results_df = train_results_df.append({'Round': round_num+1, 'BinaryAccuracy': accuracy, 'Loss': loss, 'Precision': precision, 'Recall': recall, 'F1 Score': f1_score}, ignore_index=True)\n"
     ]
    },
    {
     "name": "stdout",
     "output_type": "stream",
     "text": [
      "OrderedDict([('precision', 0.0), ('recall', 0.0), ('binary_accuracy', 0.79469764), ('true_positives', 0.0), ('true_negatives', 8423.0), ('false_negatives', 2176.0), ('false_positives', 0.0), ('loss', 1.2420582), ('num_examples', 10599), ('num_batches', 43)])\n"
     ]
    },
    {
     "name": "stderr",
     "output_type": "stream",
     "text": [
      "/tmp/ipykernel_32/32353642.py:34: FutureWarning: The frame.append method is deprecated and will be removed from pandas in a future version. Use pandas.concat instead.\n",
      "  eval_results_df = eval_results_df.append({'Round': round_num+1,\n"
     ]
    },
    {
     "name": "stdout",
     "output_type": "stream",
     "text": [
      "0.18354467652162887\n",
      "round 50, metrics=OrderedDict([('distributor', ()), ('client_work', OrderedDict([('train', OrderedDict([('precision', 0.5301915), ('recall', 0.11098266), ('binary_accuracy', 0.89927274), ('true_positives', 1440.0), ('true_negatives', 112934.0), ('false_negatives', 11535.0), ('false_positives', 1276.0), ('loss', 0.2702414), ('num_examples', 127185), ('num_batches', 504)]))])), ('aggregator', OrderedDict([('mean_value', ()), ('mean_weight', ())])), ('finalizer', ())])\n"
     ]
    },
    {
     "name": "stderr",
     "output_type": "stream",
     "text": [
      "/tmp/ipykernel_32/32353642.py:22: FutureWarning: The frame.append method is deprecated and will be removed from pandas in a future version. Use pandas.concat instead.\n",
      "  train_results_df = train_results_df.append({'Round': round_num+1, 'BinaryAccuracy': accuracy, 'Loss': loss, 'Precision': precision, 'Recall': recall, 'F1 Score': f1_score}, ignore_index=True)\n"
     ]
    },
    {
     "name": "stdout",
     "output_type": "stream",
     "text": [
      "OrderedDict([('precision', 0.0), ('recall', 0.0), ('binary_accuracy', 0.79469764), ('true_positives', 0.0), ('true_negatives', 8423.0), ('false_negatives', 2176.0), ('false_positives', 0.0), ('loss', 1.2356439), ('num_examples', 10599), ('num_batches', 43)])\n"
     ]
    },
    {
     "name": "stderr",
     "output_type": "stream",
     "text": [
      "/tmp/ipykernel_32/32353642.py:34: FutureWarning: The frame.append method is deprecated and will be removed from pandas in a future version. Use pandas.concat instead.\n",
      "  eval_results_df = eval_results_df.append({'Round': round_num+1,\n"
     ]
    },
    {
     "name": "stdout",
     "output_type": "stream",
     "text": [
      "0.1773076544708617\n",
      "round 51, metrics=OrderedDict([('distributor', ()), ('client_work', OrderedDict([('train', OrderedDict([('precision', 0.52685714), ('recall', 0.10658959), ('binary_accuracy', 0.8990919), ('true_positives', 1383.0), ('true_negatives', 112968.0), ('false_negatives', 11592.0), ('false_positives', 1242.0), ('loss', 0.26853296), ('num_examples', 127185), ('num_batches', 504)]))])), ('aggregator', OrderedDict([('mean_value', ()), ('mean_weight', ())])), ('finalizer', ())])\n"
     ]
    },
    {
     "name": "stderr",
     "output_type": "stream",
     "text": [
      "/tmp/ipykernel_32/32353642.py:22: FutureWarning: The frame.append method is deprecated and will be removed from pandas in a future version. Use pandas.concat instead.\n",
      "  train_results_df = train_results_df.append({'Round': round_num+1, 'BinaryAccuracy': accuracy, 'Loss': loss, 'Precision': precision, 'Recall': recall, 'F1 Score': f1_score}, ignore_index=True)\n"
     ]
    },
    {
     "name": "stdout",
     "output_type": "stream",
     "text": [
      "OrderedDict([('precision', 0.0), ('recall', 0.0), ('binary_accuracy', 0.79469764), ('true_positives', 0.0), ('true_negatives', 8423.0), ('false_negatives', 2176.0), ('false_positives', 0.0), ('loss', 1.2314537), ('num_examples', 10599), ('num_batches', 43)])\n"
     ]
    },
    {
     "name": "stderr",
     "output_type": "stream",
     "text": [
      "/tmp/ipykernel_32/32353642.py:34: FutureWarning: The frame.append method is deprecated and will be removed from pandas in a future version. Use pandas.concat instead.\n",
      "  eval_results_df = eval_results_df.append({'Round': round_num+1,\n"
     ]
    },
    {
     "name": "stdout",
     "output_type": "stream",
     "text": [
      "0.17410970991349456\n",
      "round 52, metrics=OrderedDict([('distributor', ()), ('client_work', OrderedDict([('train', OrderedDict([('precision', 0.53923136), ('recall', 0.10381503), ('binary_accuracy', 0.89952433), ('true_positives', 1347.0), ('true_negatives', 113059.0), ('false_negatives', 11628.0), ('false_positives', 1151.0), ('loss', 0.26757926), ('num_examples', 127185), ('num_batches', 504)]))])), ('aggregator', OrderedDict([('mean_value', ()), ('mean_weight', ())])), ('finalizer', ())])\n"
     ]
    },
    {
     "name": "stderr",
     "output_type": "stream",
     "text": [
      "/tmp/ipykernel_32/32353642.py:22: FutureWarning: The frame.append method is deprecated and will be removed from pandas in a future version. Use pandas.concat instead.\n",
      "  train_results_df = train_results_df.append({'Round': round_num+1, 'BinaryAccuracy': accuracy, 'Loss': loss, 'Precision': precision, 'Recall': recall, 'F1 Score': f1_score}, ignore_index=True)\n"
     ]
    },
    {
     "name": "stdout",
     "output_type": "stream",
     "text": [
      "OrderedDict([('precision', 0.0), ('recall', 0.0), ('binary_accuracy', 0.79469764), ('true_positives', 0.0), ('true_negatives', 8423.0), ('false_negatives', 2176.0), ('false_positives', 0.0), ('loss', 1.2162696), ('num_examples', 10599), ('num_batches', 43)])\n"
     ]
    },
    {
     "name": "stderr",
     "output_type": "stream",
     "text": [
      "/tmp/ipykernel_32/32353642.py:34: FutureWarning: The frame.append method is deprecated and will be removed from pandas in a future version. Use pandas.concat instead.\n",
      "  eval_results_df = eval_results_df.append({'Round': round_num+1,\n"
     ]
    },
    {
     "name": "stdout",
     "output_type": "stream",
     "text": [
      "0.16847294462883178\n",
      "round 53, metrics=OrderedDict([('distributor', ()), ('client_work', OrderedDict([('train', OrderedDict([('precision', 0.5332785), ('recall', 0.100038536), ('binary_accuracy', 0.899257), ('true_positives', 1298.0), ('true_negatives', 113074.0), ('false_negatives', 11677.0), ('false_positives', 1136.0), ('loss', 0.26524746), ('num_examples', 127185), ('num_batches', 504)]))])), ('aggregator', OrderedDict([('mean_value', ()), ('mean_weight', ())])), ('finalizer', ())])\n"
     ]
    },
    {
     "name": "stderr",
     "output_type": "stream",
     "text": [
      "/tmp/ipykernel_32/32353642.py:22: FutureWarning: The frame.append method is deprecated and will be removed from pandas in a future version. Use pandas.concat instead.\n",
      "  train_results_df = train_results_df.append({'Round': round_num+1, 'BinaryAccuracy': accuracy, 'Loss': loss, 'Precision': precision, 'Recall': recall, 'F1 Score': f1_score}, ignore_index=True)\n"
     ]
    },
    {
     "name": "stdout",
     "output_type": "stream",
     "text": [
      "OrderedDict([('precision', 0.0), ('recall', 0.0), ('binary_accuracy', 0.79469764), ('true_positives', 0.0), ('true_negatives', 8423.0), ('false_negatives', 2176.0), ('false_positives', 0.0), ('loss', 1.2052929), ('num_examples', 10599), ('num_batches', 43)])\n"
     ]
    },
    {
     "name": "stderr",
     "output_type": "stream",
     "text": [
      "/tmp/ipykernel_32/32353642.py:34: FutureWarning: The frame.append method is deprecated and will be removed from pandas in a future version. Use pandas.concat instead.\n",
      "  eval_results_df = eval_results_df.append({'Round': round_num+1,\n"
     ]
    },
    {
     "name": "stdout",
     "output_type": "stream",
     "text": [
      "0.15011943338323563\n",
      "round 54, metrics=OrderedDict([('distributor', ()), ('client_work', OrderedDict([('train', OrderedDict([('precision', 0.54037267), ('recall', 0.08716763), ('binary_accuracy', 0.899312), ('true_positives', 1131.0), ('true_negatives', 113248.0), ('false_negatives', 11844.0), ('false_positives', 962.0), ('loss', 0.26292303), ('num_examples', 127185), ('num_batches', 504)]))])), ('aggregator', OrderedDict([('mean_value', ()), ('mean_weight', ())])), ('finalizer', ())])\n"
     ]
    },
    {
     "name": "stderr",
     "output_type": "stream",
     "text": [
      "/tmp/ipykernel_32/32353642.py:22: FutureWarning: The frame.append method is deprecated and will be removed from pandas in a future version. Use pandas.concat instead.\n",
      "  train_results_df = train_results_df.append({'Round': round_num+1, 'BinaryAccuracy': accuracy, 'Loss': loss, 'Precision': precision, 'Recall': recall, 'F1 Score': f1_score}, ignore_index=True)\n"
     ]
    },
    {
     "name": "stdout",
     "output_type": "stream",
     "text": [
      "OrderedDict([('precision', 0.0), ('recall', 0.0), ('binary_accuracy', 0.79469764), ('true_positives', 0.0), ('true_negatives', 8423.0), ('false_negatives', 2176.0), ('false_positives', 0.0), ('loss', 1.202236), ('num_examples', 10599), ('num_batches', 43)])\n"
     ]
    },
    {
     "name": "stderr",
     "output_type": "stream",
     "text": [
      "/tmp/ipykernel_32/32353642.py:34: FutureWarning: The frame.append method is deprecated and will be removed from pandas in a future version. Use pandas.concat instead.\n",
      "  eval_results_df = eval_results_df.append({'Round': round_num+1,\n"
     ]
    },
    {
     "name": "stdout",
     "output_type": "stream",
     "text": [
      "0.12551495234422902\n",
      "round 55, metrics=OrderedDict([('distributor', ()), ('client_work', OrderedDict([('train', OrderedDict([('precision', 0.57520455), ('recall', 0.07044316), ('binary_accuracy', 0.8998624), ('true_positives', 914.0), ('true_negatives', 113535.0), ('false_negatives', 12061.0), ('false_positives', 675.0), ('loss', 0.26328713), ('num_examples', 127185), ('num_batches', 504)]))])), ('aggregator', OrderedDict([('mean_value', ()), ('mean_weight', ())])), ('finalizer', ())])\n"
     ]
    },
    {
     "name": "stderr",
     "output_type": "stream",
     "text": [
      "/tmp/ipykernel_32/32353642.py:22: FutureWarning: The frame.append method is deprecated and will be removed from pandas in a future version. Use pandas.concat instead.\n",
      "  train_results_df = train_results_df.append({'Round': round_num+1, 'BinaryAccuracy': accuracy, 'Loss': loss, 'Precision': precision, 'Recall': recall, 'F1 Score': f1_score}, ignore_index=True)\n"
     ]
    },
    {
     "name": "stdout",
     "output_type": "stream",
     "text": [
      "OrderedDict([('precision', 0.0), ('recall', 0.0), ('binary_accuracy', 0.79469764), ('true_positives', 0.0), ('true_negatives', 8423.0), ('false_negatives', 2176.0), ('false_positives', 0.0), ('loss', 1.1836327), ('num_examples', 10599), ('num_batches', 43)])\n"
     ]
    },
    {
     "name": "stderr",
     "output_type": "stream",
     "text": [
      "/tmp/ipykernel_32/32353642.py:34: FutureWarning: The frame.append method is deprecated and will be removed from pandas in a future version. Use pandas.concat instead.\n",
      "  eval_results_df = eval_results_df.append({'Round': round_num+1,\n"
     ]
    },
    {
     "name": "stdout",
     "output_type": "stream",
     "text": [
      "0.1039179740645915\n",
      "round 56, metrics=OrderedDict([('distributor', ()), ('client_work', OrderedDict([('train', OrderedDict([('precision', 0.58405685), ('recall', 0.057032757), ('binary_accuracy', 0.89965796), ('true_positives', 740.0), ('true_negatives', 113683.0), ('false_negatives', 12235.0), ('false_positives', 527.0), ('loss', 0.25917888), ('num_examples', 127185), ('num_batches', 504)]))])), ('aggregator', OrderedDict([('mean_value', ()), ('mean_weight', ())])), ('finalizer', ())])\n"
     ]
    },
    {
     "name": "stderr",
     "output_type": "stream",
     "text": [
      "/tmp/ipykernel_32/32353642.py:22: FutureWarning: The frame.append method is deprecated and will be removed from pandas in a future version. Use pandas.concat instead.\n",
      "  train_results_df = train_results_df.append({'Round': round_num+1, 'BinaryAccuracy': accuracy, 'Loss': loss, 'Precision': precision, 'Recall': recall, 'F1 Score': f1_score}, ignore_index=True)\n"
     ]
    },
    {
     "name": "stdout",
     "output_type": "stream",
     "text": [
      "OrderedDict([('precision', 0.0), ('recall', 0.0), ('binary_accuracy', 0.79469764), ('true_positives', 0.0), ('true_negatives', 8423.0), ('false_negatives', 2176.0), ('false_positives', 0.0), ('loss', 1.1669003), ('num_examples', 10599), ('num_batches', 43)])\n"
     ]
    },
    {
     "name": "stderr",
     "output_type": "stream",
     "text": [
      "/tmp/ipykernel_32/32353642.py:34: FutureWarning: The frame.append method is deprecated and will be removed from pandas in a future version. Use pandas.concat instead.\n",
      "  eval_results_df = eval_results_df.append({'Round': round_num+1,\n"
     ]
    },
    {
     "name": "stdout",
     "output_type": "stream",
     "text": [
      "0.08409741467439795\n",
      "round 57, metrics=OrderedDict([('distributor', ()), ('client_work', OrderedDict([('train', OrderedDict([('precision', 0.5959391), ('recall', 0.04524085), ('binary_accuracy', 0.89946926), ('true_positives', 587.0), ('true_negatives', 113812.0), ('false_negatives', 12388.0), ('false_positives', 398.0), ('loss', 0.25670967), ('num_examples', 127185), ('num_batches', 504)]))])), ('aggregator', OrderedDict([('mean_value', ()), ('mean_weight', ())])), ('finalizer', ())])\n"
     ]
    },
    {
     "name": "stderr",
     "output_type": "stream",
     "text": [
      "/tmp/ipykernel_32/32353642.py:22: FutureWarning: The frame.append method is deprecated and will be removed from pandas in a future version. Use pandas.concat instead.\n",
      "  train_results_df = train_results_df.append({'Round': round_num+1, 'BinaryAccuracy': accuracy, 'Loss': loss, 'Precision': precision, 'Recall': recall, 'F1 Score': f1_score}, ignore_index=True)\n"
     ]
    },
    {
     "name": "stdout",
     "output_type": "stream",
     "text": [
      "OrderedDict([('precision', 0.0), ('recall', 0.0), ('binary_accuracy', 0.79469764), ('true_positives', 0.0), ('true_negatives', 8423.0), ('false_negatives', 2176.0), ('false_positives', 0.0), ('loss', 1.1641717), ('num_examples', 10599), ('num_batches', 43)])\n"
     ]
    },
    {
     "name": "stderr",
     "output_type": "stream",
     "text": [
      "/tmp/ipykernel_32/32353642.py:34: FutureWarning: The frame.append method is deprecated and will be removed from pandas in a future version. Use pandas.concat instead.\n",
      "  eval_results_df = eval_results_df.append({'Round': round_num+1,\n"
     ]
    },
    {
     "name": "stdout",
     "output_type": "stream",
     "text": [
      "0.08047217044760446\n",
      "round 58, metrics=OrderedDict([('distributor', ()), ('client_work', OrderedDict([('train', OrderedDict([('precision', 0.60893244), ('recall', 0.043082852), ('binary_accuracy', 0.89955574), ('true_positives', 559.0), ('true_negatives', 113851.0), ('false_negatives', 12416.0), ('false_positives', 359.0), ('loss', 0.25504106), ('num_examples', 127185), ('num_batches', 504)]))])), ('aggregator', OrderedDict([('mean_value', ()), ('mean_weight', ())])), ('finalizer', ())])\n"
     ]
    },
    {
     "name": "stderr",
     "output_type": "stream",
     "text": [
      "/tmp/ipykernel_32/32353642.py:22: FutureWarning: The frame.append method is deprecated and will be removed from pandas in a future version. Use pandas.concat instead.\n",
      "  train_results_df = train_results_df.append({'Round': round_num+1, 'BinaryAccuracy': accuracy, 'Loss': loss, 'Precision': precision, 'Recall': recall, 'F1 Score': f1_score}, ignore_index=True)\n"
     ]
    },
    {
     "name": "stdout",
     "output_type": "stream",
     "text": [
      "OrderedDict([('precision', 0.0), ('recall', 0.0), ('binary_accuracy', 0.79469764), ('true_positives', 0.0), ('true_negatives', 8423.0), ('false_negatives', 2176.0), ('false_positives', 0.0), ('loss', 1.1489753), ('num_examples', 10599), ('num_batches', 43)])\n"
     ]
    },
    {
     "name": "stderr",
     "output_type": "stream",
     "text": [
      "/tmp/ipykernel_32/32353642.py:34: FutureWarning: The frame.append method is deprecated and will be removed from pandas in a future version. Use pandas.concat instead.\n",
      "  eval_results_df = eval_results_df.append({'Round': round_num+1,\n"
     ]
    },
    {
     "name": "stdout",
     "output_type": "stream",
     "text": [
      "0.07762226839712123\n",
      "round 59, metrics=OrderedDict([('distributor', ()), ('client_work', OrderedDict([('train', OrderedDict([('precision', 0.6065389), ('recall', 0.041464355), ('binary_accuracy', 0.89946926), ('true_positives', 538.0), ('true_negatives', 113861.0), ('false_negatives', 12437.0), ('false_positives', 349.0), ('loss', 0.252911), ('num_examples', 127185), ('num_batches', 504)]))])), ('aggregator', OrderedDict([('mean_value', ()), ('mean_weight', ())])), ('finalizer', ())])\n"
     ]
    },
    {
     "name": "stderr",
     "output_type": "stream",
     "text": [
      "/tmp/ipykernel_32/32353642.py:22: FutureWarning: The frame.append method is deprecated and will be removed from pandas in a future version. Use pandas.concat instead.\n",
      "  train_results_df = train_results_df.append({'Round': round_num+1, 'BinaryAccuracy': accuracy, 'Loss': loss, 'Precision': precision, 'Recall': recall, 'F1 Score': f1_score}, ignore_index=True)\n"
     ]
    },
    {
     "name": "stdout",
     "output_type": "stream",
     "text": [
      "OrderedDict([('precision', 0.0), ('recall', 0.0), ('binary_accuracy', 0.79469764), ('true_positives', 0.0), ('true_negatives', 8423.0), ('false_negatives', 2176.0), ('false_positives', 0.0), ('loss', 1.1457269), ('num_examples', 10599), ('num_batches', 43)])\n"
     ]
    },
    {
     "name": "stderr",
     "output_type": "stream",
     "text": [
      "/tmp/ipykernel_32/32353642.py:34: FutureWarning: The frame.append method is deprecated and will be removed from pandas in a future version. Use pandas.concat instead.\n",
      "  eval_results_df = eval_results_df.append({'Round': round_num+1,\n"
     ]
    },
    {
     "name": "stdout",
     "output_type": "stream",
     "text": [
      "0.08009218233247731\n",
      "round 60, metrics=OrderedDict([('distributor', ()), ('client_work', OrderedDict([('train', OrderedDict([('precision', 0.6116612), ('recall', 0.042851638), ('binary_accuracy', 0.89957935), ('true_positives', 556.0), ('true_negatives', 113857.0), ('false_negatives', 12419.0), ('false_positives', 353.0), ('loss', 0.2513969), ('num_examples', 127185), ('num_batches', 504)]))])), ('aggregator', OrderedDict([('mean_value', ()), ('mean_weight', ())])), ('finalizer', ())])\n"
     ]
    },
    {
     "name": "stderr",
     "output_type": "stream",
     "text": [
      "/tmp/ipykernel_32/32353642.py:22: FutureWarning: The frame.append method is deprecated and will be removed from pandas in a future version. Use pandas.concat instead.\n",
      "  train_results_df = train_results_df.append({'Round': round_num+1, 'BinaryAccuracy': accuracy, 'Loss': loss, 'Precision': precision, 'Recall': recall, 'F1 Score': f1_score}, ignore_index=True)\n"
     ]
    },
    {
     "name": "stdout",
     "output_type": "stream",
     "text": [
      "OrderedDict([('precision', 0.0), ('recall', 0.0), ('binary_accuracy', 0.79469764), ('true_positives', 0.0), ('true_negatives', 8423.0), ('false_negatives', 2176.0), ('false_positives', 0.0), ('loss', 1.1420919), ('num_examples', 10599), ('num_batches', 43)])\n"
     ]
    },
    {
     "name": "stderr",
     "output_type": "stream",
     "text": [
      "/tmp/ipykernel_32/32353642.py:34: FutureWarning: The frame.append method is deprecated and will be removed from pandas in a future version. Use pandas.concat instead.\n",
      "  eval_results_df = eval_results_df.append({'Round': round_num+1,\n"
     ]
    },
    {
     "name": "stdout",
     "output_type": "stream",
     "text": [
      "0.07951024916571212\n",
      "round 61, metrics=OrderedDict([('distributor', ()), ('client_work', OrderedDict([('train', OrderedDict([('precision', 0.60659343), ('recall', 0.04254335), ('binary_accuracy', 0.8995086), ('true_positives', 552.0), ('true_negatives', 113852.0), ('false_negatives', 12423.0), ('false_positives', 358.0), ('loss', 0.2509027), ('num_examples', 127185), ('num_batches', 504)]))])), ('aggregator', OrderedDict([('mean_value', ()), ('mean_weight', ())])), ('finalizer', ())])\n"
     ]
    },
    {
     "name": "stderr",
     "output_type": "stream",
     "text": [
      "/tmp/ipykernel_32/32353642.py:22: FutureWarning: The frame.append method is deprecated and will be removed from pandas in a future version. Use pandas.concat instead.\n",
      "  train_results_df = train_results_df.append({'Round': round_num+1, 'BinaryAccuracy': accuracy, 'Loss': loss, 'Precision': precision, 'Recall': recall, 'F1 Score': f1_score}, ignore_index=True)\n"
     ]
    },
    {
     "name": "stdout",
     "output_type": "stream",
     "text": [
      "OrderedDict([('precision', 0.0), ('recall', 0.0), ('binary_accuracy', 0.79469764), ('true_positives', 0.0), ('true_negatives', 8423.0), ('false_negatives', 2176.0), ('false_positives', 0.0), ('loss', 1.1366118), ('num_examples', 10599), ('num_batches', 43)])\n"
     ]
    },
    {
     "name": "stderr",
     "output_type": "stream",
     "text": [
      "/tmp/ipykernel_32/32353642.py:34: FutureWarning: The frame.append method is deprecated and will be removed from pandas in a future version. Use pandas.concat instead.\n",
      "  eval_results_df = eval_results_df.append({'Round': round_num+1,\n"
     ]
    },
    {
     "name": "stdout",
     "output_type": "stream",
     "text": [
      "0.08141540752627173\n",
      "round 62, metrics=OrderedDict([('distributor', ()), ('client_work', OrderedDict([('train', OrderedDict([('precision', 0.6092573), ('recall', 0.043622352), ('binary_accuracy', 0.89957935), ('true_positives', 566.0), ('true_negatives', 113847.0), ('false_negatives', 12409.0), ('false_positives', 363.0), ('loss', 0.25027052), ('num_examples', 127185), ('num_batches', 504)]))])), ('aggregator', OrderedDict([('mean_value', ()), ('mean_weight', ())])), ('finalizer', ())])\n"
     ]
    },
    {
     "name": "stderr",
     "output_type": "stream",
     "text": [
      "/tmp/ipykernel_32/32353642.py:22: FutureWarning: The frame.append method is deprecated and will be removed from pandas in a future version. Use pandas.concat instead.\n",
      "  train_results_df = train_results_df.append({'Round': round_num+1, 'BinaryAccuracy': accuracy, 'Loss': loss, 'Precision': precision, 'Recall': recall, 'F1 Score': f1_score}, ignore_index=True)\n"
     ]
    },
    {
     "name": "stdout",
     "output_type": "stream",
     "text": [
      "OrderedDict([('precision', 0.0), ('recall', 0.0), ('binary_accuracy', 0.79469764), ('true_positives', 0.0), ('true_negatives', 8423.0), ('false_negatives', 2176.0), ('false_positives', 0.0), ('loss', 1.1368918), ('num_examples', 10599), ('num_batches', 43)])\n"
     ]
    },
    {
     "name": "stderr",
     "output_type": "stream",
     "text": [
      "/tmp/ipykernel_32/32353642.py:34: FutureWarning: The frame.append method is deprecated and will be removed from pandas in a future version. Use pandas.concat instead.\n",
      "  eval_results_df = eval_results_df.append({'Round': round_num+1,\n"
     ]
    },
    {
     "name": "stdout",
     "output_type": "stream",
     "text": [
      "0.08519471637589102\n",
      "round 63, metrics=OrderedDict([('distributor', ()), ('client_work', OrderedDict([('train', OrderedDict([('precision', 0.59919435), ('recall', 0.04585742), ('binary_accuracy', 0.8995322), ('true_positives', 595.0), ('true_negatives', 113812.0), ('false_negatives', 12380.0), ('false_positives', 398.0), ('loss', 0.24964921), ('num_examples', 127185), ('num_batches', 504)]))])), ('aggregator', OrderedDict([('mean_value', ()), ('mean_weight', ())])), ('finalizer', ())])\n"
     ]
    },
    {
     "name": "stderr",
     "output_type": "stream",
     "text": [
      "/tmp/ipykernel_32/32353642.py:22: FutureWarning: The frame.append method is deprecated and will be removed from pandas in a future version. Use pandas.concat instead.\n",
      "  train_results_df = train_results_df.append({'Round': round_num+1, 'BinaryAccuracy': accuracy, 'Loss': loss, 'Precision': precision, 'Recall': recall, 'F1 Score': f1_score}, ignore_index=True)\n"
     ]
    },
    {
     "name": "stdout",
     "output_type": "stream",
     "text": [
      "OrderedDict([('precision', 0.0), ('recall', 0.0), ('binary_accuracy', 0.79469764), ('true_positives', 0.0), ('true_negatives', 8423.0), ('false_negatives', 2176.0), ('false_positives', 0.0), ('loss', 1.1368282), ('num_examples', 10599), ('num_batches', 43)])\n"
     ]
    },
    {
     "name": "stderr",
     "output_type": "stream",
     "text": [
      "/tmp/ipykernel_32/32353642.py:34: FutureWarning: The frame.append method is deprecated and will be removed from pandas in a future version. Use pandas.concat instead.\n",
      "  eval_results_df = eval_results_df.append({'Round': round_num+1,\n"
     ]
    },
    {
     "name": "stdout",
     "output_type": "stream",
     "text": [
      "0.08605998610354394\n",
      "round 64, metrics=OrderedDict([('distributor', ()), ('client_work', OrderedDict([('train', OrderedDict([('precision', 0.60584676), ('recall', 0.046319846), ('binary_accuracy', 0.89963436), ('true_positives', 601.0), ('true_negatives', 113819.0), ('false_negatives', 12374.0), ('false_positives', 391.0), ('loss', 0.24983917), ('num_examples', 127185), ('num_batches', 504)]))])), ('aggregator', OrderedDict([('mean_value', ()), ('mean_weight', ())])), ('finalizer', ())])\n"
     ]
    },
    {
     "name": "stderr",
     "output_type": "stream",
     "text": [
      "/tmp/ipykernel_32/32353642.py:22: FutureWarning: The frame.append method is deprecated and will be removed from pandas in a future version. Use pandas.concat instead.\n",
      "  train_results_df = train_results_df.append({'Round': round_num+1, 'BinaryAccuracy': accuracy, 'Loss': loss, 'Precision': precision, 'Recall': recall, 'F1 Score': f1_score}, ignore_index=True)\n"
     ]
    },
    {
     "name": "stdout",
     "output_type": "stream",
     "text": [
      "OrderedDict([('precision', 0.0), ('recall', 0.0), ('binary_accuracy', 0.79469764), ('true_positives', 0.0), ('true_negatives', 8423.0), ('false_negatives', 2176.0), ('false_positives', 0.0), ('loss', 1.1305538), ('num_examples', 10599), ('num_batches', 43)])\n"
     ]
    },
    {
     "name": "stderr",
     "output_type": "stream",
     "text": [
      "/tmp/ipykernel_32/32353642.py:34: FutureWarning: The frame.append method is deprecated and will be removed from pandas in a future version. Use pandas.concat instead.\n",
      "  eval_results_df = eval_results_df.append({'Round': round_num+1,\n"
     ]
    },
    {
     "name": "stdout",
     "output_type": "stream",
     "text": [
      "0.08928825117671006\n",
      "round 65, metrics=OrderedDict([('distributor', ()), ('client_work', OrderedDict([('train', OrderedDict([('precision', 0.5978988), ('recall', 0.04824663), ('binary_accuracy', 0.8995951), ('true_positives', 626.0), ('true_negatives', 113789.0), ('false_negatives', 12349.0), ('false_positives', 421.0), ('loss', 0.24817963), ('num_examples', 127185), ('num_batches', 504)]))])), ('aggregator', OrderedDict([('mean_value', ()), ('mean_weight', ())])), ('finalizer', ())])\n"
     ]
    },
    {
     "name": "stderr",
     "output_type": "stream",
     "text": [
      "/tmp/ipykernel_32/32353642.py:22: FutureWarning: The frame.append method is deprecated and will be removed from pandas in a future version. Use pandas.concat instead.\n",
      "  train_results_df = train_results_df.append({'Round': round_num+1, 'BinaryAccuracy': accuracy, 'Loss': loss, 'Precision': precision, 'Recall': recall, 'F1 Score': f1_score}, ignore_index=True)\n"
     ]
    },
    {
     "name": "stdout",
     "output_type": "stream",
     "text": [
      "OrderedDict([('precision', 0.0), ('recall', 0.0), ('binary_accuracy', 0.79469764), ('true_positives', 0.0), ('true_negatives', 8423.0), ('false_negatives', 2176.0), ('false_positives', 0.0), ('loss', 1.1310011), ('num_examples', 10599), ('num_batches', 43)])\n"
     ]
    },
    {
     "name": "stderr",
     "output_type": "stream",
     "text": [
      "/tmp/ipykernel_32/32353642.py:34: FutureWarning: The frame.append method is deprecated and will be removed from pandas in a future version. Use pandas.concat instead.\n",
      "  eval_results_df = eval_results_df.append({'Round': round_num+1,\n"
     ]
    },
    {
     "name": "stdout",
     "output_type": "stream",
     "text": [
      "0.09338354175568067\n",
      "round 66, metrics=OrderedDict([('distributor', ()), ('client_work', OrderedDict([('train', OrderedDict([('precision', 0.59945256), ('recall', 0.050635837), ('binary_accuracy', 0.8996973), ('true_positives', 657.0), ('true_negatives', 113771.0), ('false_negatives', 12318.0), ('false_positives', 439.0), ('loss', 0.24752092), ('num_examples', 127185), ('num_batches', 504)]))])), ('aggregator', OrderedDict([('mean_value', ()), ('mean_weight', ())])), ('finalizer', ())])\n"
     ]
    },
    {
     "name": "stderr",
     "output_type": "stream",
     "text": [
      "/tmp/ipykernel_32/32353642.py:22: FutureWarning: The frame.append method is deprecated and will be removed from pandas in a future version. Use pandas.concat instead.\n",
      "  train_results_df = train_results_df.append({'Round': round_num+1, 'BinaryAccuracy': accuracy, 'Loss': loss, 'Precision': precision, 'Recall': recall, 'F1 Score': f1_score}, ignore_index=True)\n"
     ]
    },
    {
     "name": "stdout",
     "output_type": "stream",
     "text": [
      "OrderedDict([('precision', 0.0), ('recall', 0.0), ('binary_accuracy', 0.79469764), ('true_positives', 0.0), ('true_negatives', 8423.0), ('false_negatives', 2176.0), ('false_positives', 0.0), ('loss', 1.1295727), ('num_examples', 10599), ('num_batches', 43)])\n"
     ]
    },
    {
     "name": "stderr",
     "output_type": "stream",
     "text": [
      "/tmp/ipykernel_32/32353642.py:34: FutureWarning: The frame.append method is deprecated and will be removed from pandas in a future version. Use pandas.concat instead.\n",
      "  eval_results_df = eval_results_df.append({'Round': round_num+1,\n"
     ]
    },
    {
     "name": "stdout",
     "output_type": "stream",
     "text": [
      "0.09123904351109115\n",
      "round 67, metrics=OrderedDict([('distributor', ()), ('client_work', OrderedDict([('train', OrderedDict([('precision', 0.5957249), ('recall', 0.0494027), ('binary_accuracy', 0.89960295), ('true_positives', 641.0), ('true_negatives', 113775.0), ('false_negatives', 12334.0), ('false_positives', 435.0), ('loss', 0.24713098), ('num_examples', 127185), ('num_batches', 504)]))])), ('aggregator', OrderedDict([('mean_value', ()), ('mean_weight', ())])), ('finalizer', ())])\n"
     ]
    },
    {
     "name": "stderr",
     "output_type": "stream",
     "text": [
      "/tmp/ipykernel_32/32353642.py:22: FutureWarning: The frame.append method is deprecated and will be removed from pandas in a future version. Use pandas.concat instead.\n",
      "  train_results_df = train_results_df.append({'Round': round_num+1, 'BinaryAccuracy': accuracy, 'Loss': loss, 'Precision': precision, 'Recall': recall, 'F1 Score': f1_score}, ignore_index=True)\n"
     ]
    },
    {
     "name": "stdout",
     "output_type": "stream",
     "text": [
      "OrderedDict([('precision', 0.0), ('recall', 0.0), ('binary_accuracy', 0.79469764), ('true_positives', 0.0), ('true_negatives', 8423.0), ('false_negatives', 2176.0), ('false_positives', 0.0), ('loss', 1.1270853), ('num_examples', 10599), ('num_batches', 43)])\n"
     ]
    },
    {
     "name": "stderr",
     "output_type": "stream",
     "text": [
      "/tmp/ipykernel_32/32353642.py:34: FutureWarning: The frame.append method is deprecated and will be removed from pandas in a future version. Use pandas.concat instead.\n",
      "  eval_results_df = eval_results_df.append({'Round': round_num+1,\n"
     ]
    },
    {
     "name": "stdout",
     "output_type": "stream",
     "text": [
      "0.09493445192575412\n",
      "round 68, metrics=OrderedDict([('distributor', ()), ('client_work', OrderedDict([('train', OrderedDict([('precision', 0.5877193), ('recall', 0.051637765), ('binary_accuracy', 0.89955574), ('true_positives', 670.0), ('true_negatives', 113740.0), ('false_negatives', 12305.0), ('false_positives', 470.0), ('loss', 0.24686658), ('num_examples', 127185), ('num_batches', 504)]))])), ('aggregator', OrderedDict([('mean_value', ()), ('mean_weight', ())])), ('finalizer', ())])\n"
     ]
    },
    {
     "name": "stderr",
     "output_type": "stream",
     "text": [
      "/tmp/ipykernel_32/32353642.py:22: FutureWarning: The frame.append method is deprecated and will be removed from pandas in a future version. Use pandas.concat instead.\n",
      "  train_results_df = train_results_df.append({'Round': round_num+1, 'BinaryAccuracy': accuracy, 'Loss': loss, 'Precision': precision, 'Recall': recall, 'F1 Score': f1_score}, ignore_index=True)\n"
     ]
    },
    {
     "name": "stdout",
     "output_type": "stream",
     "text": [
      "OrderedDict([('precision', 0.0), ('recall', 0.0), ('binary_accuracy', 0.79469764), ('true_positives', 0.0), ('true_negatives', 8423.0), ('false_negatives', 2176.0), ('false_positives', 0.0), ('loss', 1.1214267), ('num_examples', 10599), ('num_batches', 43)])\n"
     ]
    },
    {
     "name": "stderr",
     "output_type": "stream",
     "text": [
      "/tmp/ipykernel_32/32353642.py:34: FutureWarning: The frame.append method is deprecated and will be removed from pandas in a future version. Use pandas.concat instead.\n",
      "  eval_results_df = eval_results_df.append({'Round': round_num+1,\n"
     ]
    },
    {
     "name": "stdout",
     "output_type": "stream",
     "text": [
      "0.09864519926907164\n",
      "round 69, metrics=OrderedDict([('distributor', ()), ('client_work', OrderedDict([('train', OrderedDict([('precision', 0.5839599), ('recall', 0.05387283), ('binary_accuracy', 0.8995636), ('true_positives', 699.0), ('true_negatives', 113712.0), ('false_negatives', 12276.0), ('false_positives', 498.0), ('loss', 0.24597678), ('num_examples', 127185), ('num_batches', 504)]))])), ('aggregator', OrderedDict([('mean_value', ()), ('mean_weight', ())])), ('finalizer', ())])\n"
     ]
    },
    {
     "name": "stderr",
     "output_type": "stream",
     "text": [
      "/tmp/ipykernel_32/32353642.py:22: FutureWarning: The frame.append method is deprecated and will be removed from pandas in a future version. Use pandas.concat instead.\n",
      "  train_results_df = train_results_df.append({'Round': round_num+1, 'BinaryAccuracy': accuracy, 'Loss': loss, 'Precision': precision, 'Recall': recall, 'F1 Score': f1_score}, ignore_index=True)\n"
     ]
    },
    {
     "name": "stdout",
     "output_type": "stream",
     "text": [
      "OrderedDict([('precision', 0.0), ('recall', 0.0), ('binary_accuracy', 0.79469764), ('true_positives', 0.0), ('true_negatives', 8423.0), ('false_negatives', 2176.0), ('false_positives', 0.0), ('loss', 1.1220765), ('num_examples', 10599), ('num_batches', 43)])\n"
     ]
    },
    {
     "name": "stderr",
     "output_type": "stream",
     "text": [
      "/tmp/ipykernel_32/32353642.py:34: FutureWarning: The frame.append method is deprecated and will be removed from pandas in a future version. Use pandas.concat instead.\n",
      "  eval_results_df = eval_results_df.append({'Round': round_num+1,\n"
     ]
    }
   ],
   "source": [
    "log_dir = 'logs/fit_federated/'\n",
    "summary_writer = tf.summary.create_file_writer(log_dir)\n",
    "tensorboard_callback = tf.keras.callbacks.TensorBoard(log_dir=log_dir, histogram_freq=1)\n",
    "\n",
    "NUM_ROUNDS = 70\n",
    "with summary_writer.as_default():\n",
    "\n",
    "    for round_num in range(NUM_ROUNDS):\n",
    "        \n",
    "      #Training of actual model  \n",
    "      result = training_process.next(train_state, federated_train_data)\n",
    "      train_state = result.state\n",
    "      train_metrics = result.metrics\n",
    "        \n",
    "      accuracy = result.metrics['client_work']['train']['binary_accuracy']\n",
    "      loss = result.metrics['client_work']['train']['loss']\n",
    "      precision = result.metrics['client_work']['train']['precision']\n",
    "      recall = result.metrics['client_work']['train']['recall']\n",
    "    \n",
    "      f1_score = 2 * precision * recall / (precision + recall + tf.keras.backend.epsilon())\n",
    "      print(f1_score)  \n",
    "      train_results_df = train_results_df.append({'Round': round_num+1, 'BinaryAccuracy': accuracy, 'Loss': loss, 'Precision': precision, 'Recall': recall, 'F1 Score': f1_score}, ignore_index=True)  \n",
    "      print('round {:2d}, metrics={}'.format(round_num, train_metrics))\n",
    "      \n",
    "      #Evaluate model\n",
    "      model_weights = training_process.get_model_weights(train_state)\n",
    "      test_metrics = eval_process(model_weights, federated_test_data)['eval']\n",
    "      print(test_metrics)\n",
    "      \n",
    "      val_pre = test_metrics['precision']\n",
    "      val_rec = test_metrics['recall']\n",
    "      val_f1_score = 2 * val_pre * val_rec / (val_pre + val_rec + tf.keras.backend.epsilon())\n",
    "        \n",
    "      eval_results_df = eval_results_df.append({'Round': round_num+1,\n",
    "                                      **test_metrics, 'F1 Score': val_f1_score}, ignore_index=True)  \n",
    "\n",
    "\n",
    "callbacks = [TensorBoard(log_dir=log_dir)]"
   ]
  },
  {
   "cell_type": "code",
   "execution_count": 14,
   "id": "bd04f63c-f2c2-45e7-8a0e-840077d123a0",
   "metadata": {
    "execution": {
     "iopub.execute_input": "2023-04-10T10:23:04.746746Z",
     "iopub.status.busy": "2023-04-10T10:23:04.746479Z",
     "iopub.status.idle": "2023-04-10T10:23:05.299778Z",
     "shell.execute_reply": "2023-04-10T10:23:05.298697Z",
     "shell.execute_reply.started": "2023-04-10T10:23:04.746726Z"
    }
   },
   "outputs": [
    {
     "name": "stdout",
     "output_type": "stream",
     "text": [
      "Index(['Round', 'Precision', 'Recall', 'binary_accuracy', 'true_positives',\n",
      "       'true_negatives', 'false_negatives', 'false_positives', 'Loss',\n",
      "       'num_examples', 'num_batches', 'F1 Score'],\n",
      "      dtype='object')\n"
     ]
    },
    {
     "data": {
      "image/png": "[encoded data removed]",
      "text/plain": [
       "<Figure size 640x480 with 1 Axes>"
      ]
     },
     "metadata": {},
     "output_type": "display_data"
    },
    {
     "data": {
      "image/png": "[encoded data removed]",
      "text/plain": [
       "<Figure size 640x480 with 1 Axes>"
      ]
     },
     "metadata": {},
     "output_type": "display_data"
    },
    {
     "data": {
      "image/png": "[encoded data removed]",
      "text/plain": [
       "<Figure size 640x480 with 1 Axes>"
      ]
     },
     "metadata": {},
     "output_type": "display_data"
    },
    {
     "data": {
      "image/png": "[encoded data removed]",
      "text/plain": [
       "<Figure size 640x480 with 1 Axes>"
      ]
     },
     "metadata": {},
     "output_type": "display_data"
    },
    {
     "data": {
      "image/png": "[encoded data removed]",
      "text/plain": [
       "<Figure size 640x480 with 1 Axes>"
      ]
     },
     "metadata": {},
     "output_type": "display_data"
    }
   ],
   "source": [
    "eval_results_df = eval_results_df.rename(columns={'loss': 'Loss', 'precision': 'Precision', 'recall': 'Recall'})\n",
    "print(eval_results_df.columns)\n",
    "#Plot accuracy of model\n",
    "plt.plot(train_results_df['BinaryAccuracy'])\n",
    "plt.plot(eval_results_df['binary_accuracy'])\n",
    "plt.title('Model Binary Accuracy')\n",
    "plt.ylabel('Binary Accuracy')\n",
    "plt.xlabel('Round')\n",
    "plt.legend(['train', 'test'], loc='upper left')\n",
    "#plt.xticks(range(len(train_results_df['BinaryAccuracy'])))\n",
    "plt.show()\n",
    "\n",
    "#Plot loss of model\n",
    "plt.plot(train_results_df['Loss'])\n",
    "plt.plot(eval_results_df['Loss'])\n",
    "plt.title('Model Loss')\n",
    "plt.ylabel('Loss')\n",
    "plt.xlabel('Round')\n",
    "plt.legend(['train', 'test'], loc='upper left')\n",
    "#plt.xticks(range(len(train_results_df['Loss'])))\n",
    "plt.show()\n",
    "\n",
    "#Plot loss of model\n",
    "plt.plot(train_results_df['Recall'])\n",
    "plt.plot(eval_results_df['Recall'])\n",
    "plt.title('Model Recall')\n",
    "plt.ylabel('Recall')\n",
    "plt.xlabel('Round')\n",
    "plt.legend(['train', 'test'], loc='upper left')\n",
    "#plt.xticks(range(len(train_results_df['Loss'])))\n",
    "plt.show()\n",
    "\n",
    "#Plot loss of model\n",
    "plt.plot(train_results_df['Precision'])\n",
    "plt.plot(eval_results_df['Precision'])\n",
    "plt.title('Model Precision')\n",
    "plt.ylabel('Precision')\n",
    "plt.xlabel('Round')\n",
    "plt.legend(['train', 'test'], loc='upper left')\n",
    "#plt.xticks(range(len(train_results_df['Loss'])))\n",
    "plt.show()\n",
    "\n",
    "#Plot loss of model\n",
    "plt.plot(train_results_df['F1 Score'])\n",
    "plt.plot(eval_results_df['F1 Score'])\n",
    "plt.title('Model F1-Score')\n",
    "plt.ylabel('F1-Score')\n",
    "plt.xlabel('Round')\n",
    "plt.legend(['train', 'test'], loc='upper left')\n",
    "#plt.xticks(range(len(train_results_df['Loss'])))\n",
    "plt.show()"
   ]
  },
  {
   "cell_type": "code",
   "execution_count": 15,
   "id": "e4192e0b-29fb-4ba0-a26e-6e224a1b9209",
   "metadata": {
    "execution": {
     "iopub.execute_input": "2023-04-08T00:55:05.457074Z",
     "iopub.status.busy": "2023-04-08T00:55:05.456888Z",
     "iopub.status.idle": "2023-04-08T00:55:05.468908Z",
     "shell.execute_reply": "2023-04-08T00:55:05.468292Z",
     "shell.execute_reply.started": "2023-04-08T00:55:05.457057Z"
    }
   },
   "outputs": [
    {
     "name": "stdout",
     "output_type": "stream",
     "text": [
      "     Round  BinaryAccuracy      Loss  Precision    Recall  F1 Score\n",
      "100  101.0        0.997739  0.012772   0.992121  0.985665  0.988882\n",
      "101  102.0        0.997736  0.012994   0.992546  0.985202  0.988860\n",
      "102  103.0        0.997702  0.012514   0.991529  0.985896  0.988704\n",
      "103  104.0        0.997567  0.012821   0.991289  0.984806  0.988037\n",
      "104  105.0        0.997759  0.012742   0.992548  0.985434  0.988978\n",
      "105  106.0        0.998106  0.012381   0.993785  0.987614  0.990689\n",
      "106  107.0        0.997075  0.013948   0.988992  0.982263  0.985616\n",
      "107  108.0        0.996944  0.013266   0.988100  0.981866  0.984973\n",
      "108  109.0        0.996846  0.013256   0.987569  0.981437  0.984493\n",
      "109  110.0        0.998073  0.010149   0.992800  0.988274  0.990532\n",
      "     Round  Precision    Recall  binary_accuracy  true_positives  \\\n",
      "100  101.0   1.000000  0.009651         0.796679            21.0   \n",
      "101  102.0   1.000000  0.009651         0.796679            21.0   \n",
      "102  103.0   1.000000  0.015165         0.797811            33.0   \n",
      "103  104.0   1.000000  0.012868         0.797339            28.0   \n",
      "104  105.0   1.000000  0.010570         0.796868            23.0   \n",
      "105  106.0   1.000000  0.012408         0.797245            27.0   \n",
      "106  107.0   1.000000  0.018382         0.798472            40.0   \n",
      "107  108.0   1.000000  0.008732         0.796490            19.0   \n",
      "108  109.0   0.966667  0.026654         0.799981            58.0   \n",
      "109  110.0   1.000000  0.013327         0.797434            29.0   \n",
      "\n",
      "     true_negatives  false_negatives  false_positives      Loss  num_examples  \\\n",
      "100          8423.0           2155.0              0.0  2.458300       10599.0   \n",
      "101          8423.0           2155.0              0.0  2.461610       10599.0   \n",
      "102          8423.0           2143.0              0.0  2.284334       10599.0   \n",
      "103          8423.0           2148.0              0.0  2.424128       10599.0   \n",
      "104          8423.0           2153.0              0.0  2.486460       10599.0   \n",
      "105          8423.0           2149.0              0.0  2.376236       10599.0   \n",
      "106          8423.0           2136.0              0.0  2.218568       10599.0   \n",
      "107          8423.0           2157.0              0.0  2.410195       10599.0   \n",
      "108          8421.0           2118.0              2.0  1.960924       10599.0   \n",
      "109          8423.0           2147.0              0.0  2.306258       10599.0   \n",
      "\n",
      "     num_batches  F1 Score  \n",
      "100        333.0  0.019117  \n",
      "101        333.0  0.019117  \n",
      "102        333.0  0.029878  \n",
      "103        333.0  0.025408  \n",
      "104        333.0  0.020919  \n",
      "105        333.0  0.024512  \n",
      "106        333.0  0.036101  \n",
      "107        333.0  0.017312  \n",
      "108        333.0  0.051878  \n",
      "109        333.0  0.026304  \n"
     ]
    }
   ],
   "source": [
    "print(train_results_df.tail(10))\n",
    "print(eval_results_df.tail(10))"
   ]
  }
 ],
 "metadata": {
  "kernelspec": {
   "display_name": "Python 3 (ipykernel)",
   "language": "python",
   "name": "python3"
  },
  "language_info": {
   "codemirror_mode": {
    "name": "ipython",
    "version": 3
   },
   "file_extension": ".py",
   "mimetype": "text/x-python",
   "name": "python",
   "nbconvert_exporter": "python",
   "pygments_lexer": "ipython3",
   "version": "3.9.16"
  }
 },
 "nbformat": 4,
 "nbformat_minor": 5
}
