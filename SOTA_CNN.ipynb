{
  "nbformat": 4,
  "nbformat_minor": 0,
  "metadata": {
    "colab": {
      "provenance": [],
      "toc_visible": true,
      "include_colab_link": true
    },
    "kernelspec": {
      "name": "python3",
      "display_name": "Python 3"
    },
    "language_info": {
      "name": "python"
    }
  },
  "cells": [
    {
      "cell_type": "markdown",
      "metadata": {
        "id": "view-in-github",
        "colab_type": "text"
      },
      "source": [
        "<a href=\"https://colab.research.google.com/github/marioschuele/masterarbeit/blob/main/SOTA_CNN.ipynb\" target=\"_parent\"><img src=\"https://colab.research.google.com/assets/colab-badge.svg\" alt=\"Open In Colab\"/></a>"
      ]
    },
    {
      "cell_type": "code",
      "execution_count": null,
      "metadata": {
        "id": "oyXK1IHJTJvM"
      },
      "outputs": [],
      "source": [
        "import numpy as np\n",
        "import tensorflow as tf\n",
        "import keras\n",
        "from tensorflow.keras.preprocessing.image import ImageDataGenerator\n",
        "import matplotlib"
      ]
    },
    {
      "cell_type": "code",
      "source": [
        "! pip install kaggle"
      ],
      "metadata": {
        "id": "I1v8_DVqThpN"
      },
      "execution_count": null,
      "outputs": []
    },
    {
      "cell_type": "code",
      "source": [
        "! mkdir ~/.kaggle\n",
        "! cp kaggle.json ~/.kaggle/\n",
        "! chmod 600 ~/.kaggle/kaggle.json\n"
      ],
      "metadata": {
        "id": "sUmnXxPNTndR"
      },
      "execution_count": null,
      "outputs": []
    },
    {
      "cell_type": "code",
      "source": [
        "%%capture\n",
        "!kaggle datasets download yuweisunut/sidd-segmented-intrusion-detection-dataset\n",
        "!unzip sidd-segmented-intrusion-detection-dataset"
      ],
      "metadata": {
        "id": "BoAq9mtZUUL8"
      },
      "execution_count": null,
      "outputs": []
    },
    {
      "cell_type": "code",
      "source": [
        "benign_images = []\n",
        "typeA_images = []\n",
        "typeB_images = []"
      ],
      "metadata": {
        "id": "YqxgEDeaHzBd"
      },
      "execution_count": null,
      "outputs": []
    },
    {
      "cell_type": "code",
      "source": [
        "import os\n",
        "import pandas as pd\n",
        "directory = 'SIDD'"
      ],
      "metadata": {
        "id": "8ihuFP-tYYEE"
      },
      "execution_count": null,
      "outputs": []
    },
    {
      "cell_type": "code",
      "source": [
        "imgs = {}\n",
        "uid = 0\n",
        "\n",
        "for client in os.listdir(directory):\n",
        "  curr_path = f'{directory}/{client}/pcap'\n",
        "\n",
        "  for subdir in os.listdir(curr_path):\n",
        "    curr_path = f'{directory}/{client}/pcap/{subdir}/dataset'\n",
        "    curr_type = subdir[-1:]\n",
        "    \n",
        "    for dayscen in os.listdir(curr_path):\n",
        "      curr_path = f'{directory}/{client}/pcap/{subdir}/dataset/{dayscen}'\n",
        "      #+print(dayscen)\n",
        "      for img in os.listdir(curr_path):\n",
        "        if dayscen == 'benign':\n",
        "            imgs[uid] = {'id': uid, 'type': str(0), 'fn': img, 'path': curr_path + '/' + img}\n",
        "        elif dayscen == 'malicious':\n",
        "            imgs[uid] = {'id': uid, 'type': str(curr_type), 'fn': img, 'path': curr_path + '/' + img}\n",
        "        uid +=1\n"
      ],
      "metadata": {
        "id": "GdJxhSGqYIK2"
      },
      "execution_count": null,
      "outputs": []
    },
    {
      "cell_type": "code",
      "source": [
        "imgs[1]"
      ],
      "metadata": {
        "id": "E7Fbu1Z1eQl8"
      },
      "execution_count": null,
      "outputs": []
    },
    {
      "cell_type": "code",
      "source": [
        "img_df = pd.DataFrame.from_dict(imgs,orient='index')\n",
        "img_df"
      ],
      "metadata": {
        "colab": {
          "base_uri": "https://localhost:8080/",
          "height": 424
        },
        "id": "_LImBC0Fd44n",
        "outputId": "94b2a839-0765-4856-ef3b-ac877caf1e8d"
      },
      "execution_count": null,
      "outputs": [
        {
          "output_type": "execute_result",
          "data": {
            "text/plain": [
              "              id type       fn  \\\n",
              "0              0    0  623.jpg   \n",
              "1              1    0   99.jpg   \n",
              "2              2    0  252.jpg   \n",
              "3              3    0  661.jpg   \n",
              "4              4    0  278.jpg   \n",
              "...          ...  ...      ...   \n",
              "1385579  1385579    3  350.jpg   \n",
              "1385580  1385580    3  251.jpg   \n",
              "1385581  1385581    3  384.jpg   \n",
              "1385582  1385582    3  352.jpg   \n",
              "1385583  1385583    3  364.jpg   \n",
              "\n",
              "                                                      path  \n",
              "0        SIDD/n005/pcap/n005_20191127_000001_1/dataset/...  \n",
              "1        SIDD/n005/pcap/n005_20191127_000001_1/dataset/...  \n",
              "2        SIDD/n005/pcap/n005_20191127_000001_1/dataset/...  \n",
              "3        SIDD/n005/pcap/n005_20191127_000001_1/dataset/...  \n",
              "4        SIDD/n005/pcap/n005_20191127_000001_1/dataset/...  \n",
              "...                                                    ...  \n",
              "1385579  SIDD/n053/pcap/n053_20191027_000001_3/dataset/...  \n",
              "1385580  SIDD/n053/pcap/n053_20191027_000001_3/dataset/...  \n",
              "1385581  SIDD/n053/pcap/n053_20191027_000001_3/dataset/...  \n",
              "1385582  SIDD/n053/pcap/n053_20191027_000001_3/dataset/...  \n",
              "1385583  SIDD/n053/pcap/n053_20191027_000001_3/dataset/...  \n",
              "\n",
              "[1385584 rows x 4 columns]"
            ],
            "text/html": [
              "\n",
              "  <div id=\"df-d114e976-930c-4bb8-90ae-fae40ea869a1\">\n",
              "    <div class=\"colab-df-container\">\n",
              "      <div>\n",
              "<style scoped>\n",
              "    .dataframe tbody tr th:only-of-type {\n",
              "        vertical-align: middle;\n",
              "    }\n",
              "\n",
              "    .dataframe tbody tr th {\n",
              "        vertical-align: top;\n",
              "    }\n",
              "\n",
              "    .dataframe thead th {\n",
              "        text-align: right;\n",
              "    }\n",
              "</style>\n",
              "<table border=\"1\" class=\"dataframe\">\n",
              "  <thead>\n",
              "    <tr style=\"text-align: right;\">\n",
              "      <th></th>\n",
              "      <th>id</th>\n",
              "      <th>type</th>\n",
              "      <th>fn</th>\n",
              "      <th>path</th>\n",
              "    </tr>\n",
              "  </thead>\n",
              "  <tbody>\n",
              "    <tr>\n",
              "      <th>0</th>\n",
              "      <td>0</td>\n",
              "      <td>0</td>\n",
              "      <td>623.jpg</td>\n",
              "      <td>SIDD/n005/pcap/n005_20191127_000001_1/dataset/...</td>\n",
              "    </tr>\n",
              "    <tr>\n",
              "      <th>1</th>\n",
              "      <td>1</td>\n",
              "      <td>0</td>\n",
              "      <td>99.jpg</td>\n",
              "      <td>SIDD/n005/pcap/n005_20191127_000001_1/dataset/...</td>\n",
              "    </tr>\n",
              "    <tr>\n",
              "      <th>2</th>\n",
              "      <td>2</td>\n",
              "      <td>0</td>\n",
              "      <td>252.jpg</td>\n",
              "      <td>SIDD/n005/pcap/n005_20191127_000001_1/dataset/...</td>\n",
              "    </tr>\n",
              "    <tr>\n",
              "      <th>3</th>\n",
              "      <td>3</td>\n",
              "      <td>0</td>\n",
              "      <td>661.jpg</td>\n",
              "      <td>SIDD/n005/pcap/n005_20191127_000001_1/dataset/...</td>\n",
              "    </tr>\n",
              "    <tr>\n",
              "      <th>4</th>\n",
              "      <td>4</td>\n",
              "      <td>0</td>\n",
              "      <td>278.jpg</td>\n",
              "      <td>SIDD/n005/pcap/n005_20191127_000001_1/dataset/...</td>\n",
              "    </tr>\n",
              "    <tr>\n",
              "      <th>...</th>\n",
              "      <td>...</td>\n",
              "      <td>...</td>\n",
              "      <td>...</td>\n",
              "      <td>...</td>\n",
              "    </tr>\n",
              "    <tr>\n",
              "      <th>1385579</th>\n",
              "      <td>1385579</td>\n",
              "      <td>3</td>\n",
              "      <td>350.jpg</td>\n",
              "      <td>SIDD/n053/pcap/n053_20191027_000001_3/dataset/...</td>\n",
              "    </tr>\n",
              "    <tr>\n",
              "      <th>1385580</th>\n",
              "      <td>1385580</td>\n",
              "      <td>3</td>\n",
              "      <td>251.jpg</td>\n",
              "      <td>SIDD/n053/pcap/n053_20191027_000001_3/dataset/...</td>\n",
              "    </tr>\n",
              "    <tr>\n",
              "      <th>1385581</th>\n",
              "      <td>1385581</td>\n",
              "      <td>3</td>\n",
              "      <td>384.jpg</td>\n",
              "      <td>SIDD/n053/pcap/n053_20191027_000001_3/dataset/...</td>\n",
              "    </tr>\n",
              "    <tr>\n",
              "      <th>1385582</th>\n",
              "      <td>1385582</td>\n",
              "      <td>3</td>\n",
              "      <td>352.jpg</td>\n",
              "      <td>SIDD/n053/pcap/n053_20191027_000001_3/dataset/...</td>\n",
              "    </tr>\n",
              "    <tr>\n",
              "      <th>1385583</th>\n",
              "      <td>1385583</td>\n",
              "      <td>3</td>\n",
              "      <td>364.jpg</td>\n",
              "      <td>SIDD/n053/pcap/n053_20191027_000001_3/dataset/...</td>\n",
              "    </tr>\n",
              "  </tbody>\n",
              "</table>\n",
              "<p>1385584 rows × 4 columns</p>\n",
              "</div>\n",
              "      <button class=\"colab-df-convert\" onclick=\"convertToInteractive('df-d114e976-930c-4bb8-90ae-fae40ea869a1')\"\n",
              "              title=\"Convert this dataframe to an interactive table.\"\n",
              "              style=\"display:none;\">\n",
              "        \n",
              "  <svg xmlns=\"http://www.w3.org/2000/svg\" height=\"24px\"viewBox=\"0 0 24 24\"\n",
              "       width=\"24px\">\n",
              "    <path d=\"M0 0h24v24H0V0z\" fill=\"none\"/>\n",
              "    <path d=\"M18.56 5.44l.94 2.06.94-2.06 2.06-.94-2.06-.94-.94-2.06-.94 2.06-2.06.94zm-11 1L8.5 8.5l.94-2.06 2.06-.94-2.06-.94L8.5 2.5l-.94 2.06-2.06.94zm10 10l.94 2.06.94-2.06 2.06-.94-2.06-.94-.94-2.06-.94 2.06-2.06.94z\"/><path d=\"M17.41 7.96l-1.37-1.37c-.4-.4-.92-.59-1.43-.59-.52 0-1.04.2-1.43.59L10.3 9.45l-7.72 7.72c-.78.78-.78 2.05 0 2.83L4 21.41c.39.39.9.59 1.41.59.51 0 1.02-.2 1.41-.59l7.78-7.78 2.81-2.81c.8-.78.8-2.07 0-2.86zM5.41 20L4 18.59l7.72-7.72 1.47 1.35L5.41 20z\"/>\n",
              "  </svg>\n",
              "      </button>\n",
              "      \n",
              "  <style>\n",
              "    .colab-df-container {\n",
              "      display:flex;\n",
              "      flex-wrap:wrap;\n",
              "      gap: 12px;\n",
              "    }\n",
              "\n",
              "    .colab-df-convert {\n",
              "      background-color: #E8F0FE;\n",
              "      border: none;\n",
              "      border-radius: 50%;\n",
              "      cursor: pointer;\n",
              "      display: none;\n",
              "      fill: #1967D2;\n",
              "      height: 32px;\n",
              "      padding: 0 0 0 0;\n",
              "      width: 32px;\n",
              "    }\n",
              "\n",
              "    .colab-df-convert:hover {\n",
              "      background-color: #E2EBFA;\n",
              "      box-shadow: 0px 1px 2px rgba(60, 64, 67, 0.3), 0px 1px 3px 1px rgba(60, 64, 67, 0.15);\n",
              "      fill: #174EA6;\n",
              "    }\n",
              "\n",
              "    [theme=dark] .colab-df-convert {\n",
              "      background-color: #3B4455;\n",
              "      fill: #D2E3FC;\n",
              "    }\n",
              "\n",
              "    [theme=dark] .colab-df-convert:hover {\n",
              "      background-color: #434B5C;\n",
              "      box-shadow: 0px 1px 3px 1px rgba(0, 0, 0, 0.15);\n",
              "      filter: drop-shadow(0px 1px 2px rgba(0, 0, 0, 0.3));\n",
              "      fill: #FFFFFF;\n",
              "    }\n",
              "  </style>\n",
              "\n",
              "      <script>\n",
              "        const buttonEl =\n",
              "          document.querySelector('#df-d114e976-930c-4bb8-90ae-fae40ea869a1 button.colab-df-convert');\n",
              "        buttonEl.style.display =\n",
              "          google.colab.kernel.accessAllowed ? 'block' : 'none';\n",
              "\n",
              "        async function convertToInteractive(key) {\n",
              "          const element = document.querySelector('#df-d114e976-930c-4bb8-90ae-fae40ea869a1');\n",
              "          const dataTable =\n",
              "            await google.colab.kernel.invokeFunction('convertToInteractive',\n",
              "                                                     [key], {});\n",
              "          if (!dataTable) return;\n",
              "\n",
              "          const docLinkHtml = 'Like what you see? Visit the ' +\n",
              "            '<a target=\"_blank\" href=https://colab.research.google.com/notebooks/data_table.ipynb>data table notebook</a>'\n",
              "            + ' to learn more about interactive tables.';\n",
              "          element.innerHTML = '';\n",
              "          dataTable['output_type'] = 'display_data';\n",
              "          await google.colab.output.renderOutput(dataTable, element);\n",
              "          const docLink = document.createElement('div');\n",
              "          docLink.innerHTML = docLinkHtml;\n",
              "          element.appendChild(docLink);\n",
              "        }\n",
              "      </script>\n",
              "    </div>\n",
              "  </div>\n",
              "  "
            ]
          },
          "metadata": {},
          "execution_count": 11
        }
      ]
    },
    {
      "cell_type": "code",
      "source": [
        "nodes = ['n005', 'n006', 'n008', 'n031', 'n034', 'n035', 'n036', 'n038', 'n041', 'n045', 'n046', 'n047', 'n048', 'n053', 'n056']\n",
        "classes = [0,1,3]#['Benign', 'Server Message Block', 'TCP SYN flood attack']\n",
        "\n",
        "image_size = (48,48)\n",
        "batch_size = 50\n",
        "\n",
        "train_datagen = ImageDataGenerator(rescale=10, validation_split=0.2)\n",
        "train_batches = train_datagen.flow_from_dataframe(\n",
        "    img_df,\n",
        "    x_col=\"path\",\n",
        "    y_col=\"type\",\n",
        "    target_size = image_size,\n",
        "    batch_size = batch_size,\n",
        "    class_mode = 'categorical',\n",
        "    subset = 'training'\n",
        ")\n",
        "\n",
        "validation_batches = train_datagen.flow_from_dataframe(\n",
        "    img_df,\n",
        "    x_col=\"path\",\n",
        "    y_col=\"type\",\n",
        "    target_size = image_size,\n",
        "    batch_size = batch_size,\n",
        "    class_mode = 'categorical',\n",
        "    subset = 'validation'\n",
        ")\n",
        "\n",
        "test_batches = train_datagen.flow_from_dataframe(\n",
        "    img_df,\n",
        "    x_col=\"path\",\n",
        "    y_col=\"type\",\n",
        "    target_size = image_size,\n",
        "    batch_size = batch_size,\n",
        "    class_mode = 'categorical',\n",
        "    shuffle = False,\n",
        "    subset = 'validation'\n",
        ")\n",
        "\n"
      ],
      "metadata": {
        "colab": {
          "base_uri": "https://localhost:8080/"
        },
        "id": "Y0KxNdQNnl3O",
        "outputId": "f3912b1b-1a8f-4b08-cf37-71222f8936f5"
      },
      "execution_count": null,
      "outputs": [
        {
          "output_type": "stream",
          "name": "stdout",
          "text": [
            "Found 1108468 validated image filenames belonging to 3 classes.\n",
            "Found 277116 validated image filenames belonging to 3 classes.\n",
            "Found 277116 validated image filenames belonging to 3 classes.\n"
          ]
        }
      ]
    },
    {
      "cell_type": "code",
      "source": [
        "model = tf.keras.applications.EfficientNetV2M(\n",
        "    include_top=True,\n",
        "    weights=None,\n",
        "    input_tensor=None,\n",
        "    input_shape=None,\n",
        "    pooling=None,\n",
        "    classes=2,\n",
        ")\n",
        "\n",
        "model.compile(\n",
        "    optimizer=keras.optimizers.SGD(),  \n",
        "    loss=keras.losses.SparseCategoricalCrossentropy(),\n",
        "    metrics=['accuracy']        #keras.metrics.sparse_categorical_accuracy\n",
        ")\n",
        "\n",
        "history = model.fit(\n",
        "    x_train,\n",
        "    y_train,\n",
        "    batch_size=None,\n",
        "    epochs=10,\n",
        "    # We pass some validation for\n",
        "    # monitoring validation loss and metrics\n",
        "    # at the end of each epoch\n",
        "    #validation_data=(x_test, y_test),\n",
        ")"
      ],
      "metadata": {
        "id": "ByPsAlobUqyo",
        "colab": {
          "base_uri": "https://localhost:8080/",
          "height": 246
        },
        "outputId": "f5831f32-d628-4aff-9a00-86e5a05a698b"
      },
      "execution_count": 14,
      "outputs": [
        {
          "output_type": "error",
          "ename": "NameError",
          "evalue": "ignored",
          "traceback": [
            "\u001b[0;31m---------------------------------------------------------------------------\u001b[0m",
            "\u001b[0;31mNameError\u001b[0m                                 Traceback (most recent call last)",
            "\u001b[0;32m<ipython-input-14-720fd19d5176>\u001b[0m in \u001b[0;36m<module>\u001b[0;34m\u001b[0m\n\u001b[1;32m     15\u001b[0m \u001b[0;34m\u001b[0m\u001b[0m\n\u001b[1;32m     16\u001b[0m history = model.fit(\n\u001b[0;32m---> 17\u001b[0;31m     \u001b[0mx_train\u001b[0m\u001b[0;34m,\u001b[0m\u001b[0;34m\u001b[0m\u001b[0;34m\u001b[0m\u001b[0m\n\u001b[0m\u001b[1;32m     18\u001b[0m     \u001b[0my_train\u001b[0m\u001b[0;34m,\u001b[0m\u001b[0;34m\u001b[0m\u001b[0;34m\u001b[0m\u001b[0m\n\u001b[1;32m     19\u001b[0m     \u001b[0mbatch_size\u001b[0m\u001b[0;34m=\u001b[0m\u001b[0;32mNone\u001b[0m\u001b[0;34m,\u001b[0m\u001b[0;34m\u001b[0m\u001b[0;34m\u001b[0m\u001b[0m\n",
            "\u001b[0;31mNameError\u001b[0m: name 'x_train' is not defined"
          ]
        }
      ]
    },
    {
      "cell_type": "code",
      "source": [],
      "metadata": {
        "id": "9MIHdJNWfoXc"
      },
      "execution_count": null,
      "outputs": []
    }
  ]
}